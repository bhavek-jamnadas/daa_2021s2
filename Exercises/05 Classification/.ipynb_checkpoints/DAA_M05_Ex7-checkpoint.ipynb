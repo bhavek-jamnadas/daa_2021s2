{
 "cells": [
  {
   "cell_type": "markdown",
   "metadata": {
    "id": "MRPNhzE0IjYo"
   },
   "source": [
    "# DAA M05 Classification and neural networks\n",
    "## Exercise 5.7 - Calculating AUC\n",
    "\n",
    "### Purpose:\n",
    "This notebook demonstrates how to calculate the Area Under The Curve for a classifier, using the data presented in Exercise 5.7"
   ]
  },
  {
   "cell_type": "markdown",
   "metadata": {
    "id": "0U1-seOYJCyT"
   },
   "source": [
    "## Packages\n",
    "This section installs packages that will be required for this exercise/case study."
   ]
  },
  {
   "cell_type": "code",
   "execution_count": 1,
   "metadata": {
    "id": "n8pCsARYJLiV"
   },
   "outputs": [],
   "source": [
    "# Import the roc_curve and auc functions from scikitlearn\n",
    "from sklearn.metrics import roc_curve, roc_auc_score\n",
    "import matplotlib.pyplot as plt # This will be used to plot the roc curve."
   ]
  },
  {
   "cell_type": "markdown",
   "metadata": {
    "id": "HSAglldIKV2v"
   },
   "source": [
    "## Functions\n",
    "This section defines any functions that are used for this exercise/case study."
   ]
  },
  {
   "cell_type": "code",
   "execution_count": null,
   "metadata": {
    "id": "CAkZEeLQKe4J"
   },
   "outputs": [],
   "source": [
    "# Create a function to input the predicted probabilities for each group into a list.\n",
    "def append_probs(count,prob,df): \n",
    "  for i in range(0,count):\n",
    "    df.append(prob)"
   ]
  },
  {
   "cell_type": "markdown",
   "metadata": {
    "id": "jK3wSvQoJa7H"
   },
   "source": [
    "## Data\n",
    "This section creates the data from the exercise."
   ]
  },
  {
   "cell_type": "code",
   "execution_count": null,
   "metadata": {
    "colab": {
     "base_uri": "https://localhost:8080/"
    },
    "id": "nP3tSCHyZAWi",
    "outputId": "b1e3ab9a-ba55-43b4-8706-92416905cf5a"
   },
   "outputs": [
    {
     "name": "stdout",
     "output_type": "stream",
     "text": [
      "[0.1, 0.1, 0.1, 0.1, 0.1, 0.1, 0.3, 0.3, 0.3, 0.3, 0.3, 0.3, 0.35, 0.35, 0.35, 0.35, 0.35, 0.35, 0.6, 0.6, 0.6, 0.6, 0.6, 0.6, 0.6, 0.6, 0.6, 0.6, 0.6, 0.8, 0.8, 0.8, 0.8, 0.8, 0.8, 0.8, 0.8, 0.8, 0.8, 0.8]\n"
     ]
    }
   ],
   "source": [
    "# Create a list of the Y values (responses).\n",
    "\n",
    "# Insert values from the table in Exercise 5.7 from left to right and top to bottom.\n",
    "# For example, Group A has 4 0s and 2 1s, so its responses are included at the start\n",
    "# of the list as [0,0,0,0,1,1]\n",
    "Y = [0,0,0,0,1,1,0,0,0,0,0,1,0,0,0,1,1,1,0,0,0,0,1,1,1,1,1,1,1,0,1,1,1,1,1,1,1,1,1,1]\n",
    "\n",
    "# Create a list of the predicted probabilities, y_hat(i), that observation i belongs to class 1, \n",
    "# using the classifier predictions shown in the exercise.\n",
    "Y_hat = []\n",
    "group_predictions = (0.1,0.3,0.35,0.6,0.8)\n",
    "group_counts = (6,6,6,11,11)\n",
    "groups = len(group_predictions)\n",
    "for i in range(0,groups):\n",
    "  append_probs(group_counts[i],group_predictions[i],Y_hat)\n",
    "print(Y_hat)"
   ]
  },
  {
   "cell_type": "markdown",
   "metadata": {
    "id": "NoJTYrPzXOyZ"
   },
   "source": [
    "## Analysis\n",
    "This section plots a ROC curve and calculates the AUC for the classifer outlined in the exercise."
   ]
  },
  {
   "cell_type": "code",
   "execution_count": null,
   "metadata": {
    "colab": {
     "base_uri": "https://localhost:8080/",
     "height": 295
    },
    "id": "hf2Hi1oWXDEp",
    "outputId": "e8c2cfbf-3ed7-4aac-b1ba-4fbf11eb49e2"
   },
   "outputs": [
    {
     "data": {
      "image/png": "[encoded data removed]",
      "text/plain": [
       "<Figure size 432x288 with 1 Axes>"
      ]
     },
     "metadata": {
      "needs_background": "light",
      "tags": []
     },
     "output_type": "display_data"
    }
   ],
   "source": [
    "# Calculate the ROC curve and AUC\n",
    "fpr, tpr, thresholds = roc_curve(Y, Y_hat)\n",
    "auc = roc_auc_score(Y, Y_hat)\n",
    "\n",
    "# Plot the ROC curve and print the AUC\n",
    "plt.plot(fpr, tpr, marker='.', label='AUC: %.3f' % auc, color='dodgerblue')\n",
    "plt.title('Receiver Operating Characteristic - Exercise 5.7')\n",
    "plt.xlabel('False Positive Rate')\n",
    "plt.ylabel('Sensitivity (True Positive Rate)')\n",
    "plt.legend()\n",
    "\n",
    "# Add a 'random guess' line\n",
    "plt.plot([0,1],[0,1],color='orange',linestyle='--')\n",
    "plt.show()\n",
    "#plt.savefig('DAA_M05_Ex7.jpg')"
   ]
  }
 ],
 "metadata": {
  "colab": {
   "name": "DAA_M05_Ex7 v2.ipynb",
   "provenance": []
  },
  "kernelspec": {
   "display_name": "Python 3",
   "language": "python",
   "name": "python3"
  },
  "language_info": {
   "codemirror_mode": {
    "name": "ipython",
    "version": 3
   },
   "file_extension": ".py",
   "mimetype": "text/x-python",
   "name": "python",
   "nbconvert_exporter": "python",
   "pygments_lexer": "ipython3",
   "version": "3.6.5"
  }
 },
 "nbformat": 4,
 "nbformat_minor": 1
}
