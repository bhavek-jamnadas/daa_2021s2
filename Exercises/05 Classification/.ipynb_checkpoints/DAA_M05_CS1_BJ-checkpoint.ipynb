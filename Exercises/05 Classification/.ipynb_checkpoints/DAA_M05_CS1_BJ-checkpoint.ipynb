{
 "cells": [
  {
   "cell_type": "markdown",
   "metadata": {
    "id": "CXgHPzSBn24z"
   },
   "source": [
    "# DAA M05 Classification and neural networks\n",
    "## Case study 1 - Customer churn\n",
    "\n",
    "### Purpose:\n",
    "This notebook investigates the use of neural networks and gradient boosting machines for predicting which customers are likely to churn. This code is used in Case Study 1 in Module 5.\n",
    "\n",
    "### References:\n",
    "The dataset used in this notebook was sourced from a Kaggle competition  that aimed to predict customer churn behaviour for a telecommunications provider: https://www.kaggle.com/blastchar/telco-customer-churn.\n",
    "\n",
    "This dataset contains 7,043 rows (one for each customer) and 21 features, including information about each customer’s:\n",
    "- services with the company, such as phone, internet, online security, online backup, device protection, tech support, and streaming of TV and movies;\n",
    "- account information, such as how long they have been a customer, contract, payment method, paperless billing, monthly charges and total charges; and\n",
    "- demographic information, such as gender, age range, and whether they have a partner and dependents.\n",
    "\n",
    "The response variable in the dataset is labelled ‘Churn’. It represents whether each customer left the service provider in the month preceding the data extract date. "
   ]
  },
  {
   "cell_type": "markdown",
   "metadata": {
    "id": "BTNPqojQCxXf"
   },
   "source": [
    "## Packages\n",
    "This section imports the packages that will be required for this exercise/case study."
   ]
  },
  {
   "cell_type": "code",
   "execution_count": 1,
   "metadata": {
    "id": "t7HxyzzGCbzn"
   },
   "outputs": [
    {
     "name": "stderr",
     "output_type": "stream",
     "text": [
      "/home/analytics-user/anaconda3/lib/python3.6/site-packages/IPython/utils/traitlets.py:5: UserWarning: IPython.utils.traitlets has moved to a top-level traitlets package.\n",
      "  warn(\"IPython.utils.traitlets has moved to a top-level traitlets package.\")\n"
     ]
    }
   ],
   "source": [
    "import pandas as pd # Pandas is used for data management.\n",
    "import numpy as np # Numpy is used for mathematical operations.\n",
    "\n",
    "# Matplotlib and Seaborn are used for plotting.\n",
    "import matplotlib.pyplot as plt\n",
    "import matplotlib.image as mpimg\n",
    "import seaborn as sns\n",
    "%matplotlib inline\n",
    "\n",
    "import os\n",
    "from google.colab import files\n",
    "\n",
    "import itertools # Used in the confusion matrix function\n",
    "\n",
    "from tensorflow import keras # Keras, from the Tensorflow package is used for\n",
    "                             # building the neural networks.\n",
    "\n",
    "# The various functions below from the Scikit-learn package help with\n",
    "# modelling and diagnostics.\n",
    "from sklearn.preprocessing import LabelEncoder, MinMaxScaler\n",
    "from sklearn.model_selection import train_test_split\n",
    "from sklearn.metrics import log_loss\n",
    "from sklearn.ensemble import GradientBoostingClassifier # For building the GBM\n",
    "from sklearn.metrics import auc, roc_auc_score, confusion_matrix, f1_score\n",
    "from sklearn.inspection import plot_partial_dependence\n",
    "\n",
    "from tensorflow.keras.models import Sequential\n",
    "from tensorflow.keras.layers import Dense, BatchNormalization\n",
    "from tensorflow.keras.wrappers.scikit_learn import KerasRegressor\n",
    "\n",
    "import tensorflow as tf"
   ]
  },
  {
   "cell_type": "markdown",
   "metadata": {
    "id": "jDmEsRb2wkS_"
   },
   "source": [
    "## Functions\n",
    "The section below defines some general functions that are used in this notebook.\n",
    "Other functions that are specific to each type of model are defined in the section for that model."
   ]
  },
  {
   "cell_type": "code",
   "execution_count": 2,
   "metadata": {
    "id": "snKodlNJiKgl"
   },
   "outputs": [],
   "source": [
    "# Define a function to split the data into train, validation and test sets.\n",
    "# This uses the `train_test_split` function from the sklearn package to do the \n",
    "# actual data splitting.\n",
    "def create_data_splits(dataset, id_col, response_col):\n",
    "  '''\n",
    "  Splits the data into train, validation and test sets (64%, 16%, 20%)\n",
    "  All columns on `dataset` other than the `id_col` and `response_col` will be\n",
    "  used as features.\n",
    "  Params:\n",
    "    dataset: input dataset as a pandas data frame\n",
    "    id_col: (str) the name of the column containing the unique row identifier\n",
    "    response_col: (str) the name of the response column\n",
    "  Returns:\n",
    "    train_x: the training data (feature) matrix\n",
    "    train_y: the training data response vector\n",
    "    validation_x: the validation data (feature) matrix\n",
    "    validation_y: the validation data response vector\n",
    "    test_x: the test data (feature) matrix\n",
    "    test_y: the test data response vector\n",
    "  '''\n",
    "  # Split data into train/test (80%, 20%).\n",
    "  train_full, test = train_test_split(dataset, test_size = 0.2, random_state = 123)\n",
    "\n",
    "  # Create a validation set from the training data (20%).\n",
    "  train, validation = train_test_split(train_full, test_size = 0.2, random_state = 234)\n",
    "\n",
    "  # Create train and validation data feature matrices and response vectors\n",
    "  # For the response vectors, convert Churn Yes/No to 1/0\n",
    "\n",
    "  feature_cols = [i for i in dataset.columns if i not in id_col + response_col]\n",
    "\n",
    "  train_x = train[feature_cols]\n",
    "  train_y = train[response_col].eq('Yes').mul(1)\n",
    "\n",
    "  validation_x = validation[feature_cols]\n",
    "  validation_y = validation[response_col].eq('Yes').mul(1)\n",
    "\n",
    "  test_x = test[feature_cols]\n",
    "  test_y = test[response_col].eq('Yes').mul(1)\n",
    "\n",
    "  return train_x, train_y, validation_x, validation_y, test_x, test_y"
   ]
  },
  {
   "cell_type": "code",
   "execution_count": 3,
   "metadata": {
    "id": "07zrYh8E2Y3W"
   },
   "outputs": [],
   "source": [
    "# Define a function to print and plot a confusion matrix.\n",
    "def plot_confusion_matrix(cm, classes,\n",
    "                          normalise=False,\n",
    "                          title='Confusion matrix',\n",
    "                          cmap=plt.cm.Blues):\n",
    "    '''\n",
    "    This function prints and plots a confusion matrix.\n",
    "    Normalisation of the matrix can be applied by setting `normalise=True`.\n",
    "    Normalsiation ensures that the sum of each row in the confusion matrix is 1.\n",
    "    '''\n",
    "    plt.imshow(cm, interpolation='nearest', cmap=cmap)\n",
    "    plt.title(title)\n",
    "    plt.colorbar()\n",
    "    tick_marks = np.arange(len(classes))\n",
    "    plt.xticks(tick_marks, classes, rotation=45)\n",
    "    plt.yticks(tick_marks, classes)\n",
    "\n",
    "    if normalise:\n",
    "        cm = cm.astype('float') / cm.sum(axis=1)[:, np.newaxis]\n",
    "\n",
    "    thresh = cm.max() / 2.\n",
    "    for i, j in itertools.product(range(cm.shape[0]), range(cm.shape[1])):\n",
    "        plt.text(j, i, cm[i, j],\n",
    "                 horizontalalignment='center',\n",
    "                 color='white' if cm[i, j] > thresh else 'black')\n",
    "\n",
    "    plt.tight_layout()\n",
    "    plt.ylabel('True response')\n",
    "    plt.xlabel('Predicted response')"
   ]
  },
  {
   "cell_type": "markdown",
   "metadata": {
    "id": "68WtdIs5D3ci"
   },
   "source": [
    "## Data\n",
    "This section:\n",
    "- imports the data that will be used in the modelling;\n",
    "- explores the data; and\n",
    "- prepares the data for modelling."
   ]
  },
  {
   "cell_type": "markdown",
   "metadata": {
    "id": "NSdDC7_m_x-h"
   },
   "source": [
    "### Import data\n",
    "The below code will first upload the csv file to Google Colab, and the read it into a pandas data frame.\n",
    "\n",
    "When prompted, select the *DAA_M05_CS1_data.csv* dataset to upload."
   ]
  },
  {
   "cell_type": "code",
   "execution_count": 4,
   "metadata": {
    "colab": {
     "base_uri": "https://localhost:8080/",
     "height": 75,
     "resources": {
      "http://localhost:8080/nbextensions/google.colab/files.js": {
       "data": "Ly8gQ29weXJpZ2h0IDIwMTcgR29vZ2xlIExMQwovLwovLyBMaWNlbnNlZCB1bmRlciB0aGUgQXBhY2hlIExpY2Vuc2UsIFZlcnNpb24gMi4wICh0aGUgIkxpY2Vuc2UiKTsKLy8geW91IG1heSBub3QgdXNlIHRoaXMgZmlsZSBleGNlcHQgaW4gY29tcGxpYW5jZSB3aXRoIHRoZSBMaWNlbnNlLgovLyBZb3UgbWF5IG9idGFpbiBhIGNvcHkgb2YgdGhlIExpY2Vuc2UgYXQKLy8KLy8gICAgICBodHRwOi8vd3d3LmFwYWNoZS5vcmcvbGljZW5zZXMvTElDRU5TRS0yLjAKLy8KLy8gVW5sZXNzIHJlcXVpcmVkIGJ5IGFwcGxpY2FibGUgbGF3IG9yIGFncmVlZCB0byBpbiB3cml0aW5nLCBzb2Z0d2FyZQovLyBkaXN0cmlidXRlZCB1bmRlciB0aGUgTGljZW5zZSBpcyBkaXN0cmlidXRlZCBvbiBhbiAiQVMgSVMiIEJBU0lTLAovLyBXSVRIT1VUIFdBUlJBTlRJRVMgT1IgQ09ORElUSU9OUyBPRiBBTlkgS0lORCwgZWl0aGVyIGV4cHJlc3Mgb3IgaW1wbGllZC4KLy8gU2VlIHRoZSBMaWNlbnNlIGZvciB0aGUgc3BlY2lmaWMgbGFuZ3VhZ2UgZ292ZXJuaW5nIHBlcm1pc3Npb25zIGFuZAovLyBsaW1pdGF0aW9ucyB1bmRlciB0aGUgTGljZW5zZS4KCi8qKgogKiBAZmlsZW92ZXJ2aWV3IEhlbHBlcnMgZm9yIGdvb2dsZS5jb2xhYiBQeXRob24gbW9kdWxlLgogKi8KKGZ1bmN0aW9uKHNjb3BlKSB7CmZ1bmN0aW9uIHNwYW4odGV4dCwgc3R5bGVBdHRyaWJ1dGVzID0ge30pIHsKICBjb25zdCBlbGVtZW50ID0gZG9jdW1lbnQuY3JlYXRlRWxlbWVudCgnc3BhbicpOwogIGVsZW1lbnQudGV4dENvbnRlbnQgPSB0ZXh0OwogIGZvciAoY29uc3Qga2V5IG9mIE9iamVjdC5rZXlzKHN0eWxlQXR0cmlidXRlcykpIHsKICAgIGVsZW1lbnQuc3R5bGVba2V5XSA9IHN0eWxlQXR0cmlidXRlc1trZXldOwogIH0KICByZXR1cm4gZWxlbWVudDsKfQoKLy8gTWF4IG51bWJlciBvZiBieXRlcyB3aGljaCB3aWxsIGJlIHVwbG9hZGVkIGF0IGEgdGltZS4KY29uc3QgTUFYX1BBWUxPQURfU0laRSA9IDEwMCAqIDEwMjQ7CgpmdW5jdGlvbiBfdXBsb2FkRmlsZXMoaW5wdXRJZCwgb3V0cHV0SWQpIHsKICBjb25zdCBzdGVwcyA9IHVwbG9hZEZpbGVzU3RlcChpbnB1dElkLCBvdXRwdXRJZCk7CiAgY29uc3Qgb3V0cHV0RWxlbWVudCA9IGRvY3VtZW50LmdldEVsZW1lbnRCeUlkKG91dHB1dElkKTsKICAvLyBDYWNoZSBzdGVwcyBvbiB0aGUgb3V0cHV0RWxlbWVudCB0byBtYWtlIGl0IGF2YWlsYWJsZSBmb3IgdGhlIG5leHQgY2FsbAogIC8vIHRvIHVwbG9hZEZpbGVzQ29udGludWUgZnJvbSBQeXRob24uCiAgb3V0cHV0RWxlbWVudC5zdGVwcyA9IHN0ZXBzOwoKICByZXR1cm4gX3VwbG9hZEZpbGVzQ29udGludWUob3V0cHV0SWQpOwp9CgovLyBUaGlzIGlzIHJvdWdobHkgYW4gYXN5bmMgZ2VuZXJhdG9yIChub3Qgc3VwcG9ydGVkIGluIHRoZSBicm93c2VyIHlldCksCi8vIHdoZXJlIHRoZXJlIGFyZSBtdWx0aXBsZSBhc3luY2hyb25vdXMgc3RlcHMgYW5kIHRoZSBQeXRob24gc2lkZSBpcyBnb2luZwovLyB0byBwb2xsIGZvciBjb21wbGV0aW9uIG9mIGVhY2ggc3RlcC4KLy8gVGhpcyB1c2VzIGEgUHJvbWlzZSB0byBibG9jayB0aGUgcHl0aG9uIHNpZGUgb24gY29tcGxldGlvbiBvZiBlYWNoIHN0ZXAsCi8vIHRoZW4gcGFzc2VzIHRoZSByZXN1bHQgb2YgdGhlIHByZXZpb3VzIHN0ZXAgYXMgdGhlIGlucHV0IHRvIHRoZSBuZXh0IHN0ZXAuCmZ1bmN0aW9uIF91cGxvYWRGaWxlc0NvbnRpbnVlKG91dHB1dElkKSB7CiAgY29uc3Qgb3V0cHV0RWxlbWVudCA9IGRvY3VtZW50LmdldEVsZW1lbnRCeUlkKG91dHB1dElkKTsKICBjb25zdCBzdGVwcyA9IG91dHB1dEVsZW1lbnQuc3RlcHM7CgogIGNvbnN0IG5leHQgPSBzdGVwcy5uZXh0KG91dHB1dEVsZW1lbnQubGFzdFByb21pc2VWYWx1ZSk7CiAgcmV0dXJuIFByb21pc2UucmVzb2x2ZShuZXh0LnZhbHVlLnByb21pc2UpLnRoZW4oKHZhbHVlKSA9PiB7CiAgICAvLyBDYWNoZSB0aGUgbGFzdCBwcm9taXNlIHZhbHVlIHRvIG1ha2UgaXQgYXZhaWxhYmxlIHRvIHRoZSBuZXh0CiAgICAvLyBzdGVwIG9mIHRoZSBnZW5lcmF0b3IuCiAgICBvdXRwdXRFbGVtZW50Lmxhc3RQcm9taXNlVmFsdWUgPSB2YWx1ZTsKICAgIHJldHVybiBuZXh0LnZhbHVlLnJlc3BvbnNlOwogIH0pOwp9CgovKioKICogR2VuZXJhdG9yIGZ1bmN0aW9uIHdoaWNoIGlzIGNhbGxlZCBiZXR3ZWVuIGVhY2ggYXN5bmMgc3RlcCBvZiB0aGUgdXBsb2FkCiAqIHByb2Nlc3MuCiAqIEBwYXJhbSB7c3RyaW5nfSBpbnB1dElkIEVsZW1lbnQgSUQgb2YgdGhlIGlucHV0IGZpbGUgcGlja2VyIGVsZW1lbnQuCiAqIEBwYXJhbSB7c3RyaW5nfSBvdXRwdXRJZCBFbGVtZW50IElEIG9mIHRoZSBvdXRwdXQgZGlzcGxheS4KICogQHJldHVybiB7IUl0ZXJhYmxlPCFPYmplY3Q+fSBJdGVyYWJsZSBvZiBuZXh0IHN0ZXBzLgogKi8KZnVuY3Rpb24qIHVwbG9hZEZpbGVzU3RlcChpbnB1dElkLCBvdXRwdXRJZCkgewogIGNvbnN0IGlucHV0RWxlbWVudCA9IGRvY3VtZW50LmdldEVsZW1lbnRCeUlkKGlucHV0SWQpOwogIGlucHV0RWxlbWVudC5kaXNhYmxlZCA9IGZhbHNlOwoKICBjb25zdCBvdXRwdXRFbGVtZW50ID0gZG9jdW1lbnQuZ2V0RWxlbWVudEJ5SWQob3V0cHV0SWQpOwogIG91dHB1dEVsZW1lbnQuaW5uZXJIVE1MID0gJyc7CgogIGNvbnN0IHBpY2tlZFByb21pc2UgPSBuZXcgUHJvbWlzZSgocmVzb2x2ZSkgPT4gewogICAgaW5wdXRFbGVtZW50LmFkZEV2ZW50TGlzdGVuZXIoJ2NoYW5nZScsIChlKSA9PiB7CiAgICAgIHJlc29sdmUoZS50YXJnZXQuZmlsZXMpOwogICAgfSk7CiAgfSk7CgogIGNvbnN0IGNhbmNlbCA9IGRvY3VtZW50LmNyZWF0ZUVsZW1lbnQoJ2J1dHRvbicpOwogIGlucHV0RWxlbWVudC5wYXJlbnRFbGVtZW50LmFwcGVuZENoaWxkKGNhbmNlbCk7CiAgY2FuY2VsLnRleHRDb250ZW50ID0gJ0NhbmNlbCB1cGxvYWQnOwogIGNvbnN0IGNhbmNlbFByb21pc2UgPSBuZXcgUHJvbWlzZSgocmVzb2x2ZSkgPT4gewogICAgY2FuY2VsLm9uY2xpY2sgPSAoKSA9PiB7CiAgICAgIHJlc29sdmUobnVsbCk7CiAgICB9OwogIH0pOwoKICAvLyBXYWl0IGZvciB0aGUgdXNlciB0byBwaWNrIHRoZSBmaWxlcy4KICBjb25zdCBmaWxlcyA9IHlpZWxkIHsKICAgIHByb21pc2U6IFByb21pc2UucmFjZShbcGlja2VkUHJvbWlzZSwgY2FuY2VsUHJvbWlzZV0pLAogICAgcmVzcG9uc2U6IHsKICAgICAgYWN0aW9uOiAnc3RhcnRpbmcnLAogICAgfQogIH07CgogIGNhbmNlbC5yZW1vdmUoKTsKCiAgLy8gRGlzYWJsZSB0aGUgaW5wdXQgZWxlbWVudCBzaW5jZSBmdXJ0aGVyIHBpY2tzIGFyZSBub3QgYWxsb3dlZC4KICBpbnB1dEVsZW1lbnQuZGlzYWJsZWQgPSB0cnVlOwoKICBpZiAoIWZpbGVzKSB7CiAgICByZXR1cm4gewogICAgICByZXNwb25zZTogewogICAgICAgIGFjdGlvbjogJ2NvbXBsZXRlJywKICAgICAgfQogICAgfTsKICB9CgogIGZvciAoY29uc3QgZmlsZSBvZiBmaWxlcykgewogICAgY29uc3QgbGkgPSBkb2N1bWVudC5jcmVhdGVFbGVtZW50KCdsaScpOwogICAgbGkuYXBwZW5kKHNwYW4oZmlsZS5uYW1lLCB7Zm9udFdlaWdodDogJ2JvbGQnfSkpOwogICAgbGkuYXBwZW5kKHNwYW4oCiAgICAgICAgYCgke2ZpbGUudHlwZSB8fCAnbi9hJ30pIC0gJHtmaWxlLnNpemV9IGJ5dGVzLCBgICsKICAgICAgICBgbGFzdCBtb2RpZmllZDogJHsKICAgICAgICAgICAgZmlsZS5sYXN0TW9kaWZpZWREYXRlID8gZmlsZS5sYXN0TW9kaWZpZWREYXRlLnRvTG9jYWxlRGF0ZVN0cmluZygpIDoKICAgICAgICAgICAgICAgICAgICAgICAgICAgICAgICAgICAgJ24vYSd9IC0gYCkpOwogICAgY29uc3QgcGVyY2VudCA9IHNwYW4oJzAlIGRvbmUnKTsKICAgIGxpLmFwcGVuZENoaWxkKHBlcmNlbnQpOwoKICAgIG91dHB1dEVsZW1lbnQuYXBwZW5kQ2hpbGQobGkpOwoKICAgIGNvbnN0IGZpbGVEYXRhUHJvbWlzZSA9IG5ldyBQcm9taXNlKChyZXNvbHZlKSA9PiB7CiAgICAgIGNvbnN0IHJlYWRlciA9IG5ldyBGaWxlUmVhZGVyKCk7CiAgICAgIHJlYWRlci5vbmxvYWQgPSAoZSkgPT4gewogICAgICAgIHJlc29sdmUoZS50YXJnZXQucmVzdWx0KTsKICAgICAgfTsKICAgICAgcmVhZGVyLnJlYWRBc0FycmF5QnVmZmVyKGZpbGUpOwogICAgfSk7CiAgICAvLyBXYWl0IGZvciB0aGUgZGF0YSB0byBiZSByZWFkeS4KICAgIGxldCBmaWxlRGF0YSA9IHlpZWxkIHsKICAgICAgcHJvbWlzZTogZmlsZURhdGFQcm9taXNlLAogICAgICByZXNwb25zZTogewogICAgICAgIGFjdGlvbjogJ2NvbnRpbnVlJywKICAgICAgfQogICAgfTsKCiAgICAvLyBVc2UgYSBjaHVua2VkIHNlbmRpbmcgdG8gYXZvaWQgbWVzc2FnZSBzaXplIGxpbWl0cy4gU2VlIGIvNjIxMTU2NjAuCiAgICBsZXQgcG9zaXRpb24gPSAwOwogICAgZG8gewogICAgICBjb25zdCBsZW5ndGggPSBNYXRoLm1pbihmaWxlRGF0YS5ieXRlTGVuZ3RoIC0gcG9zaXRpb24sIE1BWF9QQVlMT0FEX1NJWkUpOwogICAgICBjb25zdCBjaHVuayA9IG5ldyBVaW50OEFycmF5KGZpbGVEYXRhLCBwb3NpdGlvbiwgbGVuZ3RoKTsKICAgICAgcG9zaXRpb24gKz0gbGVuZ3RoOwoKICAgICAgY29uc3QgYmFzZTY0ID0gYnRvYShTdHJpbmcuZnJvbUNoYXJDb2RlLmFwcGx5KG51bGwsIGNodW5rKSk7CiAgICAgIHlpZWxkIHsKICAgICAgICByZXNwb25zZTogewogICAgICAgICAgYWN0aW9uOiAnYXBwZW5kJywKICAgICAgICAgIGZpbGU6IGZpbGUubmFtZSwKICAgICAgICAgIGRhdGE6IGJhc2U2NCwKICAgICAgICB9LAogICAgICB9OwoKICAgICAgbGV0IHBlcmNlbnREb25lID0gZmlsZURhdGEuYnl0ZUxlbmd0aCA9PT0gMCA/CiAgICAgICAgICAxMDAgOgogICAgICAgICAgTWF0aC5yb3VuZCgocG9zaXRpb24gLyBmaWxlRGF0YS5ieXRlTGVuZ3RoKSAqIDEwMCk7CiAgICAgIHBlcmNlbnQudGV4dENvbnRlbnQgPSBgJHtwZXJjZW50RG9uZX0lIGRvbmVgOwoKICAgIH0gd2hpbGUgKHBvc2l0aW9uIDwgZmlsZURhdGEuYnl0ZUxlbmd0aCk7CiAgfQoKICAvLyBBbGwgZG9uZS4KICB5aWVsZCB7CiAgICByZXNwb25zZTogewogICAgICBhY3Rpb246ICdjb21wbGV0ZScsCiAgICB9CiAgfTsKfQoKc2NvcGUuZ29vZ2xlID0gc2NvcGUuZ29vZ2xlIHx8IHt9OwpzY29wZS5nb29nbGUuY29sYWIgPSBzY29wZS5nb29nbGUuY29sYWIgfHwge307CnNjb3BlLmdvb2dsZS5jb2xhYi5fZmlsZXMgPSB7CiAgX3VwbG9hZEZpbGVzLAogIF91cGxvYWRGaWxlc0NvbnRpbnVlLAp9Owp9KShzZWxmKTsK",
       "headers": [
        [
         "content-type",
         "application/javascript"
        ]
       ],
       "ok": true,
       "status": 200,
       "status_text": "OK"
      }
     }
    },
    "id": "vEjMiXe2CwcJ",
    "outputId": "2c23378c-06d5-40a5-e0cf-6a259b315101"
   },
   "outputs": [],
   "source": [
    "# files.upload()\n",
    "dataset = pd.read_csv('/home/analytics-user/personal/daa_2021s2/Exercises/05 Classification/Datasets/DAA_M05_CS1_data.csv', header = 0)"
   ]
  },
  {
   "cell_type": "code",
   "execution_count": 5,
   "metadata": {},
   "outputs": [
    {
     "name": "stdout",
     "output_type": "stream",
     "text": [
      "   customerID  gender  SeniorCitizen Partner Dependents  tenure PhoneService  \\\n",
      "0  7590-VHVEG  Female              0     Yes         No       1           No   \n",
      "1  5575-GNVDE    Male              0      No         No      34          Yes   \n",
      "2  3668-QPYBK    Male              0      No         No       2          Yes   \n",
      "3  7795-CFOCW    Male              0      No         No      45           No   \n",
      "4  9237-HQITU  Female              0      No         No       2          Yes   \n",
      "\n",
      "      MultipleLines InternetService OnlineSecurity  ... DeviceProtection  \\\n",
      "0  No phone service             DSL             No  ...               No   \n",
      "1                No             DSL            Yes  ...              Yes   \n",
      "2                No             DSL            Yes  ...               No   \n",
      "3  No phone service             DSL            Yes  ...              Yes   \n",
      "4                No     Fiber optic             No  ...               No   \n",
      "\n",
      "  TechSupport StreamingTV StreamingMovies        Contract PaperlessBilling  \\\n",
      "0          No          No              No  Month-to-month              Yes   \n",
      "1          No          No              No        One year               No   \n",
      "2          No          No              No  Month-to-month              Yes   \n",
      "3         Yes          No              No        One year               No   \n",
      "4          No          No              No  Month-to-month              Yes   \n",
      "\n",
      "               PaymentMethod MonthlyCharges  TotalCharges Churn  \n",
      "0           Electronic check          29.85         29.85    No  \n",
      "1               Mailed check          56.95        1889.5    No  \n",
      "2               Mailed check          53.85        108.15   Yes  \n",
      "3  Bank transfer (automatic)          42.30       1840.75    No  \n",
      "4           Electronic check          70.70        151.65   Yes  \n",
      "\n",
      "[5 rows x 21 columns]\n"
     ]
    }
   ],
   "source": [
    "print(dataset.head())"
   ]
  },
  {
   "cell_type": "code",
   "execution_count": null,
   "metadata": {},
   "outputs": [],
   "source": []
  },
  {
   "cell_type": "markdown",
   "metadata": {
    "id": "IRNab2i2Fl8F"
   },
   "source": [
    "### Explore data (EDA)\n",
    "Prior to commencing modelling, it is always a good idea to look at the data to get an understanding of the:\n",
    "* available features;\n",
    "* the data types of the features (numeric, categorical, dates, etc.);\n",
    "* the distribution and missingness of the features;\n",
    "* correlations between features; and\n",
    "* relationships between features and the response variable.\n",
    "\n",
    "The code below looks at some of these components of the Telco dataset."
   ]
  },
  {
   "cell_type": "code",
   "execution_count": 6,
   "metadata": {
    "colab": {
     "base_uri": "https://localhost:8080/"
    },
    "id": "KKD6X86NFh01",
    "outputId": "c36a0809-bfbc-419a-89dc-2e6678279ee8"
   },
   "outputs": [
    {
     "name": "stdout",
     "output_type": "stream",
     "text": [
      "<class 'pandas.core.frame.DataFrame'>\n",
      "RangeIndex: 7043 entries, 0 to 7042\n",
      "Data columns (total 21 columns):\n",
      " #   Column            Non-Null Count  Dtype  \n",
      "---  ------            --------------  -----  \n",
      " 0   customerID        7043 non-null   object \n",
      " 1   gender            7043 non-null   object \n",
      " 2   SeniorCitizen     7043 non-null   int64  \n",
      " 3   Partner           7043 non-null   object \n",
      " 4   Dependents        7043 non-null   object \n",
      " 5   tenure            7043 non-null   int64  \n",
      " 6   PhoneService      7043 non-null   object \n",
      " 7   MultipleLines     7043 non-null   object \n",
      " 8   InternetService   7043 non-null   object \n",
      " 9   OnlineSecurity    7043 non-null   object \n",
      " 10  OnlineBackup      7043 non-null   object \n",
      " 11  DeviceProtection  7043 non-null   object \n",
      " 12  TechSupport       7043 non-null   object \n",
      " 13  StreamingTV       7043 non-null   object \n",
      " 14  StreamingMovies   7043 non-null   object \n",
      " 15  Contract          7043 non-null   object \n",
      " 16  PaperlessBilling  7043 non-null   object \n",
      " 17  PaymentMethod     7043 non-null   object \n",
      " 18  MonthlyCharges    7043 non-null   float64\n",
      " 19  TotalCharges      7043 non-null   object \n",
      " 20  Churn             7043 non-null   object \n",
      "dtypes: float64(1), int64(2), object(18)\n",
      "memory usage: 1.1+ MB\n",
      "None\n"
     ]
    }
   ],
   "source": [
    "# Check the available features, their data types and their missingness.\n",
    "print(dataset.info())"
   ]
  },
  {
   "cell_type": "code",
   "execution_count": 7,
   "metadata": {
    "colab": {
     "base_uri": "https://localhost:8080/"
    },
    "id": "7k4I0HoMGVPc",
    "outputId": "ac9d7026-d0d8-4e97-9863-01d74e8ec6a3"
   },
   "outputs": [
    {
     "data": {
      "text/plain": [
       "customerID          7043\n",
       "gender                 2\n",
       "SeniorCitizen          2\n",
       "Partner                2\n",
       "Dependents             2\n",
       "tenure                73\n",
       "PhoneService           2\n",
       "MultipleLines          3\n",
       "InternetService        3\n",
       "OnlineSecurity         3\n",
       "OnlineBackup           3\n",
       "DeviceProtection       3\n",
       "TechSupport            3\n",
       "StreamingTV            3\n",
       "StreamingMovies        3\n",
       "Contract               3\n",
       "PaperlessBilling       2\n",
       "PaymentMethod          4\n",
       "MonthlyCharges      1585\n",
       "TotalCharges        6531\n",
       "Churn                  2\n",
       "dtype: int64"
      ]
     },
     "execution_count": 7,
     "metadata": {},
     "output_type": "execute_result"
    }
   ],
   "source": [
    "# Check the number of unique values for each feature.\n",
    "dataset.nunique()"
   ]
  },
  {
   "cell_type": "code",
   "execution_count": 8,
   "metadata": {
    "colab": {
     "base_uri": "https://localhost:8080/",
     "height": 313
    },
    "id": "xYMt6WQTh3SO",
    "outputId": "390e5758-fbc5-4579-c369-4879bd92b3bd"
   },
   "outputs": [
    {
     "data": {
      "text/html": [
       "<div>\n",
       "<style scoped>\n",
       "    .dataframe tbody tr th:only-of-type {\n",
       "        vertical-align: middle;\n",
       "    }\n",
       "\n",
       "    .dataframe tbody tr th {\n",
       "        vertical-align: top;\n",
       "    }\n",
       "\n",
       "    .dataframe thead th {\n",
       "        text-align: right;\n",
       "    }\n",
       "</style>\n",
       "<table border=\"1\" class=\"dataframe\">\n",
       "  <thead>\n",
       "    <tr style=\"text-align: right;\">\n",
       "      <th></th>\n",
       "      <th>customerID</th>\n",
       "      <th>gender</th>\n",
       "      <th>SeniorCitizen</th>\n",
       "      <th>Partner</th>\n",
       "      <th>Dependents</th>\n",
       "      <th>tenure</th>\n",
       "      <th>PhoneService</th>\n",
       "      <th>MultipleLines</th>\n",
       "      <th>InternetService</th>\n",
       "      <th>OnlineSecurity</th>\n",
       "      <th>...</th>\n",
       "      <th>DeviceProtection</th>\n",
       "      <th>TechSupport</th>\n",
       "      <th>StreamingTV</th>\n",
       "      <th>StreamingMovies</th>\n",
       "      <th>Contract</th>\n",
       "      <th>PaperlessBilling</th>\n",
       "      <th>PaymentMethod</th>\n",
       "      <th>MonthlyCharges</th>\n",
       "      <th>TotalCharges</th>\n",
       "      <th>Churn</th>\n",
       "    </tr>\n",
       "  </thead>\n",
       "  <tbody>\n",
       "    <tr>\n",
       "      <th>0</th>\n",
       "      <td>7590-VHVEG</td>\n",
       "      <td>Female</td>\n",
       "      <td>0</td>\n",
       "      <td>Yes</td>\n",
       "      <td>No</td>\n",
       "      <td>1</td>\n",
       "      <td>No</td>\n",
       "      <td>No phone service</td>\n",
       "      <td>DSL</td>\n",
       "      <td>No</td>\n",
       "      <td>...</td>\n",
       "      <td>No</td>\n",
       "      <td>No</td>\n",
       "      <td>No</td>\n",
       "      <td>No</td>\n",
       "      <td>Month-to-month</td>\n",
       "      <td>Yes</td>\n",
       "      <td>Electronic check</td>\n",
       "      <td>29.85</td>\n",
       "      <td>29.85</td>\n",
       "      <td>No</td>\n",
       "    </tr>\n",
       "    <tr>\n",
       "      <th>1</th>\n",
       "      <td>5575-GNVDE</td>\n",
       "      <td>Male</td>\n",
       "      <td>0</td>\n",
       "      <td>No</td>\n",
       "      <td>No</td>\n",
       "      <td>34</td>\n",
       "      <td>Yes</td>\n",
       "      <td>No</td>\n",
       "      <td>DSL</td>\n",
       "      <td>Yes</td>\n",
       "      <td>...</td>\n",
       "      <td>Yes</td>\n",
       "      <td>No</td>\n",
       "      <td>No</td>\n",
       "      <td>No</td>\n",
       "      <td>One year</td>\n",
       "      <td>No</td>\n",
       "      <td>Mailed check</td>\n",
       "      <td>56.95</td>\n",
       "      <td>1889.5</td>\n",
       "      <td>No</td>\n",
       "    </tr>\n",
       "    <tr>\n",
       "      <th>2</th>\n",
       "      <td>3668-QPYBK</td>\n",
       "      <td>Male</td>\n",
       "      <td>0</td>\n",
       "      <td>No</td>\n",
       "      <td>No</td>\n",
       "      <td>2</td>\n",
       "      <td>Yes</td>\n",
       "      <td>No</td>\n",
       "      <td>DSL</td>\n",
       "      <td>Yes</td>\n",
       "      <td>...</td>\n",
       "      <td>No</td>\n",
       "      <td>No</td>\n",
       "      <td>No</td>\n",
       "      <td>No</td>\n",
       "      <td>Month-to-month</td>\n",
       "      <td>Yes</td>\n",
       "      <td>Mailed check</td>\n",
       "      <td>53.85</td>\n",
       "      <td>108.15</td>\n",
       "      <td>Yes</td>\n",
       "    </tr>\n",
       "    <tr>\n",
       "      <th>3</th>\n",
       "      <td>7795-CFOCW</td>\n",
       "      <td>Male</td>\n",
       "      <td>0</td>\n",
       "      <td>No</td>\n",
       "      <td>No</td>\n",
       "      <td>45</td>\n",
       "      <td>No</td>\n",
       "      <td>No phone service</td>\n",
       "      <td>DSL</td>\n",
       "      <td>Yes</td>\n",
       "      <td>...</td>\n",
       "      <td>Yes</td>\n",
       "      <td>Yes</td>\n",
       "      <td>No</td>\n",
       "      <td>No</td>\n",
       "      <td>One year</td>\n",
       "      <td>No</td>\n",
       "      <td>Bank transfer (automatic)</td>\n",
       "      <td>42.30</td>\n",
       "      <td>1840.75</td>\n",
       "      <td>No</td>\n",
       "    </tr>\n",
       "    <tr>\n",
       "      <th>4</th>\n",
       "      <td>9237-HQITU</td>\n",
       "      <td>Female</td>\n",
       "      <td>0</td>\n",
       "      <td>No</td>\n",
       "      <td>No</td>\n",
       "      <td>2</td>\n",
       "      <td>Yes</td>\n",
       "      <td>No</td>\n",
       "      <td>Fiber optic</td>\n",
       "      <td>No</td>\n",
       "      <td>...</td>\n",
       "      <td>No</td>\n",
       "      <td>No</td>\n",
       "      <td>No</td>\n",
       "      <td>No</td>\n",
       "      <td>Month-to-month</td>\n",
       "      <td>Yes</td>\n",
       "      <td>Electronic check</td>\n",
       "      <td>70.70</td>\n",
       "      <td>151.65</td>\n",
       "      <td>Yes</td>\n",
       "    </tr>\n",
       "  </tbody>\n",
       "</table>\n",
       "<p>5 rows × 21 columns</p>\n",
       "</div>"
      ],
      "text/plain": [
       "   customerID  gender  SeniorCitizen Partner Dependents  tenure PhoneService  \\\n",
       "0  7590-VHVEG  Female              0     Yes         No       1           No   \n",
       "1  5575-GNVDE    Male              0      No         No      34          Yes   \n",
       "2  3668-QPYBK    Male              0      No         No       2          Yes   \n",
       "3  7795-CFOCW    Male              0      No         No      45           No   \n",
       "4  9237-HQITU  Female              0      No         No       2          Yes   \n",
       "\n",
       "      MultipleLines InternetService OnlineSecurity  ... DeviceProtection  \\\n",
       "0  No phone service             DSL             No  ...               No   \n",
       "1                No             DSL            Yes  ...              Yes   \n",
       "2                No             DSL            Yes  ...               No   \n",
       "3  No phone service             DSL            Yes  ...              Yes   \n",
       "4                No     Fiber optic             No  ...               No   \n",
       "\n",
       "  TechSupport StreamingTV StreamingMovies        Contract PaperlessBilling  \\\n",
       "0          No          No              No  Month-to-month              Yes   \n",
       "1          No          No              No        One year               No   \n",
       "2          No          No              No  Month-to-month              Yes   \n",
       "3         Yes          No              No        One year               No   \n",
       "4          No          No              No  Month-to-month              Yes   \n",
       "\n",
       "               PaymentMethod MonthlyCharges  TotalCharges Churn  \n",
       "0           Electronic check          29.85         29.85    No  \n",
       "1               Mailed check          56.95        1889.5    No  \n",
       "2               Mailed check          53.85        108.15   Yes  \n",
       "3  Bank transfer (automatic)          42.30       1840.75    No  \n",
       "4           Electronic check          70.70        151.65   Yes  \n",
       "\n",
       "[5 rows x 21 columns]"
      ]
     },
     "execution_count": 8,
     "metadata": {},
     "output_type": "execute_result"
    }
   ],
   "source": [
    "# Print out the first 5 observations in the data.\n",
    "dataset.head()"
   ]
  },
  {
   "cell_type": "markdown",
   "metadata": {
    "id": "2hKrluuwiE0Z"
   },
   "source": [
    "###  Prepare data\n",
    "\n",
    "Some data preparation is needed before the modelling can begin.\n",
    "\n",
    "From the summaries in the EDA section above you can see that:\n",
    "- `customerID` is the unique identifier for each observation;\n",
    "- `Churn` is the response and takes values 'Yes' and 'No' with a 'Yes' rate of 26.5% (= 1,869/(5,174+1,869));\n",
    "- `Tenure`, `MonthlyCharges` and `TotalCharges` are numeric features;\n",
    "  - `TotalCharges` is stored as categorical;\n",
    "- all other features are categorical (though many with only 2 levels); and\n",
    "- missing values are not a significant concern."
   ]
  },
  {
   "cell_type": "code",
   "execution_count": 9,
   "metadata": {
    "colab": {
     "base_uri": "https://localhost:8080/"
    },
    "id": "rZAYu74Ti38g",
    "outputId": "90abc7cd-f09f-4297-dfcb-912ad61b1c78"
   },
   "outputs": [
    {
     "name": "stdout",
     "output_type": "stream",
     "text": [
      "gender ['Female' 'Male' 0]\n",
      "SeniorCitizen [0 1]\n",
      "Partner ['Yes' 'No' 0]\n",
      "Dependents ['No' 'Yes' 0]\n",
      "PhoneService ['No' 'Yes' 0]\n",
      "MultipleLines ['No phone service' 'No' 'Yes' 0]\n",
      "InternetService ['DSL' 'Fiber optic' 'No' 0]\n",
      "OnlineSecurity ['No' 'Yes' 'No internet service' 0]\n",
      "OnlineBackup ['Yes' 'No' 'No internet service' 0]\n",
      "DeviceProtection ['No' 'Yes' 'No internet service' 0]\n",
      "TechSupport ['No' 'Yes' 'No internet service' 0]\n",
      "StreamingTV ['No' 'Yes' 'No internet service' 0]\n",
      "StreamingMovies ['No' 'Yes' 'No internet service' 0]\n",
      "Contract ['Month-to-month' 'One year' 'Two year' 0]\n",
      "PaperlessBilling ['Yes' 'No' 0]\n",
      "PaymentMethod ['Electronic check' 'Mailed check' 'Bank transfer (automatic)'\n",
      " 'Credit card (automatic)' 0]\n",
      "Churn ['No' 'Yes' 0]\n"
     ]
    }
   ],
   "source": [
    "# Define the ID and response columns\n",
    "id_col = ['customerID']\n",
    "response_col = ['Churn']\n",
    "\n",
    "# Get the list of features by type.\n",
    "# Categorical features can be identified as those columns with only a few levels.\n",
    "# This code selects the list of features with < 6 levels and puts the names \n",
    "# into a list, excluding the id_col and response_col.\n",
    "cat_cols = dataset.nunique()[dataset.nunique() < 6].keys().tolist()\n",
    "cat_cols = [x for x in cat_cols if x not in id_col + response_col]\n",
    "\n",
    "# Numerical features are left after the categorical features have been removed.\n",
    "# List comprehension is used below to select the set of feature names not\n",
    "# contained in the cat_cols, id_col, or response_col lists.\n",
    "num_cols = [x for x in dataset.columns if x not in cat_cols + id_col + response_col]\n",
    "\n",
    "# Convert TotalCharges to numeric and set equal to 0 where blank.\n",
    "dataset.loc[dataset['TotalCharges'] == ' '] = 0\n",
    "dataset['TotalCharges'] = pd.to_numeric(dataset['TotalCharges'])\n",
    "\n",
    "# Check the number of levels for each categorical feature and the\n",
    "# response variable.\n",
    "for cat_col in cat_cols + response_col:\n",
    "  print(cat_col, dataset[cat_col].unique())"
   ]
  },
  {
   "cell_type": "markdown",
   "metadata": {
    "id": "bpnqr_vKR3OM"
   },
   "source": [
    "The output shows that a number of the categorical features include a '0' level (most likely missing values) that should be converted to None (missing).\n",
    "\n",
    "The code below also removes any observations where the response is unknown, as these observations are of no use for modelling or validation."
   ]
  },
  {
   "cell_type": "code",
   "execution_count": 10,
   "metadata": {
    "colab": {
     "base_uri": "https://localhost:8080/"
    },
    "id": "LvWtbqPEHGGO",
    "outputId": "5e2695e1-2739-4b51-ee37-fbf1d7ca76f9"
   },
   "outputs": [
    {
     "name": "stdout",
     "output_type": "stream",
     "text": [
      "gender ['Female' 'Male']\n",
      "SeniorCitizen [0. 1.]\n",
      "Partner ['Yes' 'No']\n",
      "Dependents ['No' 'Yes']\n",
      "PhoneService ['No' 'Yes']\n",
      "MultipleLines ['No phone service' 'No' 'Yes']\n",
      "InternetService ['DSL' 'Fiber optic' 'No']\n",
      "OnlineSecurity ['No' 'Yes' 'No internet service']\n",
      "OnlineBackup ['Yes' 'No' 'No internet service']\n",
      "DeviceProtection ['No' 'Yes' 'No internet service']\n",
      "TechSupport ['No' 'Yes' 'No internet service']\n",
      "StreamingTV ['No' 'Yes' 'No internet service']\n",
      "StreamingMovies ['No' 'Yes' 'No internet service']\n",
      "Contract ['Month-to-month' 'One year' 'Two year']\n",
      "PaperlessBilling ['Yes' 'No']\n",
      "PaymentMethod ['Electronic check' 'Mailed check' 'Bank transfer (automatic)'\n",
      " 'Credit card (automatic)']\n",
      "Churn ['No' 'Yes']\n"
     ]
    }
   ],
   "source": [
    "# Set '0' levels to missing for categorical features\n",
    "# (except for 'SeniorCitizen' which takes 1/0 values).\n",
    "fix_cats = (cat_cols.copy())\n",
    "fix_cats.remove('SeniorCitizen')\n",
    "for col in fix_cats:\n",
    "    dataset.loc[dataset[col] == 0] = None\n",
    "\n",
    "# Remove records with missing 'Churn' (the response).\n",
    "dataset = dataset.dropna(subset = ['Churn'])\n",
    "\n",
    "# Check the updated categorical feature levels.\n",
    "for cat_col in cat_cols + response_col:\n",
    "  print(cat_col, dataset[cat_col].unique())"
   ]
  },
  {
   "cell_type": "code",
   "execution_count": 11,
   "metadata": {
    "colab": {
     "base_uri": "https://localhost:8080/"
    },
    "id": "XxNuVrXpUE3a",
    "outputId": "383e3cd4-0dcd-4744-ab47-2a6698809041"
   },
   "outputs": [
    {
     "data": {
      "text/plain": [
       "customerID           object\n",
       "gender               object\n",
       "SeniorCitizen       float64\n",
       "Partner              object\n",
       "Dependents           object\n",
       "tenure              float64\n",
       "PhoneService         object\n",
       "MultipleLines        object\n",
       "InternetService      object\n",
       "OnlineSecurity       object\n",
       "OnlineBackup         object\n",
       "DeviceProtection     object\n",
       "TechSupport          object\n",
       "StreamingTV          object\n",
       "StreamingMovies      object\n",
       "Contract             object\n",
       "PaperlessBilling     object\n",
       "PaymentMethod        object\n",
       "MonthlyCharges      float64\n",
       "TotalCharges        float64\n",
       "Churn                object\n",
       "dtype: object"
      ]
     },
     "execution_count": 11,
     "metadata": {},
     "output_type": "execute_result"
    }
   ],
   "source": [
    "# Check the updated feature types\n",
    "dataset.dtypes"
   ]
  },
  {
   "cell_type": "markdown",
   "metadata": {
    "id": "cLPD99HTwXTg"
   },
   "source": [
    "Now that the data has been cleaned up, the marginal relationship between the features and the response can be analysed."
   ]
  },
  {
   "cell_type": "code",
   "execution_count": 12,
   "metadata": {
    "colab": {
     "base_uri": "https://localhost:8080/",
     "height": 1000
    },
    "id": "8hGzvSALVT67",
    "outputId": "15e855fe-6035-4cb5-d6ba-5bb4d48c7937"
   },
   "outputs": [
    {
     "data": {
      "text/plain": [
       "<matplotlib.axes._subplots.AxesSubplot at 0x7f536a907b00>"
      ]
     },
     "execution_count": 12,
     "metadata": {},
     "output_type": "execute_result"
    },
    {
     "data": {
      "image/png": "[encoded data removed]",
      "text/plain": [
       "<Figure size 432x288 with 1 Axes>"
      ]
     },
     "metadata": {},
     "output_type": "display_data"
    },
    {
     "data": {
      "image/png": "[encoded data removed]",
      "text/plain": [
       "<Figure size 432x288 with 1 Axes>"
      ]
     },
     "metadata": {},
     "output_type": "display_data"
    },
    {
     "data": {
      "image/png": "[encoded data removed]",
      "text/plain": [
       "<Figure size 432x288 with 1 Axes>"
      ]
     },
     "metadata": {},
     "output_type": "display_data"
    },
    {
     "data": {
      "image/png": "[encoded data removed]",
      "text/plain": [
       "<Figure size 432x288 with 1 Axes>"
      ]
     },
     "metadata": {},
     "output_type": "display_data"
    },
    {
     "data": {
      "image/png": "[encoded data removed]",
      "text/plain": [
       "<Figure size 432x288 with 1 Axes>"
      ]
     },
     "metadata": {},
     "output_type": "display_data"
    },
    {
     "data": {
      "image/png": "[encoded data removed]",
      "text/plain": [
       "<Figure size 432x288 with 1 Axes>"
      ]
     },
     "metadata": {},
     "output_type": "display_data"
    },
    {
     "data": {
      "image/png": "[encoded data removed]",
      "text/plain": [
       "<Figure size 432x288 with 1 Axes>"
      ]
     },
     "metadata": {},
     "output_type": "display_data"
    },
    {
     "data": {
      "image/png": "[encoded data removed]",
      "text/plain": [
       "<Figure size 432x288 with 1 Axes>"
      ]
     },
     "metadata": {},
     "output_type": "display_data"
    },
    {
     "data": {
      "image/png": "[encoded data removed]",
      "text/plain": [
       "<Figure size 432x288 with 1 Axes>"
      ]
     },
     "metadata": {},
     "output_type": "display_data"
    },
    {
     "data": {
      "image/png": "[encoded data removed]",
      "text/plain": [
       "<Figure size 432x288 with 1 Axes>"
      ]
     },
     "metadata": {},
     "output_type": "display_data"
    },
    {
     "data": {
      "image/png": "[encoded data removed]",
      "text/plain": [
       "<Figure size 432x288 with 1 Axes>"
      ]
     },
     "metadata": {},
     "output_type": "display_data"
    },
    {
     "data": {
      "image/png": "[encoded data removed]",
      "text/plain": [
       "<Figure size 432x288 with 1 Axes>"
      ]
     },
     "metadata": {},
     "output_type": "display_data"
    },
    {
     "data": {
      "image/png": "[encoded data removed]",
      "text/plain": [
       "<Figure size 432x288 with 1 Axes>"
      ]
     },
     "metadata": {},
     "output_type": "display_data"
    },
    {
     "data": {
      "image/png": "[encoded data removed]",
      "text/plain": [
       "<Figure size 432x288 with 1 Axes>"
      ]
     },
     "metadata": {},
     "output_type": "display_data"
    },
    {
     "data": {
      "image/png": "[encoded data removed]",
      "text/plain": [
       "<Figure size 432x288 with 1 Axes>"
      ]
     },
     "metadata": {},
     "output_type": "display_data"
    },
    {
     "data": {
      "image/png": "[encoded data removed]",
      "text/plain": [
       "<Figure size 432x288 with 1 Axes>"
      ]
     },
     "metadata": {},
     "output_type": "display_data"
    },
    {
     "data": {
      "image/png": "[encoded data removed]",
      "text/plain": [
       "<Figure size 432x288 with 1 Axes>"
      ]
     },
     "metadata": {},
     "output_type": "display_data"
    },
    {
     "data": {
      "image/png": "[encoded data removed]",
      "text/plain": [
       "<Figure size 432x288 with 1 Axes>"
      ]
     },
     "metadata": {},
     "output_type": "display_data"
    },
    {
     "data": {
      "image/png": "[encoded data removed]",
      "text/plain": [
       "<Figure size 432x288 with 1 Axes>"
      ]
     },
     "metadata": {},
     "output_type": "display_data"
    }
   ],
   "source": [
    "# Plot the mean churn rate by each of the candidate features.\n",
    "\n",
    "# Loop over each feature.\n",
    "for feature in [\n",
    "    'gender',\n",
    "    'SeniorCitizen',\n",
    "    'Partner',\n",
    "    'Dependents',\n",
    "    'tenure',\n",
    "    'PhoneService',\n",
    "    'MultipleLines',\n",
    "    'InternetService',\n",
    "    'OnlineSecurity',\n",
    "    'OnlineBackup',\n",
    "    'DeviceProtection',\n",
    "    'TechSupport',\n",
    "    'StreamingTV',\n",
    "    'StreamingMovies',\n",
    "    'Contract',\n",
    "    'PaperlessBilling',\n",
    "    'PaymentMethod',\n",
    "]:\n",
    "    (\n",
    "        # create a binary 1/0 response column, where 1 indicates Churn = 'Yes';\n",
    "        # group by the values of the current feature;\n",
    "        # calculate the mean of the response; and\n",
    "        # plot.\n",
    "        dataset[[feature]]\n",
    "        .assign(Response=np.where(dataset.Churn == 'Yes', 1, 0))\n",
    "        .groupby(feature)\n",
    "        .agg('mean')\n",
    "        .plot.bar(color='Dodgerblue')\n",
    "    )\n",
    "\n",
    "\n",
    "(\n",
    "    # The same is done for MonthlyCharges except that the value is rounded\n",
    "    # to the nearest $10 using np.round(, -1).\n",
    "    dataset[['MonthlyCharges']]\n",
    "    .assign(\n",
    "        Feature_MonthlyCharges=np.round(dataset['MonthlyCharges'], -1),\n",
    "        Response=np.where(dataset.Churn == 'Yes', 1, 0),\n",
    "    )\n",
    "    .drop(columns=['MonthlyCharges'])\n",
    "    .groupby('Feature_MonthlyCharges')\n",
    "    .agg('mean')\n",
    "    .plot.bar(color='Dodgerblue')\n",
    ")\n",
    "\n",
    "\n",
    "(\n",
    "    # TotalCharges is rounded to the nearest $1,000 using np.round(, -3).\n",
    "    dataset[['TotalCharges']]\n",
    "    .assign(\n",
    "        Feature_TotalCharges=np.round(dataset['TotalCharges'], -3),\n",
    "        Response=np.where(dataset.Churn == 'Yes', 1, 0),\n",
    "    )\n",
    "    .drop(columns=['TotalCharges'])\n",
    "    .groupby('Feature_TotalCharges')\n",
    "    .agg('mean')\n",
    "    .plot.bar(color='Dodgerblue')\n",
    ")\n"
   ]
  },
  {
   "cell_type": "markdown",
   "metadata": {
    "id": "8Q9_LoYPGyEk"
   },
   "source": [
    "## Modelling\n",
    "This section:\n",
    "- fits some models; and\n",
    "- evaluates the fitted models."
   ]
  },
  {
   "cell_type": "markdown",
   "metadata": {
    "id": "1Mu5hyKhkQxU"
   },
   "source": [
    "### Gradient Boosting Machine (GBM)\n",
    "\n",
    "The first model to be fitted is a Gradient Boosting Machine (GBM).\n",
    "GBM applies boosting (see Section 5.3.3 of Module 5) in the context of decision trees.\n",
    "\n",
    "The GBM will be used as a benchmark to compare to a neural network fitted later on.\n",
    "\n",
    "To fit the GBM, the `GradientBoostingClassifier()` from the sklearn package is used."
   ]
  },
  {
   "cell_type": "markdown",
   "metadata": {
    "id": "SzAdmA6XyVeM"
   },
   "source": [
    "#### Prepare data\n",
    "To prepare the data for the GBM model, the code below:\n",
    "- one hot encodes the categorical features; and\n",
    "- splits the data into train, validation, and test sets."
   ]
  },
  {
   "cell_type": "code",
   "execution_count": 13,
   "metadata": {
    "id": "xrV5Dk86Ae1D"
   },
   "outputs": [],
   "source": [
    "# One-hot encode categorical features including an indicator for NAs.\n",
    "dataset_gbm = pd.get_dummies(dataset, columns=cat_cols, dummy_na=True)\n",
    "\n",
    "# Split the data into train, valiation, and test sets.\n",
    "train_gbm_x, train_gbm_y, \\\n",
    "validation_gbm_x, validation_gbm_y, \\\n",
    "test_gbm_x, test_gbm_y \\\n",
    "= create_data_splits(dataset_gbm, id_col, response_col)\n"
   ]
  },
  {
   "cell_type": "code",
   "execution_count": 14,
   "metadata": {},
   "outputs": [
    {
     "data": {
      "text/html": [
       "<div>\n",
       "<style scoped>\n",
       "    .dataframe tbody tr th:only-of-type {\n",
       "        vertical-align: middle;\n",
       "    }\n",
       "\n",
       "    .dataframe tbody tr th {\n",
       "        vertical-align: top;\n",
       "    }\n",
       "\n",
       "    .dataframe thead th {\n",
       "        text-align: right;\n",
       "    }\n",
       "</style>\n",
       "<table border=\"1\" class=\"dataframe\">\n",
       "  <thead>\n",
       "    <tr style=\"text-align: right;\">\n",
       "      <th></th>\n",
       "      <th>customerID</th>\n",
       "      <th>tenure</th>\n",
       "      <th>MonthlyCharges</th>\n",
       "      <th>TotalCharges</th>\n",
       "      <th>Churn</th>\n",
       "      <th>gender_Female</th>\n",
       "      <th>gender_Male</th>\n",
       "      <th>gender_nan</th>\n",
       "      <th>SeniorCitizen_0.0</th>\n",
       "      <th>SeniorCitizen_1.0</th>\n",
       "      <th>...</th>\n",
       "      <th>Contract_Two year</th>\n",
       "      <th>Contract_nan</th>\n",
       "      <th>PaperlessBilling_No</th>\n",
       "      <th>PaperlessBilling_Yes</th>\n",
       "      <th>PaperlessBilling_nan</th>\n",
       "      <th>PaymentMethod_Bank transfer (automatic)</th>\n",
       "      <th>PaymentMethod_Credit card (automatic)</th>\n",
       "      <th>PaymentMethod_Electronic check</th>\n",
       "      <th>PaymentMethod_Mailed check</th>\n",
       "      <th>PaymentMethod_nan</th>\n",
       "    </tr>\n",
       "  </thead>\n",
       "  <tbody>\n",
       "    <tr>\n",
       "      <th>0</th>\n",
       "      <td>7590-VHVEG</td>\n",
       "      <td>1.0</td>\n",
       "      <td>29.85</td>\n",
       "      <td>29.85</td>\n",
       "      <td>No</td>\n",
       "      <td>1</td>\n",
       "      <td>0</td>\n",
       "      <td>0</td>\n",
       "      <td>1</td>\n",
       "      <td>0</td>\n",
       "      <td>...</td>\n",
       "      <td>0</td>\n",
       "      <td>0</td>\n",
       "      <td>0</td>\n",
       "      <td>1</td>\n",
       "      <td>0</td>\n",
       "      <td>0</td>\n",
       "      <td>0</td>\n",
       "      <td>1</td>\n",
       "      <td>0</td>\n",
       "      <td>0</td>\n",
       "    </tr>\n",
       "    <tr>\n",
       "      <th>1</th>\n",
       "      <td>5575-GNVDE</td>\n",
       "      <td>34.0</td>\n",
       "      <td>56.95</td>\n",
       "      <td>1889.50</td>\n",
       "      <td>No</td>\n",
       "      <td>0</td>\n",
       "      <td>1</td>\n",
       "      <td>0</td>\n",
       "      <td>1</td>\n",
       "      <td>0</td>\n",
       "      <td>...</td>\n",
       "      <td>0</td>\n",
       "      <td>0</td>\n",
       "      <td>1</td>\n",
       "      <td>0</td>\n",
       "      <td>0</td>\n",
       "      <td>0</td>\n",
       "      <td>0</td>\n",
       "      <td>0</td>\n",
       "      <td>1</td>\n",
       "      <td>0</td>\n",
       "    </tr>\n",
       "    <tr>\n",
       "      <th>2</th>\n",
       "      <td>3668-QPYBK</td>\n",
       "      <td>2.0</td>\n",
       "      <td>53.85</td>\n",
       "      <td>108.15</td>\n",
       "      <td>Yes</td>\n",
       "      <td>0</td>\n",
       "      <td>1</td>\n",
       "      <td>0</td>\n",
       "      <td>1</td>\n",
       "      <td>0</td>\n",
       "      <td>...</td>\n",
       "      <td>0</td>\n",
       "      <td>0</td>\n",
       "      <td>0</td>\n",
       "      <td>1</td>\n",
       "      <td>0</td>\n",
       "      <td>0</td>\n",
       "      <td>0</td>\n",
       "      <td>0</td>\n",
       "      <td>1</td>\n",
       "      <td>0</td>\n",
       "    </tr>\n",
       "    <tr>\n",
       "      <th>3</th>\n",
       "      <td>7795-CFOCW</td>\n",
       "      <td>45.0</td>\n",
       "      <td>42.30</td>\n",
       "      <td>1840.75</td>\n",
       "      <td>No</td>\n",
       "      <td>0</td>\n",
       "      <td>1</td>\n",
       "      <td>0</td>\n",
       "      <td>1</td>\n",
       "      <td>0</td>\n",
       "      <td>...</td>\n",
       "      <td>0</td>\n",
       "      <td>0</td>\n",
       "      <td>1</td>\n",
       "      <td>0</td>\n",
       "      <td>0</td>\n",
       "      <td>1</td>\n",
       "      <td>0</td>\n",
       "      <td>0</td>\n",
       "      <td>0</td>\n",
       "      <td>0</td>\n",
       "    </tr>\n",
       "    <tr>\n",
       "      <th>4</th>\n",
       "      <td>9237-HQITU</td>\n",
       "      <td>2.0</td>\n",
       "      <td>70.70</td>\n",
       "      <td>151.65</td>\n",
       "      <td>Yes</td>\n",
       "      <td>1</td>\n",
       "      <td>0</td>\n",
       "      <td>0</td>\n",
       "      <td>1</td>\n",
       "      <td>0</td>\n",
       "      <td>...</td>\n",
       "      <td>0</td>\n",
       "      <td>0</td>\n",
       "      <td>0</td>\n",
       "      <td>1</td>\n",
       "      <td>0</td>\n",
       "      <td>0</td>\n",
       "      <td>0</td>\n",
       "      <td>1</td>\n",
       "      <td>0</td>\n",
       "      <td>0</td>\n",
       "    </tr>\n",
       "    <tr>\n",
       "      <th>...</th>\n",
       "      <td>...</td>\n",
       "      <td>...</td>\n",
       "      <td>...</td>\n",
       "      <td>...</td>\n",
       "      <td>...</td>\n",
       "      <td>...</td>\n",
       "      <td>...</td>\n",
       "      <td>...</td>\n",
       "      <td>...</td>\n",
       "      <td>...</td>\n",
       "      <td>...</td>\n",
       "      <td>...</td>\n",
       "      <td>...</td>\n",
       "      <td>...</td>\n",
       "      <td>...</td>\n",
       "      <td>...</td>\n",
       "      <td>...</td>\n",
       "      <td>...</td>\n",
       "      <td>...</td>\n",
       "      <td>...</td>\n",
       "      <td>...</td>\n",
       "    </tr>\n",
       "    <tr>\n",
       "      <th>7038</th>\n",
       "      <td>6840-RESVB</td>\n",
       "      <td>24.0</td>\n",
       "      <td>84.80</td>\n",
       "      <td>1990.50</td>\n",
       "      <td>No</td>\n",
       "      <td>0</td>\n",
       "      <td>1</td>\n",
       "      <td>0</td>\n",
       "      <td>1</td>\n",
       "      <td>0</td>\n",
       "      <td>...</td>\n",
       "      <td>0</td>\n",
       "      <td>0</td>\n",
       "      <td>0</td>\n",
       "      <td>1</td>\n",
       "      <td>0</td>\n",
       "      <td>0</td>\n",
       "      <td>0</td>\n",
       "      <td>0</td>\n",
       "      <td>1</td>\n",
       "      <td>0</td>\n",
       "    </tr>\n",
       "    <tr>\n",
       "      <th>7039</th>\n",
       "      <td>2234-XADUH</td>\n",
       "      <td>72.0</td>\n",
       "      <td>103.20</td>\n",
       "      <td>7362.90</td>\n",
       "      <td>No</td>\n",
       "      <td>1</td>\n",
       "      <td>0</td>\n",
       "      <td>0</td>\n",
       "      <td>1</td>\n",
       "      <td>0</td>\n",
       "      <td>...</td>\n",
       "      <td>0</td>\n",
       "      <td>0</td>\n",
       "      <td>0</td>\n",
       "      <td>1</td>\n",
       "      <td>0</td>\n",
       "      <td>0</td>\n",
       "      <td>1</td>\n",
       "      <td>0</td>\n",
       "      <td>0</td>\n",
       "      <td>0</td>\n",
       "    </tr>\n",
       "    <tr>\n",
       "      <th>7040</th>\n",
       "      <td>4801-JZAZL</td>\n",
       "      <td>11.0</td>\n",
       "      <td>29.60</td>\n",
       "      <td>346.45</td>\n",
       "      <td>No</td>\n",
       "      <td>1</td>\n",
       "      <td>0</td>\n",
       "      <td>0</td>\n",
       "      <td>1</td>\n",
       "      <td>0</td>\n",
       "      <td>...</td>\n",
       "      <td>0</td>\n",
       "      <td>0</td>\n",
       "      <td>0</td>\n",
       "      <td>1</td>\n",
       "      <td>0</td>\n",
       "      <td>0</td>\n",
       "      <td>0</td>\n",
       "      <td>1</td>\n",
       "      <td>0</td>\n",
       "      <td>0</td>\n",
       "    </tr>\n",
       "    <tr>\n",
       "      <th>7041</th>\n",
       "      <td>8361-LTMKD</td>\n",
       "      <td>4.0</td>\n",
       "      <td>74.40</td>\n",
       "      <td>306.60</td>\n",
       "      <td>Yes</td>\n",
       "      <td>0</td>\n",
       "      <td>1</td>\n",
       "      <td>0</td>\n",
       "      <td>0</td>\n",
       "      <td>1</td>\n",
       "      <td>...</td>\n",
       "      <td>0</td>\n",
       "      <td>0</td>\n",
       "      <td>0</td>\n",
       "      <td>1</td>\n",
       "      <td>0</td>\n",
       "      <td>0</td>\n",
       "      <td>0</td>\n",
       "      <td>0</td>\n",
       "      <td>1</td>\n",
       "      <td>0</td>\n",
       "    </tr>\n",
       "    <tr>\n",
       "      <th>7042</th>\n",
       "      <td>3186-AJIEK</td>\n",
       "      <td>66.0</td>\n",
       "      <td>105.65</td>\n",
       "      <td>6844.50</td>\n",
       "      <td>No</td>\n",
       "      <td>0</td>\n",
       "      <td>1</td>\n",
       "      <td>0</td>\n",
       "      <td>1</td>\n",
       "      <td>0</td>\n",
       "      <td>...</td>\n",
       "      <td>1</td>\n",
       "      <td>0</td>\n",
       "      <td>0</td>\n",
       "      <td>1</td>\n",
       "      <td>0</td>\n",
       "      <td>1</td>\n",
       "      <td>0</td>\n",
       "      <td>0</td>\n",
       "      <td>0</td>\n",
       "      <td>0</td>\n",
       "    </tr>\n",
       "  </tbody>\n",
       "</table>\n",
       "<p>7032 rows × 64 columns</p>\n",
       "</div>"
      ],
      "text/plain": [
       "      customerID  tenure  MonthlyCharges  TotalCharges Churn  gender_Female  \\\n",
       "0     7590-VHVEG     1.0           29.85         29.85    No              1   \n",
       "1     5575-GNVDE    34.0           56.95       1889.50    No              0   \n",
       "2     3668-QPYBK     2.0           53.85        108.15   Yes              0   \n",
       "3     7795-CFOCW    45.0           42.30       1840.75    No              0   \n",
       "4     9237-HQITU     2.0           70.70        151.65   Yes              1   \n",
       "...          ...     ...             ...           ...   ...            ...   \n",
       "7038  6840-RESVB    24.0           84.80       1990.50    No              0   \n",
       "7039  2234-XADUH    72.0          103.20       7362.90    No              1   \n",
       "7040  4801-JZAZL    11.0           29.60        346.45    No              1   \n",
       "7041  8361-LTMKD     4.0           74.40        306.60   Yes              0   \n",
       "7042  3186-AJIEK    66.0          105.65       6844.50    No              0   \n",
       "\n",
       "      gender_Male  gender_nan  SeniorCitizen_0.0  SeniorCitizen_1.0  ...  \\\n",
       "0               0           0                  1                  0  ...   \n",
       "1               1           0                  1                  0  ...   \n",
       "2               1           0                  1                  0  ...   \n",
       "3               1           0                  1                  0  ...   \n",
       "4               0           0                  1                  0  ...   \n",
       "...           ...         ...                ...                ...  ...   \n",
       "7038            1           0                  1                  0  ...   \n",
       "7039            0           0                  1                  0  ...   \n",
       "7040            0           0                  1                  0  ...   \n",
       "7041            1           0                  0                  1  ...   \n",
       "7042            1           0                  1                  0  ...   \n",
       "\n",
       "      Contract_Two year  Contract_nan  PaperlessBilling_No  \\\n",
       "0                     0             0                    0   \n",
       "1                     0             0                    1   \n",
       "2                     0             0                    0   \n",
       "3                     0             0                    1   \n",
       "4                     0             0                    0   \n",
       "...                 ...           ...                  ...   \n",
       "7038                  0             0                    0   \n",
       "7039                  0             0                    0   \n",
       "7040                  0             0                    0   \n",
       "7041                  0             0                    0   \n",
       "7042                  1             0                    0   \n",
       "\n",
       "      PaperlessBilling_Yes  PaperlessBilling_nan  \\\n",
       "0                        1                     0   \n",
       "1                        0                     0   \n",
       "2                        1                     0   \n",
       "3                        0                     0   \n",
       "4                        1                     0   \n",
       "...                    ...                   ...   \n",
       "7038                     1                     0   \n",
       "7039                     1                     0   \n",
       "7040                     1                     0   \n",
       "7041                     1                     0   \n",
       "7042                     1                     0   \n",
       "\n",
       "      PaymentMethod_Bank transfer (automatic)  \\\n",
       "0                                           0   \n",
       "1                                           0   \n",
       "2                                           0   \n",
       "3                                           1   \n",
       "4                                           0   \n",
       "...                                       ...   \n",
       "7038                                        0   \n",
       "7039                                        0   \n",
       "7040                                        0   \n",
       "7041                                        0   \n",
       "7042                                        1   \n",
       "\n",
       "      PaymentMethod_Credit card (automatic)  PaymentMethod_Electronic check  \\\n",
       "0                                         0                               1   \n",
       "1                                         0                               0   \n",
       "2                                         0                               0   \n",
       "3                                         0                               0   \n",
       "4                                         0                               1   \n",
       "...                                     ...                             ...   \n",
       "7038                                      0                               0   \n",
       "7039                                      1                               0   \n",
       "7040                                      0                               1   \n",
       "7041                                      0                               0   \n",
       "7042                                      0                               0   \n",
       "\n",
       "      PaymentMethod_Mailed check  PaymentMethod_nan  \n",
       "0                              0                  0  \n",
       "1                              1                  0  \n",
       "2                              1                  0  \n",
       "3                              0                  0  \n",
       "4                              0                  0  \n",
       "...                          ...                ...  \n",
       "7038                           1                  0  \n",
       "7039                           0                  0  \n",
       "7040                           0                  0  \n",
       "7041                           1                  0  \n",
       "7042                           0                  0  \n",
       "\n",
       "[7032 rows x 64 columns]"
      ]
     },
     "execution_count": 14,
     "metadata": {},
     "output_type": "execute_result"
    }
   ],
   "source": [
    "dataset_gbm"
   ]
  },
  {
   "cell_type": "markdown",
   "metadata": {
    "id": "s4wQY9j_t8N7"
   },
   "source": [
    "#### Fit initial GBM (GBM 1)"
   ]
  },
  {
   "cell_type": "markdown",
   "metadata": {
    "id": "Bbf6vdy2yjC6"
   },
   "source": [
    "To create and train the model, 20% of the training data will be used as an (internal) validation set for early stopping, to prevent overfitting. The model will stop training if no improvement on this validation data has been observed for 50 consecutive iterations.\n",
    "This is specified with `validation_fraction = 0.2` and `n_iter_no_change = 50`.\n",
    "\n",
    "Other hyperparameters used in the training:\n",
    "- `n_estimators = 1000`: specifies a maximum of 1,000 trees;\n",
    "- `learning_rate = 0.1`: sets the learning rate to 10%;\n",
    "- `random_state = 1234`: initialises the random seed for the model, for reproducibility; and\n",
    "- `verbose = 1`: requests additional information be printed during training.\n"
   ]
  },
  {
   "cell_type": "code",
   "execution_count": 15,
   "metadata": {
    "colab": {
     "base_uri": "https://localhost:8080/"
    },
    "id": "u32cLppPkfyg",
    "outputId": "c506a18c-573c-4c96-b40a-230d77b045ad"
   },
   "outputs": [
    {
     "name": "stdout",
     "output_type": "stream",
     "text": [
      "      Iter       Train Loss   Remaining Time \n",
      "         1           1.0983            8.44s\n",
      "         2           1.0594            8.49s\n",
      "         3           1.0279            8.34s\n",
      "         4           1.0006            8.28s\n",
      "         5           0.9778            8.23s\n",
      "         6           0.9585            8.20s\n",
      "         7           0.9419            8.21s\n",
      "         8           0.9266            8.18s\n",
      "         9           0.9141            8.14s\n",
      "        10           0.9032            8.10s\n",
      "        20           0.8384            7.78s\n",
      "        30           0.8096            7.66s\n",
      "        40           0.7921            7.54s\n",
      "        50           0.7761            7.46s\n",
      "        60           0.7636            7.38s\n",
      "        70           0.7534            7.27s\n"
     ]
    },
    {
     "data": {
      "text/plain": [
       "GradientBoostingClassifier(n_estimators=1000, n_iter_no_change=50,\n",
       "                           random_state=1234, validation_fraction=0.2,\n",
       "                           verbose=1)"
      ]
     },
     "execution_count": 15,
     "metadata": {},
     "output_type": "execute_result"
    }
   ],
   "source": [
    "# Specify the GBM model.\n",
    "gbm_model = GradientBoostingClassifier(n_estimators = 1000,\n",
    "                                       learning_rate = 0.1,\n",
    "                                       validation_fraction = 0.2,\n",
    "                                       n_iter_no_change = 50,\n",
    "                                       verbose = 1,\n",
    "                                       random_state = 1234)\n",
    "# Train the model.\n",
    "# 'train_gbm_y.values.ravel()' converts the series of response values into\n",
    "# a 1D array which is the format expected by the .fit() method\n",
    "gbm_model.fit(train_gbm_x, train_gbm_y.values.ravel())"
   ]
  },
  {
   "cell_type": "code",
   "execution_count": 16,
   "metadata": {},
   "outputs": [
    {
     "name": "stdout",
     "output_type": "stream",
     "text": [
      "      Iter       Train Loss   Remaining Time \n",
      "         1           1.0983            8.10s\n",
      "         2           1.0594            8.36s\n",
      "         3           1.0279            8.27s\n",
      "         4           1.0006            8.26s\n",
      "         5           0.9778            8.28s\n",
      "         6           0.9585            8.10s\n",
      "         7           0.9419            7.93s\n",
      "         8           0.9266            7.78s\n",
      "         9           0.9141            7.68s\n",
      "        10           0.9032            7.60s\n",
      "        20           0.8384            7.10s\n",
      "        30           0.8096            6.85s\n",
      "        40           0.7921            6.72s\n",
      "        50           0.7761            6.61s\n",
      "        60           0.7636            6.51s\n",
      "        70           0.7534            6.42s\n"
     ]
    },
    {
     "data": {
      "text/plain": [
       "GradientBoostingClassifier(n_estimators=1000, n_iter_no_change=50,\n",
       "                           random_state=1234, validation_fraction=0.2,\n",
       "                           verbose=1)"
      ]
     },
     "execution_count": 16,
     "metadata": {},
     "output_type": "execute_result"
    }
   ],
   "source": [
    "# Specify the GBM model.\n",
    "gbm_model_v1 = GradientBoostingClassifier(n_estimators = 10000,\n",
    "                                          learning_rate = 0.01,\n",
    "                                          validation_fraction = 0.2,\n",
    "                                          n_iter_no_change = 50,\n",
    "                                          max_depth = 2,\n",
    "                                          verbose = 1,\n",
    "                                          random_state = 12345)\n",
    "# Train the model.\n",
    "# 'train_gbm_y.values.ravel()' converts the series of response values into\n",
    "# a 1D array which is the format expected by the .fit() method\n",
    "gbm_model.fit(train_gbm_x, train_gbm_y.values.ravel())"
   ]
  },
  {
   "cell_type": "markdown",
   "metadata": {
    "id": "2oWLtQqgtzkQ"
   },
   "source": [
    "#### Evaluate GBM 1\n",
    "The code below looks at some basic goodness of fit measures."
   ]
  },
  {
   "cell_type": "code",
   "execution_count": 17,
   "metadata": {
    "id": "35Q1S4S5NPFj"
   },
   "outputs": [],
   "source": [
    "# Score the validation dataset.\n",
    "\n",
    "# Obtain the predicted churn probabilities (Y_hat).\n",
    "# The code below returns these in an array of form ([Prob(0), Prob(1)]).\n",
    "# Keep the Prob(1) values only, i.e. the predicted churn probability (Y_hat).\n",
    "train_y_preds = gbm_model.predict_proba(train_gbm_x)[:, 1] \n",
    "validation_y_preds = gbm_model.predict_proba(validation_gbm_x)[:, 1] \n",
    "\n",
    "# Obtain the predicted churn outcomes, G(X).\n",
    "# Returns the predicted class as 0 for 'no churn' or 1 for 'churn'.\n",
    "train_y_class = gbm_model.predict(train_gbm_x)\n",
    "validation_y_class = gbm_model.predict(validation_gbm_x)"
   ]
  },
  {
   "cell_type": "code",
   "execution_count": 18,
   "metadata": {
    "colab": {
     "base_uri": "https://localhost:8080/"
    },
    "id": "uP7T228hnnjI",
    "outputId": "0a2a4c40-b30c-481d-b6a6-694707a37e70"
   },
   "outputs": [
    {
     "data": {
      "text/plain": [
       "{'train': 0.8721111031676299, 'validation': 0.8629949874686718}"
      ]
     },
     "execution_count": 18,
     "metadata": {},
     "output_type": "execute_result"
    }
   ],
   "source": [
    "# Calculate the AUC on train and validation data.\n",
    "{'train': roc_auc_score(train_gbm_y.values.ravel(), train_y_preds),\n",
    " 'validation': roc_auc_score(validation_gbm_y.values.ravel(), validation_y_preds)}"
   ]
  },
  {
   "cell_type": "code",
   "execution_count": 19,
   "metadata": {
    "colab": {
     "base_uri": "https://localhost:8080/",
     "height": 311
    },
    "id": "IIfYW40wnq-S",
    "outputId": "7deb85b0-90ae-4e94-c017-836665887613"
   },
   "outputs": [
    {
     "data": {
      "image/png": "[encoded data removed]",
      "text/plain": [
       "<Figure size 432x288 with 2 Axes>"
      ]
     },
     "metadata": {},
     "output_type": "display_data"
    }
   ],
   "source": [
    "# Print the confusion matrix at a 50% threshold using the training data.\n",
    "conf_mat_gbm1_train = confusion_matrix(train_gbm_y, train_y_class)\n",
    "plot_confusion_matrix(conf_mat_gbm1_train, [0, 1])"
   ]
  },
  {
   "cell_type": "code",
   "execution_count": 20,
   "metadata": {
    "colab": {
     "base_uri": "https://localhost:8080/",
     "height": 311
    },
    "id": "gqjXc02yTapm",
    "outputId": "c3124b8e-bee5-45ae-f3b6-335013be5d89"
   },
   "outputs": [
    {
     "data": {
      "image/png": "[encoded data removed]",
      "text/plain": [
       "<Figure size 432x288 with 2 Axes>"
      ]
     },
     "metadata": {},
     "output_type": "display_data"
    }
   ],
   "source": [
    "# Print the confusion matrix at a 50% threshold using the validation data.\n",
    "conf_mat_gbm1_validation = confusion_matrix(validation_gbm_y, validation_y_class)\n",
    "plot_confusion_matrix(conf_mat_gbm1_validation, [0, 1])"
   ]
  },
  {
   "cell_type": "code",
   "execution_count": 21,
   "metadata": {
    "colab": {
     "base_uri": "https://localhost:8080/"
    },
    "id": "Fn0LGsAkpWE4",
    "outputId": "e9d58e2b-ea99-42a0-b7f9-3d70a1294c35"
   },
   "outputs": [
    {
     "data": {
      "text/plain": [
       "{'train': 0.6133205558217537, 'validation': 0.6182495344506518}"
      ]
     },
     "execution_count": 21,
     "metadata": {},
     "output_type": "execute_result"
    }
   ],
   "source": [
    "# Calculate the F1 score.\n",
    "{'train': f1_score(train_gbm_y, train_y_class),\n",
    " 'validation': f1_score(validation_gbm_y, validation_y_class)}"
   ]
  },
  {
   "cell_type": "markdown",
   "metadata": {
    "id": "qMBcM6430o0-"
   },
   "source": [
    "#### Estimate feature importance\n",
    "\n",
    "Feature importance provides a measure of how much the model predictions rely on a particular feature. The higher the importance of a feature, the more it contributes to the model's performance.\n",
    "\n",
    "The code below plot the importance of each feature in the GBM."
   ]
  },
  {
   "cell_type": "code",
   "execution_count": 22,
   "metadata": {
    "colab": {
     "base_uri": "https://localhost:8080/",
     "height": 952
    },
    "id": "UoQNg_JA0ulU",
    "outputId": "919444ac-8141-41bd-9208-68dd9d6ee622",
    "scrolled": true
   },
   "outputs": [
    {
     "data": {
      "text/plain": [
       "<matplotlib.axes._subplots.AxesSubplot at 0x7f535acfdc88>"
      ]
     },
     "execution_count": 22,
     "metadata": {},
     "output_type": "execute_result"
    },
    {
     "data": {
      "image/png": "[encoded data removed]",
      "text/plain": [
       "<Figure size 864x1152 with 1 Axes>"
      ]
     },
     "metadata": {},
     "output_type": "display_data"
    }
   ],
   "source": [
    "# Create a dictionary with name-importance pairs.\n",
    "gbm_feat_imps = dict()\n",
    "for feature, importance in zip(train_gbm_x.columns, gbm_model.feature_importances_):\n",
    "  gbm_feat_imps[feature] = importance\n",
    "\n",
    "# Convert to a dataframe and order by importance.\n",
    "# Note: the feature names become the index for the dataframe, and the importance \n",
    "# is the first column (index 0).\n",
    "gbm_fi = pd.DataFrame.from_dict(gbm_feat_imps, orient = 'index').rename(columns = {0: 'Importance'})\n",
    "gbm_fi.sort_values(by = 'Importance', inplace = True)\n",
    "\n",
    "# Plot the feature importances.\n",
    "gbm_fi.plot(kind = 'barh', \\\n",
    "            figsize = (12,16), \\\n",
    "            title = 'Feature importance', \\\n",
    "            color = 'Dodgerblue'\n",
    ")"
   ]
  },
  {
   "cell_type": "markdown",
   "metadata": {
    "id": "PvLoo4aOUFep"
   },
   "source": [
    "#### Examine effect of features\n",
    "It is important to understand the shape of the effects learned by the model, in order to:\n",
    "- understand what the model is doing; and\n",
    "- assess whether what the model has learned is reasonable given the business context.\n",
    "\n",
    "Partial dependence plots (PDPs) are used below to visualise the effect shapes for the model's four most important features."
   ]
  },
  {
   "cell_type": "code",
   "execution_count": 23,
   "metadata": {
    "colab": {
     "base_uri": "https://localhost:8080/"
    },
    "id": "ZzDVIhftAaKK",
    "outputId": "aa6a587b-346e-4741-ed5a-f5c20ffa780f"
   },
   "outputs": [
    {
     "data": {
      "text/plain": [
       "[0, 1, 2, 50]"
      ]
     },
     "execution_count": 23,
     "metadata": {},
     "output_type": "execute_result"
    }
   ],
   "source": [
    "# Extract the column indices for the four most important features\n",
    "# on the training data.\n",
    "gbm_pdp_idx = [i for i in range(len(train_gbm_x.columns)) if \\\n",
    "               train_gbm_x.columns[i] in gbm_fi.tail(4).index.tolist()]\n",
    "gbm_pdp_idx"
   ]
  },
  {
   "cell_type": "code",
   "execution_count": 24,
   "metadata": {
    "colab": {
     "base_uri": "https://localhost:8080/"
    },
    "id": "BaO48vwAUWM6",
    "outputId": "b9541fb8-15c2-43fa-9b7d-d7a06a859410"
   },
   "outputs": [
    {
     "data": {
      "text/plain": [
       "Index(['tenure', 'MonthlyCharges', 'TotalCharges', 'Contract_Month-to-month'], dtype='object')"
      ]
     },
     "execution_count": 24,
     "metadata": {},
     "output_type": "execute_result"
    }
   ],
   "source": [
    "# Check that the right columns have been identified.\n",
    "train_gbm_x.columns[gbm_pdp_idx]"
   ]
  },
  {
   "cell_type": "code",
   "execution_count": 25,
   "metadata": {
    "colab": {
     "base_uri": "https://localhost:8080/",
     "height": 1000
    },
    "id": "ztdypqSspoUg",
    "outputId": "ca9589c5-03ad-49c8-f10c-9fae82bc636d"
   },
   "outputs": [
    {
     "data": {
      "image/png": "[encoded data removed]",
      "text/plain": [
       "<Figure size 432x288 with 2 Axes>"
      ]
     },
     "metadata": {},
     "output_type": "display_data"
    },
    {
     "data": {
      "image/png": "[encoded data removed]",
      "text/plain": [
       "<Figure size 432x288 with 2 Axes>"
      ]
     },
     "metadata": {},
     "output_type": "display_data"
    },
    {
     "data": {
      "image/png": "[encoded data removed]",
      "text/plain": [
       "<Figure size 432x288 with 2 Axes>"
      ]
     },
     "metadata": {},
     "output_type": "display_data"
    },
    {
     "data": {
      "image/png": "[encoded data removed]",
      "text/plain": [
       "<Figure size 432x288 with 2 Axes>"
      ]
     },
     "metadata": {},
     "output_type": "display_data"
    }
   ],
   "source": [
    "# Produce partial dependence plots.\n",
    "# Loop over each feature rather than provide a list as this makes it\n",
    "# easier to plot the data. \n",
    "for idx in gbm_pdp_idx:\n",
    "  plot_partial_dependence(gbm_model, train_gbm_x, features = [idx],\n",
    "                          line_kw={'color': 'Dodgerblue'})"
   ]
  },
  {
   "cell_type": "markdown",
   "metadata": {
    "id": "-c6j4gvPFZp6"
   },
   "source": [
    "These plots show that the churn rate:\n",
    "- decreases with tenure;\n",
    "- increases with monthly charges;\n",
    "- has an unclear relationship with total charges (but this will be affected by the correlation between monthly and total charges); and\n",
    "- increases for those on a monthly contract."
   ]
  },
  {
   "cell_type": "markdown",
   "metadata": {
    "id": "jHagH5kZuWK_"
   },
   "source": [
    "#### Improve the model (GBM 2)\n",
    "Check the documentation for `GradientBoostingClassifier()` to see the hyperparameters available and try a few combinations to improve the performance.\n",
    "\n",
    "The code below shows some experimentation with hyperparameter values."
   ]
  },
  {
   "cell_type": "code",
   "execution_count": 26,
   "metadata": {
    "colab": {
     "base_uri": "https://localhost:8080/"
    },
    "id": "Xtef6r_xurQE",
    "outputId": "66b4d379-253d-4549-e41f-9edc6a7a50c8"
   },
   "outputs": [
    {
     "name": "stdout",
     "output_type": "stream",
     "text": [
      "      Iter       Train Loss   Remaining Time \n",
      "         1           1.1430           12.04s\n",
      "         2           1.1388           12.51s\n",
      "         3           1.1348           12.38s\n",
      "         4           1.1308           12.26s\n",
      "         5           1.1269           12.20s\n",
      "         6           1.1230           12.15s\n",
      "         7           1.1193           12.11s\n",
      "         8           1.1156           12.07s\n",
      "         9           1.1120           12.00s\n",
      "        10           1.1085           11.92s\n",
      "        20           1.0764           11.35s\n",
      "        30           1.0496           11.21s\n",
      "        40           1.0270           11.11s\n",
      "        50           1.0077           11.02s\n",
      "        60           0.9911           10.93s\n",
      "        70           0.9757           10.86s\n",
      "        80           0.9615           10.80s\n",
      "        90           0.9493           10.73s\n",
      "       100           0.9384           10.68s\n",
      "       200           0.8757            9.49s\n",
      "       300           0.8481            8.72s\n",
      "       400           0.8319            8.14s\n",
      "       500           0.8211            7.57s\n",
      "       600           0.8129            7.04s\n"
     ]
    },
    {
     "data": {
      "text/plain": [
       "GradientBoostingClassifier(learning_rate=0.01, max_depth=2, n_estimators=2000,\n",
       "                           n_iter_no_change=50, random_state=1234,\n",
       "                           validation_fraction=0.2, verbose=1)"
      ]
     },
     "execution_count": 26,
     "metadata": {},
     "output_type": "execute_result"
    }
   ],
   "source": [
    "# Add additional regularisation by capping the depth of trees at 2 and\n",
    "# decreasing the learning rate for the model.\n",
    "# Increase the number of trees (n_estimators) to counter some of the effect\n",
    "# of the lower learning rate.\n",
    "gbm_model_v2 = GradientBoostingClassifier(n_estimators = 2000,\n",
    "                                          learning_rate = 0.01,\n",
    "                                          max_depth = 2,\n",
    "                                          validation_fraction = 0.2,\n",
    "                                          n_iter_no_change = 50,\n",
    "                                          verbose = 1,\n",
    "                                          random_state = 1234)\n",
    "gbm_model_v2.fit(train_gbm_x, train_gbm_y.values.ravel())"
   ]
  },
  {
   "cell_type": "markdown",
   "metadata": {
    "id": "GiHL9RZ3u6X9"
   },
   "source": [
    "#### Evaluate GBM 2"
   ]
  },
  {
   "cell_type": "code",
   "execution_count": 27,
   "metadata": {
    "id": "tkAsDGFPvSwK"
   },
   "outputs": [],
   "source": [
    "# Score the validation dataset.\n",
    "\n",
    "# Obtain the predicted churn probabilities, Y_hat.\n",
    "validation_y_preds_v2 = gbm_model_v2.predict_proba(validation_gbm_x)[:, 1] \n",
    "\n",
    "# Obtain the predicted churn outcomes, G(X).\n",
    "validation_y_class_v2 = gbm_model_v2.predict(validation_gbm_x)"
   ]
  },
  {
   "cell_type": "code",
   "execution_count": 28,
   "metadata": {
    "colab": {
     "base_uri": "https://localhost:8080/"
    },
    "id": "8SJaOTogF0xQ",
    "outputId": "6b6dd238-a8c3-47ae-e80d-7b9f28b989b0"
   },
   "outputs": [
    {
     "data": {
      "text/plain": [
       "{'new': 0.8637197159565579, 'old': 0.8629949874686718}"
      ]
     },
     "execution_count": 28,
     "metadata": {},
     "output_type": "execute_result"
    }
   ],
   "source": [
    "# Compare the AUC on validation data under model 1 ('old') and model 2 ('new').\n",
    "{'new':roc_auc_score(validation_gbm_y.values.ravel(), validation_y_preds_v2),\n",
    " 'old':roc_auc_score(validation_gbm_y.values.ravel(), validation_y_preds)}"
   ]
  },
  {
   "cell_type": "code",
   "execution_count": 29,
   "metadata": {
    "colab": {
     "base_uri": "https://localhost:8080/",
     "height": 311
    },
    "id": "jn4ODx_6F_yS",
    "outputId": "646ca2b8-1814-443d-98c1-8419f959b768"
   },
   "outputs": [
    {
     "data": {
      "image/png": "[encoded data removed]",
      "text/plain": [
       "<Figure size 432x288 with 2 Axes>"
      ]
     },
     "metadata": {},
     "output_type": "display_data"
    }
   ],
   "source": [
    "# Plot the confusion matrix at 50% threshold for model 2 - validation data\n",
    "conf_mat_gbm2_validation = confusion_matrix(validation_gbm_y, validation_y_class_v2)\n",
    "plot_confusion_matrix(conf_mat_gbm2_validation, [0, 1])"
   ]
  },
  {
   "cell_type": "code",
   "execution_count": 30,
   "metadata": {
    "colab": {
     "base_uri": "https://localhost:8080/",
     "height": 311
    },
    "id": "ImzHbEnGU-Ln",
    "outputId": "41746e2f-7d87-41c1-a824-6c5ad3dbbf50"
   },
   "outputs": [
    {
     "data": {
      "image/png": "[encoded data removed]",
      "text/plain": [
       "<Figure size 432x288 with 2 Axes>"
      ]
     },
     "metadata": {},
     "output_type": "display_data"
    }
   ],
   "source": [
    "# Plot the confusion matrix at 50% threshold for model 1 - validation data\n",
    "plot_confusion_matrix(conf_mat_gbm1_validation, [0, 1])"
   ]
  },
  {
   "cell_type": "code",
   "execution_count": 31,
   "metadata": {
    "colab": {
     "base_uri": "https://localhost:8080/"
    },
    "id": "EVkfuEQ2GItU",
    "outputId": "7347e180-a618-498e-8a96-08ccbdf3bad4"
   },
   "outputs": [
    {
     "data": {
      "text/plain": [
       "{'new': 0.6216216216216216, 'old': 0.6182495344506518}"
      ]
     },
     "execution_count": 31,
     "metadata": {},
     "output_type": "execute_result"
    }
   ],
   "source": [
    "# Compare the F1 score for the two models.\n",
    "{'new':f1_score(validation_gbm_y, validation_y_class_v2),\n",
    " 'old':f1_score(validation_gbm_y, validation_y_class)}"
   ]
  },
  {
   "cell_type": "markdown",
   "metadata": {
    "id": "DFAKxwzbVJLK"
   },
   "source": [
    "The AUC and F1 scores shown above indicate that the changes made to create GBM 2 have had some small (relatively immaterial) improvements on the GBM's performance."
   ]
  },
  {
   "cell_type": "markdown",
   "metadata": {
    "id": "sKzjRgI9vUE6"
   },
   "source": [
    "#### Select final model (GBM final)\n"
   ]
  },
  {
   "cell_type": "code",
   "execution_count": 32,
   "metadata": {
    "id": "CvjDIWiFve24"
   },
   "outputs": [],
   "source": [
    "# Select the final model and call it `gbm_model_final`.\n",
    "gbm_model_final = gbm_model_v2"
   ]
  },
  {
   "cell_type": "code",
   "execution_count": 33,
   "metadata": {
    "id": "9sM1t8K1a4xi"
   },
   "outputs": [],
   "source": [
    "# Obtain the predicted churn probabilities, Y_hat, for the validation data.\n",
    "validation_gbm_preds_final = gbm_model_final.predict_proba(validation_gbm_x)[:, 1] \n",
    "\n",
    "# Obtain the predicted churn outcomes, G(X) for the validation data.\n",
    "validation_gbm_class_final = gbm_model_final.predict(validation_gbm_x)"
   ]
  },
  {
   "cell_type": "code",
   "execution_count": null,
   "metadata": {},
   "outputs": [],
   "source": []
  },
  {
   "cell_type": "markdown",
   "metadata": {
    "id": "OUW3-lptvrb4"
   },
   "source": [
    "### Simple neural networks built from first principles\n",
    "In this section a neural network is built from first principles.\n",
    "While you will not generally need to build a network from first principles, by reviewing the code below, along with Sections 5.5.2, 5.5.3, and 5.5.4 of Module 5, you should obtain a good understanding of what is going on 'under the hood' of a neural network.\n",
    "\n",
    "To simplify the calculations below:\n",
    "- the simple neural networks will be limited to at most 1 hidden layer (the first neural network has no hidden layers);\n",
    "- a sigmoid activation function is used;\n",
    "- mean-squared error (MSE) is used as the loss function; and\n",
    "- the loss function is optimised using backpropagation.\n"
   ]
  },
  {
   "cell_type": "markdown",
   "metadata": {
    "id": "4GlJLUYQR_ri"
   },
   "source": [
    "#### Prepare data"
   ]
  },
  {
   "cell_type": "markdown",
   "metadata": {
    "id": "SRSSehSlSGcD"
   },
   "source": [
    "Categorical features must be encoded as numeric.\n",
    "\n",
    "The categorical feature with $k$ levels is encoded as follows:\n",
    "- $k - 1$ binary features are created;\n",
    "- the $j^{th}$ feature takes the value $1$ if the categorical feature takes the $j^{th}$ level;\n",
    "- otherwise the $j^{th}$ feature takes the value 0."
   ]
  },
  {
   "cell_type": "code",
   "execution_count": 34,
   "metadata": {
    "id": "LB7vzpXFCega"
   },
   "outputs": [],
   "source": [
    "# Use the get_dummies() function from the pandas package to produce the encoding.\n",
    "# The drop_first = True argument tells pandas to drop the binary indicator for \n",
    "# the first level, so the function returns k-1 rather than k features.\n",
    "dataset_nn = pd.get_dummies(dataset, columns=cat_cols, drop_first=True)"
   ]
  },
  {
   "cell_type": "code",
   "execution_count": 35,
   "metadata": {},
   "outputs": [
    {
     "name": "stdout",
     "output_type": "stream",
     "text": [
      "Index(['customerID', 'tenure', 'MonthlyCharges', 'TotalCharges', 'Churn',\n",
      "       'gender_Male', 'SeniorCitizen_1.0', 'Partner_Yes', 'Dependents_Yes',\n",
      "       'PhoneService_Yes', 'MultipleLines_No phone service',\n",
      "       'MultipleLines_Yes', 'InternetService_Fiber optic',\n",
      "       'InternetService_No', 'OnlineSecurity_No internet service',\n",
      "       'OnlineSecurity_Yes', 'OnlineBackup_No internet service',\n",
      "       'OnlineBackup_Yes', 'DeviceProtection_No internet service',\n",
      "       'DeviceProtection_Yes', 'TechSupport_No internet service',\n",
      "       'TechSupport_Yes', 'StreamingTV_No internet service', 'StreamingTV_Yes',\n",
      "       'StreamingMovies_No internet service', 'StreamingMovies_Yes',\n",
      "       'Contract_One year', 'Contract_Two year', 'PaperlessBilling_Yes',\n",
      "       'PaymentMethod_Credit card (automatic)',\n",
      "       'PaymentMethod_Electronic check', 'PaymentMethod_Mailed check'],\n",
      "      dtype='object')\n",
      "#############\n",
      "Index(['customerID', 'tenure', 'MonthlyCharges', 'TotalCharges', 'Churn',\n",
      "       'gender_Female', 'gender_Male', 'gender_nan', 'SeniorCitizen_0.0',\n",
      "       'SeniorCitizen_1.0', 'SeniorCitizen_nan', 'Partner_No', 'Partner_Yes',\n",
      "       'Partner_nan', 'Dependents_No', 'Dependents_Yes', 'Dependents_nan',\n",
      "       'PhoneService_No', 'PhoneService_Yes', 'PhoneService_nan',\n",
      "       'MultipleLines_No', 'MultipleLines_No phone service',\n",
      "       'MultipleLines_Yes', 'MultipleLines_nan', 'InternetService_DSL',\n",
      "       'InternetService_Fiber optic', 'InternetService_No',\n",
      "       'InternetService_nan', 'OnlineSecurity_No',\n",
      "       'OnlineSecurity_No internet service', 'OnlineSecurity_Yes',\n",
      "       'OnlineSecurity_nan', 'OnlineBackup_No',\n",
      "       'OnlineBackup_No internet service', 'OnlineBackup_Yes',\n",
      "       'OnlineBackup_nan', 'DeviceProtection_No',\n",
      "       'DeviceProtection_No internet service', 'DeviceProtection_Yes',\n",
      "       'DeviceProtection_nan', 'TechSupport_No',\n",
      "       'TechSupport_No internet service', 'TechSupport_Yes', 'TechSupport_nan',\n",
      "       'StreamingTV_No', 'StreamingTV_No internet service', 'StreamingTV_Yes',\n",
      "       'StreamingTV_nan', 'StreamingMovies_No',\n",
      "       'StreamingMovies_No internet service', 'StreamingMovies_Yes',\n",
      "       'StreamingMovies_nan', 'Contract_Month-to-month', 'Contract_One year',\n",
      "       'Contract_Two year', 'Contract_nan', 'PaperlessBilling_No',\n",
      "       'PaperlessBilling_Yes', 'PaperlessBilling_nan',\n",
      "       'PaymentMethod_Bank transfer (automatic)',\n",
      "       'PaymentMethod_Credit card (automatic)',\n",
      "       'PaymentMethod_Electronic check', 'PaymentMethod_Mailed check',\n",
      "       'PaymentMethod_nan'],\n",
      "      dtype='object')\n"
     ]
    }
   ],
   "source": [
    "print(dataset_nn.columns)\n",
    "print('#############')\n",
    "print(dataset_gbm.columns)\n"
   ]
  },
  {
   "cell_type": "code",
   "execution_count": 36,
   "metadata": {
    "id": "BF5rKmULSmwH"
   },
   "outputs": [],
   "source": [
    "# Split the data into train, validation, and test datasets.\n",
    "train_nn_x, train_nn_y, \\\n",
    "validation_nn_x, validation_nn_y, \\\n",
    "test_nn_x, test_nn_y \\\n",
    "= create_data_splits(dataset_nn, id_col, response_col)"
   ]
  },
  {
   "cell_type": "markdown",
   "metadata": {
    "id": "bZ6T4480S87S"
   },
   "source": [
    "When fitting neural networks it is common to scale the features to a 0-1 range. You can also scale to have standard deviation 1. In this case, only the range is scaled for simplicity.\n",
    "\n",
    "The response vector also needs to be converted to a numpy array for training the neural network."
   ]
  },
  {
   "cell_type": "code",
   "execution_count": 37,
   "metadata": {
    "id": "x_HFt3DwS7NG"
   },
   "outputs": [],
   "source": [
    "# Scale features to lie in [0, 1].\n",
    "scaler = MinMaxScaler()\n",
    "scaler.fit(train_nn_x)\n",
    "input = scaler.transform(train_nn_x)\n",
    "\n",
    "# Convert the response vector to a Numpy array.\n",
    "response = train_nn_y.to_numpy()\n",
    "\n",
    "# Prepare the validation and test datasets also.\n",
    "response_validation = validation_nn_y.to_numpy()\n",
    "input_validation = scaler.transform(validation_nn_x)\n",
    "response_test = test_nn_y.to_numpy()\n",
    "input_test = scaler.transform(test_nn_x)"
   ]
  },
  {
   "cell_type": "code",
   "execution_count": null,
   "metadata": {},
   "outputs": [],
   "source": []
  },
  {
   "cell_type": "markdown",
   "metadata": {
    "id": "IMFzSe_tv8ue"
   },
   "source": [
    "#### Fit a single layer neural network (NN 1)\n",
    "\n",
    "In its simplest form, a neural network can be reduced to a basic regression model (see Exercise 5.16 in Module 5). In the example below, a logistic regression model is constructed within the framework of a single cell neural network.\n",
    "\n",
    "In this network, the single neuron performs the following operations on the $i^{th}$ training observation (i.e. the $i^{th}$ row of data):\n",
    "- multiplies the input vector, $X_{i.}$, by the weights for the neuron, $a^{T}$ and adds a bias term $a_0$;\n",
    "$$f(X_{i.}) = a_0+a^{T}X_{i.}\\tag{1}$$\n",
    "\n",
    "- the output of this linear function is then transformed using a non-linear activation function (in this case the sigmoid function);\n",
    "$$\\hat{y}_{i,1} = sigmoid(f(X_{i.})) = sigmoid(a_0+a^{T}X_{i.})\\tag{2}$$ \n",
    "\n",
    "As outlined in Section 5.5.2 of Module 5, there are a range of activation functions that can be used, and different problems require different functions.\n",
    "\n",
    "The output of this first and final neuron is then fed into a loss function. Loss functions are discussed in Section 5.2 of Module 5. For simplicity, the mean-squared error is used here, so that the formula for the loss function is:\n",
    "\n",
    "$$J = \\frac{1}{n}\\sum_{i=1}^{n}(y_{i}-\\hat{y}_{i,1})^{2}\\tag{3}$$\n",
    "\n",
    "Backpropagation via gradient descent is then used to minimise this loss function. As described in Section 5.5.4, gradient descent computes the gradients of the loss function with respect to the parameters $a^{T}$ and $a_{0}$. It uses these gradients to iteratively update the model's parameters,  taking small steps towards minimising the loss function.\n",
    "\n",
    "A single step of gradient descent involves the following computations:\n",
    "1. Compute the gradients of J with respect to the weights $a_j,  j=0,...,p$, denoted by $\\partial a_j$.\n",
    "2. Update the parameters $a_j, j=0,...,p$ as follows:\n",
    "$$a_j=a_j-\\alpha \\partial a_j$$\n",
    "3. Using the updated parameters, perform another iteration of forward propagation over the entire set of training data to compute the new loss and gradients.\n",
    "4. Continue iterating for a set number of updates over the entire training dataset, known as epochs.\n",
    "\n",
    "The diagram below shows the way in which each gradient descent step moves closer to a global minimum for the loss of the model. Note that in the diagram, $w$ refers to $a_j$ and 'cost' refers to 'loss'. \n",
    "\n",
    "![b.png](data:image/png;base64,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)\n",
    "\n",
    "\n",
    "<figcaption>Image source: https://medium.com/analytics-vidhya/artificial-neural-networks-part-3-loss-and-cost-functions-and-gradient-descent-76e650bc5162</figcaption>\n",
    "\n",
    "\n",
    "\n",
    "The parameter $\\alpha$ above is the learning rate as described in Section 5.4.2.  In practice, this parameter is very important and will require some experimentation so that the learning rate: \n",
    "- is not too small such that the algorithm will take too long to converge to an optimal set of weights; and \n",
    "- is not too large such that convergence may not occur at all as the algorithm continually overshoots the minimum point on the loss function."
   ]
  },
  {
   "cell_type": "code",
   "execution_count": 104,
   "metadata": {
    "id": "E8NSlbZVBbkK"
   },
   "outputs": [],
   "source": [
    "# Define the sigmoid function (to be used as the activation function).\n",
    "def sigmoid(x):\n",
    "  '''\n",
    "  Sigmoid activation function\n",
    "  Params:\n",
    "    x: a float or integer value\n",
    "  Return:\n",
    "    The value of the sigmoid function evaluated at x (float)\n",
    "  '''\n",
    "  return 1.0/(1.0+np.exp(-x))"
   ]
  },
  {
   "cell_type": "markdown",
   "metadata": {
    "id": "zU_RndmAIZmF"
   },
   "source": [
    "The function below defines the first derivative of the sigmoid function which will be used in backpropagation when fitting the neural network. The first derivative of the sigmoid function is given by:\n",
    "\n",
    "$$\n",
    "\\begin{align} \\cr\n",
    "\\frac{d}{dx} \\left(\\frac{1}{1 + \\exp(-x)}\\right) &= \\frac{\\exp(-x)}{(1 + \\exp(-x))^2} \\cr \\cr\n",
    " &= sigmoid(x) \\times (1 - sigmoid(x))\n",
    " \\end{align}\n",
    "$$"
   ]
  },
  {
   "cell_type": "markdown",
   "metadata": {
    "id": "-Y0TrF6L2tsr"
   },
   "source": [
    "The cells below define some functions that will be used to train the model and make predictions."
   ]
  },
  {
   "cell_type": "code",
   "execution_count": 123,
   "metadata": {
    "id": "1cSrizZ0QtyZ"
   },
   "outputs": [],
   "source": [
    "# Define the first derivative of the sigmoid function.\n",
    "def dsigmoid(x):\n",
    "  '''\n",
    "  Derivative of the sigmoid function evaluated at x\n",
    "  Params:\n",
    "    x: value the function will be evaluated at\n",
    "  Return:\n",
    "    The value of the function evaluated at x (float)\n",
    "  '''\n",
    "  \n",
    "  return sigmoid(x)*(1.0 - sigmoid(x))"
   ]
  },
  {
   "cell_type": "code",
   "execution_count": 124,
   "metadata": {
    "id": "ph0aJt2fRGb4"
   },
   "outputs": [],
   "source": [
    "# Define the mean-squared error loss function.\n",
    "def mse_loss(response, pred):\n",
    "  ''' \n",
    "  Mean-squared error loss function\n",
    "  Params:\n",
    "    response: the vector of responses, Y\n",
    "    pred: the vector of predicted values, Y_hat\n",
    "  Return:\n",
    "    The MSE value (float)\n",
    "  '''\n",
    "  \n",
    "  return ((response - pred)**2).sum()/response.shape[0]"
   ]
  },
  {
   "cell_type": "code",
   "execution_count": 146,
   "metadata": {
    "id": "3ntBDGnUCc1j"
   },
   "outputs": [],
   "source": [
    "# Define a function to provide random starting values for the weights and bias term.\n",
    "def init_params(n_p, n_h = 1, range = 0.1, start = -0.05):\n",
    "  '''\n",
    "  Randomly initializes weights and initialises biases to 0\n",
    "  Params:\n",
    "    n_p: number of features (size of input array)\n",
    "    n_h: number of neurons in layer, defaults to 1\n",
    "    range: range of random initalisation, defaults to 0.1\n",
    "    start: lowest value of random initialisation, defaults to -0.05\n",
    "  Returns:\n",
    "    a0: bias vector\n",
    "    aT: random weights vector\n",
    "  '''\n",
    "  a0 = np.zeros((1, n_h))\n",
    "  aT = np.random.rand(n_p, n_h) * range + start\n",
    "  return a0, aT\n",
    "\n",
    "\n",
    "# Set the random seed for reproducibility.\n",
    "np.random.seed(1235)\n",
    "\n",
    "# Initialise the network weights.\n",
    "# Note that the bias is initialised to zero and weights to a random value\n",
    "# uniformly in the range [-0.05, 0.05].\n",
    "# This range is set to match the default for keras (which will be tested later).\n",
    "bias, weights = init_params(n_p = train_nn_x.shape[1],\n",
    "                            n_h = 1,\n",
    "                            range = 0.1,\n",
    "                            start = -0.05)\n"
   ]
  },
  {
   "cell_type": "code",
   "execution_count": null,
   "metadata": {
    "scrolled": true
   },
   "outputs": [],
   "source": []
  },
  {
   "cell_type": "code",
   "execution_count": 147,
   "metadata": {
    "id": "8vYSLRBycaMT"
   },
   "outputs": [],
   "source": [
    "# Define a function to perform the forward pass over the data. This will be used\n",
    "# for training the model. Once the weights have been selected, it will also\n",
    "# serve as the prediction function.\n",
    "# The function is fairly simple. The input is a vector with dimension equal to\n",
    "# the number of features in the dataset (20). There is a single output neuron\n",
    "# and no hidden layers.\n",
    "def fwd_pass1(input, bias, weights, keep_intermediate = False):\n",
    "  '''\n",
    "  Performs the forward pass calculations for a single neuron network\n",
    "  Params:\n",
    "    input: input data frame\n",
    "    bias: bias parameter\n",
    "    weights: weights vector\n",
    "    keep_intermediate: (logical) keep the intermediate results?\n",
    "                       If True, returns the linear score in addition to the \n",
    "                       output value y_hat after the activation function has\n",
    "                       been applied.\n",
    "  '''\n",
    "\n",
    "  # Calculate the value for the neuron on the linear scale,\n",
    "  # using the sum-product of the inputs and weights, plus the bias term\n",
    "  f = np.dot(input, weights) + bias\n",
    "\n",
    "  # Apply the activation function\n",
    "  y_hat = sigmoid(f)    # final output\n",
    "\n",
    "  if keep_intermediate:\n",
    "    return f, y_hat\n",
    "  else:\n",
    "    return y_hat"
   ]
  },
  {
   "cell_type": "markdown",
   "metadata": {
    "id": "WT4oIAtP3CuV"
   },
   "source": [
    "The learning rate and number of training iterations are then defined below."
   ]
  },
  {
   "cell_type": "code",
   "execution_count": 143,
   "metadata": {
    "id": "8zhiLedzDQ9V"
   },
   "outputs": [],
   "source": [
    "# Initialise the hyperparameters.\n",
    "\n",
    "# Set the learning rate - must be in (0, 1].\n",
    "learn_rate = 0.2\n",
    "\n",
    "# Set the number of training iterations.\n",
    "n_rounds = 500"
   ]
  },
  {
   "cell_type": "code",
   "execution_count": null,
   "metadata": {},
   "outputs": [],
   "source": []
  },
  {
   "cell_type": "markdown",
   "metadata": {},
   "source": [
    "# Testing each step of fwd pass"
   ]
  },
  {
   "cell_type": "code",
   "execution_count": 144,
   "metadata": {},
   "outputs": [],
   "source": [
    "\n",
    "# Perform a forward propagation.\n",
    "f, y_hat = fwd_pass1(input, bias, weights, True)\n",
    "\n",
    "\n",
    "# Perform the back-propagation step.\n",
    "# This involves calculating the partial derivative of the loss function\n",
    "# with respect to the weights.\n",
    "\n",
    "# Calculate the partial derivative of the loss function (J)\n",
    "# with respect to the output (y_hat_i)\n",
    "# J = (y_i - y_hat_i)^2 -> dJ/dy_hat_i = -2(y_i - y_hat_i) = 2(y_hat_i-y_i)\n",
    "# In the calculation below, the factor of 2 is dropped as this does not\n",
    "# impact the minimum value of the loss function.\n",
    "dJ_dyhat = (y_hat-response)\n",
    "\n",
    "# Calculate the partial derivate of the output (y_hat_i)\n",
    "# with respect to the linear values of the neuron (f(X_i)).\n",
    "# The output is simply the activation function applied to the linear values\n",
    "# so the derivative is just the derivative of the activation function.\n",
    "dyhat_df = dsigmoid(f)\n",
    "\n",
    "# The partial derivative of the linear values of the neuron (f(X_i))\n",
    "# with respect to the weights is just the inputs (X_i)\n",
    "# because linear values (f(X_i))= a1*x1 + a2*x2 + ... \n",
    "\n",
    "# Calculate the gradient of the loss function, excluding the input values\n",
    "# because these are constants.\n",
    "# This is a useful intermediate calculation step to capture.\n",
    "delta = dJ_dyhat*dyhat_df\n",
    "\n",
    "# Update the weights.\n",
    "weights_old = weights.copy\n",
    "weights -= learn_rate * np.dot(input.T, delta) / input.shape[0]\n",
    "\n",
    "# Update the bias.\n",
    "bias -= learn_rate * np.sum(delta, axis = 0) / input.shape[0]\n"
   ]
  },
  {
   "cell_type": "code",
   "execution_count": 70,
   "metadata": {},
   "outputs": [],
   "source": [
    "with pd.ExcelWriter('/home/analytics-user/personal/daa_2021s2/Exercises/05 Classification/CS1_testing/input.xlsx', engine=\"openpyxl\") as writer:  \n",
    "    pd.DataFrame(input).to_excel(writer, sheet_name = 'input')\n",
    "    pd.DataFrame(weights).to_excel(writer, sheet_name = 'weights')\n",
    "    pd.DataFrame(bias).to_excel(writer, sheet_name = 'bias')\n",
    "    pd.DataFrame(response).to_excel(writer, sheet_name = 'response')\n",
    "    "
   ]
  },
  {
   "cell_type": "code",
   "execution_count": null,
   "metadata": {
    "scrolled": true
   },
   "outputs": [],
   "source": []
  },
  {
   "cell_type": "code",
   "execution_count": null,
   "metadata": {},
   "outputs": [],
   "source": []
  },
  {
   "cell_type": "code",
   "execution_count": null,
   "metadata": {},
   "outputs": [],
   "source": []
  },
  {
   "cell_type": "code",
   "execution_count": null,
   "metadata": {},
   "outputs": [],
   "source": []
  },
  {
   "cell_type": "markdown",
   "metadata": {
    "id": "I87pIl673HNU"
   },
   "source": [
    "The model can now be trained using the functions and hyperparameters specified above."
   ]
  },
  {
   "cell_type": "code",
   "execution_count": 148,
   "metadata": {
    "colab": {
     "base_uri": "https://localhost:8080/"
    },
    "id": "-lxN3y4DRDhu",
    "outputId": "92358876-0572-4e9d-f9fe-e25e29d6fda9",
    "scrolled": false
   },
   "outputs": [
    {
     "name": "stdout",
     "output_type": "stream",
     "text": [
      "iter 0 MSE: 0.26741121720940514\n",
      "iter 25 MSE: 0.18029270243577822\n",
      "iter 50 MSE: 0.1696831405366447\n",
      "iter 75 MSE: 0.16403782423044827\n",
      "iter 100 MSE: 0.1599565585146465\n",
      "iter 125 MSE: 0.1568401855259409\n",
      "iter 150 MSE: 0.15440355792500482\n",
      "iter 175 MSE: 0.1524614972226988\n",
      "iter 200 MSE: 0.15088669420493112\n",
      "iter 225 MSE: 0.14958965454344844\n",
      "iter 250 MSE: 0.1485062561454945\n",
      "iter 275 MSE: 0.14758972571130047\n",
      "iter 300 MSE: 0.14680537460955367\n",
      "iter 325 MSE: 0.1461270815621342\n",
      "iter 350 MSE: 0.14553489919813328\n",
      "iter 375 MSE: 0.14501339702216795\n",
      "iter 400 MSE: 0.14455049565328304\n",
      "iter 425 MSE: 0.14413663436491866\n",
      "iter 450 MSE: 0.14376416832771038\n",
      "iter 475 MSE: 0.1434269264907595\n"
     ]
    }
   ],
   "source": [
    "# Train the model by implementing the gradient descent algorithm over n_rounds\n",
    "# of iterations.\n",
    "for _ in range(n_rounds):\n",
    "\n",
    "  # Perform a forward propagation.\n",
    "  f, y_hat = fwd_pass1(input, bias, weights, True)\n",
    "\n",
    "\n",
    "  # Perform the back-propagation step.\n",
    "  # This involves calculating the partial derivative of the loss function\n",
    "  # with respect to the weights.\n",
    "\n",
    "  # Calculate the partial derivative of the loss function (J)\n",
    "  # with respect to the output (y_hat_i)\n",
    "  # J = (y_i - y_hat_i)^2 -> dJ/dy_hat_i = -2(y_i - y_hat_i) = 2(y_hat_i-y_i)\n",
    "  # In the calculation below, the factor of 2 is dropped as this does not\n",
    "  # impact the minimum value of the loss function.\n",
    "  dJ_dyhat = (y_hat-response)\n",
    "\n",
    "  # Calculate the partial derivate of the output (y_hat_i)\n",
    "  # with respect to the linear values of the neuron (f(X_i)).\n",
    "  # The output is simply the activation function applied to the linear values\n",
    "  # so the derivative is just the derivative of the activation function.\n",
    "  dyhat_df = dsigmoid(f)\n",
    "\n",
    "  # The partial derivative of the linear values of the neuron (f(X_i))\n",
    "  # with respect to the weights is just the inputs (X_i)\n",
    "  # because linear values (f(X_i))= a1*x1 + a2*x2 + ... \n",
    "\n",
    "  # Calculate the gradient of the loss function, excluding the input values\n",
    "  # because these are constants.\n",
    "  # This is a useful intermediate calculation step to capture.\n",
    "  delta = dJ_dyhat*dyhat_df\n",
    "\n",
    "  # Update the weights.\n",
    "  weights_old = weights\n",
    "  weights -= learn_rate * np.dot(input.T, delta) / input.shape[0]\n",
    "\n",
    "  # Update the bias.\n",
    "  bias -= learn_rate * np.sum(delta, axis = 0) / input.shape[0]\n",
    "\n",
    "  # Print the loss calculated after every 25th iteration.\n",
    "  if np.mod(_, 25) == 0:\n",
    "    print(f'iter {_} MSE: {mse_loss(response, y_hat)}')"
   ]
  },
  {
   "cell_type": "code",
   "execution_count": null,
   "metadata": {},
   "outputs": [],
   "source": [
    "input.shape[0]"
   ]
  },
  {
   "cell_type": "markdown",
   "metadata": {
    "id": "AK-v3wZvX8Zd"
   },
   "source": [
    "#### Evaluate NN 1\n",
    "\n",
    "The cells below assess the module using the AUC measure and by plotting the confusion matrix.\n",
    "They also compare the single layer neural network to the final GBM model."
   ]
  },
  {
   "cell_type": "code",
   "execution_count": 149,
   "metadata": {
    "id": "P0d46u1o8p0V"
   },
   "outputs": [],
   "source": [
    "# Now create predictions with the weights from the training step above,\n",
    "# using the fwd_pass1 function. \n",
    "pred_nn1_train = fwd_pass1(input, bias, weights, False)\n",
    "pred_nn1_validation = fwd_pass1(input_validation, bias, weights, False)"
   ]
  },
  {
   "cell_type": "code",
   "execution_count": 151,
   "metadata": {
    "colab": {
     "base_uri": "https://localhost:8080/"
    },
    "id": "Om76QHxLdL6L",
    "outputId": "f39e28ee-372d-498e-8875-9e0e3ed47d5a"
   },
   "outputs": [
    {
     "data": {
      "text/plain": [
       "{'train': 0.8269060319466321, 'validation': 0.843517126148705}"
      ]
     },
     "execution_count": 151,
     "metadata": {},
     "output_type": "execute_result"
    }
   ],
   "source": [
    "# Print the training and validation AUC.\n",
    "{'train':roc_auc_score(response, pred_nn1_train),\n",
    " 'validation':roc_auc_score(response_validation, pred_nn1_validation)}"
   ]
  },
  {
   "cell_type": "code",
   "execution_count": 152,
   "metadata": {
    "colab": {
     "base_uri": "https://localhost:8080/",
     "height": 311
    },
    "id": "CGoyDBHRZvn6",
    "outputId": "650ee870-876b-4067-a4d7-1c74821f6d52"
   },
   "outputs": [
    {
     "data": {
      "image/png": "[encoded data removed]",
      "text/plain": [
       "<Figure size 432x288 with 2 Axes>"
      ]
     },
     "metadata": {},
     "output_type": "display_data"
    }
   ],
   "source": [
    "# Plot the confusion matrix, with predictions converted to \n",
    "# binary classes using a 50% threshold.\n",
    "pred_nn1_validation_class = np.where(pred_nn1_validation > 0.5, 1, 0)\n",
    "\n",
    "conf_mat_nn1_validation = confusion_matrix_new = confusion_matrix(\n",
    "    response_validation, pred_nn1_validation_class)\n",
    "plot_confusion_matrix(conf_mat_nn1_validation, [0, 1])"
   ]
  },
  {
   "cell_type": "markdown",
   "metadata": {
    "id": "mBgMFxVWbPr1"
   },
   "source": [
    "The output from the single layer neural network can now be compared to the output from the final GBM."
   ]
  },
  {
   "cell_type": "code",
   "execution_count": 153,
   "metadata": {
    "colab": {
     "base_uri": "https://localhost:8080/"
    },
    "id": "IA4fBcnebSvf",
    "outputId": "825a4aca-e8b2-4c5c-b69e-8e2c77649815"
   },
   "outputs": [
    {
     "data": {
      "text/plain": [
       "{'GBM final': 0.8637197159565579, 'NN 1': 0.843517126148705}"
      ]
     },
     "execution_count": 153,
     "metadata": {},
     "output_type": "execute_result"
    }
   ],
   "source": [
    "{'GBM final':roc_auc_score(response_validation, validation_gbm_preds_final),\n",
    " 'NN 1': roc_auc_score(response_validation, pred_nn1_validation)}"
   ]
  },
  {
   "cell_type": "code",
   "execution_count": 154,
   "metadata": {
    "colab": {
     "base_uri": "https://localhost:8080/",
     "height": 311
    },
    "id": "ixqk5t58alp2",
    "outputId": "4f9b77ce-8d32-4306-d0be-99565e5016c6"
   },
   "outputs": [
    {
     "data": {
      "image/png": "[encoded data removed]",
      "text/plain": [
       "<Figure size 432x288 with 2 Axes>"
      ]
     },
     "metadata": {},
     "output_type": "display_data"
    }
   ],
   "source": [
    "conf_mat_gbm_validation = confusion_matrix(validation_gbm_y, validation_gbm_class_final)\n",
    "plot_confusion_matrix(conf_mat_gbm_validation, [0, 1])"
   ]
  },
  {
   "cell_type": "markdown",
   "metadata": {
    "id": "SQc1-6KMbHxi"
   },
   "source": [
    "The AUC is slighly higher (better) under the final GBM than under the single layer neural network. However, the very simple neural network isn't far behind the more complicated GBM and has an AUC above 0.84, so this still seems to be a reasonable model for predicting churn."
   ]
  },
  {
   "cell_type": "markdown",
   "metadata": {
    "id": "0AuIKIZXSXpv"
   },
   "source": [
    "#### Fit a multi-layer neural network (NN 2)\n",
    "\n",
    "The single layer neural network (NN 1) can now be extended to a more complex model in an attempt to improve the predictive capability of the neural network.\n",
    "\n",
    "This second neural network (NN 2) will have one hidden layer with four neurons. Again, the sigmoid activation function will be used in the hidden and output layers and mean-squared error will be used as the loss function.\n",
    "\n",
    "For the time-being, this will still be built and trained from first principles. Again, while it will rarely be necessary for you to build a neural network from first principles, you should review the code below to get a better sense of what is going on within a neural network with a hidden layer.\n",
    "\n",
    "To train this network, the following two steps will again be performed:\n",
    "1. a forward propagation step to pass the data through the network from start to finish; and\n",
    "2. a backpropagation step to pass the error back through the network, from the end output (where the error is first observed) to the start of the network (i.e. the input layer).\n",
    "\n",
    "The neurons in the network's hidden layer perform identical operations to those performed by the single neuron in the first neural network. For example, the first neuron in the hidden layer does the following:\n",
    "$$f(X_{i.}) = a_{01} + a_{1}^{T}X_{i.} $$\n",
    "$$Z_{1,1} = \\sigma (f(X_{i.})) = \\sigma (a_{01} + a_{1}^{T}X_{i.})$$"
   ]
  },
  {
   "cell_type": "markdown",
   "metadata": {
    "id": "dBDo8lIBYD8n"
   },
   "source": [
    "The sigmoid, dsigmoid, mse_loss and init_params functions that were defined for the purpose of fitting NN 1 can also be used for NN 2.\n",
    "\n",
    "The following function defines how the forward propagation step should proceed for NN2 that has one hidden layer with four neurons."
   ]
  },
  {
   "cell_type": "code",
   "execution_count": 155,
   "metadata": {
    "id": "TZ5T-VHUZJ6h"
   },
   "outputs": [],
   "source": [
    "def fwd_pass2(input, l1_bias, l1_weights, l2_bias, l2_weights, keep_intermediate = False):\n",
    "  '''\n",
    "  Performs the forward propagation calculations for a network with a single hidden layer.\n",
    "  Params:\n",
    "    input: input data\n",
    "    l1_bias: bias for layer 1 (the hidden layer)\n",
    "    l1_weights: weights for layer 1\n",
    "    l2_bias: bias for layer 2 (the output layer)\n",
    "    l2_weights: weights for layer 2\n",
    "    keep_intermediate: (logical) keep the intermediate results? \n",
    "                       If True, returns the linear scores and activations for\n",
    "                       the hidden and output layers.\n",
    "  '''\n",
    "\n",
    "  # Calculate the neurons in layer 1 (the hidden layer).\n",
    "  f1 = np.matmul(input, l1_weights) + l1_bias # linear score\n",
    "  z1 = sigmoid(f1)                            # activation\n",
    "\n",
    "  # Output layer\n",
    "  f2 = np.dot(z1, l2_weights) + l2_bias       # linear score \n",
    "  y_hat = sigmoid(f2)                         # activation: final output\n",
    "\n",
    "  if keep_intermediate:\n",
    "    return f1, z1, f2, y_hat\n",
    "  else:\n",
    "    return y_hat"
   ]
  },
  {
   "cell_type": "markdown",
   "metadata": {
    "id": "BUJ3ixfKT8RH"
   },
   "source": [
    "The learning rate and number of training iterations are then defined below."
   ]
  },
  {
   "cell_type": "code",
   "execution_count": 156,
   "metadata": {
    "id": "-a1gDhZrUE3R"
   },
   "outputs": [],
   "source": [
    "# Set the learning rate - must be in (0, 1].\n",
    "learn_rate = 0.2\n",
    "\n",
    "# Set the number of training iterations.\n",
    "n_rounds = 500\n",
    "\n",
    "# Specify the desired number of neurons in the hidden layer.\n",
    "hidden_neurons = 4\n",
    "\n",
    "# Set the random seed for reproducibility.\n",
    "np.random.seed(1235)\n",
    "\n",
    "# Initialise the weights for the hidden layer.\n",
    "l1_bias, l1_weights = init_params(n_p = input.shape[1], n_h = hidden_neurons, range = 0.1, start = -0.05)\n",
    "\n",
    "# Initialise the weights for the output layer.\n",
    "l2_bias, l2_weights = init_params(n_p = l1_weights.shape[1], n_h = 1, range = 0.1, start = -0.05)"
   ]
  },
  {
   "cell_type": "markdown",
   "metadata": {
    "id": "K4CIRGhtUMPX"
   },
   "source": [
    "The model can now be trained using the functions and hyperparameters specified above."
   ]
  },
  {
   "cell_type": "code",
   "execution_count": 157,
   "metadata": {
    "colab": {
     "base_uri": "https://localhost:8080/"
    },
    "id": "pU4dNLnCZqFI",
    "outputId": "94e8a1ad-9d6b-4a98-e649-8900357a41c9"
   },
   "outputs": [
    {
     "name": "stdout",
     "output_type": "stream",
     "text": [
      "iter 0 : 0.25111788026387144\n",
      "iter 25 : 0.2093972804733232\n",
      "iter 50 : 0.19784018400370332\n",
      "iter 75 : 0.1940933014463997\n",
      "iter 100 : 0.19264165832851637\n",
      "iter 125 : 0.1919595114821958\n",
      "iter 150 : 0.19155936449648378\n",
      "iter 175 : 0.19126779591143744\n",
      "iter 200 : 0.1910182893636425\n",
      "iter 225 : 0.19078387923783668\n",
      "iter 250 : 0.19055308972727425\n",
      "iter 275 : 0.1903207490806201\n",
      "iter 300 : 0.19008431904644693\n",
      "iter 325 : 0.1898423825267165\n",
      "iter 350 : 0.1895940078116685\n",
      "iter 375 : 0.18933847790515276\n",
      "iter 400 : 0.18907517448868272\n",
      "iter 425 : 0.18880352816153864\n",
      "iter 450 : 0.18852299737074454\n",
      "iter 475 : 0.18823305991529554\n"
     ]
    }
   ],
   "source": [
    "for _ in range(n_rounds):\n",
    "\n",
    "  '''\n",
    "  The model is trained by first performing a forward pass to get the predictions,\n",
    "  followed by a backward pass to 'propagate' the loss back through each of the\n",
    "  neurons.\n",
    "  This is repeated each iteration until the network has converged or \n",
    "  the maximum number of rounds has been reached.\n",
    "\n",
    "  The following notation is used in this function: \n",
    "    ln_weights: the weights matrix (one column per neuron) for layer n\n",
    "    ln_bias: vector of bias values (one per neuron) for layer n\n",
    "    fn: vector of linear scores (one per neuron) for layer n\n",
    "    zn: vector of activations (one per neuron) for layer n\n",
    "  '''\n",
    "\n",
    "  # Perform the forward pass.\n",
    "  f1, z1, f2, y_hat = fwd_pass2(input, l1_bias, l1_weights, l2_bias, l2_weights, True)\n",
    "\n",
    "  # Perform the backpropagation step.\n",
    "  # Perform the intermediate calculations for the loss function gradients.\n",
    "  delta2 = (y_hat - response) * dsigmoid(f2)        \n",
    "  delta1 = np.dot(delta2, l2_weights.T) * dsigmoid(f1)\n",
    "\n",
    "  dloss_dweight2 = np.dot(z1.T, delta2)/input.shape[0]\n",
    "    # Gradient with respect to the layer 2 weights.\n",
    "  dloss_dweight1 = np.matmul(input.T, delta1)/input.shape[0]\n",
    "    # Gradient with respect to the layer 1 weights.\n",
    "\n",
    "  # Update the weights.\n",
    "  l2_weights -= learn_rate * dloss_dweight2\n",
    "  l1_weights -= learn_rate * dloss_dweight1\n",
    "\n",
    "  # Update the bias terms.\n",
    "  l2_bias -= learn_rate * np.sum(delta2, axis = 0) / input.shape[0]\n",
    "  l1_bias -= learn_rate * np.sum(delta1, axis = 0) / input.shape[0]\n",
    "\n",
    "  # Print the loss after every 25th iteration.\n",
    "  if np.mod(_, 25) == 0:\n",
    "    print('iter', _, ':', mse_loss(response, y_hat))"
   ]
  },
  {
   "cell_type": "markdown",
   "metadata": {
    "id": "YKTK4jhoaU7b"
   },
   "source": [
    "#### Evaluate NN 2"
   ]
  },
  {
   "cell_type": "code",
   "execution_count": 158,
   "metadata": {
    "id": "t_wj4-ByaUdO"
   },
   "outputs": [],
   "source": [
    "pred_nn2_train = fwd_pass2(input, l1_bias, l1_weights, l2_bias, l2_weights, False)\n",
    "pred_nn2_validation = fwd_pass2(input_validation, l1_bias, l1_weights, l2_bias, l2_weights, False)"
   ]
  },
  {
   "cell_type": "code",
   "execution_count": 159,
   "metadata": {
    "colab": {
     "base_uri": "https://localhost:8080/"
    },
    "id": "dJPVXh0e2KDB",
    "outputId": "4977d95e-d3cd-45d2-a4b5-b171efd2126f"
   },
   "outputs": [
    {
     "data": {
      "text/plain": [
       "{'train': 0.8136483615544726, 'validation': 0.8304594820384293}"
      ]
     },
     "execution_count": 159,
     "metadata": {},
     "output_type": "execute_result"
    }
   ],
   "source": [
    "{'train':roc_auc_score(response, pred_nn2_train),\n",
    " 'validation':roc_auc_score(response_validation, pred_nn2_validation)}"
   ]
  },
  {
   "cell_type": "code",
   "execution_count": 160,
   "metadata": {
    "colab": {
     "base_uri": "https://localhost:8080/"
    },
    "id": "6WaOuwfLeO1A",
    "outputId": "82155ec5-d84f-4fa0-c374-67c93a0fa01a"
   },
   "outputs": [
    {
     "data": {
      "text/plain": [
       "{'1. NN 2': 0.8304594820384293,\n",
       " '2. NN 1': 0.843517126148705,\n",
       " '3. GBM final': 0.8637197159565579}"
      ]
     },
     "execution_count": 160,
     "metadata": {},
     "output_type": "execute_result"
    }
   ],
   "source": [
    "# Compare NN 2 to GBM final and NN 1\n",
    "{'1. NN 2':roc_auc_score(response_validation, pred_nn2_validation),\n",
    " '2. NN 1':roc_auc_score(response_validation, pred_nn1_validation),\n",
    " '3. GBM final': roc_auc_score(response_validation, validation_gbm_preds_final)}"
   ]
  },
  {
   "cell_type": "markdown",
   "metadata": {
    "id": "wrCE9BG4ftFf"
   },
   "source": [
    "The slightly more complex neural network with one hidden layer (NN 2) performed slightly worse on the validation data than the very simple one neuron neural network (NN 1). Both performaed slightly worse than the GBM but still had AUCs over 83%.\n"
   ]
  },
  {
   "cell_type": "markdown",
   "metadata": {
    "id": "HBAc28kUZrPi"
   },
   "source": [
    "### Neural networks using Keras\n",
    "\n",
    "This section demonstrates how to fit a neural network using Python's Keras package. Keras, which runs on top of the TensorFlow library, does all of the calculations shown above for the simple neural networks, taking a lot of the hard work out of building a neural network.\n",
    "\n",
    "The following steps are used to build the neural networks using Keras:\n",
    "\n",
    "- use `Sequential()` to specify a feedforward neural network;\n",
    "- use the `.add()` method to add layers to the network, combined with `Dense()` to specify a dense layer (where all the neurons are fully connected to the preceding layer)."
   ]
  },
  {
   "cell_type": "markdown",
   "metadata": {
    "id": "HxPg91IteIej"
   },
   "source": [
    "#### Fit a single layer neural network with Keras (NN 3)\n",
    "The following options are taken to align the first Keras model with NN 2:\n",
    "- SGD optimiser: this optimises using stochastic gradient descent with momentum. By setting `momentum = 0.0`, `batch_size` to the input data size, and `steps_per_epoch = 1` the basic backpropagation algorithm is recovered.\n",
    "- `bias_initializer = 'zeros'` and `kernel_initializer = 'random_uniform'`: this sets the initial bias values to 0 and the weights to random uniform (defaulted to a range of [-0.05, 0.05] as used in the simple neural networks above."
   ]
  },
  {
   "cell_type": "code",
   "execution_count": null,
   "metadata": {
    "colab": {
     "base_uri": "https://localhost:8080/"
    },
    "id": "rmHQC2BPXHs1",
    "outputId": "d4dc76ca-ca6f-46e9-8d84-809fe3f6b699"
   },
   "outputs": [],
   "source": [
    "# Set the seed for the random number generator, for reproducibility of the results.\n",
    "np.random.seed(1235)\n",
    "\n",
    "# Build a model with 1 (dense) hidden layer, 4 neurons and\n",
    "# a sigmoid activation function.\n",
    "model = Sequential()\n",
    "model.add(Dense(4, input_dim = input.shape[1], activation = 'sigmoid', kernel_initializer = 'random_uniform'))\n",
    "model.add(Dense(1, activation = 'sigmoid', kernel_initializer = 'random_uniform'))\n",
    "\n",
    "# Specify the optimiser to use.\n",
    "opt = keras.optimizers.SGD(learning_rate=0.2, momentum=0.0)\n",
    "\n",
    "# Compile the model using the mean-squared error loss function.\n",
    "model.compile(\n",
    "    loss = 'mse',\n",
    "    metrics = ['mse'],\n",
    "    optimizer = opt    \n",
    ")\n",
    "\n",
    "# Train the model.\n",
    "model.fit(input, \n",
    "          response, \n",
    "          epochs = 500, \n",
    "          batch_size = input.shape[0],\n",
    "          steps_per_epoch = 1, \n",
    "          verbose = 2)"
   ]
  },
  {
   "cell_type": "code",
   "execution_count": null,
   "metadata": {
    "id": "vbwe9BkXaOnb"
   },
   "outputs": [],
   "source": [
    "# Obtain the predictions on the training and validation data.\n",
    "keras_train_preds = model.predict(input)\n",
    "keras_validation_preds = model.predict(input_validation)"
   ]
  },
  {
   "cell_type": "markdown",
   "metadata": {
    "id": "wSa-5AbffeJj"
   },
   "source": [
    "#### Evaluate NN 3"
   ]
  },
  {
   "cell_type": "code",
   "execution_count": null,
   "metadata": {
    "colab": {
     "base_uri": "https://localhost:8080/"
    },
    "id": "20JjbCLdap5M",
    "outputId": "603bbb61-33db-467f-f719-5da567a59670"
   },
   "outputs": [],
   "source": [
    "# Calculate the AUC on the training and validation data.\n",
    "{'train':roc_auc_score(response, keras_train_preds), 'validation':roc_auc_score(response_validation, keras_validation_preds)}"
   ]
  },
  {
   "cell_type": "code",
   "execution_count": null,
   "metadata": {
    "colab": {
     "base_uri": "https://localhost:8080/"
    },
    "id": "uApJAjKBgJbi",
    "outputId": "8176f00b-b1e2-41d7-be2b-8d2d533ef7fd"
   },
   "outputs": [],
   "source": [
    "# Compare the AUCs under all models built to date.\n",
    "{'1. NN 3': roc_auc_score(response_validation, keras_validation_preds),\n",
    " '2. NN 2': roc_auc_score(response_validation, pred_nn2_validation),\n",
    " '3. NN 1': roc_auc_score(response_validation, pred_nn1_validation),\n",
    " '4. GBM final': roc_auc_score(response_validation, validation_gbm_preds_final)}"
   ]
  },
  {
   "cell_type": "markdown",
   "metadata": {
    "id": "YGJx-hsrgWz0"
   },
   "source": [
    "As expected, the AUC for NN 3 (Neural network with 4 hidden neurons using Keras) is very similar to that for NN 2 (neural network with 4 hidden neurons built from first principles). All three neural networks underperform the GBM final model. "
   ]
  },
  {
   "cell_type": "markdown",
   "metadata": {
    "id": "-zL-gGEHa2je"
   },
   "source": [
    "#### Fit a more complex model with Keras\n",
    "\n",
    "Now, the power of Keras will be used to easily extend the simple single hidden layer model into a more complex neural network.\n",
    "\n",
    "There are many features available in Keras. The code below makes the following relatively simple adjustments to NN 3:\n",
    "- add a second hidden (dense) layer;\n",
    "- increase the number of neurons in each hidden layer to eight;\n",
    "- use a ReLU activation function for the hidden layers;\n",
    "- apply regularisation to the weights to avoid the model overfitting to the training data;\n",
    "- use a binary cross-entropy loss (logistic loss for a binary classifier); and\n",
    "- use the more advanced Adam optimizer, in place of standard backpropagation.\n",
    "\n",
    "Details of these options and more can be found on the keras webpage: https://keras.io/"
   ]
  },
  {
   "cell_type": "code",
   "execution_count": null,
   "metadata": {
    "colab": {
     "base_uri": "https://localhost:8080/"
    },
    "id": "m5AypssyZ8Ov",
    "outputId": "7e3b3806-bfaf-4082-993f-e70e39a1b955"
   },
   "outputs": [],
   "source": [
    "np.random.seed(1235)\n",
    "\n",
    "# Construct the adjusted neural network model.\n",
    "model2 = Sequential()\n",
    "model2.add(Dense(8, input_dim= input.shape[1], activation='relu', kernel_regularizer='l2'))\n",
    "model2.add(Dense(8, activation='relu', kernel_regularizer='l2'))\n",
    "model2.add(Dense(1, activation='sigmoid'))\n",
    "# Compile the model using the Adam optimiser and the logistic loss function\n",
    "# for a binary classifier (binary_cross_entropy).\n",
    "model2.compile(\n",
    "    loss='binary_crossentropy',\n",
    "    optimizer=tf.keras.optimizers.Adam(learning_rate=0.001),\n",
    "    metrics=['binary_crossentropy'],\n",
    ")\n",
    "model2.fit(np.array(input), response, epochs=100, batch_size=1000)\n"
   ]
  },
  {
   "cell_type": "code",
   "execution_count": null,
   "metadata": {
    "id": "yNGNwUFJbVr2"
   },
   "outputs": [],
   "source": [
    "# Obtain the predictions on the training and validation data.\n",
    "keras2_train_preds = model2.predict(input)\n",
    "keras2_validation_preds = model2.predict(input_validation)"
   ]
  },
  {
   "cell_type": "markdown",
   "metadata": {
    "id": "kfVQn5_GjARo"
   },
   "source": [
    "#### Evaluate NN 4"
   ]
  },
  {
   "cell_type": "code",
   "execution_count": null,
   "metadata": {
    "colab": {
     "base_uri": "https://localhost:8080/"
    },
    "id": "QrWKfoATsGPN",
    "outputId": "1b37018c-dfe8-42e1-b225-8e1d03c41e81"
   },
   "outputs": [],
   "source": [
    "# Calculate the AUC on the training and validation data.\n",
    "{'train':roc_auc_score(response, keras2_train_preds), 'validation':roc_auc_score(response_validation, keras2_validation_preds)}"
   ]
  },
  {
   "cell_type": "code",
   "execution_count": null,
   "metadata": {
    "colab": {
     "base_uri": "https://localhost:8080/"
    },
    "id": "cItlRSK0sRj5",
    "outputId": "51df502d-d470-4e51-b496-b2198fcc9a81"
   },
   "outputs": [],
   "source": [
    "# Calculate the relative improvement in AUC between NN 4 and NN 3\n",
    "# using the validation data.\n",
    "roc_auc_score(response_validation, keras2_validation_preds) / roc_auc_score(response_validation, keras_validation_preds)\n"
   ]
  },
  {
   "cell_type": "markdown",
   "metadata": {
    "id": "wv0yOqNgip_-"
   },
   "source": [
    "The modifications made to the first Keras model (NN 3) to produce NN 4 have resulted in a slight improvement in the AUC."
   ]
  },
  {
   "cell_type": "code",
   "execution_count": null,
   "metadata": {
    "colab": {
     "base_uri": "https://localhost:8080/"
    },
    "id": "HEe0WaNcetys",
    "outputId": "73a4872f-37ec-4331-f4e0-d06e87a886b6"
   },
   "outputs": [],
   "source": [
    "# Compare the results of all five models built in this notebook.\n",
    "{'1. NN 4 (Keras2)': roc_auc_score(response_validation, keras2_validation_preds),\n",
    " '2. NN 3 (Keras1)': roc_auc_score(response_validation, keras_validation_preds),\n",
    " '3. NN 2': roc_auc_score(response_validation, pred_nn2_validation),\n",
    " '4. NN 1': roc_auc_score(response_validation, pred_nn1_validation),\n",
    " '5. GBM final': roc_auc_score(response_validation, validation_gbm_preds_final)}"
   ]
  },
  {
   "cell_type": "markdown",
   "metadata": {
    "id": "ATdF5rw5jqXL"
   },
   "source": [
    "## Evaluation and observations\n",
    "\n",
    "The Keras model provides the best performance (based on AUC) of the neural networks, but still underperforms the GBM.\n",
    "\n",
    "As an exercise, play around with some of the features available in Keras and try to build a neural network that outperforms the GBM on the validation data.\n",
    "\n",
    "You should note that the test data (20% of the original dataset) was not used in any of the modelling above. This is because it should be held-out until a final model has been selected. The test data can then be used to estimate the expected error of the final model on unseen data."
   ]
  }
 ],
 "metadata": {
  "colab": {
   "collapsed_sections": [],
   "name": "DAA_M05_CS1_v3(2).ipynb",
   "provenance": [],
   "toc_visible": true
  },
  "kernelspec": {
   "display_name": "Python 3",
   "language": "python",
   "name": "python3"
  },
  "language_info": {
   "codemirror_mode": {
    "name": "ipython",
    "version": 3
   },
   "file_extension": ".py",
   "mimetype": "text/x-python",
   "name": "python",
   "nbconvert_exporter": "python",
   "pygments_lexer": "ipython3",
   "version": "3.6.5"
  }
 },
 "nbformat": 4,
 "nbformat_minor": 1
}
