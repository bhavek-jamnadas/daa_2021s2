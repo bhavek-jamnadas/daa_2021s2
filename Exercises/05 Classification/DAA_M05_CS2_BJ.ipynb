{
 "cells": [
  {
   "cell_type": "markdown",
   "metadata": {
    "id": "Hsmm1hugzhev"
   },
   "source": [
    "# DAA M05 Classification and neural networks\n",
    "## Case Study 2\n",
    "\n",
    "### Purpose:\n",
    "This case study involves building neural networks to recognise handwritten digits from zero to nine. The case study also compares the performance of the neural networks built to the performance of a gradient boosting machine (GBM) built to solve the same problem.\n",
    "\n",
    "### References:\n",
    "The dataset used in this case study is a famous Modified National Institute of Standards and Technology (MNIST) dataset of handwritten images (http://yann.lecun.com/exdb/mnist/). The MNIST dataset is popular for use in benchmarking classification algorithms.\n",
    "\n",
    "The dataset has 42,000 observations, each representing a greyscale image of a hand-drawn digit from zero to nine. Each image is 28 pixels in height and 28 pixels in width, making a total of 784 pixels (28x28). Each pixel has a single pixel value associated with it, from 0 to 255, indicating the lightness or darkness of that pixel. Higher pixel values represent darker pixels. The dataset represents these images as 784 features, with each feature representing a different pixel in the image.\n",
    "\n",
    "The dataset also contains one response ('label') that takes integer values from zero to nine, indicatating the digit drawn in each image."
   ]
  },
  {
   "cell_type": "markdown",
   "metadata": {
    "id": "KLhysEkOy1M1"
   },
   "source": [
    "## Packages\n",
    "This section imports the packages that will be required for this exercise/case study.\n",
    "\n",
    "We'll use:\n",
    "\n",
    "\n",
    "*   pandas for data management\n",
    "*   numpy for mathematical operations\n",
    "*   Support functions from matplotlib, sklearns, seaborn packages\n",
    "*   keras, from the tensorflow package, for fitting the neural networks"
   ]
  },
  {
   "cell_type": "code",
   "execution_count": 61,
   "metadata": {
    "id": "lOOaFEDww3Xa"
   },
   "outputs": [],
   "source": [
    "import pandas as pd # For data management.\n",
    "import numpy as np # For mathematical operations.\n",
    "\n",
    "# Matplotlib and Seaborn are used for plotting.\n",
    "import matplotlib.pyplot as plt\n",
    "import matplotlib.image as mpimg\n",
    "import seaborn as sns\n",
    "%matplotlib inline\n",
    "\n",
    "# Various scikit-learn functions to help with modelling and diagnostics.\n",
    "from sklearn.model_selection import train_test_split\n",
    "from sklearn.metrics import confusion_matrix\n",
    "import itertools\n",
    "\n",
    "\n",
    "# Keras, from the Tensorflow package, is used for fitting the neural networks.\n",
    "from keras.utils.np_utils import to_categorical\n",
    "from tensorflow.keras.models import Sequential\n",
    "from tensorflow.keras.layers import Dense, Dropout, Flatten, Conv2D, MaxPool2D\n",
    "from tensorflow.keras.optimizers import RMSprop, SGD\n",
    "from tensorflow.keras.preprocessing.image import ImageDataGenerator\n",
    "from tensorflow.keras.callbacks import ReduceLROnPlateau\n",
    "from tensorflow.keras.utils import plot_model\n",
    "\n",
    "import os\n",
    "from google.colab import files"
   ]
  },
  {
   "cell_type": "markdown",
   "metadata": {
    "id": "degOq8-dKt5n"
   },
   "source": [
    "## Functions\n",
    "\n",
    "This section defines functions that will be used for this exercise/case study."
   ]
  },
  {
   "cell_type": "code",
   "execution_count": 5,
   "metadata": {
    "id": "cWGRJVd3LBF0"
   },
   "outputs": [],
   "source": [
    "# Define a function to split the data into train, validation, and test sets.\n",
    "# This function uses the train_test_split function from the sklearn package\n",
    "# to do the actual data splitting.\n",
    "\n",
    "def create_data_splits(dataset, response_col):\n",
    "  # Split data into train/test (80%, 20%).\n",
    "  train_full, test = train_test_split(dataset, test_size = 0.2, random_state = 123)\n",
    "\n",
    "  # Create a validation set from the training data (20%).\n",
    "  train, validation = train_test_split(train_full, test_size = 0.2, random_state = 234)\n",
    "\n",
    "  # Create train and validation model matrices and response vectors.\n",
    "  # For the response vector, convert Churn Yes/No to 1/0\n",
    "\n",
    "  feature_cols = [i for i in dataset.columns if i not in response_col]\n",
    "\n",
    "  train_x = train.drop(labels=response_col, axis=1)\n",
    "  train_y = train[response_col]\n",
    "  train_y.index = range(len(train_y))\n",
    "\n",
    "  validation_x = validation.drop(labels=response_col, axis=1)\n",
    "  validation_y = validation[response_col]\n",
    "  validation_y.index = range(len(validation_y))\n",
    "\n",
    "  test_x = test.drop(labels=response_col, axis=1)\n",
    "  test_y = test[response_col]\n",
    "  test_y.index = range(len(test_y))\n",
    "\n",
    "  return train_x, train_y, validation_x, validation_y, test_x, test_y"
   ]
  },
  {
   "cell_type": "code",
   "execution_count": 6,
   "metadata": {
    "id": "ik25IoYqsLWo"
   },
   "outputs": [],
   "source": [
    "# Define a function to generate a confusion matrix to observe a model's results.\n",
    "def plot_confusion_matrix(cm, classes,\n",
    "                          normalise=False,\n",
    "                          title='Confusion matrix',\n",
    "                          cmap=plt.cm.Blues):\n",
    "    '''\n",
    "    This function prints and plots a confusion matrix.\n",
    "    Normalisation of the matrix can be applied by setting `normalise=True`.\n",
    "    Normalisation ensures that the sum of each row in the confusion matrix is 1.\n",
    "    '''\n",
    "    plt.imshow(cm, interpolation='nearest', cmap=cmap)\n",
    "    plt.title(title)\n",
    "    plt.colorbar()\n",
    "    tick_marks = np.arange(len(classes))\n",
    "    plt.xticks(tick_marks, classes, rotation=45)\n",
    "    plt.yticks(tick_marks, classes)\n",
    "\n",
    "    if normalise:\n",
    "        cm = cm.astype('float') / cm.sum(axis=1)[:, np.newaxis]\n",
    "\n",
    "    thresh = cm.max() / 2.\n",
    "    for i, j in itertools.product(range(cm.shape[0]), range(cm.shape[1])):\n",
    "        plt.text(j, i, cm[i, j],\n",
    "                 horizontalalignment='center',\n",
    "                 color='white' if cm[i, j] > thresh else 'black')\n",
    "\n",
    "    plt.tight_layout()\n",
    "    plt.ylabel('True response')\n",
    "    plt.xlabel('Predicted response')"
   ]
  },
  {
   "cell_type": "markdown",
   "metadata": {
    "id": "j71pFblD2kdV"
   },
   "source": [
    "## Data\n",
    "This section:\n",
    "- imports the data that will be used in the modelling;\n",
    "- explores the data; and\n",
    "- prepares the data for modelling."
   ]
  },
  {
   "cell_type": "markdown",
   "metadata": {
    "id": "clLTBYpNvzCh"
   },
   "source": [
    "### Import data\n",
    "\n",
    "The code below uploads the csv file to google colab, and then reads it into a pandas data frame.\n",
    "\n",
    "Note that the MNIST dataset is large (75MB) hence it is slow to upload using the 'files.upload()' method.\n",
    "\n",
    "An alternative, faster method to upload the dataset is to first save it\n",
    "to Google Drive (https://drive.google.com/drive/my-drive) in a folder called 'DAA datasets' and then upload the file into Colab directly from Google Drive.\n",
    "\n",
    "The Google Drive method is used below. The 'files.upload()' method is also included (commented out with ##) in case you would prefer to avoid using Google Drive."
   ]
  },
  {
   "cell_type": "code",
   "execution_count": null,
   "metadata": {
    "colab": {
     "base_uri": "https://localhost:8080/"
    },
    "id": "LfF8NKv_KlQR",
    "outputId": "7f2094d5-3242-46a7-85c1-7d861c3c958a"
   },
   "outputs": [],
   "source": [
    "# Mount your Google Drive.\n",
    "\n",
    "# If you are using the suggested method of uploading directly from Google\n",
    "# Drive, you first need to run the code below to mount your Google Drive\n",
    "# folder to Colab so that it can be accessed in Colab.\n",
    "from google.colab import drive\n",
    "drive.mount('/content/gdrive/',force_remount=True)\n",
    "  # After running this code, you should follow the steps shown in the\n",
    "  # output box below:\n",
    "  #    1. click on the link to Google Drive;\n",
    "  #    2. login to Google Drive;\n",
    "  #    3. copy the authorization code provided;\n",
    "  #    4. paste the authorization code into the box below."
   ]
  },
  {
   "cell_type": "code",
   "execution_count": 7,
   "metadata": {
    "id": "vFqxkLuoKpr-"
   },
   "outputs": [],
   "source": [
    "# Specify the Google Drive folder that your datasets are saved in.\n",
    "infolder = '/home/analytics-user/personal/daa_2021s2/Exercises/05 Classification/Datasets/'"
   ]
  },
  {
   "cell_type": "code",
   "execution_count": 8,
   "metadata": {
    "id": "g0_jR1BU2kHv"
   },
   "outputs": [],
   "source": [
    "# Import the dataset from Google Drive.\n",
    "\n",
    "# Specify the filename from your Google Drive.\n",
    "file = 'DAA_M05_CS2_data.csv'\n",
    "\n",
    "# Read in the data from your Google Drive folder.\n",
    "dataset = pd.read_csv (infolder+file)\n",
    "\n",
    "# Alternative (slower) method:\n",
    "# files.upload()\n",
    "  # When prompted, select the DAA_M05_CS2_data.csv dataset to upload.\n",
    "  # Note that this may take some time to upload as the file is large.\n",
    "# dataset = pd.read_csv('/content/DAA_M05_CS2_data.csv', header = 0)"
   ]
  },
  {
   "cell_type": "code",
   "execution_count": 9,
   "metadata": {},
   "outputs": [
    {
     "data": {
      "text/html": [
       "<div>\n",
       "<style scoped>\n",
       "    .dataframe tbody tr th:only-of-type {\n",
       "        vertical-align: middle;\n",
       "    }\n",
       "\n",
       "    .dataframe tbody tr th {\n",
       "        vertical-align: top;\n",
       "    }\n",
       "\n",
       "    .dataframe thead th {\n",
       "        text-align: right;\n",
       "    }\n",
       "</style>\n",
       "<table border=\"1\" class=\"dataframe\">\n",
       "  <thead>\n",
       "    <tr style=\"text-align: right;\">\n",
       "      <th></th>\n",
       "      <th>label</th>\n",
       "      <th>pixel0</th>\n",
       "      <th>pixel1</th>\n",
       "      <th>pixel2</th>\n",
       "      <th>pixel3</th>\n",
       "      <th>pixel4</th>\n",
       "      <th>pixel5</th>\n",
       "      <th>pixel6</th>\n",
       "      <th>pixel7</th>\n",
       "      <th>pixel8</th>\n",
       "      <th>...</th>\n",
       "      <th>pixel774</th>\n",
       "      <th>pixel775</th>\n",
       "      <th>pixel776</th>\n",
       "      <th>pixel777</th>\n",
       "      <th>pixel778</th>\n",
       "      <th>pixel779</th>\n",
       "      <th>pixel780</th>\n",
       "      <th>pixel781</th>\n",
       "      <th>pixel782</th>\n",
       "      <th>pixel783</th>\n",
       "    </tr>\n",
       "  </thead>\n",
       "  <tbody>\n",
       "    <tr>\n",
       "      <th>0</th>\n",
       "      <td>1</td>\n",
       "      <td>0</td>\n",
       "      <td>0</td>\n",
       "      <td>0</td>\n",
       "      <td>0</td>\n",
       "      <td>0</td>\n",
       "      <td>0</td>\n",
       "      <td>0</td>\n",
       "      <td>0</td>\n",
       "      <td>0</td>\n",
       "      <td>...</td>\n",
       "      <td>0</td>\n",
       "      <td>0</td>\n",
       "      <td>0</td>\n",
       "      <td>0</td>\n",
       "      <td>0</td>\n",
       "      <td>0</td>\n",
       "      <td>0</td>\n",
       "      <td>0</td>\n",
       "      <td>0</td>\n",
       "      <td>0</td>\n",
       "    </tr>\n",
       "    <tr>\n",
       "      <th>1</th>\n",
       "      <td>0</td>\n",
       "      <td>0</td>\n",
       "      <td>0</td>\n",
       "      <td>0</td>\n",
       "      <td>0</td>\n",
       "      <td>0</td>\n",
       "      <td>0</td>\n",
       "      <td>0</td>\n",
       "      <td>0</td>\n",
       "      <td>0</td>\n",
       "      <td>...</td>\n",
       "      <td>0</td>\n",
       "      <td>0</td>\n",
       "      <td>0</td>\n",
       "      <td>0</td>\n",
       "      <td>0</td>\n",
       "      <td>0</td>\n",
       "      <td>0</td>\n",
       "      <td>0</td>\n",
       "      <td>0</td>\n",
       "      <td>0</td>\n",
       "    </tr>\n",
       "    <tr>\n",
       "      <th>2</th>\n",
       "      <td>1</td>\n",
       "      <td>0</td>\n",
       "      <td>0</td>\n",
       "      <td>0</td>\n",
       "      <td>0</td>\n",
       "      <td>0</td>\n",
       "      <td>0</td>\n",
       "      <td>0</td>\n",
       "      <td>0</td>\n",
       "      <td>0</td>\n",
       "      <td>...</td>\n",
       "      <td>0</td>\n",
       "      <td>0</td>\n",
       "      <td>0</td>\n",
       "      <td>0</td>\n",
       "      <td>0</td>\n",
       "      <td>0</td>\n",
       "      <td>0</td>\n",
       "      <td>0</td>\n",
       "      <td>0</td>\n",
       "      <td>0</td>\n",
       "    </tr>\n",
       "    <tr>\n",
       "      <th>3</th>\n",
       "      <td>4</td>\n",
       "      <td>0</td>\n",
       "      <td>0</td>\n",
       "      <td>0</td>\n",
       "      <td>0</td>\n",
       "      <td>0</td>\n",
       "      <td>0</td>\n",
       "      <td>0</td>\n",
       "      <td>0</td>\n",
       "      <td>0</td>\n",
       "      <td>...</td>\n",
       "      <td>0</td>\n",
       "      <td>0</td>\n",
       "      <td>0</td>\n",
       "      <td>0</td>\n",
       "      <td>0</td>\n",
       "      <td>0</td>\n",
       "      <td>0</td>\n",
       "      <td>0</td>\n",
       "      <td>0</td>\n",
       "      <td>0</td>\n",
       "    </tr>\n",
       "    <tr>\n",
       "      <th>4</th>\n",
       "      <td>0</td>\n",
       "      <td>0</td>\n",
       "      <td>0</td>\n",
       "      <td>0</td>\n",
       "      <td>0</td>\n",
       "      <td>0</td>\n",
       "      <td>0</td>\n",
       "      <td>0</td>\n",
       "      <td>0</td>\n",
       "      <td>0</td>\n",
       "      <td>...</td>\n",
       "      <td>0</td>\n",
       "      <td>0</td>\n",
       "      <td>0</td>\n",
       "      <td>0</td>\n",
       "      <td>0</td>\n",
       "      <td>0</td>\n",
       "      <td>0</td>\n",
       "      <td>0</td>\n",
       "      <td>0</td>\n",
       "      <td>0</td>\n",
       "    </tr>\n",
       "  </tbody>\n",
       "</table>\n",
       "<p>5 rows × 785 columns</p>\n",
       "</div>"
      ],
      "text/plain": [
       "   label  pixel0  pixel1  pixel2  pixel3  pixel4  pixel5  pixel6  pixel7  \\\n",
       "0      1       0       0       0       0       0       0       0       0   \n",
       "1      0       0       0       0       0       0       0       0       0   \n",
       "2      1       0       0       0       0       0       0       0       0   \n",
       "3      4       0       0       0       0       0       0       0       0   \n",
       "4      0       0       0       0       0       0       0       0       0   \n",
       "\n",
       "   pixel8  ...  pixel774  pixel775  pixel776  pixel777  pixel778  pixel779  \\\n",
       "0       0  ...         0         0         0         0         0         0   \n",
       "1       0  ...         0         0         0         0         0         0   \n",
       "2       0  ...         0         0         0         0         0         0   \n",
       "3       0  ...         0         0         0         0         0         0   \n",
       "4       0  ...         0         0         0         0         0         0   \n",
       "\n",
       "   pixel780  pixel781  pixel782  pixel783  \n",
       "0         0         0         0         0  \n",
       "1         0         0         0         0  \n",
       "2         0         0         0         0  \n",
       "3         0         0         0         0  \n",
       "4         0         0         0         0  \n",
       "\n",
       "[5 rows x 785 columns]"
      ]
     },
     "execution_count": 9,
     "metadata": {},
     "output_type": "execute_result"
    }
   ],
   "source": [
    "dataset.head()"
   ]
  },
  {
   "cell_type": "markdown",
   "metadata": {
    "id": "xIh2C1I05KbV"
   },
   "source": [
    "### Explore data (EDA)\n",
    "Prior to commencing any modelling, the code below observes:\n",
    "\n",
    "- the features in the dataset and their types;\n",
    "- the count of the number of observations for each response class.\n",
    "\n",
    "Graphical observations of the images will be made later in the notebook once the data has been pre-processed."
   ]
  },
  {
   "cell_type": "code",
   "execution_count": 10,
   "metadata": {
    "colab": {
     "base_uri": "https://localhost:8080/"
    },
    "id": "vqO5aO2s5KCW",
    "outputId": "a22180a4-907e-4047-9c4b-fcc5d1d921b2"
   },
   "outputs": [
    {
     "data": {
      "text/plain": [
       "label       int64\n",
       "pixel0      int64\n",
       "pixel1      int64\n",
       "pixel2      int64\n",
       "pixel3      int64\n",
       "            ...  \n",
       "pixel779    int64\n",
       "pixel780    int64\n",
       "pixel781    int64\n",
       "pixel782    int64\n",
       "pixel783    int64\n",
       "Length: 785, dtype: object"
      ]
     },
     "execution_count": 10,
     "metadata": {},
     "output_type": "execute_result"
    }
   ],
   "source": [
    "# Check the types of each feature and the response variable ('label').\n",
    "dataset.dtypes"
   ]
  },
  {
   "cell_type": "code",
   "execution_count": 11,
   "metadata": {
    "colab": {
     "base_uri": "https://localhost:8080/",
     "height": 481
    },
    "id": "ar25AZyy7Ur_",
    "outputId": "cf444b3b-0820-4df9-878c-afa8462b69d3"
   },
   "outputs": [
    {
     "name": "stdout",
     "output_type": "stream",
     "text": [
      "1    4684\n",
      "7    4401\n",
      "3    4351\n",
      "9    4188\n",
      "2    4177\n",
      "6    4137\n",
      "0    4132\n",
      "4    4072\n",
      "8    4063\n",
      "5    3795\n",
      "Name: label, dtype: int64\n"
     ]
    },
    {
     "data": {
      "image/png": "[encoded data removed]",
      "text/plain": [
       "<Figure size 432x288 with 1 Axes>"
      ]
     },
     "metadata": {},
     "output_type": "display_data"
    }
   ],
   "source": [
    "# Extract the counts for each response class (digit) and build a barplot of these\n",
    "# counts for each of interpretation.\n",
    "sns.countplot(x='label',data=dataset)\n",
    "print(dataset['label'].value_counts())"
   ]
  },
  {
   "cell_type": "markdown",
   "metadata": {
    "id": "hrS2B_AVLYYh"
   },
   "source": [
    "### Prepare data\n",
    "The dataset will be pre-processed so that neural networks can be built with the data.\n"
   ]
  },
  {
   "cell_type": "code",
   "execution_count": 12,
   "metadata": {
    "id": "Ot096UAr51zc"
   },
   "outputs": [],
   "source": [
    "## Split the dataset into a train, validation, and test set. \n",
    "train_x, train_y, validation_x, validation_y, test_x, test_y \\\n",
    "= create_data_splits(dataset, 'label')"
   ]
  },
  {
   "cell_type": "code",
   "execution_count": 13,
   "metadata": {
    "id": "NEqw4D48_ZUe"
   },
   "outputs": [],
   "source": [
    "# Rescale the features from being in the range [0,255] to [0:1].\n",
    "train_x = train_x/255.0\n",
    "validation_x = validation_x/255.0\n",
    "test_x = test_x/255.0"
   ]
  },
  {
   "cell_type": "markdown",
   "metadata": {},
   "source": [
    "Reshaping the data converts each row (784 columns) into a 28x28x1 matrix. "
   ]
  },
  {
   "cell_type": "code",
   "execution_count": 20,
   "metadata": {
    "id": "ioiJNJoOBQqs"
   },
   "outputs": [],
   "source": [
    "# Reshape the features for each observation from being a vector of size 784\n",
    "# to being a matrix of size 28x28.\n",
    "# This is required for building the convolutional neural network (CNN) below.\n",
    "train_cnn_x = train_x.values.reshape(-1, 28, 28, 1)\n",
    "validation_cnn_x = validation_x.values.reshape(-1, 28, 28, 1)\n",
    "test_cnn_x = test_x.values.reshape(-1, 28, 28, 1)"
   ]
  },
  {
   "cell_type": "code",
   "execution_count": null,
   "metadata": {},
   "outputs": [],
   "source": []
  },
  {
   "cell_type": "markdown",
   "metadata": {
    "id": "X4pnmU5ip2Qo"
   },
   "source": [
    "### View observations\n",
    "The code below visualises an observation (hand-written digit) from each of the response classes."
   ]
  },
  {
   "cell_type": "code",
   "execution_count": 52,
   "metadata": {
    "colab": {
     "base_uri": "https://localhost:8080/",
     "height": 295
    },
    "id": "pmQ69roMx-Fw",
    "outputId": "ad428418-a9fb-4b8d-f17a-32148e5dc077"
   },
   "outputs": [
    {
     "data": {
      "image/png": "[encoded data removed]",
      "text/plain": [
       "<Figure size 720x360 with 10 Axes>"
      ]
     },
     "metadata": {},
     "output_type": "display_data"
    }
   ],
   "source": [
    "# Visualise an example from each of the response classes\n",
    "# (the digits from 0 to 9).\n",
    "fig = plt.figure(figsize=(10,5))\n",
    "rows = 2\n",
    "columns = 5\n",
    "for i in range(0, 10):\n",
    "    fig.add_subplot(rows, columns, i+1)\n",
    "    plt.imshow(train_cnn_x[train_y[train_y == i].index[0]][:,:,0])\n",
    "plt.show()\n"
   ]
  },
  {
   "cell_type": "code",
   "execution_count": null,
   "metadata": {},
   "outputs": [],
   "source": []
  },
  {
   "cell_type": "code",
   "execution_count": 53,
   "metadata": {
    "id": "5XOQbbR6BBys"
   },
   "outputs": [],
   "source": [
    "# Encode the response from a continuous (integer) to a categorical variable.\n",
    "train_y = to_categorical(train_y, num_classes=10)\n",
    "validation_y = to_categorical(validation_y, num_classes=10)\n",
    "test_y = to_categorical(test_y, num_classes=10)"
   ]
  },
  {
   "cell_type": "markdown",
   "metadata": {
    "id": "6Wr9C-fWTIXi"
   },
   "source": [
    "## Modelling\n",
    "This section:\n",
    "- fits a model;\n",
    "- evaluates the fitted model;\n",
    "- improves the model; and\n",
    "- selects a final model."
   ]
  },
  {
   "cell_type": "markdown",
   "metadata": {
    "id": "YArrBJcd2Zrt"
   },
   "source": [
    "### Fit a 'vanilla' neural network (NN 1)\n",
    "\n",
    "The code below uses Keras to construct a neural network with:\n",
    "- two hidden layers, each with 16 neurons and the ReLU activation function; and\n",
    "- one output layer with 10 neurons (representing each of the digits from zero to nine) and the softmax activation function.\n",
    "\n"
   ]
  },
  {
   "cell_type": "code",
   "execution_count": 64,
   "metadata": {
    "colab": {
     "base_uri": "https://localhost:8080/"
    },
    "id": "SIGEcNkCUeAb",
    "outputId": "862745d1-2e0c-4a1b-dcc9-c6fb0f8552d8"
   },
   "outputs": [
    {
     "name": "stdout",
     "output_type": "stream",
     "text": [
      "Epoch 1/100\n",
      "27/27 [==============================] - 1s 14ms/step - loss: 1.9792 - accuracy: 0.4301 - val_loss: 1.3036 - val_accuracy: 0.6409\n",
      "Epoch 2/100\n",
      "27/27 [==============================] - 0s 7ms/step - loss: 1.1021 - accuracy: 0.6977 - val_loss: 0.8334 - val_accuracy: 0.8061\n",
      "Epoch 3/100\n",
      "27/27 [==============================] - 0s 7ms/step - loss: 0.7887 - accuracy: 0.8045 - val_loss: 0.7008 - val_accuracy: 0.8411\n",
      "Epoch 4/100\n",
      "27/27 [==============================] - 0s 6ms/step - loss: 0.6410 - accuracy: 0.8580 - val_loss: 0.6996 - val_accuracy: 0.8217\n",
      "Epoch 5/100\n",
      "27/27 [==============================] - 0s 7ms/step - loss: 0.6003 - accuracy: 0.8635 - val_loss: 0.6059 - val_accuracy: 0.8501\n",
      "Epoch 6/100\n",
      "27/27 [==============================] - 0s 7ms/step - loss: 0.5465 - accuracy: 0.8759 - val_loss: 0.5270 - val_accuracy: 0.8827\n",
      "Epoch 7/100\n",
      "27/27 [==============================] - 0s 7ms/step - loss: 0.4997 - accuracy: 0.8888 - val_loss: 0.5140 - val_accuracy: 0.8811\n",
      "Epoch 8/100\n",
      "27/27 [==============================] - 0s 7ms/step - loss: 0.4922 - accuracy: 0.8866 - val_loss: 0.4874 - val_accuracy: 0.8894\n",
      "Epoch 9/100\n",
      "27/27 [==============================] - 0s 8ms/step - loss: 0.4630 - accuracy: 0.8951 - val_loss: 0.4603 - val_accuracy: 0.8926\n",
      "Epoch 10/100\n",
      "27/27 [==============================] - 0s 8ms/step - loss: 0.4447 - accuracy: 0.8985 - val_loss: 0.4475 - val_accuracy: 0.8963\n",
      "Epoch 11/100\n",
      "27/27 [==============================] - 0s 6ms/step - loss: 0.4264 - accuracy: 0.9016 - val_loss: 0.4380 - val_accuracy: 0.8978\n",
      "Epoch 12/100\n",
      "27/27 [==============================] - 0s 6ms/step - loss: 0.4479 - accuracy: 0.8932 - val_loss: 0.4278 - val_accuracy: 0.9003\n",
      "Epoch 13/100\n",
      "27/27 [==============================] - 0s 6ms/step - loss: 0.3972 - accuracy: 0.9097 - val_loss: 0.4168 - val_accuracy: 0.9030\n",
      "Epoch 14/100\n",
      "27/27 [==============================] - 0s 6ms/step - loss: 0.4043 - accuracy: 0.9045 - val_loss: 0.4110 - val_accuracy: 0.9058\n",
      "Epoch 15/100\n",
      "27/27 [==============================] - 0s 6ms/step - loss: 0.3882 - accuracy: 0.9078 - val_loss: 0.4011 - val_accuracy: 0.9051\n",
      "Epoch 16/100\n",
      "27/27 [==============================] - 0s 7ms/step - loss: 0.3888 - accuracy: 0.9072 - val_loss: 0.3894 - val_accuracy: 0.9076\n",
      "Epoch 17/100\n",
      "27/27 [==============================] - 0s 7ms/step - loss: 0.3670 - accuracy: 0.9143 - val_loss: 0.3862 - val_accuracy: 0.9073\n",
      "Epoch 18/100\n",
      "27/27 [==============================] - 0s 7ms/step - loss: 0.3588 - accuracy: 0.9154 - val_loss: 0.4109 - val_accuracy: 0.8930\n",
      "Epoch 19/100\n",
      "27/27 [==============================] - 0s 6ms/step - loss: 0.3682 - accuracy: 0.9118 - val_loss: 0.3797 - val_accuracy: 0.9095\n",
      "Epoch 20/100\n",
      "27/27 [==============================] - 0s 7ms/step - loss: 0.3531 - accuracy: 0.9172 - val_loss: 0.3695 - val_accuracy: 0.9131\n",
      "Epoch 21/100\n",
      "27/27 [==============================] - 0s 7ms/step - loss: 0.3529 - accuracy: 0.9154 - val_loss: 0.5288 - val_accuracy: 0.8510\n",
      "Epoch 22/100\n",
      "27/27 [==============================] - 0s 7ms/step - loss: 0.3656 - accuracy: 0.9112 - val_loss: 0.3538 - val_accuracy: 0.9173\n",
      "Epoch 23/100\n",
      "27/27 [==============================] - 0s 6ms/step - loss: 0.3327 - accuracy: 0.9226 - val_loss: 0.3578 - val_accuracy: 0.9143\n",
      "Epoch 24/100\n",
      "27/27 [==============================] - 0s 7ms/step - loss: 0.3309 - accuracy: 0.9224 - val_loss: 0.3477 - val_accuracy: 0.9198\n",
      "Epoch 25/100\n",
      "27/27 [==============================] - 0s 6ms/step - loss: 0.3241 - accuracy: 0.9244 - val_loss: 0.3654 - val_accuracy: 0.9039\n",
      "Epoch 26/100\n",
      "27/27 [==============================] - 0s 6ms/step - loss: 0.3313 - accuracy: 0.9196 - val_loss: 0.3434 - val_accuracy: 0.9165\n",
      "Epoch 27/100\n",
      "27/27 [==============================] - 0s 8ms/step - loss: 0.3198 - accuracy: 0.9242 - val_loss: 0.3335 - val_accuracy: 0.9219\n",
      "Epoch 28/100\n",
      "27/27 [==============================] - 0s 7ms/step - loss: 0.3124 - accuracy: 0.9261 - val_loss: 0.4038 - val_accuracy: 0.8929\n",
      "Epoch 29/100\n",
      "27/27 [==============================] - 0s 6ms/step - loss: 0.3208 - accuracy: 0.9229 - val_loss: 0.3519 - val_accuracy: 0.9141\n",
      "Epoch 30/100\n",
      "27/27 [==============================] - 0s 7ms/step - loss: 0.3192 - accuracy: 0.9228 - val_loss: 0.3278 - val_accuracy: 0.9225\n",
      "Epoch 31/100\n",
      "27/27 [==============================] - 0s 6ms/step - loss: 0.2998 - accuracy: 0.9288 - val_loss: 0.3317 - val_accuracy: 0.9208\n",
      "Epoch 32/100\n",
      "27/27 [==============================] - 0s 7ms/step - loss: 0.3224 - accuracy: 0.9198 - val_loss: 0.3514 - val_accuracy: 0.9113\n",
      "Epoch 33/100\n",
      "27/27 [==============================] - 0s 7ms/step - loss: 0.3023 - accuracy: 0.9265 - val_loss: 0.3223 - val_accuracy: 0.9232\n",
      "Epoch 34/100\n",
      "27/27 [==============================] - 0s 7ms/step - loss: 0.2930 - accuracy: 0.9310 - val_loss: 0.3473 - val_accuracy: 0.9164\n",
      "Epoch 35/100\n",
      "27/27 [==============================] - 0s 7ms/step - loss: 0.3060 - accuracy: 0.9254 - val_loss: 0.3358 - val_accuracy: 0.9158\n",
      "Epoch 36/100\n",
      "27/27 [==============================] - 0s 7ms/step - loss: 0.2847 - accuracy: 0.9327 - val_loss: 0.3065 - val_accuracy: 0.9281\n",
      "Epoch 37/100\n",
      "27/27 [==============================] - 0s 7ms/step - loss: 0.2896 - accuracy: 0.9315 - val_loss: 0.3591 - val_accuracy: 0.9104\n",
      "Epoch 38/100\n",
      "27/27 [==============================] - 0s 6ms/step - loss: 0.3016 - accuracy: 0.9265 - val_loss: 0.3051 - val_accuracy: 0.9286\n",
      "Epoch 39/100\n",
      "27/27 [==============================] - 0s 7ms/step - loss: 0.2828 - accuracy: 0.9331 - val_loss: 0.3376 - val_accuracy: 0.9158\n",
      "Epoch 40/100\n",
      "27/27 [==============================] - 0s 7ms/step - loss: 0.2818 - accuracy: 0.9310 - val_loss: 0.3224 - val_accuracy: 0.9179\n",
      "Epoch 41/100\n",
      "27/27 [==============================] - 0s 6ms/step - loss: 0.2751 - accuracy: 0.9356 - val_loss: 0.3261 - val_accuracy: 0.9176\n",
      "Epoch 42/100\n",
      "27/27 [==============================] - 0s 6ms/step - loss: 0.2807 - accuracy: 0.9328 - val_loss: 0.2993 - val_accuracy: 0.9268\n",
      "Epoch 43/100\n",
      "27/27 [==============================] - 0s 7ms/step - loss: 0.2739 - accuracy: 0.9359 - val_loss: 0.3214 - val_accuracy: 0.9249\n",
      "Epoch 44/100\n",
      "27/27 [==============================] - 0s 6ms/step - loss: 0.3379 - accuracy: 0.9145 - val_loss: 0.2951 - val_accuracy: 0.9289\n",
      "Epoch 45/100\n",
      "27/27 [==============================] - 0s 6ms/step - loss: 0.2725 - accuracy: 0.9365 - val_loss: 0.3143 - val_accuracy: 0.9198\n",
      "Epoch 46/100\n",
      "27/27 [==============================] - 0s 6ms/step - loss: 0.2620 - accuracy: 0.9392 - val_loss: 0.2954 - val_accuracy: 0.9311\n",
      "Epoch 47/100\n",
      "27/27 [==============================] - 0s 6ms/step - loss: 0.2641 - accuracy: 0.9376 - val_loss: 0.2973 - val_accuracy: 0.9292\n",
      "Epoch 48/100\n",
      "27/27 [==============================] - 0s 7ms/step - loss: 0.2732 - accuracy: 0.9330 - val_loss: 0.2906 - val_accuracy: 0.9293\n",
      "Epoch 49/100\n",
      "27/27 [==============================] - 0s 6ms/step - loss: 0.2608 - accuracy: 0.9394 - val_loss: 0.2918 - val_accuracy: 0.9275\n",
      "Epoch 50/100\n",
      "27/27 [==============================] - 0s 7ms/step - loss: 0.2611 - accuracy: 0.9382 - val_loss: 0.2950 - val_accuracy: 0.9278\n",
      "Epoch 51/100\n",
      "27/27 [==============================] - 0s 7ms/step - loss: 0.2737 - accuracy: 0.9329 - val_loss: 0.2872 - val_accuracy: 0.9299\n",
      "Epoch 52/100\n",
      "27/27 [==============================] - 0s 7ms/step - loss: 0.2523 - accuracy: 0.9405 - val_loss: 0.3271 - val_accuracy: 0.9185\n",
      "Epoch 53/100\n",
      "27/27 [==============================] - 0s 6ms/step - loss: 0.2834 - accuracy: 0.9299 - val_loss: 0.2890 - val_accuracy: 0.9299\n",
      "Epoch 54/100\n",
      "27/27 [==============================] - 0s 7ms/step - loss: 0.2498 - accuracy: 0.9407 - val_loss: 0.2773 - val_accuracy: 0.9315\n",
      "Epoch 55/100\n",
      "27/27 [==============================] - 0s 7ms/step - loss: 0.2595 - accuracy: 0.9372 - val_loss: 0.2845 - val_accuracy: 0.9305\n",
      "Epoch 56/100\n",
      "27/27 [==============================] - 0s 7ms/step - loss: 0.2575 - accuracy: 0.9382 - val_loss: 0.2824 - val_accuracy: 0.9304\n",
      "Epoch 57/100\n",
      "27/27 [==============================] - 0s 7ms/step - loss: 0.2520 - accuracy: 0.9397 - val_loss: 0.2805 - val_accuracy: 0.9310\n",
      "Epoch 58/100\n",
      "27/27 [==============================] - 0s 7ms/step - loss: 0.2473 - accuracy: 0.9415 - val_loss: 0.2743 - val_accuracy: 0.9341\n"
     ]
    },
    {
     "name": "stdout",
     "output_type": "stream",
     "text": [
      "Epoch 59/100\n",
      "27/27 [==============================] - 0s 7ms/step - loss: 0.2445 - accuracy: 0.9416 - val_loss: 0.2723 - val_accuracy: 0.9324\n",
      "Epoch 60/100\n",
      "27/27 [==============================] - 0s 6ms/step - loss: 0.2519 - accuracy: 0.9396 - val_loss: 0.2780 - val_accuracy: 0.9315\n",
      "Epoch 61/100\n",
      "27/27 [==============================] - 0s 6ms/step - loss: 0.2435 - accuracy: 0.9422 - val_loss: 0.2746 - val_accuracy: 0.9335\n",
      "Epoch 62/100\n",
      "27/27 [==============================] - 0s 7ms/step - loss: 0.2648 - accuracy: 0.9347 - val_loss: 0.2740 - val_accuracy: 0.9323\n",
      "Epoch 63/100\n",
      "27/27 [==============================] - 0s 6ms/step - loss: 0.2404 - accuracy: 0.9440 - val_loss: 0.2913 - val_accuracy: 0.9254\n",
      "Epoch 64/100\n",
      "27/27 [==============================] - 0s 7ms/step - loss: 0.2492 - accuracy: 0.9402 - val_loss: 0.3076 - val_accuracy: 0.9179\n",
      "Epoch 65/100\n",
      "27/27 [==============================] - 0s 6ms/step - loss: 0.2467 - accuracy: 0.9401 - val_loss: 0.3350 - val_accuracy: 0.9098\n",
      "Epoch 66/100\n",
      "27/27 [==============================] - 0s 6ms/step - loss: 0.2436 - accuracy: 0.9413 - val_loss: 0.2680 - val_accuracy: 0.9333\n",
      "Epoch 67/100\n",
      "27/27 [==============================] - 0s 7ms/step - loss: 0.2388 - accuracy: 0.9434 - val_loss: 0.3129 - val_accuracy: 0.9228\n",
      "Epoch 68/100\n",
      "27/27 [==============================] - 0s 6ms/step - loss: 0.2400 - accuracy: 0.9424 - val_loss: 0.2782 - val_accuracy: 0.9293\n",
      "Epoch 69/100\n",
      "27/27 [==============================] - 0s 6ms/step - loss: 0.2333 - accuracy: 0.9453 - val_loss: 0.2671 - val_accuracy: 0.9356\n",
      "Epoch 70/100\n",
      "27/27 [==============================] - 0s 7ms/step - loss: 0.5622 - accuracy: 0.8726 - val_loss: 0.3989 - val_accuracy: 0.9092\n",
      "Epoch 71/100\n",
      "27/27 [==============================] - 0s 7ms/step - loss: 0.3041 - accuracy: 0.9327 - val_loss: 0.3055 - val_accuracy: 0.9263\n",
      "Epoch 72/100\n",
      "27/27 [==============================] - 0s 7ms/step - loss: 0.2566 - accuracy: 0.9417 - val_loss: 0.2860 - val_accuracy: 0.9286\n",
      "Epoch 73/100\n",
      "27/27 [==============================] - 0s 7ms/step - loss: 0.2428 - accuracy: 0.9442 - val_loss: 0.2713 - val_accuracy: 0.9333\n",
      "Epoch 74/100\n",
      "27/27 [==============================] - 0s 7ms/step - loss: 0.2368 - accuracy: 0.9445 - val_loss: 0.2679 - val_accuracy: 0.9344\n",
      "Epoch 75/100\n",
      "27/27 [==============================] - 0s 7ms/step - loss: 0.2321 - accuracy: 0.9453 - val_loss: 0.2635 - val_accuracy: 0.9335\n",
      "Epoch 76/100\n",
      "27/27 [==============================] - 0s 7ms/step - loss: 0.2312 - accuracy: 0.9455 - val_loss: 0.2678 - val_accuracy: 0.9327\n",
      "Epoch 77/100\n",
      "27/27 [==============================] - 0s 6ms/step - loss: 0.2294 - accuracy: 0.9450 - val_loss: 0.2626 - val_accuracy: 0.9345\n",
      "Epoch 78/100\n",
      "27/27 [==============================] - 0s 7ms/step - loss: 0.2309 - accuracy: 0.9462 - val_loss: 0.2807 - val_accuracy: 0.9265\n",
      "Epoch 79/100\n",
      "27/27 [==============================] - 0s 7ms/step - loss: 0.2430 - accuracy: 0.9394 - val_loss: 0.2633 - val_accuracy: 0.9339\n",
      "Epoch 80/100\n",
      "27/27 [==============================] - 0s 7ms/step - loss: 0.2262 - accuracy: 0.9470 - val_loss: 0.2624 - val_accuracy: 0.9332\n",
      "Epoch 81/100\n",
      "27/27 [==============================] - 0s 6ms/step - loss: 0.2259 - accuracy: 0.9469 - val_loss: 0.2621 - val_accuracy: 0.9351\n",
      "Epoch 82/100\n",
      "27/27 [==============================] - 0s 6ms/step - loss: 0.2227 - accuracy: 0.9476 - val_loss: 0.2634 - val_accuracy: 0.9323\n",
      "Epoch 83/100\n",
      "27/27 [==============================] - 0s 6ms/step - loss: 0.2284 - accuracy: 0.9453 - val_loss: 0.2626 - val_accuracy: 0.9335\n",
      "Epoch 84/100\n",
      "27/27 [==============================] - 0s 7ms/step - loss: 0.2248 - accuracy: 0.9458 - val_loss: 0.2653 - val_accuracy: 0.9315\n",
      "Epoch 85/100\n",
      "27/27 [==============================] - 0s 7ms/step - loss: 0.2236 - accuracy: 0.9448 - val_loss: 0.2632 - val_accuracy: 0.9336\n",
      "Epoch 86/100\n",
      "27/27 [==============================] - 0s 7ms/step - loss: 0.2229 - accuracy: 0.9475 - val_loss: 0.2571 - val_accuracy: 0.9360\n",
      "Epoch 87/100\n",
      "27/27 [==============================] - 0s 6ms/step - loss: 0.2192 - accuracy: 0.9477 - val_loss: 0.2697 - val_accuracy: 0.9308\n",
      "Epoch 88/100\n",
      "27/27 [==============================] - 0s 6ms/step - loss: 0.2329 - accuracy: 0.9430 - val_loss: 0.2651 - val_accuracy: 0.9329\n",
      "Epoch 89/100\n",
      "27/27 [==============================] - 0s 6ms/step - loss: 0.2205 - accuracy: 0.9468 - val_loss: 0.2613 - val_accuracy: 0.9363\n",
      "Epoch 90/100\n",
      "27/27 [==============================] - 0s 5ms/step - loss: 0.2215 - accuracy: 0.9462 - val_loss: 0.2632 - val_accuracy: 0.9320\n",
      "Epoch 91/100\n",
      "27/27 [==============================] - 0s 6ms/step - loss: 0.2158 - accuracy: 0.9485 - val_loss: 0.2596 - val_accuracy: 0.9354\n",
      "Epoch 92/100\n",
      "27/27 [==============================] - 0s 7ms/step - loss: 0.2251 - accuracy: 0.9445 - val_loss: 0.2720 - val_accuracy: 0.9312\n",
      "Epoch 93/100\n",
      "27/27 [==============================] - 0s 5ms/step - loss: 0.2163 - accuracy: 0.9469 - val_loss: 0.3034 - val_accuracy: 0.9201\n",
      "Epoch 94/100\n",
      "27/27 [==============================] - 0s 5ms/step - loss: 0.2215 - accuracy: 0.9461 - val_loss: 0.2628 - val_accuracy: 0.9324\n",
      "Epoch 95/100\n",
      "27/27 [==============================] - 0s 6ms/step - loss: 0.2208 - accuracy: 0.9468 - val_loss: 0.2561 - val_accuracy: 0.9359\n",
      "Epoch 96/100\n",
      "27/27 [==============================] - 0s 6ms/step - loss: 0.2126 - accuracy: 0.9482 - val_loss: 0.2481 - val_accuracy: 0.9382\n",
      "Epoch 97/100\n",
      "27/27 [==============================] - 0s 6ms/step - loss: 0.2103 - accuracy: 0.9489 - val_loss: 0.2480 - val_accuracy: 0.9379\n",
      "Epoch 98/100\n",
      "27/27 [==============================] - 0s 6ms/step - loss: 0.2124 - accuracy: 0.9499 - val_loss: 0.2560 - val_accuracy: 0.9351\n",
      "Epoch 99/100\n",
      "27/27 [==============================] - 0s 7ms/step - loss: 0.2173 - accuracy: 0.9468 - val_loss: 0.2481 - val_accuracy: 0.9371\n",
      "Epoch 100/100\n",
      "27/27 [==============================] - 0s 7ms/step - loss: 0.2106 - accuracy: 0.9495 - val_loss: 0.2507 - val_accuracy: 0.9351\n"
     ]
    }
   ],
   "source": [
    "# Specify the model's architecture.\n",
    "nn_model = Sequential()\n",
    "nn_model.add(Dense(16, input_dim= 784, kernel_initializer='normal', activation='relu'))\n",
    "nn_model.add(Dense(16, activation='relu', kernel_regularizer='l2'))\n",
    "nn_model.add(Dense(10, activation='softmax'))\n",
    "\n",
    "# Compile the model.\n",
    "opt = SGD(learning_rate=0.2, momentum=0.0)\n",
    "  # This specifies that regular stochastic gradient descent (SGD) should be\n",
    "  # used with a learning rate of 0.2.\n",
    "  # Momentum = 0 specifies that the regular SGD algorithm should be used\n",
    "  # 'without momentum'.\n",
    "  # SGD with momentum is a variant on regular SGD that uses an\n",
    "  # exponential moving average of current and past gradients rather than just\n",
    "  # the gradient for the current iteration.\n",
    "nn_model.compile(\n",
    "    loss='categorical_crossentropy', \n",
    "      # The 'categorical_crossentropy' loss function is useful\n",
    "      # for an integer response variable.\n",
    "    optimizer =  opt,\n",
    "\n",
    "    metrics=['accuracy'],\n",
    ")\n",
    "nn_hist = nn_model.fit(np.array(train_x), np.array(train_y), epochs=100,batch_size=1000, validation_data = (validation_x, validation_y))"
   ]
  },
  {
   "cell_type": "code",
   "execution_count": 66,
   "metadata": {},
   "outputs": [
    {
     "name": "stdout",
     "output_type": "stream",
     "text": [
      "Model: \"sequential_2\"\n",
      "_________________________________________________________________\n",
      "Layer (type)                 Output Shape              Param #   \n",
      "=================================================================\n",
      "dense_6 (Dense)              (None, 16)                12560     \n",
      "_________________________________________________________________\n",
      "dense_7 (Dense)              (None, 16)                272       \n",
      "_________________________________________________________________\n",
      "dense_8 (Dense)              (None, 10)                170       \n",
      "=================================================================\n",
      "Total params: 13,002\n",
      "Trainable params: 13,002\n",
      "Non-trainable params: 0\n",
      "_________________________________________________________________\n"
     ]
    }
   ],
   "source": [
    "nn_model.summary()"
   ]
  },
  {
   "cell_type": "markdown",
   "metadata": {
    "id": "1qlwyEeLS_gb"
   },
   "source": [
    "### Evaluate NN 1"
   ]
  },
  {
   "cell_type": "code",
   "execution_count": 65,
   "metadata": {
    "colab": {
     "base_uri": "https://localhost:8080/",
     "height": 313
    },
    "id": "OyvmhM-JFTmo",
    "outputId": "d123297d-4813-423e-8d40-1f0eb3a54362"
   },
   "outputs": [
    {
     "data": {
      "text/plain": [
       "<matplotlib.legend.Legend at 0x7f28f02acf60>"
      ]
     },
     "execution_count": 65,
     "metadata": {},
     "output_type": "execute_result"
    },
    {
     "data": {
      "image/png": "[encoded data removed]",
      "text/plain": [
       "<Figure size 432x288 with 1 Axes>"
      ]
     },
     "metadata": {},
     "output_type": "display_data"
    }
   ],
   "source": [
    "# Plot the accuracy of the fitted model after each epoch.\n",
    "# An epoch is a full cycle through the training data.\n",
    "plt.plot(nn_hist.history['accuracy'], color='dodgerblue')\n",
    "plt.plot(nn_hist.history['val_accuracy'],color='orange')\n",
    "plt.title('NN1 model accuracy')\n",
    "plt.ylabel('accuracy')\n",
    "plt.xlabel('epoch')\n",
    "plt.legend(['train','validation'], loc='lower right')\n"
   ]
  },
  {
   "cell_type": "markdown",
   "metadata": {
    "id": "leOZKW01_3Gs"
   },
   "source": [
    "The plot above confirms that the model has converged on an optimal solution, with both training and validation accuracy increasing rapidly over the first 10 or so epochs and then flattening out after that. Not much further improvement in accuracy is obtained after the first 10 or so epochs."
   ]
  },
  {
   "cell_type": "markdown",
   "metadata": {
    "id": "LZk6-cVZx9hy"
   },
   "source": [
    "### Fit a convolutional neural network (CNN)\n",
    "Next, a convolutional neural network (CNN) is constructed. CNNs are outlined in Section 5.7.1 of Module 5.\n",
    "\n",
    "The CNN below will use two convolutional layers with a 5x5 filter/kernel."
   ]
  },
  {
   "cell_type": "code",
   "execution_count": 67,
   "metadata": {
    "id": "YNoohnC51um5"
   },
   "outputs": [],
   "source": [
    "cnn_model = Sequential()\n",
    "\n",
    "cnn_model.add(Conv2D(filters = 16, kernel_size = (5,5), \n",
    "                 activation ='relu', input_shape = (28,28,1)))\n",
    "  # Notice from the input_shape = (28,28,1) term above\n",
    "  # that the CNN takes as input the 28x28 matrix of pixel features\n",
    "  # rather than the flattened vector of all 784 pixel features. \n",
    "cnn_model.add(Conv2D(filters = 16, kernel_size = (5,5), \n",
    "                 activation ='relu'))\n",
    "cnn_model.add(MaxPool2D(pool_size=(2,2)))\n",
    "\n",
    "cnn_model.add(Flatten())\n",
    "  # Flatten() converts the matrix outputs from the convolutional layers\n",
    "  # back into vectors for feeding into the output layer. \n",
    "cnn_model.add(Dense(10, activation = 'softmax'))"
   ]
  },
  {
   "cell_type": "code",
   "execution_count": 70,
   "metadata": {
    "colab": {
     "base_uri": "https://localhost:8080/"
    },
    "id": "uI4qQ1kO1109",
    "outputId": "9db59b33-dd4d-44ce-ab97-fda7be90e6e1"
   },
   "outputs": [
    {
     "name": "stdout",
     "output_type": "stream",
     "text": [
      "Epoch 1/10\n",
      "2688/2688 [==============================] - 24s 9ms/step - loss: 0.2809 - accuracy: 0.9116 - val_loss: 0.1211 - val_accuracy: 0.9622\n",
      "Epoch 2/10\n",
      "2688/2688 [==============================] - 24s 9ms/step - loss: 0.1000 - accuracy: 0.9702 - val_loss: 0.1126 - val_accuracy: 0.9710\n",
      "Epoch 3/10\n",
      "2688/2688 [==============================] - 23s 9ms/step - loss: 0.0788 - accuracy: 0.9767 - val_loss: 0.0963 - val_accuracy: 0.9729\n",
      "Epoch 4/10\n",
      "2688/2688 [==============================] - 23s 9ms/step - loss: 0.0650 - accuracy: 0.9807 - val_loss: 0.1090 - val_accuracy: 0.9692\n",
      "Epoch 5/10\n",
      "2688/2688 [==============================] - 24s 9ms/step - loss: 0.0587 - accuracy: 0.9829 - val_loss: 0.1427 - val_accuracy: 0.9643\n",
      "Epoch 6/10\n",
      "2688/2688 [==============================] - 23s 9ms/step - loss: 0.0753 - accuracy: 0.9795 - val_loss: 0.1027 - val_accuracy: 0.9754\n",
      "Epoch 7/10\n",
      "2688/2688 [==============================] - 23s 8ms/step - loss: 0.0747 - accuracy: 0.9803 - val_loss: 0.1011 - val_accuracy: 0.9729\n",
      "Epoch 8/10\n",
      "2688/2688 [==============================] - 24s 9ms/step - loss: 0.0611 - accuracy: 0.9838 - val_loss: 0.1369 - val_accuracy: 0.9719\n",
      "Epoch 9/10\n",
      "2688/2688 [==============================] - 24s 9ms/step - loss: 0.0679 - accuracy: 0.9823 - val_loss: 0.1322 - val_accuracy: 0.9735\n",
      "Epoch 10/10\n",
      "2688/2688 [==============================] - 24s 9ms/step - loss: 0.0504 - accuracy: 0.9863 - val_loss: 0.1572 - val_accuracy: 0.9699\n"
     ]
    }
   ],
   "source": [
    "# Define the regular stochastic gradient descent (SGD) optimiser (without\n",
    "# momentum, a learning rate of 0.2 and the crossentropy loss function.\n",
    "# to be used in the fitting of the model.\n",
    "opt = SGD(learning_rate=0.2, momentum=0.0)\n",
    "cnn_model.compile(optimizer = opt , loss = 'categorical_crossentropy',\n",
    "                  metrics=['accuracy'])\n",
    "\n",
    "epochs = 10\n",
    "batch_size = 10\n",
    "\n",
    "# Fit the CNN and capture the error and accuracy rates from the fitted model\n",
    "# after each epoch.\n",
    "cnn_hist = cnn_model.fit(train_cnn_x, train_y, batch_size = batch_size,\n",
    "                         epochs = epochs,\n",
    "                         validation_data = (validation_cnn_x, validation_y))"
   ]
  },
  {
   "cell_type": "code",
   "execution_count": 69,
   "metadata": {},
   "outputs": [
    {
     "name": "stdout",
     "output_type": "stream",
     "text": [
      "Model: \"sequential_3\"\n",
      "_________________________________________________________________\n",
      "Layer (type)                 Output Shape              Param #   \n",
      "=================================================================\n",
      "conv2d (Conv2D)              (None, 24, 24, 16)        416       \n",
      "_________________________________________________________________\n",
      "conv2d_1 (Conv2D)            (None, 20, 20, 16)        6416      \n",
      "_________________________________________________________________\n",
      "max_pooling2d (MaxPooling2D) (None, 10, 10, 16)        0         \n",
      "_________________________________________________________________\n",
      "flatten (Flatten)            (None, 1600)              0         \n",
      "_________________________________________________________________\n",
      "dense_9 (Dense)              (None, 10)                16010     \n",
      "=================================================================\n",
      "Total params: 22,842\n",
      "Trainable params: 22,842\n",
      "Non-trainable params: 0\n",
      "_________________________________________________________________\n"
     ]
    }
   ],
   "source": [
    "cnn_model.summary()"
   ]
  },
  {
   "cell_type": "markdown",
   "metadata": {
    "id": "Zej77hCgCwef"
   },
   "source": [
    "You should note that the CNN takes much longer to fit than the vanilla neural network (NN 1)."
   ]
  },
  {
   "cell_type": "markdown",
   "metadata": {
    "id": "v_viJKSHC7c1"
   },
   "source": [
    "### Evaluate CNN"
   ]
  },
  {
   "cell_type": "code",
   "execution_count": 71,
   "metadata": {
    "colab": {
     "base_uri": "https://localhost:8080/",
     "height": 313
    },
    "id": "5mCGxlRmHxtf",
    "outputId": "fa0ddb29-9999-45a2-ab85-07d843988731"
   },
   "outputs": [
    {
     "data": {
      "text/plain": [
       "<matplotlib.legend.Legend at 0x7f28f00ed7f0>"
      ]
     },
     "execution_count": 71,
     "metadata": {},
     "output_type": "execute_result"
    },
    {
     "data": {
      "image/png": "[encoded data removed]",
      "text/plain": [
       "<Figure size 432x288 with 1 Axes>"
      ]
     },
     "metadata": {},
     "output_type": "display_data"
    }
   ],
   "source": [
    "# Plot the accuracy of the CNN against each epoch\n",
    "# to ensure that the model has converged on an\n",
    "# optimal solution.\n",
    "plt.plot(cnn_hist.history['accuracy'],color='dodgerblue')\n",
    "plt.plot(cnn_hist.history['val_accuracy'],color='orange')\n",
    "plt.title('CNN model accuracy')\n",
    "plt.ylabel('accuracy')\n",
    "plt.xlabel('epoch')\n",
    "plt.legend(['train', 'validation'], loc='lower right')"
   ]
  },
  {
   "cell_type": "markdown",
   "metadata": {
    "id": "DAnf_bKAUX2v"
   },
   "source": [
    "The graph of the accuracy suggests that the model may not have converged yet,since the validation accuracy is still volatile after 10 epochs. You can try to obtain a higher accuracy on the validation data by increasing the number of epochs used to train the model."
   ]
  },
  {
   "cell_type": "code",
   "execution_count": 72,
   "metadata": {
    "colab": {
     "base_uri": "https://localhost:8080/"
    },
    "id": "VlBzKk4cEZ5W",
    "outputId": "e718d977-10b9-4aca-f9ea-8b84c4047cf6"
   },
   "outputs": [
    {
     "data": {
      "text/plain": [
       "{'CNN': 0.9699404835700989, 'NN 1': 0.9351190328598022}"
      ]
     },
     "execution_count": 72,
     "metadata": {},
     "output_type": "execute_result"
    }
   ],
   "source": [
    "# Compare the accuracy obtained under the vanilla neural network (NN 1)\n",
    "# to that obtained under the CNN.\n",
    "{'CNN':cnn_hist.history['val_accuracy'][-1],\n",
    " 'NN 1': nn_hist.history['val_accuracy'][-1]}"
   ]
  },
  {
   "cell_type": "markdown",
   "metadata": {
    "id": "RR9yh1qmFtkf"
   },
   "source": [
    "The CNN had a higher accuracy after 10 epochs compared to the vanilla neural network after 100 epochs. However, the CNN took substantially more time to train. The final choice of which model to use should take into account the business context and, in particular, the value that the business assigns to a model's accuracy compared to its training efficiency."
   ]
  },
  {
   "cell_type": "markdown",
   "metadata": {
    "id": "Owe7TXwiGK-6"
   },
   "source": [
    "### Select the final model"
   ]
  },
  {
   "cell_type": "code",
   "execution_count": 73,
   "metadata": {
    "id": "krb-hUHiGQQd"
   },
   "outputs": [],
   "source": [
    "# Select the final model and call it `nn_model_final`.\n",
    "# In this case, it is assumed that model accuracy is\n",
    "# more important than model training speed, hence the\n",
    "# CNN is chosen.\n",
    "nn_model_final = cnn_model\n",
    "test_x_final = test_cnn_x"
   ]
  },
  {
   "cell_type": "markdown",
   "metadata": {
    "id": "vVY2qMZVLVjy"
   },
   "source": [
    "## Observations"
   ]
  },
  {
   "cell_type": "markdown",
   "metadata": {
    "id": "bOmRXTdNx5Ms"
   },
   "source": [
    "### Predict on the test set\n",
    "Now that a final fitted model has been selected, it can be used to make predictions on the test set."
   ]
  },
  {
   "cell_type": "code",
   "execution_count": 74,
   "metadata": {
    "id": "h26tgO_0FLmQ"
   },
   "outputs": [],
   "source": [
    "# Make predictions on the test set.\n",
    "test_preds = nn_model_final.predict(test_x_final)\n",
    "# Convert the predictions (y_hat_gk) to class predictions (G(Xi.)).\n",
    "test_preds_classes = np.argmax(test_preds,axis = 1)\n",
    "# Convert the encoded responses (i.e. 0s and 1s to a single vector Numpy array\n",
    "# contained classes 0, 1, 2, ..., 9.\n",
    "test_y_classes = np.argmax(test_y,axis = 1)"
   ]
  },
  {
   "cell_type": "markdown",
   "metadata": {
    "id": "OUNCSSdYHl47"
   },
   "source": [
    "Note that even though the CNN took a long time to train, it is very quick to score (i.e. make predictions based on a set of unseen observations)."
   ]
  },
  {
   "cell_type": "code",
   "execution_count": 75,
   "metadata": {
    "colab": {
     "base_uri": "https://localhost:8080/",
     "height": 311
    },
    "id": "PSKIhNcUJYxb",
    "outputId": "93958cc6-0129-427e-8c3e-5f7b42fa8458"
   },
   "outputs": [
    {
     "data": {
      "image/png": "[encoded data removed]",
      "text/plain": [
       "<Figure size 432x288 with 2 Axes>"
      ]
     },
     "metadata": {},
     "output_type": "display_data"
    }
   ],
   "source": [
    "# Use the confusion matrix function defined at the top of the notebook\n",
    "# to observe the number of observations that have been\n",
    "# misclassified by the final model.\n",
    "\n",
    "# Compute the confusion matrix.\n",
    "confusion_mtx = confusion_matrix(test_y_classes, test_preds_classes) \n",
    "# Plot the confusion matrix.\n",
    "plot_confusion_matrix(confusion_mtx, classes = range(10))"
   ]
  },
  {
   "cell_type": "markdown",
   "metadata": {
    "id": "yu-21pnQIvPl"
   },
   "source": [
    "The confusion matrix above shows that the majority of observations have been correctly classified, as previously indicated by the high accuracy obtained from this model."
   ]
  },
  {
   "cell_type": "markdown",
   "metadata": {
    "id": "JDtG9JDOqGmv"
   },
   "source": [
    "### Observe example misclassifications\n",
    "The code below allows you to observe some of the images that were misclassified by the final model. This information might be useful in working out particular types of images that the model found hard to classify correctly, which might inform how to further improve the model. "
   ]
  },
  {
   "cell_type": "code",
   "execution_count": 76,
   "metadata": {
    "colab": {
     "base_uri": "https://localhost:8080/",
     "height": 479
    },
    "id": "y_1I5PMfKLAF",
    "outputId": "4854f9d0-e0ef-4e96-af0f-5fe76f353f8b"
   },
   "outputs": [
    {
     "name": "stdout",
     "output_type": "stream",
     "text": [
      "1. Actual digit: 4 Predicted digit: 6\n",
      "2. Actual digit: 5 Predicted digit: 8\n",
      "3. Actual digit: 2 Predicted digit: 7\n",
      "4. Actual digit: 9 Predicted digit: 8\n",
      "5. Actual digit: 9 Predicted digit: 4\n",
      "6. Actual digit: 7 Predicted digit: 9\n",
      "7. Actual digit: 4 Predicted digit: 7\n",
      "8. Actual digit: 0 Predicted digit: 8\n",
      "9. Actual digit: 5 Predicted digit: 8\n",
      "10. Actual digit: 7 Predicted digit: 8\n"
     ]
    },
    {
     "data": {
      "image/png": "[encoded data removed]",
      "text/plain": [
       "<Figure size 720x360 with 10 Axes>"
      ]
     },
     "metadata": {},
     "output_type": "display_data"
    }
   ],
   "source": [
    "# Create a vector that allows errors to be identified.\n",
    "errors = test_y_classes - test_preds_classes\n",
    "error_indexes = np.where(errors != 0)\n",
    "\n",
    "# Plot the first 10 errors.\n",
    "fig = plt.figure(figsize=(10,5))\n",
    "rows = 2\n",
    "columns = 5\n",
    "for i in range(0, 10):\n",
    "    print(str(i+1)+'. Actual digit: ' + str(test_y_classes[error_indexes[0][i]]) +\n",
    "          ' Predicted digit: ' + str(test_preds_classes[error_indexes[0][i]]))\n",
    "    fig.add_subplot(rows, columns, i+1)\n",
    "    plt.imshow(test_x_final[error_indexes[0][i]][:,:,0]);\n",
    "plt.show()\n"
   ]
  }
 ],
 "metadata": {
  "colab": {
   "collapsed_sections": [],
   "name": "DAA_M05_CS2_v4.ipynb",
   "provenance": [],
   "toc_visible": true
  },
  "kernelspec": {
   "display_name": "Python 3",
   "language": "python",
   "name": "python3"
  },
  "language_info": {
   "codemirror_mode": {
    "name": "ipython",
    "version": 3
   },
   "file_extension": ".py",
   "mimetype": "text/x-python",
   "name": "python",
   "nbconvert_exporter": "python",
   "pygments_lexer": "ipython3",
   "version": "3.6.5"
  }
 },
 "nbformat": 4,
 "nbformat_minor": 1
}
