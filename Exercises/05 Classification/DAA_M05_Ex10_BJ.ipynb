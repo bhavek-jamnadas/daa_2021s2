{
 "cells": [
  {
   "cell_type": "markdown",
   "metadata": {
    "id": "CCQnFPoHrj0A"
   },
   "source": [
    "# DAA M05 Classification and neural networks\n",
    "## Exercise 5.10 - Spam detection with a decision tree\n",
    "\n",
    "### Purpose:\n",
    "This notebook fits a decision tree to the spam dataset that is described in Section 5.1.2 of Module 5. This code is used in Exercise 5.10.\n",
    "\n",
    "### References:\n",
    "The spam dataset is sourced from the University of California, Irvine Machine Learning Repository:   Hopkins, M., Reeber, E., Forman, G., and Suermondt, J. (1999). Spambase Data Set [Dataset]. https://archive.ics.uci.edu/ml/datasets/Spambase.\n",
    "\n",
    "This dataset contains the following:\n",
    "- 4,601 observations, each representing an email originally collected from a Hewlett-Packard email server, of which 1,813 (39%) were identified as spam;\n",
    "- 57 continuous features:\n",
    "  - 48 features of type ‘word_freq_WORD’ that represent the percentage (0 to 100) of words in the email that match ‘WORD’;\n",
    "  - 6 features of type ‘char_freq_CHAR’ that represent the percentage (0 to 100) of characters in the email that match ‘CHAR’;\n",
    "  - 1 feature, ‘capital_run_length_average’, that is the average length of uninterrupted sequences of capital letters in the email;\n",
    "  - 1 feature, ‘capital_run_length_longest’, that is the length of the longest uninterrupted sequence of capital letters in the email; and\n",
    "  - 1 feature, ‘capital_run_length_total’, that is the total number of capital letters in the email; and\n",
    "- a binary response variable that takes on a value 0 if the email is not spam and 1 if the email is spam.\n",
    "\n",
    "\n"
   ]
  },
  {
   "cell_type": "markdown",
   "metadata": {
    "id": "K_rSq2wIcRJX"
   },
   "source": [
    "## Packages\n",
    "This section imports the packages that will be required for this exercise/case study."
   ]
  },
  {
   "cell_type": "code",
   "execution_count": 1,
   "metadata": {
    "id": "PtZcfo9S0Iz3"
   },
   "outputs": [],
   "source": [
    "import pandas as pd\n",
    "import matplotlib.pyplot as plt\n",
    "\n",
    "# Used to build the decision tree and evaluate it\n",
    "from sklearn import tree\n",
    "from sklearn.model_selection import train_test_split\n",
    "from sklearn.metrics import classification_report, confusion_matrix, accuracy_score\n",
    "import sklearn.metrics as metrics\n",
    "\n",
    "# Used to graph the decision tree\n",
    "import graphviz\n",
    "from sklearn.tree import export_graphviz\n",
    "from IPython.display import Image"
   ]
  },
  {
   "cell_type": "markdown",
   "metadata": {
    "id": "XtH1xIdDckw4"
   },
   "source": [
    "## Data\n",
    "This section:\n",
    "- imports the data that will be used in the modelling; and\n",
    "- explores the data."
   ]
  },
  {
   "cell_type": "markdown",
   "metadata": {
    "id": "qdNRIf5fcnmx"
   },
   "source": [
    "### Import data"
   ]
  },
  {
   "cell_type": "code",
   "execution_count": 2,
   "metadata": {
    "id": "PtzjVpkd0I0j",
    "scrolled": true
   },
   "outputs": [],
   "source": [
    "# Create a list of headings for the data.\n",
    "namearray = [\n",
    "'word_freq_make',\n",
    "'word_freq_address',\n",
    "'word_freq_all',\n",
    "'word_freq_3d',\n",
    "'word_freq_our',\n",
    "'word_freq_over',\n",
    "'word_freq_remove',\n",
    "'word_freq_internet',\n",
    "'word_freq_order',\n",
    "'word_freq_mail',\n",
    "'word_freq_receive',\n",
    "'word_freq_will',\n",
    "'word_freq_people',\n",
    "'word_freq_report',\n",
    "'word_freq_addresses',\n",
    "'word_freq_free',\n",
    "'word_freq_business',\n",
    "'word_freq_email',\n",
    "'word_freq_you',\n",
    "'word_freq_credit',\n",
    "'word_freq_your',\n",
    "'word_freq_font',\n",
    "'word_freq_000',\n",
    "'word_freq_money',\n",
    "'word_freq_hp',\n",
    "'word_freq_hpl',\n",
    "'word_freq_george',\n",
    "'word_freq_650',\n",
    "'word_freq_lab',\n",
    "'word_freq_labs',\n",
    "'word_freq_telnet',\n",
    "'word_freq_857',\n",
    "'word_freq_data',\n",
    "'word_freq_415',\n",
    "'word_freq_85',\n",
    "'word_freq_technology',\n",
    "'word_freq_1999',\n",
    "'word_freq_parts',\n",
    "'word_freq_pm',\n",
    "'word_freq_direct',\n",
    "'word_freq_cs',\n",
    "'word_freq_meeting',\n",
    "'word_freq_original',\n",
    "'word_freq_project',\n",
    "'word_freq_re',\n",
    "'word_freq_edu',\n",
    "'word_freq_table',\n",
    "'word_freq_conference',\n",
    "'char_freq_;',\n",
    "'char_freq_(',\n",
    "'char_freq_[',\n",
    "'char_freq_!',\n",
    "'char_freq_$',\n",
    "'char_freq_#',\n",
    "'capital_run_length_average',\n",
    "'capital_run_length_longest',\n",
    "'capital_run_length_total',\n",
    "'Spam_fl' ]\n",
    "\n",
    "# Read in the data from the Stanford website.\n",
    "spam = pd.read_csv(\"~/personal/daa_2021s2/Exercises/05 Classification/Datasets/spam.data\", delim_whitespace=True, \n",
    "                   header=None,\n",
    "                   names=namearray\n",
    "                 )\n",
    "\n"
   ]
  },
  {
   "cell_type": "markdown",
   "metadata": {
    "id": "l889IE-Bd9om"
   },
   "source": [
    "### Explore data (EDA)"
   ]
  },
  {
   "cell_type": "code",
   "execution_count": 3,
   "metadata": {
    "colab": {
     "base_uri": "https://localhost:8080/"
    },
    "id": "jIP7XGGceDR_",
    "outputId": "3be3c26a-4c28-4816-a6b3-d3b191231c13"
   },
   "outputs": [
    {
     "name": "stdout",
     "output_type": "stream",
     "text": [
      "<class 'pandas.core.frame.DataFrame'>\n",
      "RangeIndex: 4601 entries, 0 to 4600\n",
      "Data columns (total 58 columns):\n",
      " #   Column                      Non-Null Count  Dtype  \n",
      "---  ------                      --------------  -----  \n",
      " 0   word_freq_make              4601 non-null   float64\n",
      " 1   word_freq_address           4601 non-null   float64\n",
      " 2   word_freq_all               4601 non-null   float64\n",
      " 3   word_freq_3d                4601 non-null   float64\n",
      " 4   word_freq_our               4601 non-null   float64\n",
      " 5   word_freq_over              4601 non-null   float64\n",
      " 6   word_freq_remove            4601 non-null   float64\n",
      " 7   word_freq_internet          4601 non-null   float64\n",
      " 8   word_freq_order             4601 non-null   float64\n",
      " 9   word_freq_mail              4601 non-null   float64\n",
      " 10  word_freq_receive           4601 non-null   float64\n",
      " 11  word_freq_will              4601 non-null   float64\n",
      " 12  word_freq_people            4601 non-null   float64\n",
      " 13  word_freq_report            4601 non-null   float64\n",
      " 14  word_freq_addresses         4601 non-null   float64\n",
      " 15  word_freq_free              4601 non-null   float64\n",
      " 16  word_freq_business          4601 non-null   float64\n",
      " 17  word_freq_email             4601 non-null   float64\n",
      " 18  word_freq_you               4601 non-null   float64\n",
      " 19  word_freq_credit            4601 non-null   float64\n",
      " 20  word_freq_your              4601 non-null   float64\n",
      " 21  word_freq_font              4601 non-null   float64\n",
      " 22  word_freq_000               4601 non-null   float64\n",
      " 23  word_freq_money             4601 non-null   float64\n",
      " 24  word_freq_hp                4601 non-null   float64\n",
      " 25  word_freq_hpl               4601 non-null   float64\n",
      " 26  word_freq_george            4601 non-null   float64\n",
      " 27  word_freq_650               4601 non-null   float64\n",
      " 28  word_freq_lab               4601 non-null   float64\n",
      " 29  word_freq_labs              4601 non-null   float64\n",
      " 30  word_freq_telnet            4601 non-null   float64\n",
      " 31  word_freq_857               4601 non-null   float64\n",
      " 32  word_freq_data              4601 non-null   float64\n",
      " 33  word_freq_415               4601 non-null   float64\n",
      " 34  word_freq_85                4601 non-null   float64\n",
      " 35  word_freq_technology        4601 non-null   float64\n",
      " 36  word_freq_1999              4601 non-null   float64\n",
      " 37  word_freq_parts             4601 non-null   float64\n",
      " 38  word_freq_pm                4601 non-null   float64\n",
      " 39  word_freq_direct            4601 non-null   float64\n",
      " 40  word_freq_cs                4601 non-null   float64\n",
      " 41  word_freq_meeting           4601 non-null   float64\n",
      " 42  word_freq_original          4601 non-null   float64\n",
      " 43  word_freq_project           4601 non-null   float64\n",
      " 44  word_freq_re                4601 non-null   float64\n",
      " 45  word_freq_edu               4601 non-null   float64\n",
      " 46  word_freq_table             4601 non-null   float64\n",
      " 47  word_freq_conference        4601 non-null   float64\n",
      " 48  char_freq_;                 4601 non-null   float64\n",
      " 49  char_freq_(                 4601 non-null   float64\n",
      " 50  char_freq_[                 4601 non-null   float64\n",
      " 51  char_freq_!                 4601 non-null   float64\n",
      " 52  char_freq_$                 4601 non-null   float64\n",
      " 53  char_freq_#                 4601 non-null   float64\n",
      " 54  capital_run_length_average  4601 non-null   float64\n",
      " 55  capital_run_length_longest  4601 non-null   int64  \n",
      " 56  capital_run_length_total    4601 non-null   int64  \n",
      " 57  Spam_fl                     4601 non-null   int64  \n",
      "dtypes: float64(55), int64(3)\n",
      "memory usage: 2.0 MB\n",
      "None\n",
      "   word_freq_make  word_freq_address  word_freq_all  word_freq_3d  \\\n",
      "0            0.00               0.64           0.64           0.0   \n",
      "1            0.21               0.28           0.50           0.0   \n",
      "2            0.06               0.00           0.71           0.0   \n",
      "3            0.00               0.00           0.00           0.0   \n",
      "4            0.00               0.00           0.00           0.0   \n",
      "5            0.00               0.00           0.00           0.0   \n",
      "6            0.00               0.00           0.00           0.0   \n",
      "7            0.00               0.00           0.00           0.0   \n",
      "8            0.15               0.00           0.46           0.0   \n",
      "9            0.06               0.12           0.77           0.0   \n",
      "\n",
      "   word_freq_our  word_freq_over  word_freq_remove  word_freq_internet  \\\n",
      "0           0.32            0.00              0.00                0.00   \n",
      "1           0.14            0.28              0.21                0.07   \n",
      "2           1.23            0.19              0.19                0.12   \n",
      "3           0.63            0.00              0.31                0.63   \n",
      "4           0.63            0.00              0.31                0.63   \n",
      "5           1.85            0.00              0.00                1.85   \n",
      "6           1.92            0.00              0.00                0.00   \n",
      "7           1.88            0.00              0.00                1.88   \n",
      "8           0.61            0.00              0.30                0.00   \n",
      "9           0.19            0.32              0.38                0.00   \n",
      "\n",
      "   word_freq_order  word_freq_mail  ...  char_freq_;  char_freq_(  \\\n",
      "0             0.00            0.00  ...         0.00        0.000   \n",
      "1             0.00            0.94  ...         0.00        0.132   \n",
      "2             0.64            0.25  ...         0.01        0.143   \n",
      "3             0.31            0.63  ...         0.00        0.137   \n",
      "4             0.31            0.63  ...         0.00        0.135   \n",
      "5             0.00            0.00  ...         0.00        0.223   \n",
      "6             0.00            0.64  ...         0.00        0.054   \n",
      "7             0.00            0.00  ...         0.00        0.206   \n",
      "8             0.92            0.76  ...         0.00        0.271   \n",
      "9             0.06            0.00  ...         0.04        0.030   \n",
      "\n",
      "   char_freq_[  char_freq_!  char_freq_$  char_freq_#  \\\n",
      "0          0.0        0.778        0.000        0.000   \n",
      "1          0.0        0.372        0.180        0.048   \n",
      "2          0.0        0.276        0.184        0.010   \n",
      "3          0.0        0.137        0.000        0.000   \n",
      "4          0.0        0.135        0.000        0.000   \n",
      "5          0.0        0.000        0.000        0.000   \n",
      "6          0.0        0.164        0.054        0.000   \n",
      "7          0.0        0.000        0.000        0.000   \n",
      "8          0.0        0.181        0.203        0.022   \n",
      "9          0.0        0.244        0.081        0.000   \n",
      "\n",
      "   capital_run_length_average  capital_run_length_longest  \\\n",
      "0                       3.756                          61   \n",
      "1                       5.114                         101   \n",
      "2                       9.821                         485   \n",
      "3                       3.537                          40   \n",
      "4                       3.537                          40   \n",
      "5                       3.000                          15   \n",
      "6                       1.671                           4   \n",
      "7                       2.450                          11   \n",
      "8                       9.744                         445   \n",
      "9                       1.729                          43   \n",
      "\n",
      "   capital_run_length_total  Spam_fl  \n",
      "0                       278        1  \n",
      "1                      1028        1  \n",
      "2                      2259        1  \n",
      "3                       191        1  \n",
      "4                       191        1  \n",
      "5                        54        1  \n",
      "6                       112        1  \n",
      "7                        49        1  \n",
      "8                      1257        1  \n",
      "9                       749        1  \n",
      "\n",
      "[10 rows x 58 columns]\n"
     ]
    }
   ],
   "source": [
    "# Check the dimensions of the data.\n",
    "print(spam.info())\n",
    "\n",
    "# Print the first 10 observations from the data.\n",
    "print(spam.head(10))\n"
   ]
  },
  {
   "cell_type": "markdown",
   "metadata": {
    "id": "eFnOsOccebBx"
   },
   "source": [
    "## Modelling\n",
    "This section:\n",
    "- fits a model; and\n",
    "- evaluates the fitted model."
   ]
  },
  {
   "cell_type": "markdown",
   "metadata": {
    "id": "FpS_0ESOeiJ-"
   },
   "source": [
    "### Fit model"
   ]
  },
  {
   "cell_type": "code",
   "execution_count": 13,
   "metadata": {
    "colab": {
     "base_uri": "https://localhost:8080/",
     "height": 248
    },
    "id": "iX2yxfAl0I1x",
    "outputId": "2261cc74-3a36-48eb-a1e2-3b1764698f59"
   },
   "outputs": [
    {
     "data": {
      "image/png": "[encoded data removed]",
      "text/plain": [
       "<Figure size 432x288 with 1 Axes>"
      ]
     },
     "metadata": {},
     "output_type": "display_data"
    }
   ],
   "source": [
    "# Build a decision tree to classify an email as spam or non-spam.\n",
    "\n",
    "X = spam.iloc[:,:-1] # Drops the last column of the dataframe that contains the spam indicator (response).\n",
    "Y = spam['Spam_fl'].values\n",
    "X_train,X_test,Y_train,Y_test = train_test_split(X,Y,test_size = 0.25, random_state=42)\n",
    "        # This separates the data into training (75%) and test (25%) datasets.\n",
    "\n",
    "alpha = 0.001 # Experiment with changing this value of alpha.\n",
    "              # What happens to the size of the decision tree and its accuracy?\n",
    "\n",
    "criteria = 'entropy' # Experiment with changing this to an 'entropy' criterion\n",
    "                  # What happens to the size of the decision tree and its accuracy?        \n",
    "\n",
    "classifier = tree.DecisionTreeClassifier(random_state=0, ccp_alpha=alpha, min_samples_split=20, criterion=criteria, min_samples_leaf=5)\n",
    "classifier.fit(X_train, Y_train)\n",
    "tree.plot_tree(classifier) \n",
    "\n",
    "Y_predict = classifier.predict(X_test)"
   ]
  },
  {
   "cell_type": "markdown",
   "metadata": {
    "id": "uHIZwBFrfE-_"
   },
   "source": [
    "### Evaluate model"
   ]
  },
  {
   "cell_type": "code",
   "execution_count": 14,
   "metadata": {
    "colab": {
     "base_uri": "https://localhost:8080/"
    },
    "id": "vKi19JTBfI4L",
    "outputId": "a275e195-0336-43d2-815f-39dd1b17ef96"
   },
   "outputs": [
    {
     "name": "stdout",
     "output_type": "stream",
     "text": [
      "Test confusion matrix:\n",
      "[[638  38]\n",
      " [ 51 424]]\n",
      "Test accuracy is 0.9227.\n",
      "AUC is 0.9545.\n",
      "The number of terminal nodes is 88.\n"
     ]
    }
   ],
   "source": [
    "# Calculate the confusion matrix and test accuracy.\n",
    "print('Test confusion matrix:')\n",
    "print(confusion_matrix(Y_test, Y_predict))\n",
    "print('Test accuracy is {:.4f}.'.format(accuracy_score(Y_test, Y_predict)))\n",
    "\n",
    "# Calculate the AUC and ROC.\n",
    "Y_prob = classifier.predict_proba(X_test)\n",
    "fpr, tpr, threshold = metrics.roc_curve(Y_test, Y_prob[:,1:2])\n",
    "roc_auc = metrics.auc(fpr, tpr)\n",
    "print('AUC is {:.4f}.'.format(roc_auc))\n",
    "\n",
    "# Calculate the number of terminal nodes in the tree.\n",
    "num_nodes = (1+classifier.tree_.node_count)/2\n",
    "print('The number of terminal nodes is {:.0f}.'.format(num_nodes))"
   ]
  },
  {
   "cell_type": "code",
   "execution_count": 15,
   "metadata": {
    "colab": {
     "base_uri": "https://localhost:8080/",
     "height": 753
    },
    "id": "JtrjvONl0I2A",
    "outputId": "59302a54-8815-444c-ce97-d5d8371ae4e7"
   },
   "outputs": [
    {
     "name": "stdout",
     "output_type": "stream",
     "text": [
      "/usr/bin/sh: dot: command not found\r\n"
     ]
    },
    {
     "ename": "FileNotFoundError",
     "evalue": "[Errno 2] No such file or directory: 'DAA_M05_Fig11.png'",
     "output_type": "error",
     "traceback": [
      "\u001b[0;31m---------------------------------------------------------------------------\u001b[0m",
      "\u001b[0;31mFileNotFoundError\u001b[0m                         Traceback (most recent call last)",
      "\u001b[0;32m<ipython-input-15-9f54064d4031>\u001b[0m in \u001b[0;36m<module>\u001b[0;34m()\u001b[0m\n\u001b[1;32m      6\u001b[0m \u001b[0mget_ipython\u001b[0m\u001b[0;34m(\u001b[0m\u001b[0;34m)\u001b[0m\u001b[0;34m.\u001b[0m\u001b[0msystem\u001b[0m\u001b[0;34m(\u001b[0m\u001b[0;34m' dot -Tpng DAA_M05_Fig11.dot -o DAA_M05_Fig11.png'\u001b[0m\u001b[0;34m)\u001b[0m\u001b[0;34m\u001b[0m\u001b[0m\n\u001b[1;32m      7\u001b[0m \u001b[0;34m\u001b[0m\u001b[0m\n\u001b[0;32m----> 8\u001b[0;31m \u001b[0mImage\u001b[0m\u001b[0;34m(\u001b[0m\u001b[0mfilename\u001b[0m\u001b[0;34m=\u001b[0m\u001b[0;34m'DAA_M05_Fig11.png'\u001b[0m\u001b[0;34m)\u001b[0m\u001b[0;34m\u001b[0m\u001b[0m\n\u001b[0m",
      "\u001b[0;32m~/anaconda3/lib/python3.6/site-packages/IPython/core/display.py\u001b[0m in \u001b[0;36m__init__\u001b[0;34m(self, data, url, filename, format, embed, width, height, retina, unconfined, metadata)\u001b[0m\n\u001b[1;32m   1149\u001b[0m         \u001b[0mself\u001b[0m\u001b[0;34m.\u001b[0m\u001b[0munconfined\u001b[0m \u001b[0;34m=\u001b[0m \u001b[0munconfined\u001b[0m\u001b[0;34m\u001b[0m\u001b[0m\n\u001b[1;32m   1150\u001b[0m         super(Image, self).__init__(data=data, url=url, filename=filename, \n\u001b[0;32m-> 1151\u001b[0;31m                 metadata=metadata)\n\u001b[0m\u001b[1;32m   1152\u001b[0m \u001b[0;34m\u001b[0m\u001b[0m\n\u001b[1;32m   1153\u001b[0m         \u001b[0;32mif\u001b[0m \u001b[0mself\u001b[0m\u001b[0;34m.\u001b[0m\u001b[0mwidth\u001b[0m \u001b[0;32mis\u001b[0m \u001b[0;32mNone\u001b[0m \u001b[0;32mand\u001b[0m \u001b[0mself\u001b[0m\u001b[0;34m.\u001b[0m\u001b[0mmetadata\u001b[0m\u001b[0;34m.\u001b[0m\u001b[0mget\u001b[0m\u001b[0;34m(\u001b[0m\u001b[0;34m'width'\u001b[0m\u001b[0;34m,\u001b[0m \u001b[0;34m{\u001b[0m\u001b[0;34m}\u001b[0m\u001b[0;34m)\u001b[0m\u001b[0;34m:\u001b[0m\u001b[0;34m\u001b[0m\u001b[0m\n",
      "\u001b[0;32m~/anaconda3/lib/python3.6/site-packages/IPython/core/display.py\u001b[0m in \u001b[0;36m__init__\u001b[0;34m(self, data, url, filename, metadata)\u001b[0m\n\u001b[1;32m    607\u001b[0m             \u001b[0mself\u001b[0m\u001b[0;34m.\u001b[0m\u001b[0mmetadata\u001b[0m \u001b[0;34m=\u001b[0m \u001b[0;34m{\u001b[0m\u001b[0;34m}\u001b[0m\u001b[0;34m\u001b[0m\u001b[0m\n\u001b[1;32m    608\u001b[0m \u001b[0;34m\u001b[0m\u001b[0m\n\u001b[0;32m--> 609\u001b[0;31m         \u001b[0mself\u001b[0m\u001b[0;34m.\u001b[0m\u001b[0mreload\u001b[0m\u001b[0;34m(\u001b[0m\u001b[0;34m)\u001b[0m\u001b[0;34m\u001b[0m\u001b[0m\n\u001b[0m\u001b[1;32m    610\u001b[0m         \u001b[0mself\u001b[0m\u001b[0;34m.\u001b[0m\u001b[0m_check_data\u001b[0m\u001b[0;34m(\u001b[0m\u001b[0;34m)\u001b[0m\u001b[0;34m\u001b[0m\u001b[0m\n\u001b[1;32m    611\u001b[0m \u001b[0;34m\u001b[0m\u001b[0m\n",
      "\u001b[0;32m~/anaconda3/lib/python3.6/site-packages/IPython/core/display.py\u001b[0m in \u001b[0;36mreload\u001b[0;34m(self)\u001b[0m\n\u001b[1;32m   1180\u001b[0m         \u001b[0;34m\"\"\"Reload the raw data from file or URL.\"\"\"\u001b[0m\u001b[0;34m\u001b[0m\u001b[0m\n\u001b[1;32m   1181\u001b[0m         \u001b[0;32mif\u001b[0m \u001b[0mself\u001b[0m\u001b[0;34m.\u001b[0m\u001b[0membed\u001b[0m\u001b[0;34m:\u001b[0m\u001b[0;34m\u001b[0m\u001b[0m\n\u001b[0;32m-> 1182\u001b[0;31m             \u001b[0msuper\u001b[0m\u001b[0;34m(\u001b[0m\u001b[0mImage\u001b[0m\u001b[0;34m,\u001b[0m\u001b[0mself\u001b[0m\u001b[0;34m)\u001b[0m\u001b[0;34m.\u001b[0m\u001b[0mreload\u001b[0m\u001b[0;34m(\u001b[0m\u001b[0;34m)\u001b[0m\u001b[0;34m\u001b[0m\u001b[0m\n\u001b[0m\u001b[1;32m   1183\u001b[0m             \u001b[0;32mif\u001b[0m \u001b[0mself\u001b[0m\u001b[0;34m.\u001b[0m\u001b[0mretina\u001b[0m\u001b[0;34m:\u001b[0m\u001b[0;34m\u001b[0m\u001b[0m\n\u001b[1;32m   1184\u001b[0m                 \u001b[0mself\u001b[0m\u001b[0;34m.\u001b[0m\u001b[0m_retina_shape\u001b[0m\u001b[0;34m(\u001b[0m\u001b[0;34m)\u001b[0m\u001b[0;34m\u001b[0m\u001b[0m\n",
      "\u001b[0;32m~/anaconda3/lib/python3.6/site-packages/IPython/core/display.py\u001b[0m in \u001b[0;36mreload\u001b[0;34m(self)\u001b[0m\n\u001b[1;32m    632\u001b[0m         \u001b[0;34m\"\"\"Reload the raw data from file or URL.\"\"\"\u001b[0m\u001b[0;34m\u001b[0m\u001b[0m\n\u001b[1;32m    633\u001b[0m         \u001b[0;32mif\u001b[0m \u001b[0mself\u001b[0m\u001b[0;34m.\u001b[0m\u001b[0mfilename\u001b[0m \u001b[0;32mis\u001b[0m \u001b[0;32mnot\u001b[0m \u001b[0;32mNone\u001b[0m\u001b[0;34m:\u001b[0m\u001b[0;34m\u001b[0m\u001b[0m\n\u001b[0;32m--> 634\u001b[0;31m             \u001b[0;32mwith\u001b[0m \u001b[0mopen\u001b[0m\u001b[0;34m(\u001b[0m\u001b[0mself\u001b[0m\u001b[0;34m.\u001b[0m\u001b[0mfilename\u001b[0m\u001b[0;34m,\u001b[0m \u001b[0mself\u001b[0m\u001b[0;34m.\u001b[0m\u001b[0m_read_flags\u001b[0m\u001b[0;34m)\u001b[0m \u001b[0;32mas\u001b[0m \u001b[0mf\u001b[0m\u001b[0;34m:\u001b[0m\u001b[0;34m\u001b[0m\u001b[0m\n\u001b[0m\u001b[1;32m    635\u001b[0m                 \u001b[0mself\u001b[0m\u001b[0;34m.\u001b[0m\u001b[0mdata\u001b[0m \u001b[0;34m=\u001b[0m \u001b[0mf\u001b[0m\u001b[0;34m.\u001b[0m\u001b[0mread\u001b[0m\u001b[0;34m(\u001b[0m\u001b[0;34m)\u001b[0m\u001b[0;34m\u001b[0m\u001b[0m\n\u001b[1;32m    636\u001b[0m         \u001b[0;32melif\u001b[0m \u001b[0mself\u001b[0m\u001b[0;34m.\u001b[0m\u001b[0murl\u001b[0m \u001b[0;32mis\u001b[0m \u001b[0;32mnot\u001b[0m \u001b[0;32mNone\u001b[0m\u001b[0;34m:\u001b[0m\u001b[0;34m\u001b[0m\u001b[0m\n",
      "\u001b[0;31mFileNotFoundError\u001b[0m: [Errno 2] No such file or directory: 'DAA_M05_Fig11.png'"
     ]
    }
   ],
   "source": [
    "# Print the tree in a format that is easier to visualise.\n",
    "clf2 = tree.DecisionTreeClassifier(random_state=0, ccp_alpha=0.01, min_samples_split=20, criterion=\"gini\",min_samples_leaf=5)\n",
    "clf2.fit(X_train, Y_train)\n",
    "\n",
    "export_graphviz(clf2, 'DAA_M05_Fig11.dot', feature_names = X_train.columns,class_names=['Not Spam', 'Spam'],filled=True, rounded=True,special_characters=True)\n",
    "! dot -Tpng DAA_M05_Fig11.dot -o DAA_M05_Fig11.png\n",
    "\n",
    "Image(filename='DAA_M05_Fig11.png') "
   ]
  }
 ],
 "metadata": {
  "colab": {
   "name": "DAA_M05_Ex10_v2.ipynb",
   "provenance": []
  },
  "kernelspec": {
   "display_name": "Python 3",
   "language": "python",
   "name": "python3"
  },
  "language_info": {
   "codemirror_mode": {
    "name": "ipython",
    "version": 3
   },
   "file_extension": ".py",
   "mimetype": "text/x-python",
   "name": "python",
   "nbconvert_exporter": "python",
   "pygments_lexer": "ipython3",
   "version": "3.6.5"
  }
 },
 "nbformat": 4,
 "nbformat_minor": 1
}
