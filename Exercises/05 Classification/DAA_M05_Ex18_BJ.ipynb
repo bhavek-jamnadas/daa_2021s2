{
 "cells": [
  {
   "cell_type": "markdown",
   "metadata": {
    "id": "CCQnFPoHrj0A"
   },
   "source": [
    "# DAA M05 Classification and neural networks\n",
    "## Exercise 5.18 - Spam detection with a neural network\n",
    "\n",
    "### Purpose:\n",
    "This notebook fits a neural network to the spam dataset that is described in Section 5.1.2 of Module 5. This code is used in Exercise 5.18.\n",
    "\n",
    "### References:\n",
    "The spam dataset is sourced from the University of California, Irvine Machine Learning Repository:   Hopkins, M., Reeber, E., Forman, G., and Suermondt, J. (1999). Spambase Data Set [Dataset]. https://archive.ics.uci.edu/ml/datasets/Spambase.\n",
    "\n",
    "This dataset contains the following:\n",
    "- 4,601 observations, each representing an email originally collected from a Hewlett-Packard email server, of which 1,813 (39%) were identified as spam;\n",
    "- 57 continuous features:\n",
    "  - 48 features of type ‘word_freq_WORD’ that represent the percentage (0 to 100) of words in the email that match ‘WORD’;\n",
    "  - 6 features of type ‘char_freq_CHAR’ that represent the percentage (0 to 100) of characters in the email that match ‘CHAR’;\n",
    "  - 1 feature, ‘capital_run_length_average’, that is the average length of uninterrupted sequences of capital letters in the email;\n",
    "  - 1 feature, ‘capital_run_length_longest’, that is the length of the longest uninterrupted sequence of capital letters in the email; and\n",
    "  - 1 feature, ‘capital_run_length_total’, that is the total number of capital letters in the email; and\n",
    "- a binary response variable that takes on a value 0 if the email is not spam and 1 if the email is spam."
   ]
  },
  {
   "cell_type": "markdown",
   "metadata": {
    "id": "ApdQIoJ9iO6t"
   },
   "source": [
    "## Packages\n",
    "This section imports the packages that will be required for this exercise/case study."
   ]
  },
  {
   "cell_type": "code",
   "execution_count": 27,
   "metadata": {
    "id": "PtZcfo9S0Iz3"
   },
   "outputs": [],
   "source": [
    "import numpy as np\n",
    "import pandas as pd\n",
    "import matplotlib.pyplot as plt\n",
    "\n",
    "# Used to build the neural network and evaluate it.\n",
    "from sklearn.model_selection import train_test_split\n",
    "from sklearn.preprocessing import StandardScaler\n",
    "from sklearn.preprocessing import OneHotEncoder\n",
    "from tensorflow.keras import Sequential\n",
    "from tensorflow.keras.layers import Dense"
   ]
  },
  {
   "cell_type": "markdown",
   "metadata": {
    "id": "2i3kNl1iiZxx"
   },
   "source": [
    "## Data\n",
    "This section:\n",
    "- imports the data that will be used in the modelling; and\n",
    "- explores the data."
   ]
  },
  {
   "cell_type": "markdown",
   "metadata": {
    "id": "JdK7T28iicnA"
   },
   "source": [
    "### Import data"
   ]
  },
  {
   "cell_type": "code",
   "execution_count": 3,
   "metadata": {
    "id": "PtzjVpkd0I0j",
    "scrolled": true
   },
   "outputs": [],
   "source": [
    "# Create a list of headings for the data.\n",
    "namearray = [\n",
    "'word_freq_make',\n",
    "'word_freq_address',\n",
    "'word_freq_all',\n",
    "'word_freq_3d',\n",
    "'word_freq_our',\n",
    "'word_freq_over',\n",
    "'word_freq_remove',\n",
    "'word_freq_internet',\n",
    "'word_freq_order',\n",
    "'word_freq_mail',\n",
    "'word_freq_receive',\n",
    "'word_freq_will',\n",
    "'word_freq_people',\n",
    "'word_freq_report',\n",
    "'word_freq_addresses',\n",
    "'word_freq_free',\n",
    "'word_freq_business',\n",
    "'word_freq_email',\n",
    "'word_freq_you',\n",
    "'word_freq_credit',\n",
    "'word_freq_your',\n",
    "'word_freq_font',\n",
    "'word_freq_000',\n",
    "'word_freq_money',\n",
    "'word_freq_hp',\n",
    "'word_freq_hpl',\n",
    "'word_freq_george',\n",
    "'word_freq_650',\n",
    "'word_freq_lab',\n",
    "'word_freq_labs',\n",
    "'word_freq_telnet',\n",
    "'word_freq_857',\n",
    "'word_freq_data',\n",
    "'word_freq_415',\n",
    "'word_freq_85',\n",
    "'word_freq_technology',\n",
    "'word_freq_1999',\n",
    "'word_freq_parts',\n",
    "'word_freq_pm',\n",
    "'word_freq_direct',\n",
    "'word_freq_cs',\n",
    "'word_freq_meeting',\n",
    "'word_freq_original',\n",
    "'word_freq_project',\n",
    "'word_freq_re',\n",
    "'word_freq_edu',\n",
    "'word_freq_table',\n",
    "'word_freq_conference',\n",
    "'char_freq_;',\n",
    "'char_freq_(',\n",
    "'char_freq_[',\n",
    "'char_freq_!',\n",
    "'char_freq_$',\n",
    "'char_freq_#',\n",
    "'capital_run_length_average',\n",
    "'capital_run_length_longest',\n",
    "'capital_run_length_total',\n",
    "'Spam_fl' ]\n",
    "\n",
    "# Read in the data from the Stanford website.\n",
    "# spam = pd.read_csv(\"http://www.web.stanford.edu/~hastie/ElemStatLearn/datasets/spam.data\", delim_whitespace=True, \n",
    "#                    header=None,\n",
    "#                    names=namearray\n",
    "#                  )\n",
    "\n",
    "\n",
    "# Read in the data from the Stanford website.\n",
    "spam = pd.read_csv(\"~/personal/daa_2021s2/Exercises/05 Classification/Datasets/spam.data\", delim_whitespace=True, \n",
    "                   header=None,\n",
    "                   names=namearray\n",
    "                 )\n"
   ]
  },
  {
   "cell_type": "markdown",
   "metadata": {
    "id": "09rPRrT1ijJH"
   },
   "source": [
    "### Explore data (EDA)"
   ]
  },
  {
   "cell_type": "code",
   "execution_count": 4,
   "metadata": {
    "colab": {
     "base_uri": "https://localhost:8080/"
    },
    "id": "LfdpSgVAioVE",
    "outputId": "6d0cf748-32da-4d60-a847-bb34819b03d2"
   },
   "outputs": [
    {
     "name": "stdout",
     "output_type": "stream",
     "text": [
      "<class 'pandas.core.frame.DataFrame'>\n",
      "RangeIndex: 4601 entries, 0 to 4600\n",
      "Data columns (total 58 columns):\n",
      " #   Column                      Non-Null Count  Dtype  \n",
      "---  ------                      --------------  -----  \n",
      " 0   word_freq_make              4601 non-null   float64\n",
      " 1   word_freq_address           4601 non-null   float64\n",
      " 2   word_freq_all               4601 non-null   float64\n",
      " 3   word_freq_3d                4601 non-null   float64\n",
      " 4   word_freq_our               4601 non-null   float64\n",
      " 5   word_freq_over              4601 non-null   float64\n",
      " 6   word_freq_remove            4601 non-null   float64\n",
      " 7   word_freq_internet          4601 non-null   float64\n",
      " 8   word_freq_order             4601 non-null   float64\n",
      " 9   word_freq_mail              4601 non-null   float64\n",
      " 10  word_freq_receive           4601 non-null   float64\n",
      " 11  word_freq_will              4601 non-null   float64\n",
      " 12  word_freq_people            4601 non-null   float64\n",
      " 13  word_freq_report            4601 non-null   float64\n",
      " 14  word_freq_addresses         4601 non-null   float64\n",
      " 15  word_freq_free              4601 non-null   float64\n",
      " 16  word_freq_business          4601 non-null   float64\n",
      " 17  word_freq_email             4601 non-null   float64\n",
      " 18  word_freq_you               4601 non-null   float64\n",
      " 19  word_freq_credit            4601 non-null   float64\n",
      " 20  word_freq_your              4601 non-null   float64\n",
      " 21  word_freq_font              4601 non-null   float64\n",
      " 22  word_freq_000               4601 non-null   float64\n",
      " 23  word_freq_money             4601 non-null   float64\n",
      " 24  word_freq_hp                4601 non-null   float64\n",
      " 25  word_freq_hpl               4601 non-null   float64\n",
      " 26  word_freq_george            4601 non-null   float64\n",
      " 27  word_freq_650               4601 non-null   float64\n",
      " 28  word_freq_lab               4601 non-null   float64\n",
      " 29  word_freq_labs              4601 non-null   float64\n",
      " 30  word_freq_telnet            4601 non-null   float64\n",
      " 31  word_freq_857               4601 non-null   float64\n",
      " 32  word_freq_data              4601 non-null   float64\n",
      " 33  word_freq_415               4601 non-null   float64\n",
      " 34  word_freq_85                4601 non-null   float64\n",
      " 35  word_freq_technology        4601 non-null   float64\n",
      " 36  word_freq_1999              4601 non-null   float64\n",
      " 37  word_freq_parts             4601 non-null   float64\n",
      " 38  word_freq_pm                4601 non-null   float64\n",
      " 39  word_freq_direct            4601 non-null   float64\n",
      " 40  word_freq_cs                4601 non-null   float64\n",
      " 41  word_freq_meeting           4601 non-null   float64\n",
      " 42  word_freq_original          4601 non-null   float64\n",
      " 43  word_freq_project           4601 non-null   float64\n",
      " 44  word_freq_re                4601 non-null   float64\n",
      " 45  word_freq_edu               4601 non-null   float64\n",
      " 46  word_freq_table             4601 non-null   float64\n",
      " 47  word_freq_conference        4601 non-null   float64\n",
      " 48  char_freq_;                 4601 non-null   float64\n",
      " 49  char_freq_(                 4601 non-null   float64\n",
      " 50  char_freq_[                 4601 non-null   float64\n",
      " 51  char_freq_!                 4601 non-null   float64\n",
      " 52  char_freq_$                 4601 non-null   float64\n",
      " 53  char_freq_#                 4601 non-null   float64\n",
      " 54  capital_run_length_average  4601 non-null   float64\n",
      " 55  capital_run_length_longest  4601 non-null   int64  \n",
      " 56  capital_run_length_total    4601 non-null   int64  \n",
      " 57  Spam_fl                     4601 non-null   int64  \n",
      "dtypes: float64(55), int64(3)\n",
      "memory usage: 2.0 MB\n",
      "None\n",
      "   word_freq_make  word_freq_address  word_freq_all  word_freq_3d  \\\n",
      "0            0.00               0.64           0.64           0.0   \n",
      "1            0.21               0.28           0.50           0.0   \n",
      "2            0.06               0.00           0.71           0.0   \n",
      "3            0.00               0.00           0.00           0.0   \n",
      "4            0.00               0.00           0.00           0.0   \n",
      "5            0.00               0.00           0.00           0.0   \n",
      "6            0.00               0.00           0.00           0.0   \n",
      "7            0.00               0.00           0.00           0.0   \n",
      "8            0.15               0.00           0.46           0.0   \n",
      "9            0.06               0.12           0.77           0.0   \n",
      "\n",
      "   word_freq_our  word_freq_over  word_freq_remove  word_freq_internet  \\\n",
      "0           0.32            0.00              0.00                0.00   \n",
      "1           0.14            0.28              0.21                0.07   \n",
      "2           1.23            0.19              0.19                0.12   \n",
      "3           0.63            0.00              0.31                0.63   \n",
      "4           0.63            0.00              0.31                0.63   \n",
      "5           1.85            0.00              0.00                1.85   \n",
      "6           1.92            0.00              0.00                0.00   \n",
      "7           1.88            0.00              0.00                1.88   \n",
      "8           0.61            0.00              0.30                0.00   \n",
      "9           0.19            0.32              0.38                0.00   \n",
      "\n",
      "   word_freq_order  word_freq_mail  ...  char_freq_;  char_freq_(  \\\n",
      "0             0.00            0.00  ...         0.00        0.000   \n",
      "1             0.00            0.94  ...         0.00        0.132   \n",
      "2             0.64            0.25  ...         0.01        0.143   \n",
      "3             0.31            0.63  ...         0.00        0.137   \n",
      "4             0.31            0.63  ...         0.00        0.135   \n",
      "5             0.00            0.00  ...         0.00        0.223   \n",
      "6             0.00            0.64  ...         0.00        0.054   \n",
      "7             0.00            0.00  ...         0.00        0.206   \n",
      "8             0.92            0.76  ...         0.00        0.271   \n",
      "9             0.06            0.00  ...         0.04        0.030   \n",
      "\n",
      "   char_freq_[  char_freq_!  char_freq_$  char_freq_#  \\\n",
      "0          0.0        0.778        0.000        0.000   \n",
      "1          0.0        0.372        0.180        0.048   \n",
      "2          0.0        0.276        0.184        0.010   \n",
      "3          0.0        0.137        0.000        0.000   \n",
      "4          0.0        0.135        0.000        0.000   \n",
      "5          0.0        0.000        0.000        0.000   \n",
      "6          0.0        0.164        0.054        0.000   \n",
      "7          0.0        0.000        0.000        0.000   \n",
      "8          0.0        0.181        0.203        0.022   \n",
      "9          0.0        0.244        0.081        0.000   \n",
      "\n",
      "   capital_run_length_average  capital_run_length_longest  \\\n",
      "0                       3.756                          61   \n",
      "1                       5.114                         101   \n",
      "2                       9.821                         485   \n",
      "3                       3.537                          40   \n",
      "4                       3.537                          40   \n",
      "5                       3.000                          15   \n",
      "6                       1.671                           4   \n",
      "7                       2.450                          11   \n",
      "8                       9.744                         445   \n",
      "9                       1.729                          43   \n",
      "\n",
      "   capital_run_length_total  Spam_fl  \n",
      "0                       278        1  \n",
      "1                      1028        1  \n",
      "2                      2259        1  \n",
      "3                       191        1  \n",
      "4                       191        1  \n",
      "5                        54        1  \n",
      "6                       112        1  \n",
      "7                        49        1  \n",
      "8                      1257        1  \n",
      "9                       749        1  \n",
      "\n",
      "[10 rows x 58 columns]\n"
     ]
    }
   ],
   "source": [
    "# Check the dimensions of the data.\n",
    "print(spam.info())\n",
    "\n",
    "# Print the first 10 observations from the data.\n",
    "print(spam.head(10))\n"
   ]
  },
  {
   "cell_type": "markdown",
   "metadata": {
    "id": "LZZqIwRsi5Xc"
   },
   "source": [
    "## Modelling\n",
    "This section:\n",
    "- fits a model; and\n",
    "- evaluates the fitted model."
   ]
  },
  {
   "cell_type": "markdown",
   "metadata": {
    "id": "for0Y3hai6NC"
   },
   "source": [
    "### Fit model"
   ]
  },
  {
   "cell_type": "code",
   "execution_count": 5,
   "metadata": {},
   "outputs": [],
   "source": [
    "# Build a neural network to classify an email as spam or non-spam.\n",
    "\n",
    "# Change the pandas dataframe to numpy arrays containing the features (X) and response(Y).\n",
    "X = spam.iloc[:,:-1].values # Drops the last column of the dataframe that contains the spam indicator (response).\n",
    "Y = spam.iloc[:,57:58].values\n"
   ]
  },
  {
   "cell_type": "code",
   "execution_count": 14,
   "metadata": {},
   "outputs": [],
   "source": [
    "# Standardise the data so that each feature has mean 0 and standard deviation 1.\n",
    "sc = StandardScaler()\n",
    "X = sc.fit_transform(X)"
   ]
  },
  {
   "cell_type": "code",
   "execution_count": 21,
   "metadata": {},
   "outputs": [],
   "source": [
    "# Encode the response variable ('not spam' or 'spam') as 2 outcomes.\n",
    "ohe = OneHotEncoder()\n",
    "Y = ohe.fit_transform(Y).toarray()"
   ]
  },
  {
   "cell_type": "code",
   "execution_count": 23,
   "metadata": {},
   "outputs": [],
   "source": [
    "# Split the data into train and test sets \n",
    "X_train,X_test,Y_train,Y_test = train_test_split(X,Y,test_size = 0.25, random_state=42)\n",
    "                                # This separates the data into training (75%) and test (25%) datasets.\n"
   ]
  },
  {
   "cell_type": "code",
   "execution_count": 30,
   "metadata": {},
   "outputs": [
    {
     "data": {
      "text/plain": [
       "array([[-0.34243371, -0.16507191, -0.55676058, ..., -0.12017005,\n",
       "        -0.22667809, -0.40128076],\n",
       "       [ 1.85195381, -0.16507191, -0.55676058, ..., -0.11181728,\n",
       "        -0.20101998, -0.34520124],\n",
       "       [-0.34243371, -0.16507191,  2.26020736, ...,  0.21633628,\n",
       "         0.3326688 , -0.10933739],\n",
       "       ...,\n",
       "       [-0.34243371, -0.16507191, -0.55676058, ..., -0.09010008,\n",
       "        -0.21641484, -0.38643618],\n",
       "       [-0.34243371,  0.01316257, -0.55676058, ..., -0.11269984,\n",
       "        -0.20101998, -0.18191088],\n",
       "       [-0.01491318, -0.16507191,  0.25658932, ..., -0.10327539,\n",
       "        -0.11891401,  0.09188912]])"
      ]
     },
     "execution_count": 30,
     "metadata": {},
     "output_type": "execute_result"
    }
   ],
   "source": [
    "X_train"
   ]
  },
  {
   "cell_type": "code",
   "execution_count": 28,
   "metadata": {
    "colab": {
     "base_uri": "https://localhost:8080/"
    },
    "id": "hQQxkgjE0I2Q",
    "outputId": "c6951cbe-5e5f-4df9-c311-df119ae12cdc"
   },
   "outputs": [
    {
     "name": "stdout",
     "output_type": "stream",
     "text": [
      "Epoch 1/100\n",
      "54/54 [==============================] - 1s 6ms/step - loss: 0.7035 - accuracy: 0.5716 - val_loss: 0.6249 - val_accuracy: 0.7446\n",
      "Epoch 2/100\n",
      "54/54 [==============================] - 0s 3ms/step - loss: 0.5435 - accuracy: 0.7994 - val_loss: 0.4679 - val_accuracy: 0.8436\n",
      "Epoch 3/100\n",
      "54/54 [==============================] - 0s 3ms/step - loss: 0.4025 - accuracy: 0.8617 - val_loss: 0.3473 - val_accuracy: 0.8784\n",
      "Epoch 4/100\n",
      "54/54 [==============================] - 0s 3ms/step - loss: 0.3163 - accuracy: 0.8849 - val_loss: 0.2870 - val_accuracy: 0.8923\n",
      "Epoch 5/100\n",
      "54/54 [==============================] - 0s 4ms/step - loss: 0.2719 - accuracy: 0.9020 - val_loss: 0.2510 - val_accuracy: 0.9070\n",
      "Epoch 6/100\n",
      "54/54 [==============================] - 0s 3ms/step - loss: 0.2424 - accuracy: 0.9159 - val_loss: 0.2297 - val_accuracy: 0.9149\n",
      "Epoch 7/100\n",
      "54/54 [==============================] - 0s 3ms/step - loss: 0.2220 - accuracy: 0.9209 - val_loss: 0.2129 - val_accuracy: 0.9253\n",
      "Epoch 8/100\n",
      "54/54 [==============================] - 0s 3ms/step - loss: 0.2073 - accuracy: 0.9272 - val_loss: 0.2024 - val_accuracy: 0.9314\n",
      "Epoch 9/100\n",
      "54/54 [==============================] - 0s 3ms/step - loss: 0.1969 - accuracy: 0.9319 - val_loss: 0.1953 - val_accuracy: 0.9305\n",
      "Epoch 10/100\n",
      "54/54 [==============================] - 0s 3ms/step - loss: 0.1875 - accuracy: 0.9348 - val_loss: 0.1876 - val_accuracy: 0.9383\n",
      "Epoch 11/100\n",
      "54/54 [==============================] - 0s 3ms/step - loss: 0.1810 - accuracy: 0.9354 - val_loss: 0.1822 - val_accuracy: 0.9383\n",
      "Epoch 12/100\n",
      "54/54 [==============================] - 0s 3ms/step - loss: 0.1756 - accuracy: 0.9354 - val_loss: 0.1795 - val_accuracy: 0.9340\n",
      "Epoch 13/100\n",
      "54/54 [==============================] - 0s 3ms/step - loss: 0.1704 - accuracy: 0.9365 - val_loss: 0.1757 - val_accuracy: 0.9366\n",
      "Epoch 14/100\n",
      "54/54 [==============================] - 0s 3ms/step - loss: 0.1672 - accuracy: 0.9365 - val_loss: 0.1722 - val_accuracy: 0.9357\n",
      "Epoch 15/100\n",
      "54/54 [==============================] - 0s 3ms/step - loss: 0.1632 - accuracy: 0.9380 - val_loss: 0.1712 - val_accuracy: 0.9374\n",
      "Epoch 16/100\n",
      "54/54 [==============================] - 0s 3ms/step - loss: 0.1598 - accuracy: 0.9391 - val_loss: 0.1672 - val_accuracy: 0.9357\n",
      "Epoch 17/100\n",
      "54/54 [==============================] - 0s 4ms/step - loss: 0.1565 - accuracy: 0.9397 - val_loss: 0.1646 - val_accuracy: 0.9348\n",
      "Epoch 18/100\n",
      "54/54 [==============================] - 0s 3ms/step - loss: 0.1534 - accuracy: 0.9400 - val_loss: 0.1631 - val_accuracy: 0.9340\n",
      "Epoch 19/100\n",
      "54/54 [==============================] - 0s 3ms/step - loss: 0.1502 - accuracy: 0.9417 - val_loss: 0.1602 - val_accuracy: 0.9401\n",
      "Epoch 20/100\n",
      "54/54 [==============================] - 0s 3ms/step - loss: 0.1481 - accuracy: 0.9409 - val_loss: 0.1593 - val_accuracy: 0.9401\n",
      "Epoch 21/100\n",
      "54/54 [==============================] - 0s 3ms/step - loss: 0.1446 - accuracy: 0.9435 - val_loss: 0.1583 - val_accuracy: 0.9392\n",
      "Epoch 22/100\n",
      "54/54 [==============================] - 0s 3ms/step - loss: 0.1427 - accuracy: 0.9438 - val_loss: 0.1555 - val_accuracy: 0.9418\n",
      "Epoch 23/100\n",
      "54/54 [==============================] - 0s 3ms/step - loss: 0.1398 - accuracy: 0.9446 - val_loss: 0.1549 - val_accuracy: 0.9401\n",
      "Epoch 24/100\n",
      "54/54 [==============================] - 0s 3ms/step - loss: 0.1376 - accuracy: 0.9464 - val_loss: 0.1533 - val_accuracy: 0.9392\n",
      "Epoch 25/100\n",
      "54/54 [==============================] - 0s 3ms/step - loss: 0.1357 - accuracy: 0.9458 - val_loss: 0.1531 - val_accuracy: 0.9418\n",
      "Epoch 26/100\n",
      "54/54 [==============================] - 0s 3ms/step - loss: 0.1330 - accuracy: 0.9487 - val_loss: 0.1506 - val_accuracy: 0.9409\n",
      "Epoch 27/100\n",
      "54/54 [==============================] - 0s 3ms/step - loss: 0.1314 - accuracy: 0.9490 - val_loss: 0.1479 - val_accuracy: 0.9418\n",
      "Epoch 28/100\n",
      "54/54 [==============================] - 0s 3ms/step - loss: 0.1295 - accuracy: 0.9499 - val_loss: 0.1510 - val_accuracy: 0.9418\n",
      "Epoch 29/100\n",
      "54/54 [==============================] - 0s 3ms/step - loss: 0.1281 - accuracy: 0.9499 - val_loss: 0.1463 - val_accuracy: 0.9427\n",
      "Epoch 30/100\n",
      "54/54 [==============================] - 0s 3ms/step - loss: 0.1257 - accuracy: 0.9501 - val_loss: 0.1453 - val_accuracy: 0.9461\n",
      "Epoch 31/100\n",
      "54/54 [==============================] - 0s 3ms/step - loss: 0.1241 - accuracy: 0.9522 - val_loss: 0.1455 - val_accuracy: 0.9444\n",
      "Epoch 32/100\n",
      "54/54 [==============================] - 0s 3ms/step - loss: 0.1224 - accuracy: 0.9536 - val_loss: 0.1439 - val_accuracy: 0.9461\n",
      "Epoch 33/100\n",
      "54/54 [==============================] - 0s 3ms/step - loss: 0.1205 - accuracy: 0.9536 - val_loss: 0.1448 - val_accuracy: 0.9444\n",
      "Epoch 34/100\n",
      "54/54 [==============================] - 0s 3ms/step - loss: 0.1190 - accuracy: 0.9528 - val_loss: 0.1425 - val_accuracy: 0.9461\n",
      "Epoch 35/100\n",
      "54/54 [==============================] - 0s 4ms/step - loss: 0.1174 - accuracy: 0.9539 - val_loss: 0.1414 - val_accuracy: 0.9470\n",
      "Epoch 36/100\n",
      "54/54 [==============================] - 0s 3ms/step - loss: 0.1162 - accuracy: 0.9551 - val_loss: 0.1420 - val_accuracy: 0.9453\n",
      "Epoch 37/100\n",
      "54/54 [==============================] - 0s 3ms/step - loss: 0.1141 - accuracy: 0.9559 - val_loss: 0.1403 - val_accuracy: 0.9470\n",
      "Epoch 38/100\n",
      "54/54 [==============================] - 0s 3ms/step - loss: 0.1127 - accuracy: 0.9562 - val_loss: 0.1449 - val_accuracy: 0.9453\n",
      "Epoch 39/100\n",
      "54/54 [==============================] - 0s 3ms/step - loss: 0.1115 - accuracy: 0.9542 - val_loss: 0.1413 - val_accuracy: 0.9470\n",
      "Epoch 40/100\n",
      "54/54 [==============================] - 0s 3ms/step - loss: 0.1099 - accuracy: 0.9571 - val_loss: 0.1416 - val_accuracy: 0.9479\n",
      "Epoch 41/100\n",
      "54/54 [==============================] - 0s 3ms/step - loss: 0.1094 - accuracy: 0.9568 - val_loss: 0.1413 - val_accuracy: 0.9513\n",
      "Epoch 42/100\n",
      "54/54 [==============================] - 0s 2ms/step - loss: 0.1070 - accuracy: 0.9574 - val_loss: 0.1436 - val_accuracy: 0.9479\n",
      "Epoch 43/100\n",
      "54/54 [==============================] - 0s 3ms/step - loss: 0.1062 - accuracy: 0.9591 - val_loss: 0.1431 - val_accuracy: 0.9479\n",
      "Epoch 44/100\n",
      "54/54 [==============================] - 0s 3ms/step - loss: 0.1056 - accuracy: 0.9588 - val_loss: 0.1465 - val_accuracy: 0.9453\n",
      "Epoch 45/100\n",
      "54/54 [==============================] - 0s 3ms/step - loss: 0.1039 - accuracy: 0.9603 - val_loss: 0.1422 - val_accuracy: 0.9496\n",
      "Epoch 46/100\n",
      "54/54 [==============================] - 0s 3ms/step - loss: 0.1028 - accuracy: 0.9591 - val_loss: 0.1429 - val_accuracy: 0.9487\n",
      "Epoch 47/100\n",
      "54/54 [==============================] - 0s 4ms/step - loss: 0.1014 - accuracy: 0.9606 - val_loss: 0.1441 - val_accuracy: 0.9479\n",
      "Epoch 48/100\n",
      "54/54 [==============================] - 0s 3ms/step - loss: 0.1004 - accuracy: 0.9626 - val_loss: 0.1438 - val_accuracy: 0.9479\n",
      "Epoch 49/100\n",
      "54/54 [==============================] - 0s 3ms/step - loss: 0.0994 - accuracy: 0.9638 - val_loss: 0.1454 - val_accuracy: 0.9479\n",
      "Epoch 50/100\n",
      "54/54 [==============================] - 0s 2ms/step - loss: 0.0974 - accuracy: 0.9641 - val_loss: 0.1467 - val_accuracy: 0.9487\n",
      "Epoch 51/100\n",
      "54/54 [==============================] - 0s 3ms/step - loss: 0.0964 - accuracy: 0.9638 - val_loss: 0.1522 - val_accuracy: 0.9470\n",
      "Epoch 52/100\n",
      "54/54 [==============================] - 0s 4ms/step - loss: 0.0952 - accuracy: 0.9649 - val_loss: 0.1473 - val_accuracy: 0.9505\n",
      "Epoch 53/100\n",
      "54/54 [==============================] - 0s 3ms/step - loss: 0.0944 - accuracy: 0.9646 - val_loss: 0.1485 - val_accuracy: 0.9487\n",
      "Epoch 54/100\n",
      "54/54 [==============================] - 0s 3ms/step - loss: 0.0934 - accuracy: 0.9672 - val_loss: 0.1506 - val_accuracy: 0.9470\n",
      "Epoch 55/100\n",
      "54/54 [==============================] - 0s 3ms/step - loss: 0.0919 - accuracy: 0.9675 - val_loss: 0.1542 - val_accuracy: 0.9470\n",
      "Epoch 56/100\n",
      "54/54 [==============================] - 0s 3ms/step - loss: 0.0913 - accuracy: 0.9670 - val_loss: 0.1539 - val_accuracy: 0.9487\n",
      "Epoch 57/100\n",
      "54/54 [==============================] - 0s 3ms/step - loss: 0.0899 - accuracy: 0.9675 - val_loss: 0.1516 - val_accuracy: 0.9540\n",
      "Epoch 58/100\n",
      "54/54 [==============================] - 0s 3ms/step - loss: 0.0895 - accuracy: 0.9678 - val_loss: 0.1526 - val_accuracy: 0.9522\n"
     ]
    },
    {
     "name": "stdout",
     "output_type": "stream",
     "text": [
      "Epoch 59/100\n",
      "54/54 [==============================] - 0s 3ms/step - loss: 0.0879 - accuracy: 0.9664 - val_loss: 0.1557 - val_accuracy: 0.9505\n",
      "Epoch 60/100\n",
      "54/54 [==============================] - 0s 3ms/step - loss: 0.0879 - accuracy: 0.9681 - val_loss: 0.1573 - val_accuracy: 0.9505\n",
      "Epoch 61/100\n",
      "54/54 [==============================] - 0s 3ms/step - loss: 0.0864 - accuracy: 0.9681 - val_loss: 0.1560 - val_accuracy: 0.9531\n",
      "Epoch 62/100\n",
      "54/54 [==============================] - 0s 3ms/step - loss: 0.0854 - accuracy: 0.9690 - val_loss: 0.1642 - val_accuracy: 0.9479\n",
      "Epoch 63/100\n",
      "54/54 [==============================] - 0s 3ms/step - loss: 0.0860 - accuracy: 0.9696 - val_loss: 0.1603 - val_accuracy: 0.9513\n",
      "Epoch 64/100\n",
      "54/54 [==============================] - 0s 2ms/step - loss: 0.0840 - accuracy: 0.9701 - val_loss: 0.1591 - val_accuracy: 0.9513\n",
      "Epoch 65/100\n",
      "54/54 [==============================] - 0s 3ms/step - loss: 0.0831 - accuracy: 0.9704 - val_loss: 0.1593 - val_accuracy: 0.9513\n",
      "Epoch 66/100\n",
      "54/54 [==============================] - 0s 3ms/step - loss: 0.0822 - accuracy: 0.9713 - val_loss: 0.1624 - val_accuracy: 0.9522\n",
      "Epoch 67/100\n",
      "54/54 [==============================] - 0s 3ms/step - loss: 0.0811 - accuracy: 0.9707 - val_loss: 0.1628 - val_accuracy: 0.9513\n",
      "Epoch 68/100\n",
      "54/54 [==============================] - 0s 3ms/step - loss: 0.0806 - accuracy: 0.9719 - val_loss: 0.1630 - val_accuracy: 0.9505\n",
      "Epoch 69/100\n",
      "54/54 [==============================] - 0s 3ms/step - loss: 0.0794 - accuracy: 0.9722 - val_loss: 0.1659 - val_accuracy: 0.9479\n",
      "Epoch 70/100\n",
      "54/54 [==============================] - 0s 3ms/step - loss: 0.0793 - accuracy: 0.9739 - val_loss: 0.1677 - val_accuracy: 0.9453\n",
      "Epoch 71/100\n",
      "54/54 [==============================] - 0s 3ms/step - loss: 0.0788 - accuracy: 0.9730 - val_loss: 0.1712 - val_accuracy: 0.9453\n",
      "Epoch 72/100\n",
      "54/54 [==============================] - 0s 3ms/step - loss: 0.0781 - accuracy: 0.9745 - val_loss: 0.1734 - val_accuracy: 0.9461\n",
      "Epoch 73/100\n",
      "54/54 [==============================] - 0s 3ms/step - loss: 0.0780 - accuracy: 0.9730 - val_loss: 0.1695 - val_accuracy: 0.9487\n",
      "Epoch 74/100\n",
      "54/54 [==============================] - 0s 3ms/step - loss: 0.0770 - accuracy: 0.9730 - val_loss: 0.1716 - val_accuracy: 0.9479\n",
      "Epoch 75/100\n",
      "54/54 [==============================] - 0s 3ms/step - loss: 0.0758 - accuracy: 0.9742 - val_loss: 0.1758 - val_accuracy: 0.9479\n",
      "Epoch 76/100\n",
      "54/54 [==============================] - 0s 3ms/step - loss: 0.0754 - accuracy: 0.9736 - val_loss: 0.1726 - val_accuracy: 0.9479\n",
      "Epoch 77/100\n",
      "54/54 [==============================] - 0s 4ms/step - loss: 0.0738 - accuracy: 0.9745 - val_loss: 0.1814 - val_accuracy: 0.9453\n",
      "Epoch 78/100\n",
      "54/54 [==============================] - 0s 3ms/step - loss: 0.0767 - accuracy: 0.9730 - val_loss: 0.1728 - val_accuracy: 0.9496\n",
      "Epoch 79/100\n",
      "54/54 [==============================] - 0s 3ms/step - loss: 0.0736 - accuracy: 0.9742 - val_loss: 0.1760 - val_accuracy: 0.9487\n",
      "Epoch 80/100\n",
      "54/54 [==============================] - 0s 3ms/step - loss: 0.0734 - accuracy: 0.9745 - val_loss: 0.1784 - val_accuracy: 0.9470\n",
      "Epoch 81/100\n",
      "54/54 [==============================] - 0s 3ms/step - loss: 0.0728 - accuracy: 0.9757 - val_loss: 0.1759 - val_accuracy: 0.9496\n",
      "Epoch 82/100\n",
      "54/54 [==============================] - 0s 3ms/step - loss: 0.0720 - accuracy: 0.9745 - val_loss: 0.1779 - val_accuracy: 0.9496\n",
      "Epoch 83/100\n",
      "54/54 [==============================] - 0s 3ms/step - loss: 0.0715 - accuracy: 0.9736 - val_loss: 0.1806 - val_accuracy: 0.9470\n",
      "Epoch 84/100\n",
      "54/54 [==============================] - 0s 3ms/step - loss: 0.0720 - accuracy: 0.9759 - val_loss: 0.1832 - val_accuracy: 0.9470\n",
      "Epoch 85/100\n",
      "54/54 [==============================] - 0s 2ms/step - loss: 0.0706 - accuracy: 0.9751 - val_loss: 0.1791 - val_accuracy: 0.9505\n",
      "Epoch 86/100\n",
      "54/54 [==============================] - 0s 2ms/step - loss: 0.0695 - accuracy: 0.9759 - val_loss: 0.1810 - val_accuracy: 0.9461\n",
      "Epoch 87/100\n",
      "54/54 [==============================] - 0s 3ms/step - loss: 0.0694 - accuracy: 0.9754 - val_loss: 0.1848 - val_accuracy: 0.9470\n",
      "Epoch 88/100\n",
      "54/54 [==============================] - 0s 2ms/step - loss: 0.0686 - accuracy: 0.9774 - val_loss: 0.1839 - val_accuracy: 0.9461\n",
      "Epoch 89/100\n",
      "54/54 [==============================] - 0s 2ms/step - loss: 0.0674 - accuracy: 0.9777 - val_loss: 0.1857 - val_accuracy: 0.9479\n",
      "Epoch 90/100\n",
      "54/54 [==============================] - 0s 2ms/step - loss: 0.0690 - accuracy: 0.9748 - val_loss: 0.1866 - val_accuracy: 0.9470\n",
      "Epoch 91/100\n",
      "54/54 [==============================] - 0s 2ms/step - loss: 0.0670 - accuracy: 0.9791 - val_loss: 0.1843 - val_accuracy: 0.9496\n",
      "Epoch 92/100\n",
      "54/54 [==============================] - 0s 3ms/step - loss: 0.0662 - accuracy: 0.9786 - val_loss: 0.1868 - val_accuracy: 0.9470\n",
      "Epoch 93/100\n",
      "54/54 [==============================] - 0s 3ms/step - loss: 0.0646 - accuracy: 0.9777 - val_loss: 0.1879 - val_accuracy: 0.9487\n",
      "Epoch 94/100\n",
      "54/54 [==============================] - 0s 3ms/step - loss: 0.0645 - accuracy: 0.9800 - val_loss: 0.1925 - val_accuracy: 0.9479\n",
      "Epoch 95/100\n",
      "54/54 [==============================] - 0s 3ms/step - loss: 0.0646 - accuracy: 0.9786 - val_loss: 0.1902 - val_accuracy: 0.9487\n",
      "Epoch 96/100\n",
      "54/54 [==============================] - 0s 3ms/step - loss: 0.0638 - accuracy: 0.9774 - val_loss: 0.1910 - val_accuracy: 0.9487\n",
      "Epoch 97/100\n",
      "54/54 [==============================] - 0s 3ms/step - loss: 0.0633 - accuracy: 0.9797 - val_loss: 0.1942 - val_accuracy: 0.9479\n",
      "Epoch 98/100\n",
      "54/54 [==============================] - 0s 3ms/step - loss: 0.0624 - accuracy: 0.9783 - val_loss: 0.1962 - val_accuracy: 0.9487\n",
      "Epoch 99/100\n",
      "54/54 [==============================] - 0s 3ms/step - loss: 0.0624 - accuracy: 0.9788 - val_loss: 0.1993 - val_accuracy: 0.9496\n",
      "Epoch 100/100\n",
      "54/54 [==============================] - 0s 3ms/step - loss: 0.0621 - accuracy: 0.9788 - val_loss: 0.1963 - val_accuracy: 0.9487\n"
     ]
    }
   ],
   "source": [
    "\n",
    "# Build a neural network with two hidden layers, containing 28 hidden neurons\n",
    "# (16 neurons in the first hidden layer and 12 neurons in the second hidden layer).\n",
    "model = Sequential()\n",
    "# Create a hidden layer with 16 neurons, an input dimension of 57,\n",
    "# representing the features of the dataset and a ReLU activation function.\n",
    "model.add(Dense(16, input_dim=57, activation=\"relu\"))\n",
    "# Create a second hidden layer with 12 neurons and a ReLU activation function.\n",
    "model.add(Dense(12, activation=\"relu\"))\n",
    "# Create the output layer with 2 neurons representing 'spam' and 'not spam'.\n",
    "model.add(Dense(2, activation=\"softmax\"))\n",
    "\n",
    "# Compile the model using the binary cross entropy loss function (logistic loss),\n",
    "# the Adam optimiser (stochastic gradient descent), and capture\n",
    "# the accuracy of model predictions.\n",
    "model.compile(loss='binary_crossentropy', optimizer='adam', metrics=['accuracy'])                                         \n",
    "\n",
    "# Fit the model.\n",
    "history = model.fit(X_train, Y_train,validation_data = (X_test,Y_test), epochs=100, batch_size=64)"
   ]
  },
  {
   "cell_type": "markdown",
   "metadata": {
    "id": "IN1fFIdqk3AG"
   },
   "source": [
    "### Evaluate model"
   ]
  },
  {
   "cell_type": "code",
   "execution_count": 32,
   "metadata": {
    "colab": {
     "base_uri": "https://localhost:8080/",
     "height": 295
    },
    "id": "56b1RN57k4iO",
    "outputId": "067743a1-a847-4471-fcf9-8e7b3a4b5c8d"
   },
   "outputs": [
    {
     "data": {
      "image/png": "[encoded data removed]",
      "text/plain": [
       "<Figure size 432x288 with 1 Axes>"
      ]
     },
     "metadata": {},
     "output_type": "display_data"
    }
   ],
   "source": [
    "# Plot the accuracy of the fitted model on the training and test data.\n",
    "plt.plot(history.history['accuracy'], color='dodgerblue')\n",
    "plt.plot(history.history['val_accuracy'],color='orange')\n",
    "plt.title('Model accuracy')\n",
    "plt.ylabel('Accuracy')\n",
    "plt.xlabel('Epoch')\n",
    "plt.legend(['Train', 'Test'], loc='upper left')\n",
    "plt.show()"
   ]
  },
  {
   "cell_type": "markdown",
   "metadata": {
    "id": "JEELzdjtl1VT"
   },
   "source": [
    "The plot of the model's accuracy against the number of epochs suggests that accuracy on the test data does not improve much beyond approximately 10 epochs (cycles through the full dataset)."
   ]
  }
 ],
 "metadata": {
  "colab": {
   "collapsed_sections": [],
   "name": "DAA_M05_Ex18 v2.ipynb",
   "provenance": []
  },
  "kernelspec": {
   "display_name": "Python 3",
   "language": "python",
   "name": "python3"
  },
  "language_info": {
   "codemirror_mode": {
    "name": "ipython",
    "version": 3
   },
   "file_extension": ".py",
   "mimetype": "text/x-python",
   "name": "python",
   "nbconvert_exporter": "python",
   "pygments_lexer": "ipython3",
   "version": "3.6.5"
  }
 },
 "nbformat": 4,
 "nbformat_minor": 1
}
