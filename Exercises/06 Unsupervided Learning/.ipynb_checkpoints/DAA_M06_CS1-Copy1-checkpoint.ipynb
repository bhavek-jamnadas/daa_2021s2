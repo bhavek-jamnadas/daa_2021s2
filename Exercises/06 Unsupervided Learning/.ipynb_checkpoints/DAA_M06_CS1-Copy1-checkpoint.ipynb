{
 "cells": [
  {
   "cell_type": "markdown",
   "metadata": {
    "id": "n57Z6l44owPP"
   },
   "source": [
    "# DAA M06 Unsupervised learning\n",
    "## Case study 1 - The Socio-Economic Indexes for Areas\n",
    "\n",
    "### Purpose:\n",
    "This case study demonstrates the use of principal component analysis (PCA) in the construction of an index to rank the socio-economic status of different geographical areas within a country. Such an index can be useful to identify areas that require funding or services, or as input for research into the relationship between socio-economic conditions and other outcomes in different areas.\n",
    "\n",
    "In Australia, the Australian Bureau of Statistics (ABS) produces such indexes, referred to as the Socio-Economic Indexes for Areas (SEIFA). SEIFA rank areas in Australia based on their relative socio-economic advantage and disadvantage.\n",
    "\n",
    "This notebook replicates the methodology adopted by the ABS in constructing one of these indexes, namely the Index of Relative Socio-Economic Disadvantage (IRSD). \n",
    "\n",
    "### References:\n",
    "In Australian Government data, there are three different levels that are used to group geographical areas together:\n",
    "•\tStatistical Area Level 1 (SA1);\n",
    "•\tStatistical Area Level 2 (SA2); and\n",
    "•\tStatistical Area Level 3 (SA3).\n",
    "SA1 is the most granular level, with each SA1 having an average population of approximately 400 people. Most of the data generated from the ABS Census is available at SA1. SA1s are referred to by number only. Each SA2 is similar in size to suburbs, and these are referred to by suburb names. Each SA3 is a region of Australia.\n",
    "\n",
    "For this PCA exercise, each observation is an SA1. The features for each SA1 that are used in the index are the following derived variables based on the Australian Census data for 2016 (https://www.abs.gov.au/AUSSTATS/abs@.nsf/DetailsPage/2071.02016?OpenDocument):\n",
    "- inc_low:\t% people with stated annual household equivalised income between 1 and 25,999 dollars;\n",
    "- childjobless:\t% families with children under 15 years of age who live with jobless parents;\n",
    "- nonet:\t% occupied private dwellings with no Internet connection;\n",
    "- noyr12higher:\t% people aged 15 years and over whose highest level of education is Year 11 or lower;\n",
    "- unemployed:\t% people (in the labour force) unemployed;\n",
    "- lowrent:\t% occupied private dwellings paying rent less than 215 dollars per week (excluding $0 per week);\n",
    "- oneparent:\t% one-parent families with dependent offspring only;\n",
    "- disabilityu70:\t% people aged under 70 who have a long-term health condition or disability and need assistance with core activities;\n",
    "- sepdivorced:\t% people aged 15 and over who are separated or divorced;\n",
    "- nocar:\t% occupied private dwellings with no cars;\n",
    "- noedu:\t% people aged 15 years and over who have no educational attainment;\n",
    "- englishpoor:\t% people who do not speak English well;\n",
    "- labour:\t% employed people classified as ‘labourers’;\n",
    "- drivers:\t% employed people classified as Machinery Operators and Drivers; and\n",
    "- service:\t% employed people classified as Low Skill Community and Personal Service workers.\n",
    "\n"
   ]
  },
  {
   "cell_type": "markdown",
   "metadata": {
    "id": "yz1W0kBWo9PT"
   },
   "source": [
    "## Packages\n",
    "This section installs packages that will be required for this exercise/case study."
   ]
  },
  {
   "cell_type": "code",
   "execution_count": 1,
   "metadata": {
    "id": "0TjzN-iNof0n"
   },
   "outputs": [
    {
     "name": "stderr",
     "output_type": "stream",
     "text": [
      "/home/analytics-user/anaconda3/lib/python3.6/site-packages/IPython/utils/traitlets.py:5: UserWarning: IPython.utils.traitlets has moved to a top-level traitlets package.\n",
      "  warn(\"IPython.utils.traitlets has moved to a top-level traitlets package.\")\n"
     ]
    }
   ],
   "source": [
    "# Import pandas and numpy for data management.\n",
    "import numpy as np\n",
    "import pandas as pd\n",
    "\n",
    "# Import library functions that will be required for the PCA modelling.\n",
    "from sklearn.decomposition import PCA\n",
    "from sklearn.preprocessing import StandardScaler\n",
    "import matplotlib.pyplot as plt\n",
    "\n",
    "# For uploading files to Colab.\n",
    "from google.colab import files\n",
    "\n",
    "# For calculating correlation between the ABS index and the recreated index.\n",
    "from scipy.stats import pearsonr\n"
   ]
  },
  {
   "cell_type": "markdown",
   "metadata": {
    "id": "GYQkwOSrqFRq"
   },
   "source": [
    "##Functions\n",
    "This section defines functions that will be used for this exercise/case study."
   ]
  },
  {
   "cell_type": "code",
   "execution_count": 2,
   "metadata": {
    "id": "Vq2cQK_VqGe5"
   },
   "outputs": [],
   "source": [
    "# Define a function to obtain the explained variances from the PCA features.\n",
    "def plot_explained_variances(pca):\n",
    "\n",
    "    exp_var_pca = pca.explained_variance_ratio_\n",
    "\n",
    "    # Calculate the cumulative sum of variances explained.\n",
    "    # This will be used to create a scree plot for visualising the variance\n",
    "    # explained by each principal component.\n",
    "\n",
    "    cum_sum_var = np.cumsum(exp_var_pca)\n",
    "    \n",
    "    # Create the plot\n",
    "    plt.bar(range(1,len(exp_var_pca)+1), exp_var_pca, alpha=0.5, align='center',\n",
    "            label='Individual explained variance',color='dodgerblue')\n",
    "    plt.ylabel('Explained variance ratio')\n",
    "    plt.xlabel('Principal component')\n",
    "    plt.legend(loc='best')\n",
    "    plt.tight_layout()\n",
    "    plt.show()"
   ]
  },
  {
   "cell_type": "markdown",
   "metadata": {
    "id": "hJuvYNOlpJ1Z"
   },
   "source": [
    "## Data\n",
    "This section:\n",
    "- imports the data that will be used in the modelling;\n",
    "- explores the data; and\n",
    "- prepares the data for modelling."
   ]
  },
  {
   "cell_type": "markdown",
   "metadata": {
    "id": "lovF0NrWpTWe"
   },
   "source": [
    "### Import data"
   ]
  },
  {
   "cell_type": "code",
   "execution_count": null,
   "metadata": {
    "colab": {
     "base_uri": "https://localhost:8080/"
    },
    "id": "I_Ptg24kpW44",
    "outputId": "1ead0dbf-d0c9-46b1-eee8-9e7118ee3da6"
   },
   "outputs": [],
   "source": [
    "# Mount your Google Drive.\n",
    "\n",
    "# If you are using the suggested method of uploading directly from Google\n",
    "# Drive, you first need to run the code below to mount your Google Drive\n",
    "# folder to Colab so that it can be accessed in Colab.\n",
    "from google.colab import drive\n",
    "drive.mount('/content/gdrive/',force_remount=True)\n",
    "  # After running this code, you should follow the steps shown in the\n",
    "  # output box below:\n",
    "  #    1. click on the link to Google Drive;\n",
    "  #    2. login to Google Drive;\n",
    "  #    3. copy the authorization code provided;\n",
    "  #    4. paste the authorization code into the box below."
   ]
  },
  {
   "cell_type": "code",
   "execution_count": 7,
   "metadata": {
    "id": "0Zxpt1taIVKm"
   },
   "outputs": [],
   "source": [
    "# Specify the Google Drive folder that your datasets are saved in.\n",
    "# infolder = '/content/gdrive/My Drive/DAA datasets/'\n",
    "infolder = '/data/projects/personal/daa_2021s1/06 Unsupervised Learning/'"
   ]
  },
  {
   "cell_type": "code",
   "execution_count": 8,
   "metadata": {
    "id": "urD5MJqzIazq"
   },
   "outputs": [],
   "source": [
    "# Import the data files for the case study.\n",
    "# The first data set ('file1' below) contains the features to be used in the \n",
    "# modelling for each SA1.\n",
    "# The second data set ('file2' below) contains the ABS's reported\n",
    "# IRSD index value for each SA1 which will be used later for comparison to\n",
    "# the index derived in this notebook.\n",
    "\n",
    "# Specify the filenames from your Google Drive.\n",
    "file1 = 'DAA_M06_CS1_data1.csv'\n",
    "file2 = 'DAA_M06_CS1_data2.xls'\n",
    "\n",
    "# Read in the data from your Google Drive folder.\n",
    "data1 = pd.read_csv(infolder+file1)\n",
    "data2 = pd.read_excel(infolder+file2, sheet_name='Table 1', header = 5,\n",
    "                      usecols='A:C',\n",
    "                      names = ['SA1_7DIGITCODE_2016', 'SA1_11DIGITCODE_2016', 'IRSD_ABS'])"
   ]
  },
  {
   "cell_type": "code",
   "execution_count": null,
   "metadata": {
    "id": "zMV58P9GIb1l"
   },
   "outputs": [],
   "source": [
    "# Alternative (slow) method of importing the data:\n",
    "\n",
    "# files.upload()\n",
    "# file1 = pd.read_csv('/content/DAA_M06_CS1_data1.csv', header = 0)\n",
    "\n",
    "# files.upload()\n",
    "# file2 = pd.read_excel('/content/DAA_M06_CS1_data2.xls', sheet_name = 'Table 1', header = 5, usecols='A:C')\n"
   ]
  },
  {
   "cell_type": "markdown",
   "metadata": {
    "id": "sS-NQGlIpTHG"
   },
   "source": [
    "### Explore data (EDA)"
   ]
  },
  {
   "cell_type": "code",
   "execution_count": 9,
   "metadata": {
    "colab": {
     "base_uri": "https://localhost:8080/",
     "height": 226
    },
    "id": "NFyjAJ1Dpe2l",
    "outputId": "640094cc-1b53-422c-b0d0-69dcd6e8fa7a"
   },
   "outputs": [
    {
     "data": {
      "text/html": [
       "<div>\n",
       "<style scoped>\n",
       "    .dataframe tbody tr th:only-of-type {\n",
       "        vertical-align: middle;\n",
       "    }\n",
       "\n",
       "    .dataframe tbody tr th {\n",
       "        vertical-align: top;\n",
       "    }\n",
       "\n",
       "    .dataframe thead th {\n",
       "        text-align: right;\n",
       "    }\n",
       "</style>\n",
       "<table border=\"1\" class=\"dataframe\">\n",
       "  <thead>\n",
       "    <tr style=\"text-align: right;\">\n",
       "      <th></th>\n",
       "      <th>SA1_7DIGITCODE_2016</th>\n",
       "      <th>inc_low_perc</th>\n",
       "      <th>childjobless_perc</th>\n",
       "      <th>nonet_perc</th>\n",
       "      <th>noyr12higher_perc</th>\n",
       "      <th>unemployed_perc</th>\n",
       "      <th>lowrent_perc</th>\n",
       "      <th>oneparent_perc</th>\n",
       "      <th>disabilityu70_perc</th>\n",
       "      <th>sepdivorced_perc</th>\n",
       "      <th>nocar_perc</th>\n",
       "      <th>noedu_perc</th>\n",
       "      <th>englishpoor_perc</th>\n",
       "      <th>labour_perc</th>\n",
       "      <th>drivers_perc</th>\n",
       "      <th>service_perc</th>\n",
       "    </tr>\n",
       "  </thead>\n",
       "  <tbody>\n",
       "    <tr>\n",
       "      <th>0</th>\n",
       "      <td>1100701</td>\n",
       "      <td>0.240000</td>\n",
       "      <td>0.000000</td>\n",
       "      <td>0.220000</td>\n",
       "      <td>0.468900</td>\n",
       "      <td>0.039604</td>\n",
       "      <td>0.000000</td>\n",
       "      <td>0.0</td>\n",
       "      <td>0.016667</td>\n",
       "      <td>0.154206</td>\n",
       "      <td>0.030000</td>\n",
       "      <td>0.000000</td>\n",
       "      <td>0.000000</td>\n",
       "      <td>0.135417</td>\n",
       "      <td>0.083333</td>\n",
       "      <td>0.031250</td>\n",
       "    </tr>\n",
       "    <tr>\n",
       "      <th>1</th>\n",
       "      <td>1100702</td>\n",
       "      <td>0.190083</td>\n",
       "      <td>0.064516</td>\n",
       "      <td>0.165289</td>\n",
       "      <td>0.374593</td>\n",
       "      <td>0.035714</td>\n",
       "      <td>1.000000</td>\n",
       "      <td>0.0</td>\n",
       "      <td>0.028736</td>\n",
       "      <td>0.125786</td>\n",
       "      <td>0.024793</td>\n",
       "      <td>0.000000</td>\n",
       "      <td>0.008824</td>\n",
       "      <td>0.085366</td>\n",
       "      <td>0.054878</td>\n",
       "      <td>0.067073</td>\n",
       "    </tr>\n",
       "    <tr>\n",
       "      <th>2</th>\n",
       "      <td>1100703</td>\n",
       "      <td>0.163743</td>\n",
       "      <td>0.000000</td>\n",
       "      <td>0.210526</td>\n",
       "      <td>0.402516</td>\n",
       "      <td>0.072165</td>\n",
       "      <td>0.175439</td>\n",
       "      <td>0.0</td>\n",
       "      <td>0.025510</td>\n",
       "      <td>0.182099</td>\n",
       "      <td>0.035088</td>\n",
       "      <td>0.000000</td>\n",
       "      <td>0.015228</td>\n",
       "      <td>0.117318</td>\n",
       "      <td>0.067039</td>\n",
       "      <td>0.111732</td>\n",
       "    </tr>\n",
       "    <tr>\n",
       "      <th>3</th>\n",
       "      <td>1100704</td>\n",
       "      <td>0.192771</td>\n",
       "      <td>0.000000</td>\n",
       "      <td>0.162651</td>\n",
       "      <td>0.357542</td>\n",
       "      <td>0.052941</td>\n",
       "      <td>0.320000</td>\n",
       "      <td>0.0</td>\n",
       "      <td>0.061497</td>\n",
       "      <td>0.197222</td>\n",
       "      <td>0.048193</td>\n",
       "      <td>0.000000</td>\n",
       "      <td>0.012690</td>\n",
       "      <td>0.066265</td>\n",
       "      <td>0.060241</td>\n",
       "      <td>0.084337</td>\n",
       "    </tr>\n",
       "    <tr>\n",
       "      <th>4</th>\n",
       "      <td>1100705</td>\n",
       "      <td>0.183544</td>\n",
       "      <td>0.000000</td>\n",
       "      <td>0.253165</td>\n",
       "      <td>0.453674</td>\n",
       "      <td>0.071038</td>\n",
       "      <td>0.185185</td>\n",
       "      <td>0.0</td>\n",
       "      <td>0.021622</td>\n",
       "      <td>0.223565</td>\n",
       "      <td>0.018987</td>\n",
       "      <td>0.011111</td>\n",
       "      <td>0.008264</td>\n",
       "      <td>0.091954</td>\n",
       "      <td>0.114943</td>\n",
       "      <td>0.109195</td>\n",
       "    </tr>\n",
       "  </tbody>\n",
       "</table>\n",
       "</div>"
      ],
      "text/plain": [
       "   SA1_7DIGITCODE_2016  inc_low_perc  childjobless_perc  nonet_perc  \\\n",
       "0              1100701      0.240000           0.000000    0.220000   \n",
       "1              1100702      0.190083           0.064516    0.165289   \n",
       "2              1100703      0.163743           0.000000    0.210526   \n",
       "3              1100704      0.192771           0.000000    0.162651   \n",
       "4              1100705      0.183544           0.000000    0.253165   \n",
       "\n",
       "   noyr12higher_perc  unemployed_perc  lowrent_perc  oneparent_perc  \\\n",
       "0           0.468900         0.039604      0.000000             0.0   \n",
       "1           0.374593         0.035714      1.000000             0.0   \n",
       "2           0.402516         0.072165      0.175439             0.0   \n",
       "3           0.357542         0.052941      0.320000             0.0   \n",
       "4           0.453674         0.071038      0.185185             0.0   \n",
       "\n",
       "   disabilityu70_perc  sepdivorced_perc  nocar_perc  noedu_perc  \\\n",
       "0            0.016667          0.154206    0.030000    0.000000   \n",
       "1            0.028736          0.125786    0.024793    0.000000   \n",
       "2            0.025510          0.182099    0.035088    0.000000   \n",
       "3            0.061497          0.197222    0.048193    0.000000   \n",
       "4            0.021622          0.223565    0.018987    0.011111   \n",
       "\n",
       "   englishpoor_perc  labour_perc  drivers_perc  service_perc  \n",
       "0          0.000000     0.135417      0.083333      0.031250  \n",
       "1          0.008824     0.085366      0.054878      0.067073  \n",
       "2          0.015228     0.117318      0.067039      0.111732  \n",
       "3          0.012690     0.066265      0.060241      0.084337  \n",
       "4          0.008264     0.091954      0.114943      0.109195  "
      ]
     },
     "execution_count": 9,
     "metadata": {},
     "output_type": "execute_result"
    }
   ],
   "source": [
    "data1.head()\n"
   ]
  },
  {
   "cell_type": "code",
   "execution_count": 10,
   "metadata": {
    "colab": {
     "base_uri": "https://localhost:8080/",
     "height": 206
    },
    "id": "O8HJAnG-Snrm",
    "outputId": "8f0433bd-35eb-4323-9a6b-2f3c90cdb0e3"
   },
   "outputs": [
    {
     "data": {
      "text/html": [
       "<div>\n",
       "<style scoped>\n",
       "    .dataframe tbody tr th:only-of-type {\n",
       "        vertical-align: middle;\n",
       "    }\n",
       "\n",
       "    .dataframe tbody tr th {\n",
       "        vertical-align: top;\n",
       "    }\n",
       "\n",
       "    .dataframe thead th {\n",
       "        text-align: right;\n",
       "    }\n",
       "</style>\n",
       "<table border=\"1\" class=\"dataframe\">\n",
       "  <thead>\n",
       "    <tr style=\"text-align: right;\">\n",
       "      <th></th>\n",
       "      <th>SA1_7DIGITCODE_2016</th>\n",
       "      <th>SA1_11DIGITCODE_2016</th>\n",
       "      <th>IRSD_ABS</th>\n",
       "    </tr>\n",
       "  </thead>\n",
       "  <tbody>\n",
       "    <tr>\n",
       "      <th>0</th>\n",
       "      <td>1100701</td>\n",
       "      <td>1.010210e+10</td>\n",
       "      <td>991</td>\n",
       "    </tr>\n",
       "    <tr>\n",
       "      <th>1</th>\n",
       "      <td>1100702</td>\n",
       "      <td>1.010210e+10</td>\n",
       "      <td>1044</td>\n",
       "    </tr>\n",
       "    <tr>\n",
       "      <th>2</th>\n",
       "      <td>1100703</td>\n",
       "      <td>1.010210e+10</td>\n",
       "      <td>980</td>\n",
       "    </tr>\n",
       "    <tr>\n",
       "      <th>3</th>\n",
       "      <td>1100704</td>\n",
       "      <td>1.010210e+10</td>\n",
       "      <td>984</td>\n",
       "    </tr>\n",
       "    <tr>\n",
       "      <th>4</th>\n",
       "      <td>1100705</td>\n",
       "      <td>1.010210e+10</td>\n",
       "      <td>944</td>\n",
       "    </tr>\n",
       "  </tbody>\n",
       "</table>\n",
       "</div>"
      ],
      "text/plain": [
       "  SA1_7DIGITCODE_2016  SA1_11DIGITCODE_2016 IRSD_ABS\n",
       "0             1100701          1.010210e+10      991\n",
       "1             1100702          1.010210e+10     1044\n",
       "2             1100703          1.010210e+10      980\n",
       "3             1100704          1.010210e+10      984\n",
       "4             1100705          1.010210e+10      944"
      ]
     },
     "execution_count": 10,
     "metadata": {},
     "output_type": "execute_result"
    }
   ],
   "source": [
    "data2.head()"
   ]
  },
  {
   "cell_type": "markdown",
   "metadata": {
    "id": "jHcf9W8Tpfo3"
   },
   "source": [
    "### Prepare data"
   ]
  },
  {
   "cell_type": "markdown",
   "metadata": {
    "id": "_led5PnxYIRT"
   },
   "source": [
    "#### Dataset 1"
   ]
  },
  {
   "cell_type": "code",
   "execution_count": 15,
   "metadata": {
    "colab": {
     "base_uri": "https://localhost:8080/"
    },
    "id": "SzzD-qo8phpn",
    "outputId": "8c66096b-9428-4483-9aee-7434ccb19a2d",
    "scrolled": true
   },
   "outputs": [
    {
     "name": "stdout",
     "output_type": "stream",
     "text": [
      "   SA1_7DIGITCODE_2016  inc_low_perc  childjobless_perc  nonet_perc  \\\n",
      "0              1100701      0.240000           0.000000    0.220000   \n",
      "1              1100702      0.190083           0.064516    0.165289   \n",
      "2              1100703      0.163743           0.000000    0.210526   \n",
      "3              1100704      0.192771           0.000000    0.162651   \n",
      "4              1100705      0.183544           0.000000    0.253165   \n",
      "\n",
      "   noyr12higher_perc  unemployed_perc  lowrent_perc  oneparent_perc  \\\n",
      "0           0.468900         0.039604      0.000000             0.0   \n",
      "1           0.374593         0.035714      1.000000             0.0   \n",
      "2           0.402516         0.072165      0.175439             0.0   \n",
      "3           0.357542         0.052941      0.320000             0.0   \n",
      "4           0.453674         0.071038      0.185185             0.0   \n",
      "\n",
      "   disabilityu70_perc  sepdivorced_perc  nocar_perc  noedu_perc  \\\n",
      "0            0.016667          0.154206    0.030000    0.000000   \n",
      "1            0.028736          0.125786    0.024793    0.000000   \n",
      "2            0.025510          0.182099    0.035088    0.000000   \n",
      "3            0.061497          0.197222    0.048193    0.000000   \n",
      "4            0.021622          0.223565    0.018987    0.011111   \n",
      "\n",
      "   englishpoor_perc  labour_perc  drivers_perc  service_perc  \n",
      "0          0.000000     0.135417      0.083333      0.031250  \n",
      "1          0.008824     0.085366      0.054878      0.067073  \n",
      "2          0.015228     0.117318      0.067039      0.111732  \n",
      "3          0.012690     0.066265      0.060241      0.084337  \n",
      "4          0.008264     0.091954      0.114943      0.109195  \n",
      "[[ 1.3804402  -0.64081032  0.82681491  0.53600865 -0.6725844  -0.79558774\n",
      "  -0.4769807  -0.81785397  0.75941547 -0.43771472 -0.5187927  -0.67421415\n",
      "   0.52907538  0.34418958 -1.91173604]\n",
      " [ 0.78657704  0.83917128  0.2458494  -0.09913109 -0.75377544  3.27279647\n",
      "  -0.4769807  -0.33471685  0.14096397 -0.50098344 -0.5187927  -0.50217103\n",
      "  -0.28790573 -0.24341671 -1.04250933]\n",
      " [ 0.4732125  -0.64081032  0.72621522  0.08892489  0.00707676 -0.08183612\n",
      "  -0.4769807  -0.46383513  1.36641419 -0.37589075 -0.5187927  -0.37728693\n",
      "   0.23365734  0.00771111  0.04110528]\n",
      " [ 0.8185612  -0.64081032  0.21782992 -0.21396628 -0.39419028  0.50629521\n",
      "  -0.4769807   0.97677844  1.69552426 -0.21664327 -0.5187927  -0.4267748\n",
      "  -0.59968864 -0.13267164 -0.62360491]\n",
      " [ 0.70879087 -0.64081032  1.17898456  0.43346812 -0.01644132 -0.04218326\n",
      "  -0.4769807  -0.61950037  2.26878331 -0.57153625  0.123105   -0.51307182\n",
      "  -0.18036683  0.99692469 -0.02043989]]\n"
     ]
    }
   ],
   "source": [
    "# Drop the first column of dataset 1 for the purposes of the PCA analysis.\n",
    "pca_data = data1.iloc[:,1:]\n",
    "\n",
    "# Scale the features in dataset 1.\n",
    "sc = StandardScaler()\n",
    "sc.fit(pca_data)\n",
    "pca_data = sc.transform(pca_data)\n",
    "\n",
    "print(data1[0:5])\n",
    "print(pca_data[0:5])"
   ]
  },
  {
   "cell_type": "code",
   "execution_count": 27,
   "metadata": {},
   "outputs": [
    {
     "name": "stdout",
     "output_type": "stream",
     "text": [
      "1.3804402029448977\n",
      "1.3804402029449474\n"
     ]
    }
   ],
   "source": [
    "print((data1['inc_low_perc'].iloc[0]-np.mean(data1['inc_low_perc']))/np.std(data1['inc_low_perc']))\n",
    "print(pca_data[0,0])"
   ]
  },
  {
   "cell_type": "markdown",
   "metadata": {
    "id": "-3n3p9ZLYK7z"
   },
   "source": [
    "#### Dataset 2"
   ]
  },
  {
   "cell_type": "code",
   "execution_count": 28,
   "metadata": {
    "colab": {
     "base_uri": "https://localhost:8080/"
    },
    "id": "eXRyMNfFDVD-",
    "outputId": "fe4b3da6-55e2-437a-966a-7244c9443c10"
   },
   "outputs": [
    {
     "name": "stdout",
     "output_type": "stream",
     "text": [
      "<class 'pandas.core.frame.DataFrame'>\n",
      "Int64Index: 55028 entries, 0 to 55139\n",
      "Data columns (total 2 columns):\n",
      " #   Column               Non-Null Count  Dtype  \n",
      "---  ------               --------------  -----  \n",
      " 0   SA1_7DIGITCODE_2016  55028 non-null  int32  \n",
      " 1   IRSD_ABS             55028 non-null  float64\n",
      "dtypes: float64(1), int32(1)\n",
      "memory usage: 1.0 MB\n",
      "None\n",
      "   SA1_7DIGITCODE_2016  IRSD_ABS\n",
      "0              1100701     991.0\n",
      "1              1100702    1044.0\n",
      "2              1100703     980.0\n",
      "3              1100704     984.0\n",
      "4              1100705     944.0\n"
     ]
    }
   ],
   "source": [
    "# Remove the second column ('SA1_11DIGITCODE_2016') of dataset 2\n",
    "# as this is not needed in the analysis.\n",
    "# Also, the last row in the dataset is a blank row, so this will also be\n",
    "# removed.\n",
    "ABS_IRSD_S1 = data2.iloc[:-2,[0,2]]\n",
    "\n",
    "# Convert the ABS_IRSD features to be numeric.\n",
    "ABS_IRSD_S1['IRSD_ABS'] = pd.to_numeric(ABS_IRSD_S1['IRSD_ABS'],\n",
    "                                        errors='coerce')\n",
    "ABS_IRSD_S1['SA1_7DIGITCODE_2016'] = pd.to_numeric(ABS_IRSD_S1['SA1_7DIGITCODE_2016'],\n",
    "                                        errors='coerce', downcast='integer')\n",
    "\n",
    "\n",
    "# Drop any SA1s with missing values in the dataset.\n",
    "ABS_IRSD_S1 = ABS_IRSD_S1.dropna()\n",
    "\n",
    "print(ABS_IRSD_S1.info())\n",
    "print(ABS_IRSD_S1.head())"
   ]
  },
  {
   "cell_type": "markdown",
   "metadata": {
    "id": "RbVApXlRNGxc"
   },
   "source": [
    "## Modelling\n",
    "This section performs the PCA to recreate the ABS's Index of Relative Socio-Economic Disadvantage (IRSD)."
   ]
  },
  {
   "cell_type": "markdown",
   "metadata": {
    "id": "G7GFB5a0NYlv"
   },
   "source": [
    "### Fit the model"
   ]
  },
  {
   "cell_type": "code",
   "execution_count": 29,
   "metadata": {
    "colab": {
     "base_uri": "https://localhost:8080/",
     "height": 297
    },
    "id": "cBaaLohENFnQ",
    "outputId": "5571fdab-2562-4492-f4f3-7b81842816d3"
   },
   "outputs": [
    {
     "data": {
      "image/png": "[encoded data removed]",
      "text/plain": [
       "<Figure size 432x288 with 1 Axes>"
      ]
     },
     "metadata": {},
     "output_type": "display_data"
    }
   ],
   "source": [
    "# Initiate the PCA.\n",
    "pca = PCA()\n",
    "\n",
    "# Fit the PCA model to determine the transformed features.\n",
    "pca.fit_transform(pca_data)\n",
    "\n",
    "# Use the 'plot_explained_variances' function defined at the top of the\n",
    "# notebook to plot the variance explained by each principal component.\n",
    "plot_explained_variances(pca)"
   ]
  },
  {
   "cell_type": "markdown",
   "metadata": {
    "id": "unyVI39kNcfX"
   },
   "source": [
    "Principal component 1 (PC1) explains over 30% of the variance in the data. PC1 is used as the basis of calculating the IRSD. "
   ]
  },
  {
   "cell_type": "code",
   "execution_count": 30,
   "metadata": {
    "colab": {
     "base_uri": "https://localhost:8080/"
    },
    "id": "WXU3xxJA2mT0",
    "outputId": "6bc847e3-5624-4446-adde-2f42e1d4ab2b"
   },
   "outputs": [
    {
     "name": "stdout",
     "output_type": "stream",
     "text": [
      "[0.36072468 0.08131692 0.38518693 0.31052255 0.2933824  0.28582244\n",
      " 0.00381553 0.31111068 0.28224429 0.19477958 0.14916194 0.07718385\n",
      " 0.33772077 0.24373008 0.18609863]\n"
     ]
    }
   ],
   "source": [
    "# Print out the weights from the first principal component.\n",
    "print(pca.components_[0])"
   ]
  },
  {
   "cell_type": "code",
   "execution_count": 31,
   "metadata": {
    "colab": {
     "base_uri": "https://localhost:8080/"
    },
    "id": "T354nCp84DNe",
    "outputId": "f273ea98-9e0d-482e-e501-ed8933c1fda3"
   },
   "outputs": [
    {
     "name": "stdout",
     "output_type": "stream",
     "text": [
      "[-0.15624479 -0.49972447 -0.5528763  ... -1.18432177 -2.39454824\n",
      "  0.34480264]\n"
     ]
    }
   ],
   "source": [
    "# Apply the PCA dimensionality reduction on the original dataset.\n",
    "# Note that in the step below, all the calculated principal components\n",
    "# are multipled by -1, to align with the approach used by the ABS\n",
    "# where disadvantage indicators, such as the features used in this\n",
    "# case study, are given negative rather than positive weights.\n",
    "# This is described further on page 18 of the SEIFA technical paper. \n",
    "\n",
    "pca_data_transformed = -1.0*pca.fit_transform(pca_data)\n",
    "    \n",
    "print(pca_data_transformed[:,0])"
   ]
  },
  {
   "cell_type": "code",
   "execution_count": 32,
   "metadata": {
    "colab": {
     "base_uri": "https://localhost:8080/"
    },
    "id": "hkazVxm44xHt",
    "outputId": "69510bf0-679c-4cbf-c760-dd24dac5ff8b"
   },
   "outputs": [
    {
     "name": "stdout",
     "output_type": "stream",
     "text": [
      "   SA1_7DIGITCODE_2016  IRSD_raw\n",
      "0              1100701 -0.156245\n",
      "1              1100702 -0.499724\n",
      "2              1100703 -0.552876\n",
      "3              1100704 -0.566873\n",
      "4              1100705 -1.266919\n"
     ]
    }
   ],
   "source": [
    "# Merge principal component 1 (PC1) with the original dataset so that\n",
    "# each SA1 is matched with its calculated raw IRSD index value.\n",
    "pca1 = pd.DataFrame(pca_data_transformed[:,0], columns = ['IRSD_raw'])\n",
    "\n",
    "IRSD_S1 = pd.concat([data1['SA1_7DIGITCODE_2016'].reset_index(drop=True), pca1]\n",
    "                    , axis=1)\n",
    "\n",
    "# Print the first 5 observations in the new dataset which shows the\n",
    "# raw IRSD index value for each SA1.\n",
    "print(IRSD_S1.head())\n"
   ]
  },
  {
   "cell_type": "code",
   "execution_count": 33,
   "metadata": {
    "colab": {
     "base_uri": "https://localhost:8080/"
    },
    "id": "LmyGgnzi6fNV",
    "outputId": "b9b2967b-1f23-422c-f25a-154661d5cba5"
   },
   "outputs": [
    {
     "name": "stdout",
     "output_type": "stream",
     "text": [
      "   SA1_7DIGITCODE_2016  IRSD_raw  IRSD_recreated\n",
      "0              1100701 -0.156245      992.854948\n",
      "1              1100702 -0.499724      977.147669\n",
      "2              1100703 -0.552876      974.717043\n",
      "3              1100704 -0.566873      974.076956\n",
      "4              1100705 -1.266919      942.063949\n"
     ]
    }
   ],
   "source": [
    "# Rescale the raw IRSD index values to have a mean of 1,000 and a\n",
    "# standard deviation of 100.\n",
    "IRSD_S1['IRSD_recreated'] = (IRSD_S1['IRSD_raw']/IRSD_S1['IRSD_raw'].std())*100+1000\n",
    "\n",
    "# Print the first 5 observations to see their scaled IRSD index values.\n",
    "print(IRSD_S1.head())"
   ]
  },
  {
   "cell_type": "code",
   "execution_count": 34,
   "metadata": {
    "colab": {
     "base_uri": "https://localhost:8080/",
     "height": 295
    },
    "id": "t9j9bFXW7fnM",
    "outputId": "849f59a8-3eb0-43d5-cc27-c108a206e098"
   },
   "outputs": [
    {
     "data": {
      "image/png": "[encoded data removed]",
      "text/plain": [
       "<Figure size 432x288 with 1 Axes>"
      ]
     },
     "metadata": {},
     "output_type": "display_data"
    }
   ],
   "source": [
    "# Plot a histogram to show the distribution of IRSD_scaled index values\n",
    "# across all the SA1s.\n",
    "IRSD_S1.hist(column='IRSD_recreated', bins=100, color='dodgerblue')\n",
    "plt.title('Distribution of recreated IRSD scores')\n",
    "plt.xlabel('IRSD score')\n",
    "plt.ylabel('Frequency')\n",
    "\n",
    "plt.show()\n",
    "#plt.savefig('DAA_M06_Fig11.jpg')"
   ]
  },
  {
   "cell_type": "markdown",
   "metadata": {
    "id": "UmWfV1RrWXLl"
   },
   "source": [
    "### Evaluate the model\n",
    "This section compares the created IRSD indexes to those published by the ABS to see how well this notebook has replicated the ABS index."
   ]
  },
  {
   "cell_type": "code",
   "execution_count": 35,
   "metadata": {
    "colab": {
     "base_uri": "https://localhost:8080/",
     "height": 295
    },
    "id": "MquUyRp36381",
    "outputId": "45a48a8d-1fb5-4639-9c68-746cf4389bd7"
   },
   "outputs": [
    {
     "data": {
      "image/png": "[encoded data removed]",
      "text/plain": [
       "<Figure size 432x288 with 1 Axes>"
      ]
     },
     "metadata": {},
     "output_type": "display_data"
    }
   ],
   "source": [
    "# Plot a histogram to show the distribution of the ABS IRSD index values\n",
    "# across all the SA1s.\n",
    "ABS_IRSD_S1.hist(column='IRSD_ABS', bins=100, color='dodgerblue')\n",
    "plt.title('Distribution of ABS IRSD scores')\n",
    "plt.xlabel('IRSD score')\n",
    "plt.ylabel('Frequency')\n",
    "\n",
    "plt.show()"
   ]
  },
  {
   "cell_type": "markdown",
   "metadata": {
    "id": "uCtBfZBNZQob"
   },
   "source": [
    "The two histograms look very similar. This is promising!"
   ]
  },
  {
   "cell_type": "code",
   "execution_count": 36,
   "metadata": {
    "colab": {
     "base_uri": "https://localhost:8080/"
    },
    "id": "xedTJD4W8Vrb",
    "outputId": "3a4e954d-1e9c-41ed-9125-7b8585f4618b"
   },
   "outputs": [
    {
     "name": "stdout",
     "output_type": "stream",
     "text": [
      "   SA1_7DIGITCODE_2016  IRSD_ABS  IRSD_raw  IRSD_recreated\n",
      "0              1100701     991.0 -0.156245      992.854948\n",
      "1              1100702    1044.0 -0.499724      977.147669\n",
      "2              1100703     980.0 -0.552876      974.717043\n",
      "3              1100704     984.0 -0.566873      974.076956\n",
      "4              1100705     944.0 -1.266919      942.063949\n"
     ]
    }
   ],
   "source": [
    "# Join the two datasets together to compare the IRSD calculated to the ABS\n",
    "# published IRSD.\n",
    "\n",
    "IRSD_join = pd.merge(ABS_IRSD_S1, IRSD_S1, how = 'inner', on = 'SA1_7DIGITCODE_2016')\n",
    "\n",
    "print(IRSD_join.head())"
   ]
  },
  {
   "cell_type": "markdown",
   "metadata": {
    "id": "yRntg42_jYhf"
   },
   "source": [
    "A quick look at the first 5 SA1s in the dataset shows that the ABS's IRSD index values and the values calculated in this notebook are very close for some of the SA1 (in the example above SA1 1100701, 1100703, 1100704 and 1100705), but different for others (e.g. SA1 2200702 which has a much higher ABS index)."
   ]
  },
  {
   "cell_type": "code",
   "execution_count": 37,
   "metadata": {
    "colab": {
     "base_uri": "https://localhost:8080/",
     "height": 295
    },
    "id": "eZwkSl6ikN9H",
    "outputId": "d66571ce-c48f-4919-b60c-74fde3ab1b36"
   },
   "outputs": [
    {
     "data": {
      "image/png": "[encoded data removed]",
      "text/plain": [
       "<Figure size 432x288 with 1 Axes>"
      ]
     },
     "metadata": {},
     "output_type": "display_data"
    }
   ],
   "source": [
    "# Create a scatter plot to see how well the recreated index aligns with the ABS\n",
    "# index, even if the individual index values aren't the same for all SA1s.\n",
    "plt.scatter('IRSD_recreated', 'IRSD_ABS', data=IRSD_join, color='dodgerblue')\n",
    "plt.title('Comparison of recreated and ABS IRSD scores')\n",
    "plt.xlabel('Recreated IRSD score')\n",
    "plt.ylabel('ABS IRSD score')\n",
    "\n",
    "plt.show()\n",
    "\n",
    "#plt.savefig('DAA_M06_Fig12.jpg')"
   ]
  },
  {
   "cell_type": "markdown",
   "metadata": {
    "id": "_xErYsU8lEuE"
   },
   "source": [
    "The above scatter plot shows that the two sets of indexes are broadly aligned."
   ]
  },
  {
   "cell_type": "code",
   "execution_count": 38,
   "metadata": {
    "colab": {
     "base_uri": "https://localhost:8080/"
    },
    "id": "aCwRr1D9lJmi",
    "outputId": "59fdfb18-b402-492d-e908-e44bd315e98b"
   },
   "outputs": [
    {
     "name": "stdout",
     "output_type": "stream",
     "text": [
      "The correlation between the ABS and recreated index is: 0.9455521726857933\n"
     ]
    }
   ],
   "source": [
    "# Calculate the correlation between the ABS index and the index calculated\n",
    "# in this notebook.\n",
    "correlation, _ = pearsonr(IRSD_join['IRSD_recreated'], IRSD_join['IRSD_ABS'])\n",
    "print('The correlation between the ABS and recreated index is: '+str(correlation))"
   ]
  },
  {
   "cell_type": "markdown",
   "metadata": {
    "id": "aej7rzZtqtLm"
   },
   "source": [
    "## Commentary\n",
    "\n",
    "The recreated index appears to be very similar the ABS index, with a high correlation between index values (94.6%)."
   ]
  }
 ],
 "metadata": {
  "colab": {
   "collapsed_sections": [],
   "name": "DAA_M06_CS1.ipynb",
   "provenance": []
  },
  "kernelspec": {
   "display_name": "Python 3",
   "language": "python",
   "name": "python3"
  },
  "language_info": {
   "codemirror_mode": {
    "name": "ipython",
    "version": 3
   },
   "file_extension": ".py",
   "mimetype": "text/x-python",
   "name": "python",
   "nbconvert_exporter": "python",
   "pygments_lexer": "ipython3",
   "version": "3.6.5"
  }
 },
 "nbformat": 4,
 "nbformat_minor": 1
}
