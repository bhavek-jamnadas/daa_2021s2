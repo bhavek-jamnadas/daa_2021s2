{
 "cells": [
  {
   "cell_type": "markdown",
   "metadata": {
    "id": "abNHW2c-Ym21"
   },
   "source": [
    "# DAA M06 Unsupervised learning\n",
    "\n",
    "## Exercise 6.3: Simple application of K-means\n",
    "\n",
    "## Purpose\n",
    "This notebook works through a simple application of K-means using first principles rather than the K-means package."
   ]
  },
  {
   "cell_type": "markdown",
   "metadata": {
    "id": "IEAkTtAGOhO-"
   },
   "source": [
    "## Packages\n",
    "This section installs packages that will be required for this exercise/case study."
   ]
  },
  {
   "cell_type": "code",
   "execution_count": 1,
   "metadata": {
    "id": "gTAmO_h0YhAY"
   },
   "outputs": [],
   "source": [
    "import matplotlib.pyplot as plt # Used to create plots.\n",
    "import random # Used for generation random numbers.\n",
    "import math # Used to calculate the distance between observations."
   ]
  },
  {
   "cell_type": "markdown",
   "metadata": {
    "id": "f0-GmelSWs-H"
   },
   "source": [
    "### Functions\n",
    "This section defines functions that will be used in this exercise/case study."
   ]
  },
  {
   "cell_type": "code",
   "execution_count": 5,
   "metadata": {
    "id": "Sgg9z_GSWyzI"
   },
   "outputs": [],
   "source": [
    "# Define a function to calculate the euclidean distance between points a and b.\n",
    "def distance(a, b):\n",
    "    return math.hypot(a[0] - b[0], a[1] - b[1])\n",
    "    #Math.hypot() returns the square root of the sum of squares of its arguments."
   ]
  },
  {
   "cell_type": "markdown",
   "metadata": {
    "id": "BE-I00KCOsZy"
   },
   "source": [
    "## Data\n",
    "This section:\n",
    "- imports (creates) the data that will be used in the modelling; and\n",
    "- explores the data."
   ]
  },
  {
   "cell_type": "markdown",
   "metadata": {
    "id": "DhuEBt_MPIdY"
   },
   "source": [
    "### Import the data"
   ]
  },
  {
   "cell_type": "code",
   "execution_count": 2,
   "metadata": {
    "id": "GJ5jvj5jO0Ko"
   },
   "outputs": [],
   "source": [
    "# Set up the dataset.\n",
    "X = [[0,1],[7,7],[10,7],[2,4],[1,0],[8,6],[1,1],[9,6],[2,3],[7,9]]"
   ]
  },
  {
   "cell_type": "markdown",
   "metadata": {
    "id": "jM7qKTPVPLsq"
   },
   "source": [
    "### Explore the data"
   ]
  },
  {
   "cell_type": "code",
   "execution_count": 3,
   "metadata": {
    "colab": {
     "base_uri": "https://localhost:8080/",
     "height": 295
    },
    "id": "BVQmSNC-POKl",
    "outputId": "5cc6fe0d-5b5c-4503-9c35-606fed9fd516"
   },
   "outputs": [
    {
     "data": {
      "image/png": "[encoded data removed]",
      "text/plain": [
       "<Figure size 432x288 with 1 Axes>"
      ]
     },
     "metadata": {
      "needs_background": "light",
      "tags": []
     },
     "output_type": "display_data"
    }
   ],
   "source": [
    "# Plot the points.\n",
    "plt.scatter(*zip(*X), color = 'black')\n",
    "  # *zip(*X) is needed to unpack X into its X1 and X2 values for the scatterplot.\n",
    "plt.xlabel('X1')\n",
    "plt.ylabel('X2')\n",
    "plt.title('Initial plot of data points prior to clustering')\n",
    "#plt.savefig('M06 Ex3a.jpg')\n",
    "plt.show()\n"
   ]
  },
  {
   "cell_type": "markdown",
   "metadata": {
    "id": "XFbWuq-SPaJf"
   },
   "source": [
    "## Modelling\n",
    "This section performs k-means clustering from first principles, rather than using the k-means package."
   ]
  },
  {
   "cell_type": "code",
   "execution_count": 4,
   "metadata": {
    "colab": {
     "base_uri": "https://localhost:8080/",
     "height": 295
    },
    "id": "1_jssKjGPCPQ",
    "outputId": "60a6687a-15d3-429e-98b4-207c5deb2e5d"
   },
   "outputs": [
    {
     "data": {
      "image/png": "[encoded data removed]",
      "text/plain": [
       "<Figure size 432x288 with 1 Axes>"
      ]
     },
     "metadata": {
      "needs_background": "light",
      "tags": []
     },
     "output_type": "display_data"
    }
   ],
   "source": [
    "# Randomly assign each point to one of two clusters.\n",
    "\n",
    "# Generate a list of 10 random numbers between 1 and 100.\n",
    "seed = 1000\n",
    "  # You can change the value of 'seed' to use a different initial random\n",
    "  # allocation of data points.\n",
    "random.seed(seed) \n",
    "randomlist = random.sample(range(1, 100), 10)\n",
    "\n",
    "# Assign each observation to cluster 1 if its random number if >50\n",
    "# or to cluster 2 otherwise.\n",
    "clusters = [1 if number>50 else 2 for number in randomlist]\n",
    "\n",
    "# Assign cluster 1 to be 'colour1' and cluster 2 to be 'colour2'.\n",
    "colour1 = 'dodgerblue'\n",
    "colour2 = 'orange'\n",
    "colour = [colour1 if cluster==1 else colour2 for cluster in clusters]\n",
    "\n",
    "# Add each observation to the relevant list of observations for each\n",
    "# cluster.\n",
    "C1 = [x for x, cluster in zip(X,clusters) if cluster == 1]\n",
    "C2 = [x for x, cluster in zip(X,clusters) if cluster == 2]\n",
    "\n",
    "# Compute the cluster centroids.\n",
    "Z1 = [sum(x)/len(x) for x in zip(*C1)]\n",
    "Z2 = [sum(x)/len(x) for x in zip(*C2)]\n",
    "\n",
    "# Plot the points and centroids, using colours to show the initial random\n",
    "# allocation to the two clusters.\n",
    "plt.scatter(*zip(*X), color = colour) # Plots the points from X.\n",
    "plt.scatter(Z1[0],Z1[1],color = colour1,marker='+',s=100)\n",
    "  # Plot cluster 1's centroid.\n",
    "plt.scatter(Z2[0],Z2[1],color = colour2,marker='+',s=100)\n",
    "  # Plot cluster 2's centroid.\n",
    "plt.xlabel('X1')\n",
    "plt.ylabel('X2')\n",
    "plt.title('Data points and cluster centroids after random allocation')\n",
    "#plt.savefig('M06 Ex3b.jpg')\n",
    "plt.show()"
   ]
  },
  {
   "cell_type": "markdown",
   "metadata": {
    "id": "MHaS1p4uWUx7"
   },
   "source": [
    "It is clear from a visual inspection of the above plot that some of the observations need to be reassigned to their closest cluster."
   ]
  },
  {
   "cell_type": "code",
   "execution_count": 6,
   "metadata": {
    "colab": {
     "base_uri": "https://localhost:8080/",
     "height": 295
    },
    "id": "xC5ymyDmWIu1",
    "outputId": "70a3c171-fa63-4c23-8692-e9312a2be3aa"
   },
   "outputs": [
    {
     "data": {
      "image/png": "[encoded data removed]",
      "text/plain": [
       "<Figure size 432x288 with 1 Axes>"
      ]
     },
     "metadata": {
      "needs_background": "light",
      "tags": []
     },
     "output_type": "display_data"
    }
   ],
   "source": [
    "# Allocate data points to their nearest cluster.\n",
    "\n",
    "# Calculate the Euclidean distance between each data point\n",
    "# and each cluster centroid.\n",
    "D1 = [distance(x,Z1) for x in X]\n",
    "  # Generates a list of calculated distances between each data point and Z1.\n",
    "D2 = [distance(x,Z2) for x in X]\n",
    "  # Generates a list of calculated distances between each data point and Z2.\n",
    "\n",
    "# Allocate each data point to the cluster with the closest centroid.\n",
    "clusters = [1 if distance1<=distance2 else 2 for distance1,distance2 in zip(D1,D2)]\n",
    "colour = [colour1 if cluster==1 else colour2 for cluster in clusters]\n",
    "C1 = [x for x, cluster in zip(X,clusters) if cluster == 1]\n",
    "C2 = [x for x, cluster in zip(X,clusters) if cluster == 2]\n",
    "\n",
    "# Re-compute the cluster centroids.\n",
    "Z1 = [sum(x)/len(x) for x in zip(*C1)]\n",
    "Z2 = [sum(x)/len(x) for x in zip(*C2)]\n",
    "\n",
    "# Plot the points and new cluster centroids,\n",
    "# using colours to show the cluster re-allocations.\n",
    "plt.scatter(*zip(*X), color = colour)\n",
    "plt.scatter(Z1[0],Z1[1],color = colour1,marker='+',s=100)\n",
    "plt.scatter(Z2[0],Z2[1],color = colour2,marker='+',s=100)\n",
    "plt.xlabel('X1')\n",
    "plt.ylabel('X2')\n",
    "plt.title('Data points and cluster centroids after one iteration')\n",
    "plt.savefig('M06 Ex3c.jpg')\n",
    "plt.show()"
   ]
  }
 ],
 "metadata": {
  "colab": {
   "name": "DAA_M06_Ex3.ipynb",
   "provenance": [],
   "toc_visible": true
  },
  "kernelspec": {
   "display_name": "Python 3",
   "language": "python",
   "name": "python3"
  },
  "language_info": {
   "codemirror_mode": {
    "name": "ipython",
    "version": 3
   },
   "file_extension": ".py",
   "mimetype": "text/x-python",
   "name": "python",
   "nbconvert_exporter": "python",
   "pygments_lexer": "ipython3",
   "version": "3.6.5"
  }
 },
 "nbformat": 4,
 "nbformat_minor": 1
}
