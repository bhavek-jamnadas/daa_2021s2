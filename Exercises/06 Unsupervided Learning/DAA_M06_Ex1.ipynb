{
  "nbformat": 4,
  "nbformat_minor": 0,
  "metadata": {
    "kernelspec": {
      "display_name": "Python 3",
      "language": "python",
      "name": "python3"
    },
    "language_info": {
      "codemirror_mode": {
        "name": "ipython",
        "version": 3
      },
      "file_extension": ".py",
      "mimetype": "text/x-python",
      "name": "python",
      "nbconvert_exporter": "python",
      "pygments_lexer": "ipython3",
      "version": "3.7.6"
    },
    "colab": {
      "name": "DAA_M06_Ex1.ipynb",
      "provenance": [],
      "collapsed_sections": [],
      "toc_visible": true
    }
  },
  "cells": [
    {
      "cell_type": "markdown",
      "metadata": {
        "id": "aWgDIQjDJo4X"
      },
      "source": [
        "# DAA M06 Unsupervised learning\n",
        "## Exercise 6.1 - PCA on COVID dataset\n",
        "\n",
        "### Purpose:\n",
        "This notebook performs Principal Component Analysis (PCA) on COVID data.\n",
        "\n",
        "### References:\n",
        "The dataset that is used in this exercise was sourced from Our World in Data: https://ourworldindata.org/covid-cases.\n",
        "\n",
        "This dataset was downloaded from the above link on 31 March 2021. It contains country-by-country data on confirmed coronavirus disease (COVID-19) cases and at the time of writing is updated on a daily basis.\n",
        "\n",
        "The data contains COVID-19 and population related features for over 100 countries. These features include:\n",
        "- total cases per million people;\n",
        "- total new cases per million people;\n",
        "- total deaths per million people;\n",
        "- new deaths per million people;\n",
        "- reproduction rate of the disease;\n",
        "- positive testing rate;\n",
        "- total tests per thousand people;\n",
        "- icu patients per million people; and\n",
        "- hospital patients per million people."
      ]
    },
    {
      "cell_type": "markdown",
      "metadata": {
        "id": "q3fiRJ7turGo"
      },
      "source": [
        "## Packages\n",
        "This section installs packages that will be required for this exercise/case study."
      ]
    },
    {
      "cell_type": "code",
      "metadata": {
        "id": "O63vSpE7WXNQ"
      },
      "source": [
        "import pandas as pd # For data management.\n",
        "import numpy as np # For mathematical operations.\n",
        "\n",
        "# For plotting.\n",
        "import matplotlib.pyplot as plt\n",
        "import seaborn as sns\n",
        "  # Seaborn is a data visualisation package that will be used below to\n",
        "  # create a heatmap.\n",
        "\n",
        "# The following Scikit-learn libraries are used to standardise the\n",
        "# features and perform PCA.\n",
        "from sklearn.decomposition import PCA\n",
        "from sklearn.preprocessing import StandardScaler\n",
        "from sklearn.pipeline import make_pipeline\n",
        "\n",
        "# The files library allows you to browse your directory\n",
        "# to upload the necessary dataset.\n",
        "from google.colab import files\n"
      ],
      "execution_count": 2,
      "outputs": []
    },
    {
      "cell_type": "markdown",
      "metadata": {
        "id": "Hhu9ZyMvu6q_"
      },
      "source": [
        "## Data\n",
        "This section:\n",
        "- imports the data that will be used in the modelling;\n",
        "- explores the data; and\n",
        "- prepares the data for modelling."
      ]
    },
    {
      "cell_type": "markdown",
      "metadata": {
        "id": "TGPqip65vCde"
      },
      "source": [
        "### Import data\n",
        "The code below uploads the csv file to Google Colab.\n",
        "\n",
        "When prompted, select the *DAA_M06_COVID_data.csv* dataset to upload."
      ]
    },
    {
      "cell_type": "code",
      "metadata": {
        "colab": {
          "resources": {
            "http://localhost:8080/nbextensions/google.colab/files.js": {
              "data": "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",
              "ok": true,
              "headers": [
                [
                  "content-type",
                  "application/javascript"
                ]
              ],
              "status": 200,
              "status_text": "OK"
            }
          },
          "base_uri": "https://localhost:8080/",
          "height": 75
        },
        "id": "sTHZoPhfvRJz",
        "outputId": "181dcddf-c38a-467b-c2a3-cd1218418305"
      },
      "source": [
        "files.upload()\n",
        "covid = pd.read_csv('/content/DAA_M06_COVID_data.csv', header = 0)\n",
        "\n",
        "# The csv file is quite large so it may take a few minutes for it to be\n",
        "# uploaded.\n",
        "\n",
        "# Note that the following code could be used to read the most\n",
        "# recent data in directly from the Our World in Data website:\n",
        "\n",
        "# covid = pd.read_csv('https://covid.ourworldindata.org/data/owid-covid-data.csv')\n"
      ],
      "execution_count": 5,
      "outputs": [
        {
          "output_type": "display_data",
          "data": {
            "text/html": [
              "\n",
              "     <input type=\"file\" id=\"files-253d0094-9df9-4d33-8c23-a8f459f00883\" name=\"files[]\" multiple disabled\n",
              "        style=\"border:none\" />\n",
              "     <output id=\"result-253d0094-9df9-4d33-8c23-a8f459f00883\">\n",
              "      Upload widget is only available when the cell has been executed in the\n",
              "      current browser session. Please rerun this cell to enable.\n",
              "      </output>\n",
              "      <script src=\"/nbextensions/google.colab/files.js\"></script> "
            ],
            "text/plain": [
              "<IPython.core.display.HTML object>"
            ]
          },
          "metadata": {
            "tags": []
          }
        },
        {
          "output_type": "stream",
          "text": [
            "Saving DAA_M06_COVID_data.csv to DAA_M06_COVID_data (1).csv\n"
          ],
          "name": "stdout"
        }
      ]
    },
    {
      "cell_type": "markdown",
      "metadata": {
        "id": "Jm6uRZAgviI9"
      },
      "source": [
        "### Explore data"
      ]
    },
    {
      "cell_type": "code",
      "metadata": {
        "colab": {
          "base_uri": "https://localhost:8080/"
        },
        "id": "DXs59kFlvlKj",
        "outputId": "1a8955b9-16d4-47e3-fc4f-89cad5db2b00"
      },
      "source": [
        "# Check the number of observations and features of the dataset.\n",
        "print(covid.info())"
      ],
      "execution_count": 6,
      "outputs": [
        {
          "output_type": "stream",
          "text": [
            "<class 'pandas.core.frame.DataFrame'>\n",
            "RangeIndex: 78259 entries, 0 to 78258\n",
            "Data columns (total 59 columns):\n",
            " #   Column                                 Non-Null Count  Dtype  \n",
            "---  ------                                 --------------  -----  \n",
            " 0   iso_code                               78259 non-null  object \n",
            " 1   continent                              74436 non-null  object \n",
            " 2   location                               78259 non-null  object \n",
            " 3   date                                   78259 non-null  object \n",
            " 4   total_cases                            76704 non-null  float64\n",
            " 5   new_cases                              76702 non-null  float64\n",
            " 6   new_cases_smoothed                     75701 non-null  float64\n",
            " 7   total_deaths                           67325 non-null  float64\n",
            " 8   new_deaths                             67483 non-null  float64\n",
            " 9   new_deaths_smoothed                    75701 non-null  float64\n",
            " 10  total_cases_per_million                76287 non-null  float64\n",
            " 11  new_cases_per_million                  76285 non-null  float64\n",
            " 12  new_cases_smoothed_per_million         75289 non-null  float64\n",
            " 13  total_deaths_per_million               66921 non-null  float64\n",
            " 14  new_deaths_per_million                 67079 non-null  float64\n",
            " 15  new_deaths_smoothed_per_million        75289 non-null  float64\n",
            " 16  reproduction_rate                      63118 non-null  float64\n",
            " 17  icu_patients                           8139 non-null   float64\n",
            " 18  icu_patients_per_million               8139 non-null   float64\n",
            " 19  hosp_patients                          9750 non-null   float64\n",
            " 20  hosp_patients_per_million              9750 non-null   float64\n",
            " 21  weekly_icu_admissions                  713 non-null    float64\n",
            " 22  weekly_icu_admissions_per_million      713 non-null    float64\n",
            " 23  weekly_hosp_admissions                 1313 non-null   float64\n",
            " 24  weekly_hosp_admissions_per_million     1313 non-null   float64\n",
            " 25  new_tests                              35926 non-null  float64\n",
            " 26  total_tests                            35697 non-null  float64\n",
            " 27  total_tests_per_thousand               35697 non-null  float64\n",
            " 28  new_tests_per_thousand                 35926 non-null  float64\n",
            " 29  new_tests_smoothed                     41098 non-null  float64\n",
            " 30  new_tests_smoothed_per_thousand        41098 non-null  float64\n",
            " 31  positive_rate                          39748 non-null  float64\n",
            " 32  tests_per_case                         39194 non-null  float64\n",
            " 33  tests_units                            42460 non-null  object \n",
            " 34  total_vaccinations                     5787 non-null   float64\n",
            " 35  people_vaccinated                      5224 non-null   float64\n",
            " 36  people_fully_vaccinated                3525 non-null   float64\n",
            " 37  new_vaccinations                       4929 non-null   float64\n",
            " 38  new_vaccinations_smoothed              8977 non-null   float64\n",
            " 39  total_vaccinations_per_hundred         5787 non-null   float64\n",
            " 40  people_vaccinated_per_hundred          5224 non-null   float64\n",
            " 41  people_fully_vaccinated_per_hundred    3525 non-null   float64\n",
            " 42  new_vaccinations_smoothed_per_million  8977 non-null   float64\n",
            " 43  stringency_index                       67165 non-null  float64\n",
            " 44  population                             77771 non-null  float64\n",
            " 45  population_density                     72942 non-null  float64\n",
            " 46  median_age                             70787 non-null  float64\n",
            " 47  aged_65_older                          69975 non-null  float64\n",
            " 48  aged_70_older                          70389 non-null  float64\n",
            " 49  gdp_per_capita                         71053 non-null  float64\n",
            " 50  extreme_poverty                        48467 non-null  float64\n",
            " 51  cardiovasc_death_rate                  71653 non-null  float64\n",
            " 52  diabetes_prevalence                    72597 non-null  float64\n",
            " 53  female_smokers                         56277 non-null  float64\n",
            " 54  male_smokers                           55451 non-null  float64\n",
            " 55  handwashing_facilities                 35971 non-null  float64\n",
            " 56  hospital_beds_per_thousand             65527 non-null  float64\n",
            " 57  life_expectancy                        74292 non-null  float64\n",
            " 58  human_development_index                71599 non-null  float64\n",
            "dtypes: float64(54), object(5)\n",
            "memory usage: 35.2+ MB\n",
            "None\n"
          ],
          "name": "stdout"
        }
      ]
    },
    {
      "cell_type": "markdown",
      "metadata": {
        "id": "76BIfnXbvNdK"
      },
      "source": [
        "### Prepare data"
      ]
    },
    {
      "cell_type": "code",
      "metadata": {
        "scrolled": true,
        "colab": {
          "base_uri": "https://localhost:8080/"
        },
        "id": "Sx7k1fNYWXNU",
        "outputId": "d41fa61b-bcc8-4903-fbb9-ec0d3d027362"
      },
      "source": [
        "# Restrict the data to only look at one point in time (31-Dec-2020).\n",
        "covid2 = covid[covid['date']=='2020-12-31']\n",
        "\n",
        "# This analysis will use nine features.\n",
        "# The column 'location' is also retained to give us the country names.\n",
        "# Countries that have any missing values at the extract date are dropped from\n",
        "# the data table using the .dropna() method.\n",
        "\n",
        "covid3 = covid2[['location','total_cases_per_million','new_cases_per_million',\n",
        "                   'total_deaths_per_million','new_deaths_per_million',\n",
        "                   'reproduction_rate','positive_rate','total_tests_per_thousand',\n",
        "                 'icu_patients_per_million','hosp_patients_per_million']].dropna()\n",
        "\n",
        "covid_data = covid3.drop(columns='location')\n",
        "print(covid_data.info())\n",
        "\n",
        "countries = covid3['location'].tolist()\n",
        "print(countries)\n",
        "\n",
        "print(covid_data.describe())"
      ],
      "execution_count": 7,
      "outputs": [
        {
          "output_type": "stream",
          "text": [
            "<class 'pandas.core.frame.DataFrame'>\n",
            "Int64Index: 17 entries, 4823 to 74527\n",
            "Data columns (total 9 columns):\n",
            " #   Column                     Non-Null Count  Dtype  \n",
            "---  ------                     --------------  -----  \n",
            " 0   total_cases_per_million    17 non-null     float64\n",
            " 1   new_cases_per_million      17 non-null     float64\n",
            " 2   total_deaths_per_million   17 non-null     float64\n",
            " 3   new_deaths_per_million     17 non-null     float64\n",
            " 4   reproduction_rate          17 non-null     float64\n",
            " 5   positive_rate              17 non-null     float64\n",
            " 6   total_tests_per_thousand   17 non-null     float64\n",
            " 7   icu_patients_per_million   17 non-null     float64\n",
            " 8   hosp_patients_per_million  17 non-null     float64\n",
            "dtypes: float64(9)\n",
            "memory usage: 1.3 KB\n",
            "None\n",
            "['Austria', 'Belgium', 'Bulgaria', 'Canada', 'Cyprus', 'Denmark', 'Estonia', 'Finland', 'Ireland', 'Israel', 'Italy', 'Luxembourg', 'Portugal', 'Slovenia', 'Spain', 'United Kingdom', 'United States']\n",
            "       total_cases_per_million  ...  hosp_patients_per_million\n",
            "count                17.000000  ...                  17.000000\n",
            "mean              37416.258294  ...                 272.879235\n",
            "std               18052.668925  ...                 171.633677\n",
            "min                6516.664000  ...                  35.916000\n",
            "25%               25138.743000  ...                 168.563000\n",
            "50%               36770.982000  ...                 217.261000\n",
            "75%               48900.698000  ...                 371.846000\n",
            "max               74148.210000  ...                 695.263000\n",
            "\n",
            "[8 rows x 9 columns]\n"
          ],
          "name": "stdout"
        }
      ]
    },
    {
      "cell_type": "markdown",
      "metadata": {
        "id": "OJGlgtXDxv7i"
      },
      "source": [
        "## Modelling\n",
        "This section:\n",
        "- performs PCA; and\n",
        "- explores the new features generated by PCA."
      ]
    },
    {
      "cell_type": "markdown",
      "metadata": {
        "id": "hc2QOXsc0g3b"
      },
      "source": [
        "### Perform PCA"
      ]
    },
    {
      "cell_type": "code",
      "metadata": {
        "id": "hgN_4J-WLl5w"
      },
      "source": [
        "# Perform PCA on the COVID data.\n",
        "\n",
        "# Create an instance of StandardScalar so that the features\n",
        "# of the dataset can be scaled during the PCA.\n",
        "scaler = StandardScaler()\n",
        "\n",
        "# Create a PCA object called 'pca_model'.\n",
        "pca_model = PCA()\n",
        "\n",
        "# Create a pipeline so that the dataset features are scaled and then\n",
        "# a PCA model is fit to the scaled data.\n",
        "pipeline = make_pipeline(scaler,pca_model)\n",
        "\n",
        "# Fit a pca model to the scaled Covid dataset\n",
        "# to find its principal components.\n",
        "pipeline.fit(covid_data)\n",
        "\n",
        "# Create an array containing each observation from the Covid dataset and\n",
        "# the nine principal components calculated for each observation.\n",
        "pca_features = pipeline.transform(covid_data)"
      ],
      "execution_count": 8,
      "outputs": []
    },
    {
      "cell_type": "markdown",
      "metadata": {
        "id": "_3pytcYlWcnu"
      },
      "source": [
        "## Evaluate model"
      ]
    },
    {
      "cell_type": "markdown",
      "metadata": {
        "id": "POElRNdE0lpM"
      },
      "source": [
        "### Analyse correlation between features"
      ]
    },
    {
      "cell_type": "code",
      "metadata": {
        "colab": {
          "base_uri": "https://localhost:8080/"
        },
        "id": "_PHfo-CR5Bya",
        "outputId": "f5709485-7394-4648-aef3-7d747173d965"
      },
      "source": [
        "# Plot a correlation matrix for the principal components to check that they are\n",
        "# uncorrelated.\n",
        "\n",
        "# Convert the pca_features array into a Pandas dataframe.\n",
        "pca_df = pd.DataFrame(pca_features)\n",
        "\n",
        "# Calculate the correlation between the nine principal components.\n",
        "pd.set_option('display.max_columns', 9)\n",
        "  # The display.max_columns option ensures that all nine columns\n",
        "  # are shown when the correlation matrix is printed.\n",
        "print('Correlation matrix for principal components\\n')\n",
        "print(pca_df.corr().round(2))\n",
        "  # The correlations have been rounded to 2dp to make them easier to read.\n",
        "print('\\nCorrelation matrix for original Covid data\\n')\n",
        "print(covid_data.corr().round(2))\n",
        "  # The correlations have been rounded to 2dp to make them easier to read."
      ],
      "execution_count": 9,
      "outputs": [
        {
          "output_type": "stream",
          "text": [
            "Correlation matrix for principal components\n",
            "\n",
            "     0    1    2    3    4    5    6    7    8\n",
            "0  1.0  0.0  0.0 -0.0 -0.0  0.0  0.0  0.0  0.0\n",
            "1  0.0  1.0  0.0 -0.0  0.0  0.0  0.0 -0.0 -0.0\n",
            "2  0.0  0.0  1.0  0.0 -0.0  0.0  0.0 -0.0  0.0\n",
            "3 -0.0 -0.0  0.0  1.0  0.0 -0.0 -0.0 -0.0 -0.0\n",
            "4 -0.0  0.0 -0.0  0.0  1.0 -0.0  0.0  0.0  0.0\n",
            "5  0.0  0.0  0.0 -0.0 -0.0  1.0  0.0 -0.0 -0.0\n",
            "6  0.0  0.0  0.0 -0.0  0.0  0.0  1.0 -0.0  0.0\n",
            "7  0.0 -0.0 -0.0 -0.0  0.0 -0.0 -0.0  1.0  0.0\n",
            "8  0.0 -0.0  0.0 -0.0  0.0 -0.0  0.0  0.0  1.0\n",
            "\n",
            "Correlation matrix for original Covid data\n",
            "\n",
            "                           total_cases_per_million  new_cases_per_million  \\\n",
            "total_cases_per_million                       1.00                   0.33   \n",
            "new_cases_per_million                         0.33                   1.00   \n",
            "total_deaths_per_million                      0.62                   0.27   \n",
            "new_deaths_per_million                        0.33                   0.67   \n",
            "reproduction_rate                            -0.22                   0.35   \n",
            "positive_rate                                 0.20                   0.58   \n",
            "total_tests_per_thousand                      0.42                  -0.27   \n",
            "icu_patients_per_million                      0.70                   0.45   \n",
            "hosp_patients_per_million                     0.31                   0.41   \n",
            "\n",
            "                           total_deaths_per_million  new_deaths_per_million  \\\n",
            "total_cases_per_million                        0.62                    0.33   \n",
            "new_cases_per_million                          0.27                    0.67   \n",
            "total_deaths_per_million                       1.00                    0.66   \n",
            "new_deaths_per_million                         0.66                    1.00   \n",
            "reproduction_rate                             -0.13                   -0.06   \n",
            "positive_rate                                  0.52                    0.69   \n",
            "total_tests_per_thousand                      -0.23                   -0.33   \n",
            "icu_patients_per_million                       0.65                    0.62   \n",
            "hosp_patients_per_million                      0.59                    0.69   \n",
            "\n",
            "                           reproduction_rate  positive_rate  \\\n",
            "total_cases_per_million                -0.22           0.20   \n",
            "new_cases_per_million                   0.35           0.58   \n",
            "total_deaths_per_million               -0.13           0.52   \n",
            "new_deaths_per_million                 -0.06           0.69   \n",
            "reproduction_rate                       1.00           0.04   \n",
            "positive_rate                           0.04           1.00   \n",
            "total_tests_per_thousand               -0.29          -0.58   \n",
            "icu_patients_per_million               -0.33           0.71   \n",
            "hosp_patients_per_million              -0.23           0.86   \n",
            "\n",
            "                           total_tests_per_thousand  icu_patients_per_million  \\\n",
            "total_cases_per_million                        0.42                      0.70   \n",
            "new_cases_per_million                         -0.27                      0.45   \n",
            "total_deaths_per_million                      -0.23                      0.65   \n",
            "new_deaths_per_million                        -0.33                      0.62   \n",
            "reproduction_rate                             -0.29                     -0.33   \n",
            "positive_rate                                 -0.58                      0.71   \n",
            "total_tests_per_thousand                       1.00                     -0.07   \n",
            "icu_patients_per_million                      -0.07                      1.00   \n",
            "hosp_patients_per_million                     -0.30                      0.78   \n",
            "\n",
            "                           hosp_patients_per_million  \n",
            "total_cases_per_million                         0.31  \n",
            "new_cases_per_million                           0.41  \n",
            "total_deaths_per_million                        0.59  \n",
            "new_deaths_per_million                          0.69  \n",
            "reproduction_rate                              -0.23  \n",
            "positive_rate                                   0.86  \n",
            "total_tests_per_thousand                       -0.30  \n",
            "icu_patients_per_million                        0.78  \n",
            "hosp_patients_per_million                       1.00  \n"
          ],
          "name": "stdout"
        }
      ]
    },
    {
      "cell_type": "markdown",
      "metadata": {
        "id": "9tixi5LqZVLG"
      },
      "source": [
        "You can see from the top correlation matrix that all the correlation coefficients of the principal components are 0. In other words, each of the nine principal components is uncorrelated with each other.\n",
        " \n",
        "This differs from the original COVID dataset. The second correlation matrix shows that some of the original features of the dataset are highly correlated (e.g. correlation coefficient of new_deaths_per_million and hosp_patients_per_million is 0.69). This suggests some redundancy in using both of these features in any analysis of the dataset."
      ]
    },
    {
      "cell_type": "markdown",
      "metadata": {
        "id": "RcWW2WsT0phU"
      },
      "source": [
        "### Create scree plot"
      ]
    },
    {
      "cell_type": "code",
      "metadata": {
        "colab": {
          "base_uri": "https://localhost:8080/",
          "height": 279
        },
        "id": "6Ryon1mUWg3u",
        "outputId": "66c41fe1-8c51-4699-a26f-32cfaab7064c"
      },
      "source": [
        "# Create a scree plot to determine the intrinsic dimension of the dataset.\n",
        "\n",
        "# Create a sequence of labels for each principal component in the\n",
        "# scree plot below.\n",
        "components = ['PC'+str(x+1) for x in range(pca_model.n_components_)]\n",
        "\n",
        "# Plot the variance explained by each component individually as a bar plot.\n",
        "plt.bar(components, pca_model.explained_variance_ratio_,\n",
        "        color='dodgerblue')\n",
        "\n",
        "# Plot the cumulative variance explained by the components as a line plot.\n",
        "plt.plot(components,np.cumsum(pca_model.explained_variance_ratio_),\n",
        "         c='orange',\n",
        "         label=\"Cumulative Explained Variance\")\n",
        "\n",
        "# Add labels to the plot.\n",
        "plt.xlabel('principal component')\n",
        "plt.ylabel('variance')\n",
        "plt.xticks(components)\n",
        "plt.legend(loc='upper left')\n",
        "plt.grid(True)\n",
        "\n",
        "# Add labels on the bar plot to show the amount of variance explained\n",
        "# by each principal component.\n",
        "np.set_printoptions(precision=2) # This limits any output to 2dp.\n",
        "var_exp = pca_model.explained_variance_ratio_\n",
        "for i in range(len(components)):\n",
        "    plt.annotate('{:.1%}'.format(var_exp[i]), \\\n",
        "                 xy=(components[i],var_exp[i]), ha='center', va='bottom')\n",
        "\n",
        "# plt.savefig('DAA M06 Fig4.jpg')\n",
        "plt.show()"
      ],
      "execution_count": 10,
      "outputs": [
        {
          "output_type": "display_data",
          "data": {
            "image/png": "[encoded data removed]",
            "text/plain": [
              "<Figure size 432x288 with 1 Axes>"
            ]
          },
          "metadata": {
            "tags": [],
            "needs_background": "light"
          }
        }
      ]
    },
    {
      "cell_type": "markdown",
      "metadata": {
        "id": "A8FC_kS_w-p8"
      },
      "source": [
        "From the scree plot above:\n",
        "- PC1 explains 49.9% of the variance in the dataset;\n",
        "- PC2 explains another 21.4% of the variance;\n",
        "- PC3 explains a further 12.3% of the variance; and\n",
        "- PC4 explains another 6.8% of the variance.\n",
        "\n",
        "The intrinsic dimension of a dataset is the minimum number of features required to describe the data. In this case, it could be argued that the COVID dataset has an intrinsic dimension of four, as the first four principal components explain a large proportion (approximately 90%) of the variance in the COVID dataset."
      ]
    },
    {
      "cell_type": "markdown",
      "metadata": {
        "id": "c8sTaWK203v8"
      },
      "source": [
        "### Analyse contribution of original features"
      ]
    },
    {
      "cell_type": "code",
      "metadata": {
        "colab": {
          "base_uri": "https://localhost:8080/",
          "height": 385
        },
        "id": "cR3PKCGjKZnl",
        "outputId": "d2b0a0f8-3500-4aac-8f50-cff5ac878d0b"
      },
      "source": [
        "# Analyse the contribution of each Covid dataset feature to the\n",
        "# first three principal components.\n",
        "\n",
        "# Once the PCA model has been fitted to the data, it is helpful to \n",
        "# examine the contribution of the original Covid dataset features\n",
        "# to each of the principal components.\n",
        "# This is achieved below by creating a heatmap.\n",
        "\n",
        "sns.heatmap(pca_model.components_,\n",
        "                 cmap='coolwarm',\n",
        "                 yticklabels=components,\n",
        "                 xticklabels=list(covid_data.columns),\n",
        "                 cbar_kws={\"orientation\": \"vertical\"})\n",
        "plt.savefig('DAA M06 Fig5.jpg', bbox_inches='tight')\n",
        "  # The argument 'bbox_inches = 'tight'' is added to ensure that the saved\n",
        "  # figure does not cut off any of the x axis labels, which are long."
      ],
      "execution_count": 11,
      "outputs": [
        {
          "output_type": "display_data",
          "data": {
            "image/png": "[encoded data removed]",
            "text/plain": [
              "<Figure size 432x288 with 2 Axes>"
            ]
          },
          "metadata": {
            "tags": [],
            "needs_background": "light"
          }
        }
      ]
    },
    {
      "cell_type": "markdown",
      "metadata": {
        "id": "XXwJSC_3Mu67"
      },
      "source": [
        "The 'components_' attribute of the PCA model contains the loadings for each principal component (i.e. the coefficients of the linear equations from which each principal component has been constructed).\n",
        "\n",
        "By plotting these coefficients in the heatmap above, the level of influence of each original feature in the COVID dataset on each of the principal components can be seen.\n",
        "\n",
        "An examination of the heatmap above suggests that:\n",
        "- the first principal component (PC1) is positively influenced by many of the original features from the COVID dataset, with 'reproduction_rate' and 'total_tests_per_thousand' having a slight negative influence;\n",
        "- PC2 is most strongly positively influenced by the features 'total_cases_per_million' and 'total_tests_per_thousand' and is most strongly negatively influenced by ‘reproduction rate’; and\n",
        "- PC3 is most (negatively) influenced by 'reproduction rate' and 'new_cases_per_million'.\n"
      ]
    },
    {
      "cell_type": "markdown",
      "metadata": {
        "id": "redosBSDWkrG"
      },
      "source": [
        "### Visualise dataset on first two principal components\n",
        "The scree plot above suggests that just over 70% of the variance of the dataset is explained by the first two principal components. Therefore, it might be useful to visualise the COVID dataset by plotting each country against the first two principal components, to see what patterns emerge."
      ]
    },
    {
      "cell_type": "code",
      "metadata": {
        "colab": {
          "base_uri": "https://localhost:8080/",
          "height": 812
        },
        "id": "7tBsIdctWp6Q",
        "outputId": "37557a91-27f2-45c2-a343-bfb7be9927b6"
      },
      "source": [
        "# Plot each country in the COVID dataset against the first\n",
        "# two principal components.\n",
        "\n",
        "# Join the original COVID dataset with the dataframe containing\n",
        "# the calculated principal components.\n",
        "\n",
        "covid_joined = pd.concat([covid3.reset_index(),pca_df.reset_index()],\n",
        "                         axis=1)\n",
        "  # .reset_index() is used because the two datasets being joined have\n",
        "  # different indexes but they each represent the same list of countries.\n",
        "  # .reset_index() makes them both have the same index so that the columns\n",
        "  # in the two datasets are just joined together side by side.\n",
        "  # axis=1 specifies that the datasets should be joined by columns rather than\n",
        "  # by rows (axis=0)\n",
        "print(covid_joined.info())\n",
        "\n",
        "# Create a scatter plot of the dataset based on PC1 and PC2.\n",
        "plt.scatter(covid_joined[0],covid_joined[1])\n",
        "plt.xlabel('PC1')\n",
        "plt.ylabel('PC2')\n",
        "\n",
        "## Add the country labels to each point in the scatter plot.\n",
        "for i, txt in enumerate(countries):\n",
        "    plt.annotate(txt, (covid_joined[0][i], covid_joined[1][i]))\n",
        "\n",
        "#plt.savefig('DAA M06 Fig6.jpg')\n",
        "plt.show()\n"
      ],
      "execution_count": 12,
      "outputs": [
        {
          "output_type": "stream",
          "text": [
            "<class 'pandas.core.frame.DataFrame'>\n",
            "RangeIndex: 17 entries, 0 to 16\n",
            "Data columns (total 21 columns):\n",
            " #   Column                     Non-Null Count  Dtype  \n",
            "---  ------                     --------------  -----  \n",
            " 0   index                      17 non-null     int64  \n",
            " 1   location                   17 non-null     object \n",
            " 2   total_cases_per_million    17 non-null     float64\n",
            " 3   new_cases_per_million      17 non-null     float64\n",
            " 4   total_deaths_per_million   17 non-null     float64\n",
            " 5   new_deaths_per_million     17 non-null     float64\n",
            " 6   reproduction_rate          17 non-null     float64\n",
            " 7   positive_rate              17 non-null     float64\n",
            " 8   total_tests_per_thousand   17 non-null     float64\n",
            " 9   icu_patients_per_million   17 non-null     float64\n",
            " 10  hosp_patients_per_million  17 non-null     float64\n",
            " 11  index                      17 non-null     int64  \n",
            " 12  0                          17 non-null     float64\n",
            " 13  1                          17 non-null     float64\n",
            " 14  2                          17 non-null     float64\n",
            " 15  3                          17 non-null     float64\n",
            " 16  4                          17 non-null     float64\n",
            " 17  5                          17 non-null     float64\n",
            " 18  6                          17 non-null     float64\n",
            " 19  7                          17 non-null     float64\n",
            " 20  8                          17 non-null     float64\n",
            "dtypes: float64(18), int64(2), object(1)\n",
            "memory usage: 2.9+ KB\n",
            "None\n"
          ],
          "name": "stdout"
        },
        {
          "output_type": "display_data",
          "data": {
            "image/png": "[encoded data removed]",
            "text/plain": [
              "<Figure size 432x288 with 1 Axes>"
            ]
          },
          "metadata": {
            "tags": [],
            "needs_background": "light"
          }
        }
      ]
    }
  ]
}