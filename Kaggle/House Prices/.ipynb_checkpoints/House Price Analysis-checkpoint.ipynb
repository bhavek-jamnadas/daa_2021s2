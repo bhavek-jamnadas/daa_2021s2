{
 "cells": [
  {
   "cell_type": "markdown",
   "metadata": {},
   "source": [
    "1. Initialise\n",
    "2. EDA - Analysing each variable"
   ]
  },
  {
   "cell_type": "markdown",
   "metadata": {},
   "source": [
    "# Step 1: Initialise\n",
    "1. Load the packages\n",
    "2. Change directory\n",
    "3. Load the data"
   ]
  },
  {
   "cell_type": "code",
   "execution_count": 2,
   "metadata": {},
   "outputs": [
    {
     "data": {
      "text/plain": [
       "'C:\\\\Users\\\\bhave\\\\OneDrive\\\\Documents\\\\Coding\\\\Kaggle\\\\House Price'"
      ]
     },
     "execution_count": 2,
     "metadata": {},
     "output_type": "execute_result"
    }
   ],
   "source": [
    "import numpy as np\n",
    "import pandas as pd\n",
    "import matplotlib.pyplot as plt\n",
    "import seaborn as sns\n",
    "import h2o\n",
    "import os\n",
    "from matplotlib.pyplot import xticks\n",
    "from sklearn.model_selection import train_test_split\n",
    "from sklearn import preprocessing\n",
    "from sklearn.ensemble import RandomForestRegressor\n",
    "%matplotlib inline\n",
    "\n",
    "import warnings\n",
    "warnings.filterwarnings('ignore')\n",
    "\n",
    "from scipy import stats\n",
    "from scipy.stats import norm, skew #for some statistics\n",
    "\n",
    "# os.chdir('/home/bhavek/Documents/House Price')\n",
    "# wd='/home/bhavek/Documents/House Price'\n",
    "os.getcwd()\n",
    "# os.chdir('C:/Users/u010940/OneDrive - Personal/OneDrive/Documents/Coding/Kaggle/House Price/')\n",
    "# wd='C:/Users/u010940/OneDrive - Personal/OneDrive/Documents/Coding/Kaggle/House Price/'"
   ]
  },
  {
   "cell_type": "code",
   "execution_count": null,
   "metadata": {},
   "outputs": [],
   "source": [
    "#load the data\n",
    "train = pd.read_csv('Data/train.csv')\n",
    "test = pd.read_csv('Data/test.csv')\n",
    "train['source']='train'\n",
    "test['SalePrice']=np.NaN\n",
    "test['source']='test'\n",
    "\n",
    "data = train.append(test)\n",
    "data.index = np.arange(1, len(data) + 1)\n",
    "\n",
    "del train,test"
   ]
  },
  {
   "cell_type": "code",
   "execution_count": null,
   "metadata": {},
   "outputs": [],
   "source": []
  },
  {
   "cell_type": "markdown",
   "metadata": {},
   "source": [
    "# Step 2: EDA"
   ]
  },
  {
   "cell_type": "markdown",
   "metadata": {},
   "source": [
    "Let's start by seperating out the numerical and categorical varabiles. \n",
    "\n",
    "We can then map on ordinal features to the ordinal variables, and seperate discreet features from continious. These will be plotted seperately in order to understand their impact"
   ]
  },
  {
   "cell_type": "code",
   "execution_count": null,
   "metadata": {},
   "outputs": [],
   "source": [
    "# Create List of categorical and numerical colums \n",
    "# We will use these to plot many box plots (categorical) and scatter plots (numerical)\n",
    "def setdiff_sorted(array1,array2,assume_unique=False):\n",
    "    ans = np.setdiff1d(array1,array2,assume_unique).tolist()\n",
    "    if assume_unique:\n",
    "        return sorted(ans)\n",
    "    return ans\n",
    "\n",
    "cols=list(data.columns)\n",
    "num_cols = list(data._get_numeric_data().columns)\n",
    "num_cols.remove('MSSubClass')\n",
    "cat_cols = setdiff_sorted(cols,num_cols)\n",
    "\n",
    "num_cols.remove('Id')\n",
    "num_cols.remove('SalePrice')\n",
    "num_cols_disc = [\n",
    "    'BedroomAbvGr',\n",
    "    'BsmtFullBath',\n",
    "    'BsmtHalfBath',\n",
    "    'FullBath',\n",
    "    'Fireplaces',\n",
    "    'GarageCars',\n",
    "    'HalfBath',\n",
    "    'KitchenAbvGr',\n",
    "    'MoSold',\n",
    "    'OverallCond',\n",
    "    'OverallQual',\n",
    "    'TotRmsAbvGrd',\n",
    "    'YrSold'\n",
    "]\n",
    "num_cols_cont=setdiff_sorted(num_cols,num_cols_disc)"
   ]
  },
  {
   "cell_type": "code",
   "execution_count": null,
   "metadata": {},
   "outputs": [],
   "source": [
    "# Total SqFt of the home\n",
    "data['TotalSF'] = data['TotalBsmtSF'] + data['1stFlrSF'] + data['2ndFlrSF']\n",
    "\n",
    "# Total # Bathrooms\n",
    "data['FullBath'] = data['HalfBath']*0.5 + data['BsmtFullBath'] + data['BsmtHalfBath']*0.5\n",
    "\n",
    "# House remoddelled?\n",
    "data.loc[data['YearBuilt']== data['YearRemodAdd'], 'Remod'] = '1' \n",
    "data.loc[data['YearBuilt']!= data['YearRemodAdd'], 'Remod'] = '0' \n",
    "\n",
    "#Age of house\n",
    "data['Age']=data['YrSold']-data['YearRemodAdd']\n",
    "data['Age'][data['Age']<0]=0\n",
    "\n",
    "num_cols_cont.append('TotalSF')\n",
    "num_cols_disc.append('FullBath')\n",
    "num_cols_cont.append('Age')\n",
    "\n",
    "cat_cols.append('Remod')"
   ]
  },
  {
   "cell_type": "markdown",
   "metadata": {},
   "source": [
    "## 2.4: Analysing Each Variable"
   ]
  },
  {
   "cell_type": "markdown",
   "metadata": {},
   "source": [
    "Distribution Plots: understand the outliers etc. Key Findings:\n",
    "1. Training and testing data appear quite similar (in terms of distribution of variables)."
   ]
  },
  {
   "cell_type": "code",
   "execution_count": null,
   "metadata": {
    "scrolled": true
   },
   "outputs": [],
   "source": [
    "plt.figure(figsize = (16,100))\n",
    "for idx,col in enumerate(num_cols_cont):\n",
    "    plt.subplot(25,3,idx+1)\n",
    "    sns.distplot(data[col][data['source']=='train'].fillna(0));\n",
    "    sns.distplot(data[col][data['source']=='test'].fillna(0));\n",
    "plt.show()\n"
   ]
  },
  {
   "cell_type": "code",
   "execution_count": null,
   "metadata": {},
   "outputs": [],
   "source": [
    "plt.figure(figsize = (16,100))\n",
    "for idx,col in enumerate(cat_cols):\n",
    "    plt.subplot(25,3,idx+1)\n",
    "    sns.countplot(x='source',hue=col, data=data)\n",
    "plt.show()\n"
   ]
  },
  {
   "cell_type": "markdown",
   "metadata": {},
   "source": [
    "### 2.4.1 Categorical Variables\n",
    "Here we can see a plot of each variable vs the mean and a small line to show the variability around the mean. \n",
    "Ordinal variables have also been plotted"
   ]
  },
  {
   "cell_type": "code",
   "execution_count": null,
   "metadata": {
    "scrolled": true
   },
   "outputs": [],
   "source": [
    "plt.figure(figsize = (16,100))\n",
    "for idx,col in enumerate(cat_cols):\n",
    "    plt.subplot(25,3,idx+1)\n",
    "    sns.barplot(x=data[col], y=data['SalePrice'])\n",
    "plt.show()\n"
   ]
  },
  {
   "cell_type": "code",
   "execution_count": null,
   "metadata": {},
   "outputs": [],
   "source": [
    "# data[data['RoofMatl']=='WdShngl']\n",
    "# test_hex[test_hex['Id']==2550]"
   ]
  },
  {
   "cell_type": "markdown",
   "metadata": {},
   "source": [
    "### 2.4.2 Numerical Variables\n",
    "Continious and discrete variables have been plotted seperately"
   ]
  },
  {
   "cell_type": "code",
   "execution_count": null,
   "metadata": {
    "scrolled": true
   },
   "outputs": [],
   "source": [
    "plt.figure(figsize=(16,48))\n",
    "for idx,col in enumerate(num_cols_cont):\n",
    "    plt.subplot(13,3,idx+1)\n",
    "    plt.scatter(x = data[col],y=data[\"SalePrice\"])\n",
    "    plt.ylabel(\"SalePrice\")\n",
    "    plt.xlabel(col)"
   ]
  },
  {
   "cell_type": "code",
   "execution_count": null,
   "metadata": {
    "scrolled": true
   },
   "outputs": [],
   "source": [
    "plt.figure(figsize = (16,48))\n",
    "for idx,col in enumerate(num_cols_disc):\n",
    "    plt.subplot(15,3,idx+1)\n",
    "    sns.barplot(x=data[col], y=data['SalePrice'])\n",
    "plt.show()"
   ]
  },
  {
   "cell_type": "code",
   "execution_count": null,
   "metadata": {},
   "outputs": [],
   "source": [
    "# sns.catplot(x=\"OverallQual\", y=\"SalePrice\", hue=\"KitchenQual\",size=10, data=data);"
   ]
  },
  {
   "cell_type": "markdown",
   "metadata": {},
   "source": [
    "## 2.1 Outliers\n",
    "Some clear evidence of outliers, these can skew the model outputs. There's a few way's to treat outliers:\n",
    "1. Remove them altogether\n",
    "2. Band there values back to the normal range"
   ]
  },
  {
   "cell_type": "code",
   "execution_count": null,
   "metadata": {},
   "outputs": [],
   "source": [
    "# 1. GrLivArea - 2 very large living areas with low sale prices. \n",
    "# Likely to be agricultural land or something different. remove.\n",
    "data=data.drop(data[(data['GrLivArea']>=4000) & (data['SalePrice']<=200000)].index)"
   ]
  },
  {
   "cell_type": "markdown",
   "metadata": {},
   "source": [
    "## 2.2 Null Values\n",
    "There are quite a few null columns in the data. We are modelling with H2O which treats null values as 'null for a reason'. \n",
    "This means they are not discarded and not imputed, but rather treated seperately. "
   ]
  },
  {
   "cell_type": "code",
   "execution_count": null,
   "metadata": {},
   "outputs": [],
   "source": [
    "# Let's display columns with more than 0 null values\n",
    "null_cols = []\n",
    "for col in data.columns:\n",
    "    if data[data['source']=='train'][col].isnull().sum() > 0 :\n",
    "        print(\"Column\",col, \"has\", data[data['source']=='train'][col].isnull().sum(),\"null values\")    \n",
    "        null_cols.append(col)\n",
    "        \n",
    "# looking at the data dictionary, we know that these are not actually null values, these actually values representing \n",
    "# that particular feature is not present in the house\n"
   ]
  },
  {
   "cell_type": "markdown",
   "metadata": {},
   "source": [
    "Let's take a look at the columns with nulls to determine if columns are significantly different."
   ]
  },
  {
   "cell_type": "code",
   "execution_count": null,
   "metadata": {},
   "outputs": [],
   "source": [
    "# lets check if these null values actually have any relation with the target variable\n",
    "house_eda = data[data['source']=='train'].copy()\n",
    "house_eda['SalePrice'] = house_eda.SalePrice.astype(int)\n",
    "\n",
    "for col in null_cols:\n",
    "    house_eda[col] = np.where(house_eda[col].isnull(), 1, 0).astype(int)  \n",
    "    \n",
    "# lets see if these null values have to do anything with the sales price\n",
    "plt.figure(figsize = (16,52))\n",
    "for idx,col in enumerate(null_cols):\n",
    "    plt.subplot(10,2,idx+1)\n",
    "    temp= pd.DataFrame(house_eda.groupby(col, as_index = False)[\"SalePrice\"].median())\n",
    "    fig = sns.barplot(x = temp[col],y =temp[\"SalePrice\"])\n",
    "    fig.set(title=col)\n",
    "plt.show()"
   ]
  },
  {
   "cell_type": "code",
   "execution_count": null,
   "metadata": {
    "scrolled": true
   },
   "outputs": [],
   "source": [
    "#missing data\n",
    "total = data[data['source']=='train'].isnull().sum().sort_values(ascending=False)\n",
    "percent = (data[data['source']=='train'].isnull().sum()/data[data['source']=='train'].isnull().count()).sort_values(ascending=False)\n",
    "missing_data = pd.concat([total, percent], axis=1, keys=['Total', 'Percent'])\n",
    "missing_data.head(20)\n"
   ]
  },
  {
   "cell_type": "markdown",
   "metadata": {},
   "source": [
    "Looking through the documentation we can see that null represents 'None' in many cases. We do that and impute the mean for other examples. "
   ]
  },
  {
   "cell_type": "code",
   "execution_count": null,
   "metadata": {},
   "outputs": [],
   "source": [
    "#Fill lot frontage with the average for the neighbourhood\n",
    "data[\"LotFrontage\"] = data.groupby(\"Neighborhood\")[\"LotFrontage\"].transform(\n",
    "    lambda x: x.fillna(x.median()))\n",
    "data[\"PoolQC\"] = data[\"PoolQC\"].fillna(\"None\")\n",
    "data[\"MiscFeature\"] = data[\"MiscFeature\"].fillna(\"None\")\n",
    "data[\"Alley\"] = data[\"Alley\"].fillna(\"None\")\n",
    "data[\"Fence\"] = data[\"Fence\"].fillna(\"None\")\n",
    "data[\"FireplaceQu\"] = data[\"FireplaceQu\"].fillna(\"None\")\n",
    "for col in ('GarageType', 'GarageFinish', 'GarageQual', 'GarageCond'):\n",
    "    data[col] = data[col].fillna('None')\n",
    "for col in ('GarageYrBlt', 'GarageArea', 'GarageCars'):\n",
    "    data[col] = data[col].fillna(0)\n",
    "for col in ('BsmtFinSF1', 'BsmtFinSF2', 'BsmtUnfSF','TotalBsmtSF', 'BsmtFullBath', 'BsmtHalfBath'):\n",
    "    data[col] = data[col].fillna(0)\n",
    "for col in ('BsmtQual', 'BsmtCond', 'BsmtExposure', 'BsmtFinType1', 'BsmtFinType2'):\n",
    "    data[col] = data[col].fillna('None')\n",
    "data[\"MasVnrType\"] = data[\"MasVnrType\"].fillna(\"None\")\n",
    "data[\"MasVnrArea\"] = data[\"MasVnrArea\"].fillna(0)\n",
    "data['MSZoning'] = data['MSZoning'].fillna(data['MSZoning'].mode()[0])\n",
    "data[\"Functional\"] = data[\"Functional\"].fillna(\"Typ\")\n",
    "data['Electrical'] = data['Electrical'].fillna(data['Electrical'].mode()[0])\n",
    "data['KitchenQual'] = data['KitchenQual'].fillna(data['KitchenQual'].mode()[0])\n",
    "data['Exterior1st'] = data['Exterior1st'].fillna(data['Exterior1st'].mode()[0])\n",
    "data['Exterior2nd'] = data['Exterior2nd'].fillna(data['Exterior2nd'].mode()[0])\n",
    "data['SaleType'] = data['SaleType'].fillna(data['SaleType'].mode()[0])\n",
    "data['MSSubClass'] = data['MSSubClass'].fillna(\"None\")\n",
    "\n",
    "\n",
    "\n",
    "data = data.drop(['Utilities'], axis=1)\n",
    "cat_cols.remove('Utilities')"
   ]
  },
  {
   "cell_type": "markdown",
   "metadata": {
    "collapsed": true
   },
   "source": [
    "## 2.3 Feature Engineering\n",
    "There's a few examples of categorical feeatures with high cardinality. GBM models tend not to fit these well and therefore we should consider encoding them. \n"
   ]
  },
  {
   "cell_type": "markdown",
   "metadata": {},
   "source": [
    "1. Neighbourhood: Sort by response"
   ]
  },
  {
   "cell_type": "markdown",
   "metadata": {},
   "source": [
    "Label encode all the ordinal variables"
   ]
  },
  {
   "cell_type": "code",
   "execution_count": null,
   "metadata": {},
   "outputs": [],
   "source": [
    "data['ExterQual'] = data['ExterQual'].map({'Ex':5,'Gd':4,'TA':3,'Fa':2,'Po':1})\n",
    "data['ExterCond'] = data['ExterCond'].map({'Ex':5,'Gd':4,'TA':3,'Fa':2,'Po':1})\n",
    "data['BsmtQual'] = data['BsmtQual'].map({'Ex':5,'Gd':4,'TA':3,'Fa':2,'Po':1,'None':0})\n",
    "data['BsmtCond'] = data['BsmtCond'].map({'Ex':5,'Gd':4,'TA':3,'Fa':2,'Po':1,'None':0})\n",
    "data['BsmtExposure'] = data['BsmtExposure'].map({'Gd':4,'Av':3,'Mn':2,'No':1,'None':0})\n",
    "data['BsmtFinType1'] = data['BsmtFinType1'].map({'GLQ':6,'ALQ':5,'BLQ':4,'Rec':3,'LwQ':2,'Unf':1,'None':0})\n",
    "data['BsmtFinType2'] = data['BsmtFinType2'].map({'GLQ':6,'ALQ':5,'BLQ':4,'Rec':3,'LwQ':2,'Unf':1,'None':0})\n",
    "data['HeatingQC'] = data['HeatingQC'].map({'Ex':5,'Gd':4,'TA':3,'Fa':2,'Po':1})\n",
    "data['CentralAir'] = data['CentralAir'].map({'N':0,'Y':1})\n",
    "data['KitchenQual'] = data['KitchenQual'].map({'Ex':5,'Gd':4,'TA':3,'Fa':2,'Po':1})\n",
    "data['GarageQual'] = data['GarageQual'].map({'Ex':5,'Gd':4,'TA':3,'Fa':2,'Po':1,'None':0})\n",
    "data['GarageFinish'] = data['GarageFinish'].map({'Fin':3,'RFn':2,'Unf':1,'None':0})\n",
    "data['FireplaceQu'] = data['FireplaceQu'].map({'Ex':5,'Gd':4,'TA':3,'Fa':2,'Po':1,'None':0})\n",
    "data['GarageCond'] = data['GarageCond'].map({'Ex':5,'Gd':4,'TA':3,'Fa':2,'Po':1,'None':0})\n",
    "data['PoolQC'] =data['PoolQC'].map({'Ex':5,'Gd':4,'TA':3,'Fa':2,'Po':1,'None':0})\n",
    "data['GarageYrBlt'][data['GarageYrBlt']>=2100]=2007\n"
   ]
  },
  {
   "cell_type": "markdown",
   "metadata": {},
   "source": [
    "## Target Encoding Categorical Features"
   ]
  },
  {
   "cell_type": "code",
   "execution_count": null,
   "metadata": {},
   "outputs": [],
   "source": [
    "def add_noise(series, noise_level):\n",
    "    return series * (1 + noise_level * np.random.randn(len(series)))\n",
    "\n",
    "def target_encode(trn_series=None, \n",
    "                  tst_series=None, \n",
    "                  target=None, \n",
    "                  min_samples_leaf=1, \n",
    "                  smoothing=1,\n",
    "                  noise_level=0):\n",
    "    \"\"\"\n",
    "    Smoothing is computed like in the following paper by Daniele Micci-Barreca\n",
    "    https://kaggle2.blob.core.windows.net/forum-message-attachments/225952/7441/high%20cardinality%20categoricals.pdf\n",
    "    trn_series : training categorical feature as a pd.Series\n",
    "    tst_series : test categorical feature as a pd.Series\n",
    "    target : target data as a pd.Series\n",
    "    min_samples_leaf (int) : minimum samples to take category average into account\n",
    "    smoothing (int) : smoothing effect to balance categorical average vs prior  \n",
    "    \"\"\" \n",
    "    assert len(trn_series) == len(target)\n",
    "    assert trn_series.name == tst_series.name\n",
    "    temp = pd.concat([trn_series, target], axis=1)\n",
    "    # Compute target mean \n",
    "    averages = temp.groupby(by=trn_series.name)[target.name].agg([\"mean\", \"count\"])\n",
    "    # Compute smoothing\n",
    "    smoothing = 1 / (1 + np.exp(-(averages[\"count\"] - min_samples_leaf) / smoothing))\n",
    "    # Apply average function to all target data\n",
    "    prior = target.mean()\n",
    "    # The bigger the count the less full_avg is taken into account\n",
    "    averages[target.name] = prior * (1 - smoothing) + averages[\"mean\"] * smoothing\n",
    "    averages.drop([\"mean\", \"count\"], axis=1, inplace=True)\n",
    "    # Apply averages to trn and tst series\n",
    "    ft_trn_series = pd.merge(\n",
    "        trn_series.to_frame(trn_series.name),\n",
    "        averages.reset_index().rename(columns={'index': target.name, target.name: 'average'}),\n",
    "        on=trn_series.name,\n",
    "        how='left')['average'].rename(trn_series.name + '_mean').fillna(prior)\n",
    "    # pd.merge does not keep the index so restore it\n",
    "    ft_trn_series.index = trn_series.index \n",
    "    ft_tst_series = pd.merge(\n",
    "        tst_series.to_frame(tst_series.name),\n",
    "        averages.reset_index().rename(columns={'index': target.name, target.name: 'average'}),\n",
    "        on=tst_series.name,\n",
    "        how='left')['average'].rename(trn_series.name + '_mean').fillna(prior)\n",
    "    # pd.merge does not keep the index so restore it\n",
    "    ft_tst_series.index = tst_series.index\n",
    "    return add_noise(ft_trn_series, noise_level), add_noise(ft_tst_series, noise_level)"
   ]
  },
  {
   "cell_type": "code",
   "execution_count": null,
   "metadata": {},
   "outputs": [],
   "source": [
    "# Target encode ps_car_11_cat\n",
    "trn, tst = target_encode(data[\"Neighborhood\"][data['source']=='train'], \n",
    "                         data[\"Neighborhood\"][data['source']=='test'], \n",
    "                         target=data[data['source']=='train'].SalePrice, \n",
    "                         min_samples_leaf=10,\n",
    "                         smoothing=5,\n",
    "                         noise_level=0.01)\n",
    "data['Neighborhood_enc'] = trn.append(tst)"
   ]
  },
  {
   "cell_type": "code",
   "execution_count": null,
   "metadata": {},
   "outputs": [],
   "source": [
    "# Target encode ps_car_11_cat\n",
    "trn, tst = target_encode(data[\"MSSubClass\"][data['source']=='train'], \n",
    "                         data[\"MSSubClass\"][data['source']=='test'], \n",
    "                         target=data[data['source']=='train'].SalePrice, \n",
    "                         min_samples_leaf=10,\n",
    "                         smoothing=5,\n",
    "                         noise_level=0.01)\n",
    "data['MSSubClass_enc'] = trn.append(tst)"
   ]
  },
  {
   "cell_type": "code",
   "execution_count": null,
   "metadata": {},
   "outputs": [],
   "source": [
    "# Target encode ps_car_11_cat\n",
    "trn, tst = target_encode(data[\"Exterior1st\"][data['source']=='train'], \n",
    "                         data[\"Exterior1st\"][data['source']=='test'], \n",
    "                         target=data[data['source']=='train'].SalePrice, \n",
    "                         min_samples_leaf=10,\n",
    "                         smoothing=5,\n",
    "                         noise_level=0.01)\n",
    "data['Exterior1st_enc'] = trn.append(tst)"
   ]
  },
  {
   "cell_type": "code",
   "execution_count": null,
   "metadata": {},
   "outputs": [],
   "source": [
    "# Target encode ps_car_11_cat\n",
    "trn, tst = target_encode(data[\"Exterior2nd\"][data['source']=='train'], \n",
    "                         data[\"Exterior2nd\"][data['source']=='test'], \n",
    "                         target=data[data['source']=='train'].SalePrice, \n",
    "                         min_samples_leaf=100,\n",
    "                         smoothing=10,\n",
    "                         noise_level=0.01)\n",
    "data['Exterior2nd_enc'] = trn.append(tst)"
   ]
  },
  {
   "cell_type": "code",
   "execution_count": null,
   "metadata": {},
   "outputs": [],
   "source": []
  },
  {
   "cell_type": "code",
   "execution_count": null,
   "metadata": {},
   "outputs": [],
   "source": []
  },
  {
   "cell_type": "markdown",
   "metadata": {},
   "source": [
    "### 2.1.3 Correlations\n",
    "required for any linear models"
   ]
  },
  {
   "cell_type": "code",
   "execution_count": null,
   "metadata": {
    "scrolled": true
   },
   "outputs": [],
   "source": [
    "corrmat = data.corr()\n",
    "plt.subplots(figsize=(12,9))\n",
    "sns.heatmap(corrmat, vmax=0.9, square=True)\n"
   ]
  },
  {
   "cell_type": "markdown",
   "metadata": {},
   "source": [
    "### 2.1.4 Skewness\n",
    "We only want to look at continious numerical variables for skewness."
   ]
  },
  {
   "cell_type": "code",
   "execution_count": null,
   "metadata": {},
   "outputs": [],
   "source": [
    "import statsmodels.api as sm \n",
    "import pylab as py\n",
    "stats.probplot(data[data['source']=='train']['SalePrice'], plot=plt)\n",
    "py.show() \n",
    "\n",
    "\n",
    "data[\"SalePrice_log\"] = np.log1p(data[\"SalePrice\"])\n",
    "stats.probplot(data[data['source']=='train']['SalePrice_log'], plot=plt)\n",
    "py.show() "
   ]
  },
  {
   "cell_type": "code",
   "execution_count": null,
   "metadata": {},
   "outputs": [],
   "source": []
  },
  {
   "cell_type": "code",
   "execution_count": null,
   "metadata": {
    "scrolled": true
   },
   "outputs": [],
   "source": [
    "# Check the skew of all numerical features\n",
    "skewed_feats = data[num_cols_cont].apply(lambda x: skew(x.dropna())).sort_values(ascending=False)\n",
    "print(\"\\nSkew in numerical features: \\n\")\n",
    "skewness = pd.DataFrame({'Skew' :skewed_feats})\n",
    "skewness"
   ]
  },
  {
   "cell_type": "code",
   "execution_count": null,
   "metadata": {},
   "outputs": [],
   "source": [
    "skewness = skewness[abs(skewness) > 0.75]\n",
    "print(\"There are {} skewed numerical features to log transform\".format(skewness.shape[0]))\n",
    "\n",
    "skewed_features = skewness.index\n",
    "lam = 0.15\n",
    "for feat in skewed_features:\n",
    "    #data[feat] += 1\n",
    "    data[feat] = np.log1p(data[feat])\n",
    "    \n",
    "# data[skewed_features] = np.log1p(data[skewed_features])\n"
   ]
  },
  {
   "cell_type": "code",
   "execution_count": null,
   "metadata": {},
   "outputs": [],
   "source": []
  },
  {
   "cell_type": "code",
   "execution_count": null,
   "metadata": {},
   "outputs": [],
   "source": []
  },
  {
   "cell_type": "code",
   "execution_count": null,
   "metadata": {
    "scrolled": true
   },
   "outputs": [],
   "source": [
    "plt.figure(figsize=(16,48))\n",
    "for idx,col in enumerate(skewed_features):\n",
    "    plt.subplot(13,3,idx+1)\n",
    "    plt.scatter(x = data[col],y=data[\"SalePrice\"])\n",
    "    plt.ylabel(\"SalePrice\")\n",
    "    plt.xlabel(col)"
   ]
  },
  {
   "cell_type": "code",
   "execution_count": null,
   "metadata": {
    "scrolled": true
   },
   "outputs": [],
   "source": []
  },
  {
   "cell_type": "code",
   "execution_count": null,
   "metadata": {},
   "outputs": [],
   "source": [
    "export = data[data['source']=='train']\n",
    "export.to_csv('Intermediate/train.csv',index=False)\n",
    "\n",
    "export = data[data['source']=='test']\n",
    "export.to_csv('Intermediate/test.csv',index=False)\n",
    "\n",
    "data.to_csv('Intermediate/data.csv',index=False)"
   ]
  },
  {
   "cell_type": "markdown",
   "metadata": {},
   "source": [
    "# 3: Build Model\n",
    "We're going to be using H2O to build the model. "
   ]
  },
  {
   "cell_type": "code",
   "execution_count": 5,
   "metadata": {},
   "outputs": [
    {
     "ename": "AttributeError",
     "evalue": "module 'h2o' has no attribute 'getVersion'",
     "output_type": "error",
     "traceback": [
      "\u001b[1;31m---------------------------------------------------------------------------\u001b[0m",
      "\u001b[1;31mAttributeError\u001b[0m                            Traceback (most recent call last)",
      "\u001b[1;32m<ipython-input-5-93141894fbd3>\u001b[0m in \u001b[0;36m<module>\u001b[1;34m\u001b[0m\n\u001b[1;32m----> 1\u001b[1;33m \u001b[0mh2o\u001b[0m\u001b[1;33m.\u001b[0m\u001b[0mgetVersion\u001b[0m\u001b[1;33m(\u001b[0m\u001b[1;33m)\u001b[0m\u001b[1;33m\u001b[0m\u001b[1;33m\u001b[0m\u001b[0m\n\u001b[0m",
      "\u001b[1;31mAttributeError\u001b[0m: module 'h2o' has no attribute 'getVersion'"
     ]
    }
   ],
   "source": [
    "h2o.getVersion()"
   ]
  },
  {
   "cell_type": "markdown",
   "metadata": {
    "scrolled": true
   },
   "source": [
    "For some reason the data is not able to be scored when selecting rows from the dataset. As a workaround I've exported the data to a csv and read it back in again. Export the data to intermediate folder (read this in order to build model)."
   ]
  },
  {
   "cell_type": "code",
   "execution_count": 6,
   "metadata": {},
   "outputs": [
    {
     "name": "stdout",
     "output_type": "stream",
     "text": [
      "Checking whether there is an H2O instance running at http://localhost:54321 ..... not found.\n",
      "Attempting to start a local H2O server...\n",
      "; Java HotSpot(TM) 64-Bit Server VM (build 25.241-b07, mixed mode)\n",
      "  Starting server from C:\\ProgramData\\Anaconda3\\lib\\site-packages\\h2o\\backend\\bin\\h2o.jar\n",
      "  Ice root: C:\\Users\\bhave\\AppData\\Local\\Temp\\tmpjk6o7jud\n",
      "  JVM stdout: C:\\Users\\bhave\\AppData\\Local\\Temp\\tmpjk6o7jud\\h2o_bhave_started_from_python.out\n",
      "  JVM stderr: C:\\Users\\bhave\\AppData\\Local\\Temp\\tmpjk6o7jud\\h2o_bhave_started_from_python.err\n",
      "  Server is running at http://127.0.0.1:54321\n",
      "Connecting to H2O server at http://127.0.0.1:54321 ... successful.\n"
     ]
    },
    {
     "data": {
      "text/html": [
       "<div style=\"overflow:auto\"><table style=\"width:50%\"><tr><td>H2O cluster uptime:</td>\n",
       "<td>05 secs</td></tr>\n",
       "<tr><td>H2O cluster timezone:</td>\n",
       "<td>Australia/Sydney</td></tr>\n",
       "<tr><td>H2O data parsing timezone:</td>\n",
       "<td>UTC</td></tr>\n",
       "<tr><td>H2O cluster version:</td>\n",
       "<td>3.28.1.2</td></tr>\n",
       "<tr><td>H2O cluster version age:</td>\n",
       "<td>16 days </td></tr>\n",
       "<tr><td>H2O cluster name:</td>\n",
       "<td>H2O_from_python_bhave_2vdf1i</td></tr>\n",
       "<tr><td>H2O cluster total nodes:</td>\n",
       "<td>1</td></tr>\n",
       "<tr><td>H2O cluster free memory:</td>\n",
       "<td>1.738 Gb</td></tr>\n",
       "<tr><td>H2O cluster total cores:</td>\n",
       "<td>8</td></tr>\n",
       "<tr><td>H2O cluster allowed cores:</td>\n",
       "<td>8</td></tr>\n",
       "<tr><td>H2O cluster status:</td>\n",
       "<td>accepting new members, healthy</td></tr>\n",
       "<tr><td>H2O connection url:</td>\n",
       "<td>http://127.0.0.1:54321</td></tr>\n",
       "<tr><td>H2O connection proxy:</td>\n",
       "<td>{'http': None, 'https': None}</td></tr>\n",
       "<tr><td>H2O internal security:</td>\n",
       "<td>False</td></tr>\n",
       "<tr><td>H2O API Extensions:</td>\n",
       "<td>Amazon S3, Algos, AutoML, Core V3, TargetEncoder, Core V4</td></tr>\n",
       "<tr><td>Python version:</td>\n",
       "<td>3.7.3 final</td></tr></table></div>"
      ],
      "text/plain": [
       "--------------------------  ---------------------------------------------------------\n",
       "H2O cluster uptime:         05 secs\n",
       "H2O cluster timezone:       Australia/Sydney\n",
       "H2O data parsing timezone:  UTC\n",
       "H2O cluster version:        3.28.1.2\n",
       "H2O cluster version age:    16 days\n",
       "H2O cluster name:           H2O_from_python_bhave_2vdf1i\n",
       "H2O cluster total nodes:    1\n",
       "H2O cluster free memory:    1.738 Gb\n",
       "H2O cluster total cores:    8\n",
       "H2O cluster allowed cores:  8\n",
       "H2O cluster status:         accepting new members, healthy\n",
       "H2O connection url:         http://127.0.0.1:54321\n",
       "H2O connection proxy:       {'http': None, 'https': None}\n",
       "H2O internal security:      False\n",
       "H2O API Extensions:         Amazon S3, Algos, AutoML, Core V3, TargetEncoder, Core V4\n",
       "Python version:             3.7.3 final\n",
       "--------------------------  ---------------------------------------------------------"
      ]
     },
     "metadata": {},
     "output_type": "display_data"
    },
    {
     "name": "stdout",
     "output_type": "stream",
     "text": [
      "Parse progress: |█████████████████████████████████████████████████████████| 100%\n"
     ]
    },
    {
     "data": {
      "text/plain": [
       "['MSZoning',\n",
       " 'LotFrontage',\n",
       " 'LotArea',\n",
       " 'Street',\n",
       " 'Alley',\n",
       " 'LotShape',\n",
       " 'LandContour',\n",
       " 'LotConfig',\n",
       " 'LandSlope',\n",
       " 'Condition1',\n",
       " 'Condition2',\n",
       " 'BldgType',\n",
       " 'HouseStyle',\n",
       " 'OverallQual',\n",
       " 'OverallCond',\n",
       " 'YearBuilt',\n",
       " 'YearRemodAdd',\n",
       " 'RoofStyle',\n",
       " 'RoofMatl',\n",
       " 'MasVnrType',\n",
       " 'MasVnrArea',\n",
       " 'ExterQual',\n",
       " 'ExterCond',\n",
       " 'Foundation',\n",
       " 'BsmtQual',\n",
       " 'BsmtCond',\n",
       " 'BsmtExposure',\n",
       " 'BsmtFinType1',\n",
       " 'BsmtFinSF1',\n",
       " 'BsmtFinType2',\n",
       " 'BsmtFinSF2',\n",
       " 'BsmtUnfSF',\n",
       " 'TotalBsmtSF',\n",
       " 'Heating',\n",
       " 'HeatingQC',\n",
       " 'CentralAir',\n",
       " 'Electrical',\n",
       " '1stFlrSF',\n",
       " '2ndFlrSF',\n",
       " 'LowQualFinSF',\n",
       " 'GrLivArea',\n",
       " 'BsmtFullBath',\n",
       " 'BsmtHalfBath',\n",
       " 'FullBath',\n",
       " 'HalfBath',\n",
       " 'BedroomAbvGr',\n",
       " 'KitchenAbvGr',\n",
       " 'KitchenQual',\n",
       " 'TotRmsAbvGrd',\n",
       " 'Functional',\n",
       " 'Fireplaces',\n",
       " 'FireplaceQu',\n",
       " 'GarageType',\n",
       " 'GarageYrBlt',\n",
       " 'GarageFinish',\n",
       " 'GarageCars',\n",
       " 'GarageArea',\n",
       " 'GarageQual',\n",
       " 'GarageCond',\n",
       " 'PavedDrive',\n",
       " 'WoodDeckSF',\n",
       " 'OpenPorchSF',\n",
       " 'EnclosedPorch',\n",
       " '3SsnPorch',\n",
       " 'ScreenPorch',\n",
       " 'PoolArea',\n",
       " 'PoolQC',\n",
       " 'Fence',\n",
       " 'MiscFeature',\n",
       " 'MiscVal',\n",
       " 'MoSold',\n",
       " 'YrSold',\n",
       " 'SaleType',\n",
       " 'SaleCondition',\n",
       " 'TotalSF',\n",
       " 'Remod',\n",
       " 'Age',\n",
       " 'Neighborhood_enc',\n",
       " 'MSSubClass_enc',\n",
       " 'Exterior1st_enc',\n",
       " 'Exterior2nd_enc']"
      ]
     },
     "execution_count": 6,
     "metadata": {},
     "output_type": "execute_result"
    }
   ],
   "source": [
    "h2o.init()\n",
    "\n",
    "from h2o.estimators.glm import H2OGeneralizedLinearEstimator\n",
    "from h2o.estimators.gbm import H2OGradientBoostingEstimator\n",
    "from h2o.estimators import H2OXGBoostEstimator\n",
    "from h2o.estimators import H2OGradientBoostingEstimator\n",
    "from h2o.estimators.random_forest import H2ORandomForestEstimator\n",
    "\n",
    "\n",
    "train_hex =h2o.import_file(\"Intermediate/train.csv\")\n",
    "\n",
    "#Select the variables to train the model with\n",
    "X_names=list(['OverallQual',\n",
    "                'GrLivArea',\n",
    "                'Neigh_quantiles',\n",
    "                'BsmtFinSF1',\n",
    "                'TotalSF',\n",
    "                'ExterQual',\n",
    "                'TotalBsmtSF',\n",
    "                'KitchenQual',\n",
    "                'GarageArea',\n",
    "                'LotArea',\n",
    "                'YearRemodAdd',\n",
    "                'OverallCond',\n",
    "                '2ndFlrSF',\n",
    "                '1stFlrSF',\n",
    "                'Fireplaces',\n",
    "                'BsmtFinType1',\n",
    "                'BsmtQual',\n",
    "                'YearBuilt',\n",
    "                'SaleCondition',\n",
    "                'Exterior1st',\n",
    "                'BsmtExposure',\n",
    "                'WoodDeckSF',\n",
    "                'MasVnrArea',\n",
    "                'GarageFinish',\n",
    "                'SaleType',\n",
    "                'Exterior2nd',\n",
    "                'Age',\n",
    "                'Remod',\n",
    "                'FullBath'])\n",
    "\n",
    "## Use all features\n",
    "X_names=train_hex.columns\n",
    "X_names.remove('Id')\n",
    "X_names.remove('SalePrice')\n",
    "X_names.remove('SalePrice_log')\n",
    "X_names.remove('Neighborhood')\n",
    "X_names.remove('MSSubClass')\n",
    "X_names.remove('Exterior1st')\n",
    "X_names.remove('Exterior2nd')\n",
    "X_names.remove('source')\n",
    "X_names"
   ]
  },
  {
   "cell_type": "markdown",
   "metadata": {},
   "source": [
    "## 3.1: Linear Models (With regularisation)\n"
   ]
  },
  {
   "cell_type": "code",
   "execution_count": null,
   "metadata": {},
   "outputs": [],
   "source": [
    "from h2o.estimators.glm import H2OGeneralizedLinearEstimator\n",
    "#Import the data and split into training and test frames\n",
    "train_hex =h2o.import_file(\"Intermediate/train.csv\")\n",
    "\n",
    "# Split data into Training & Test/Crossvalid\n",
    "X_train_hex, X_valid_hex = train_hex.split_frame([0.7], seed=1234)\n"
   ]
  },
  {
   "cell_type": "code",
   "execution_count": null,
   "metadata": {},
   "outputs": [],
   "source": [
    "# select the values for lambda_ to grid over\n",
    "glm_params1 = {'alpha': (np.arange(0,51,1)/50).tolist()}\n",
    "search_criteria = {'strategy': 'RandomDiscrete', 'max_models': 300, 'seed': 1}\n"
   ]
  },
  {
   "cell_type": "code",
   "execution_count": null,
   "metadata": {},
   "outputs": [],
   "source": [
    "from h2o.grid.grid_search import H2OGridSearch\n",
    "# Train and validate a cartesian grid of GBMs\n",
    "glm_grid1 = H2OGridSearch(model=H2OGeneralizedLinearEstimator(family = 'gaussian',link='log'),\n",
    "                          grid_id='glm_grid1',\n",
    "                          hyper_params=glm_params1,\n",
    "                          search_criteria=search_criteria)"
   ]
  },
  {
   "cell_type": "code",
   "execution_count": null,
   "metadata": {},
   "outputs": [],
   "source": [
    "glm_grid1.train(x=X_names,\n",
    "                y='SalePrice',\n",
    "                training_frame=train_hex,\n",
    "                lambda_search = True,\n",
    "                nfolds=10,\n",
    "                seed=1)"
   ]
  },
  {
   "cell_type": "code",
   "execution_count": null,
   "metadata": {},
   "outputs": [],
   "source": [
    "# Get the grid results, sorted by validation AUC\n",
    "glm_gridperf1 = glm_grid1.get_grid(sort_by='rmsle', decreasing=False)\n",
    "glm_gridperf1"
   ]
  },
  {
   "cell_type": "code",
   "execution_count": null,
   "metadata": {
    "scrolled": true
   },
   "outputs": [],
   "source": [
    "# Grab the top GBM model, chosen by validation AUC\n",
    "best_glm1 = glm_gridperf1.models[0]\n",
    "best_glm1.model_id = 'best_glm1'\n",
    "best_glm1\n",
    "h2o.save_model(model=best_glm1, path=\"Intermediate/models\", force=True)"
   ]
  },
  {
   "attachments": {
    "Screenshot%20from%202020-03-08%2021-08-27.png": {
     "image/png": "[encoded data removed]"
    }
   },
   "cell_type": "markdown",
   "metadata": {},
   "source": [
    "### Let's recreate the model incase we lose it\n",
    "![Screenshot%20from%202020-03-08%2021-08-27.png](attachment:Screenshot%20from%202020-03-08%2021-08-27.png)"
   ]
  },
  {
   "cell_type": "code",
   "execution_count": null,
   "metadata": {
    "scrolled": true
   },
   "outputs": [],
   "source": [
    "best_glm1 = H2OGeneralizedLinearEstimator(\n",
    "    family = 'gaussian',\n",
    "    link='log',\n",
    "    keep_cross_validation_predictions = True,\n",
    "    alpha=0,\n",
    "    model_id='best_glm1',\n",
    "    lambda_search = True, \n",
    "    nfolds=10,\n",
    "    seed=1)\n",
    "best_glm1.train(x=X_names,\n",
    "                y='SalePrice',\n",
    "                training_frame=train_hex)\n",
    "best_glm1.rmsle(xval=True)\n",
    "# h2o.save_model(model=best_glm1, path=\"Intermediate/models\", force=True)"
   ]
  },
  {
   "cell_type": "code",
   "execution_count": null,
   "metadata": {},
   "outputs": [],
   "source": [
    "# best_glm1 = h2o.load_model('C:/Users/bhave/OneDrive/Documents/Coding/Kaggle/House Price/Intermediate/models/best_glm1')\n",
    "\n",
    "test_hex =h2o.import_file(\"Intermediate/test.csv\")\n",
    "test_hex['SalePrice'] = best_glm1.predict(test_hex)\n",
    "submission = test_hex.as_data_frame()[['Id','SalePrice']]\n",
    "submission['SalePrice'][submission['SalePrice']>600000]=600000\n",
    "submission.to_csv('Submission/submission_best_glm1.csv',index=False)\n"
   ]
  },
  {
   "cell_type": "code",
   "execution_count": null,
   "metadata": {
    "scrolled": true
   },
   "outputs": [],
   "source": [
    "best_glm1._model_json['output']['coefficients_table'].as_data_frame().sort_values(by='standardized_coefficients', ascending=False)"
   ]
  },
  {
   "cell_type": "code",
   "execution_count": null,
   "metadata": {},
   "outputs": [],
   "source": [
    "with pd.option_context('display.max_rows', None, 'display.max_columns', None):  # more options can be specified also\n",
    "    print(best_glm1._model_json['output']['coefficients_table'].as_data_frame())"
   ]
  },
  {
   "cell_type": "code",
   "execution_count": null,
   "metadata": {},
   "outputs": [],
   "source": [
    "test_hex['SalePrice'].as_data_frame().boxplot()\n",
    "# submission.boxplot(column='SalePrice')"
   ]
  },
  {
   "cell_type": "code",
   "execution_count": null,
   "metadata": {},
   "outputs": [],
   "source": []
  },
  {
   "cell_type": "code",
   "execution_count": null,
   "metadata": {},
   "outputs": [],
   "source": []
  },
  {
   "cell_type": "code",
   "execution_count": null,
   "metadata": {},
   "outputs": [],
   "source": [
    "train_hex['glm1'] = best_glm1.predict(train_hex)"
   ]
  },
  {
   "cell_type": "code",
   "execution_count": null,
   "metadata": {},
   "outputs": [],
   "source": [
    "train_hex.as_data_frame().plot.scatter(x='SalePrice', y='glm1')"
   ]
  },
  {
   "cell_type": "code",
   "execution_count": null,
   "metadata": {},
   "outputs": [],
   "source": []
  },
  {
   "cell_type": "code",
   "execution_count": null,
   "metadata": {},
   "outputs": [],
   "source": []
  },
  {
   "cell_type": "markdown",
   "metadata": {},
   "source": [
    "## 3.2: Gradient Boosting Machine\n",
    "I'll attempt to make a model with all features (clearly overfit). \n"
   ]
  },
  {
   "cell_type": "code",
   "execution_count": 12,
   "metadata": {},
   "outputs": [
    {
     "name": "stdout",
     "output_type": "stream",
     "text": [
      "Parse progress: |█████████████████████████████████████████████████████████| 100%\n"
     ]
    }
   ],
   "source": [
    "from h2o.estimators.gbm import H2OGradientBoostingEstimator\n",
    "\n",
    "#Import the data and split into training and test frames\n",
    "train_hex =h2o.import_file(\"Intermediate/train.csv\")\n",
    "\n",
    "# Split data into Training & Test/Crossvalid\n",
    "X_train_hex, X_valid_hex = train_hex.split_frame([0.7], seed=1234)\n",
    "\n",
    "# GBM hyperparameters\n",
    "gbm_params1 = {'learn_rate': [0.01,0.03,0.05,0.075, 0.1],\n",
    "                'max_depth': [3, 5, 9,12,20],\n",
    "               'categorical_encoding': ['one_hot_explicit','sort_by_response'],\n",
    "               'sample_rate': [0.4, 0.6,1],\n",
    "#                'monotone_constraints':[]\n",
    "               'col_sample_rate': [0.2, 0.5, 1.0]}\n",
    "\n",
    "search_criteria = {'strategy': 'RandomDiscrete',\n",
    "                   'max_models': 50,\n",
    "                   'max_runtime_secs' : 600}\n",
    "\n",
    "monotone_constraints={\"OverallCond\":1,\n",
    "                     \"TotalSF\":1}\n"
   ]
  },
  {
   "cell_type": "code",
   "execution_count": 13,
   "metadata": {},
   "outputs": [],
   "source": [
    "from h2o.grid.grid_search import H2OGridSearch\n",
    "# Train and validate a cartesian grid of GBMs\n",
    "gbm_grid1 = H2OGridSearch(model=H2OGradientBoostingEstimator,\n",
    "                          grid_id='gbm_grid1',\n",
    "                          hyper_params=gbm_params1,\n",
    "                          search_criteria=search_criteria)"
   ]
  },
  {
   "cell_type": "code",
   "execution_count": null,
   "metadata": {},
   "outputs": [],
   "source": [
    "gbm_grid1.train(x=X_names,\n",
    "                y='SalePrice',\n",
    "                training_frame=train_hex,\n",
    "                ntrees=100,\n",
    "                nfolds=10,\n",
    "                learn_rate_annealing = .98,\n",
    "                seed=1)"
   ]
  },
  {
   "cell_type": "code",
   "execution_count": null,
   "metadata": {
    "scrolled": true
   },
   "outputs": [],
   "source": [
    "# Get the grid results, sorted by validation AUC\n",
    "gbm_gridperf1 = gbm_grid1.get_grid(sort_by='rmsle', decreasing=False)\n",
    "gbm_gridperf1"
   ]
  },
  {
   "cell_type": "code",
   "execution_count": null,
   "metadata": {},
   "outputs": [],
   "source": [
    "# Grab the top GBM model, chosen by validation AUC\n",
    "best_gbm1 = gbm_gridperf1.models[0]\n",
    "best_gbm1.model_id = 'best_gbm1'\n",
    "\n",
    "h2o.save_model(model=best_gbm1, path=\"Intermediate/models\", force=True)\n"
   ]
  },
  {
   "attachments": {
    "Screenshot%20from%202020-03-08%2021-30-25.png": {
     "image/png": "[encoded data removed]"
    }
   },
   "cell_type": "markdown",
   "metadata": {},
   "source": [
    "### Let's recreate the model incase we lose it\n",
    "\n",
    "![Screenshot%20from%202020-03-08%2021-30-25.png](attachment:Screenshot%20from%202020-03-08%2021-30-25.png)"
   ]
  },
  {
   "cell_type": "code",
   "execution_count": 14,
   "metadata": {},
   "outputs": [
    {
     "name": "stdout",
     "output_type": "stream",
     "text": [
      "gbm Model Build progress: |███████████████████████████████████████████████| 100%\n"
     ]
    },
    {
     "data": {
      "text/plain": [
       "'C:\\\\Users\\\\bhave\\\\OneDrive\\\\Documents\\\\Coding\\\\Kaggle\\\\House Price\\\\Intermediate\\\\models\\\\best_gbm1'"
      ]
     },
     "execution_count": 14,
     "metadata": {},
     "output_type": "execute_result"
    }
   ],
   "source": [
    "best_gbm1 = H2OGradientBoostingEstimator(\n",
    "    categorical_encoding='OneHotExplicit',\n",
    "    col_sample_rate=0.5,\n",
    "    learn_rate=0.1,\n",
    "    max_depth=20,\n",
    "    sample_rate=0.6,\n",
    "    ntrees=100,\n",
    "    model_id='best_gbm1',\n",
    "    keep_cross_validation_predictions = True,\n",
    "    nfolds=10,\n",
    "    seed=1)\n",
    "best_gbm1.train(x=X_names,\n",
    "                y='SalePrice',\n",
    "                training_frame=train_hex)\n",
    "\n",
    "h2o.save_model(model=best_gbm1, path=\"Intermediate/models\", force=True)"
   ]
  },
  {
   "cell_type": "code",
   "execution_count": null,
   "metadata": {
    "scrolled": true
   },
   "outputs": [],
   "source": [
    "# best_gbm1= h2o.load_model('C:/Users/bhave/OneDrive/Documents/Coding/Kaggle/House Price/Intermediate/models/best_gbm1')\n",
    "\n",
    "test_hex =h2o.import_file(\"Intermediate/test.csv\")\n",
    "test_hex['SalePrice'] = best_gbm1.predict(test_hex)\n",
    "submission = test_hex.as_data_frame()[['Id','SalePrice']]\n",
    "submission.to_csv('Submission/submission_best_gbm1.csv',index=False)\n"
   ]
  },
  {
   "cell_type": "code",
   "execution_count": null,
   "metadata": {},
   "outputs": [],
   "source": [
    "best_gbm1.varimp_plot()"
   ]
  },
  {
   "cell_type": "markdown",
   "metadata": {},
   "source": [
    "## 3.3 Random Forest"
   ]
  },
  {
   "cell_type": "code",
   "execution_count": null,
   "metadata": {},
   "outputs": [],
   "source": [
    "from h2o.estimators.random_forest import H2ORandomForestEstimator\n",
    "\n",
    "#Import the data and split into training and test frames\n",
    "train_hex =h2o.import_file(\"Intermediate/train.csv\")\n",
    "\n",
    "# Split data into Training & Test/Crossvalid\n",
    "X_train_hex, X_valid_hex = train_hex.split_frame([0.7], seed=1234)"
   ]
  },
  {
   "cell_type": "code",
   "execution_count": null,
   "metadata": {},
   "outputs": [],
   "source": [
    "\n",
    "# GBM hyperparameters\n",
    "drf_params1 = {'categorical_encoding': ['one_hot_explicit','sort_by_response'],\n",
    "              'ntrees': [50,100,200,300],\n",
    "               'max_depth':  [3,8,15,30]}\n",
    "\n",
    "search_criteria = {'strategy': 'RandomDiscrete', 'max_models': 20, 'seed': 1}\n"
   ]
  },
  {
   "cell_type": "code",
   "execution_count": null,
   "metadata": {},
   "outputs": [],
   "source": [
    "from h2o.grid.grid_search import H2OGridSearch\n",
    "# Train and validate a cartesian grid of GBMs\n",
    "drf_grid1 = H2OGridSearch(model=H2ORandomForestEstimator,\n",
    "                          grid_id='drf_grid1',\n",
    "                          hyper_params=drf_params1,\n",
    "                          search_criteria=search_criteria)"
   ]
  },
  {
   "cell_type": "code",
   "execution_count": null,
   "metadata": {},
   "outputs": [],
   "source": [
    "drf_grid1.train(x=X_names,\n",
    "                y='SalePrice',\n",
    "                training_frame=train_hex,\n",
    "                nfolds=10,\n",
    "                seed=1)"
   ]
  },
  {
   "cell_type": "code",
   "execution_count": null,
   "metadata": {
    "scrolled": true
   },
   "outputs": [],
   "source": [
    "# Get the grid results, sorted by validation AUC\n",
    "drf_gridperf1 = drf_grid1.get_grid(sort_by='rmsle', decreasing=False)\n",
    "drf_gridperf1"
   ]
  },
  {
   "cell_type": "code",
   "execution_count": null,
   "metadata": {},
   "outputs": [],
   "source": [
    "# Grab the top GBM model, chosen by validation AUC\n",
    "best_drf1 = drf_gridperf1.models[0]\n",
    "best_drf1.model_id = 'best_drf1'\n",
    "\n",
    "h2o.save_model(model=best_drf1, path=\"Intermediate/models\", force=True)"
   ]
  },
  {
   "attachments": {
    "Screenshot%20from%202020-03-07%2021-44-57.png": {
     "image/png": "[encoded data removed]"
    }
   },
   "cell_type": "markdown",
   "metadata": {},
   "source": [
    "### Let's recreate the model incase we lose it\n",
    "![Screenshot%20from%202020-03-07%2021-44-57.png](attachment:Screenshot%20from%202020-03-07%2021-44-57.png)"
   ]
  },
  {
   "cell_type": "code",
   "execution_count": null,
   "metadata": {},
   "outputs": [],
   "source": [
    "best_drf1 = H2ORandomForestEstimator(\n",
    "    categorical_encoding='SortByResponse',\n",
    "    ntrees=300,\n",
    "    max_depth=30,\n",
    "    nfolds=10,\n",
    "    model_id='best_drf1',\n",
    "    keep_cross_validation_predictions = True,\n",
    "    seed=1)\n",
    "best_drf1.train(x=X_names,\n",
    "                y='SalePrice',\n",
    "                training_frame=train_hex)\n",
    "\n",
    "best_drf1\n",
    "h2o.save_model(model=best_drf1, path=\"Intermediate/models\", force=True)"
   ]
  },
  {
   "cell_type": "code",
   "execution_count": null,
   "metadata": {},
   "outputs": [],
   "source": [
    "# best_drf1 = h2o.load_model('C:/Users/bhave/OneDrive/Documents/Coding/Kaggle/House Price/Intermediate/models/best_drf1')\n",
    "\n",
    "test_hex =h2o.import_file(\"Intermediate/test.csv\")\n",
    "test_hex['SalePrice'] = best_drf1.predict(test_hex)\n",
    "submission = test_hex.as_data_frame()[['Id','SalePrice']]\n",
    "submission.to_csv('Submission/submission_best_drf1.csv',index=False)\n"
   ]
  },
  {
   "cell_type": "markdown",
   "metadata": {},
   "source": [
    "## 3.4 H2O XGBoost"
   ]
  },
  {
   "cell_type": "code",
   "execution_count": null,
   "metadata": {},
   "outputs": [],
   "source": [
    "from h2o.estimators import H2OXGBoostEstimator\n",
    "from h2o.estimators import H2OGradientBoostingEstimator\n",
    "#Import the data and split into training and test frames\n",
    "train_hex = h2o.import_file(\"Intermediate/train.csv\")\n",
    "\n",
    "# Split data into Training & Test/Crossvalid\n",
    "X_train_hex, X_valid_hex = train_hex.split_frame([0.7], seed=1234)"
   ]
  },
  {
   "cell_type": "code",
   "execution_count": null,
   "metadata": {},
   "outputs": [],
   "source": [
    "\n",
    "# GBM hyperparameters\n",
    "xgb_params1 = {'categorical_encoding': ['one_hot_explicit','sort_by_response'],\n",
    "              'distribution': ['gaussian','gamma'],\n",
    "              'ntrees': [50,100,200,300],\n",
    "               'max_depth':  [3,8,15,30],\n",
    "              'learn_rate': [0.01,0.05,0.1]}\n",
    "\n",
    "search_criteria = {'strategy': 'RandomDiscrete', 'max_models': 20, 'seed': 1}\n"
   ]
  },
  {
   "cell_type": "code",
   "execution_count": null,
   "metadata": {},
   "outputs": [],
   "source": [
    "from h2o.grid.grid_search import H2OGridSearch\n",
    "# Train and validate a cartesian grid of GBMs\n",
    "xgb_grid1 = H2OGridSearch(model=H2OXGBoostEstimator,\n",
    "                          grid_id='xgb_grid1',\n",
    "                          hyper_params=xgb_params1,\n",
    "                          search_criteria=search_criteria)"
   ]
  },
  {
   "cell_type": "code",
   "execution_count": null,
   "metadata": {},
   "outputs": [],
   "source": [
    "xgb_grid1.train(x=X_names,\n",
    "                y='SalePrice',\n",
    "                training_frame=train_hex,\n",
    "                nfolds=10,\n",
    "                seed=1)"
   ]
  },
  {
   "cell_type": "code",
   "execution_count": null,
   "metadata": {},
   "outputs": [],
   "source": [
    "# Get the grid results, sorted by validation AUC\n",
    "xgb_gridperf1 = xgb_grid1.get_grid(sort_by='rmsle', decreasing=False)\n",
    "xgb_gridperf1"
   ]
  },
  {
   "cell_type": "code",
   "execution_count": null,
   "metadata": {},
   "outputs": [],
   "source": [
    "# Grab the top GBM model, chosen by validation AUC\n",
    "best_xgb1 = xgb_gridperf1.models[0]\n",
    "best_xgb1.model_id = 'best_xgb1'\n",
    "\n",
    "h2o.save_model(model=best_xgb1, path=\"Intermediate/models\", force=True)"
   ]
  },
  {
   "cell_type": "code",
   "execution_count": null,
   "metadata": {
    "scrolled": true
   },
   "outputs": [],
   "source": []
  },
  {
   "attachments": {
    "Screenshot%20from%202020-03-08%2021-57-52.png": {
     "image/png": "[encoded data removed]"
    }
   },
   "cell_type": "markdown",
   "metadata": {},
   "source": [
    "### Let's recreate the model incase we lose it\n",
    "![Screenshot%20from%202020-03-08%2021-57-52.png](attachment:Screenshot%20from%202020-03-08%2021-57-52.png)"
   ]
  },
  {
   "cell_type": "code",
   "execution_count": null,
   "metadata": {},
   "outputs": [],
   "source": [
    "best_xgb1 = H2OGradientBoostingEstimator(\n",
    "    categorical_encoding='SortByResponse',\n",
    "    distribution='gaussian',\n",
    "    learn_rate=0.05,\n",
    "    max_depth=3,\n",
    "    ntrees=300,\n",
    "    nfolds=10,\n",
    "    model_id='best_xgb1',\n",
    "    keep_cross_validation_predictions = True,\n",
    "    seed=1)\n",
    "best_xgb1.train(x=X_names,\n",
    "            y='SalePrice',\n",
    "            training_frame=train_hex)\n",
    "\n",
    "\n",
    "h2o.save_model(model=best_xgb1, path=\"Intermediate/models\", force=True)"
   ]
  },
  {
   "cell_type": "code",
   "execution_count": null,
   "metadata": {},
   "outputs": [],
   "source": []
  },
  {
   "cell_type": "code",
   "execution_count": null,
   "metadata": {},
   "outputs": [],
   "source": [
    "\n",
    "test_hex =h2o.import_file(\"Intermediate/test.csv\")\n",
    "test_hex['SalePrice'] = best_xgb1.predict(test_hex)\n",
    "submission = test_hex.as_data_frame()[['Id','SalePrice']]\n",
    "submission.to_csv('Submission/submission_xgb1.csv',index=False)\n"
   ]
  },
  {
   "cell_type": "code",
   "execution_count": null,
   "metadata": {},
   "outputs": [],
   "source": []
  },
  {
   "cell_type": "markdown",
   "metadata": {},
   "source": [
    "## 3.3 Stacked H2O model"
   ]
  },
  {
   "cell_type": "code",
   "execution_count": null,
   "metadata": {},
   "outputs": [],
   "source": []
  },
  {
   "cell_type": "code",
   "execution_count": null,
   "metadata": {},
   "outputs": [],
   "source": []
  },
  {
   "cell_type": "code",
   "execution_count": null,
   "metadata": {},
   "outputs": [],
   "source": [
    "from h2o.estimators.random_forest import H2ORandomForestEstimator\n",
    "from h2o.estimators.gbm import H2OGradientBoostingEstimator\n",
    "from h2o.estimators.glm import H2OGeneralizedLinearEstimator\n",
    "from h2o.estimators.stackedensemble import H2OStackedEnsembleEstimator\n",
    "from h2o.grid.grid_search import H2OGridSearch\n",
    "# from __future__ import print_function\n"
   ]
  },
  {
   "cell_type": "code",
   "execution_count": null,
   "metadata": {},
   "outputs": [],
   "source": [
    "#Import the data and split into training and test frames\n",
    "train_hex = h2o.import_file(\"Intermediate/train.csv\")\n",
    "\n",
    "# Split data into Training & Test/Crossvalid\n",
    "X_train_hex, X_valid_hex = train_hex.split_frame([0.7], seed=1234)"
   ]
  },
  {
   "cell_type": "code",
   "execution_count": null,
   "metadata": {},
   "outputs": [],
   "source": [
    "# del ensemble\n",
    "ensemble = H2OStackedEnsembleEstimator(model_id=\"stacked_model1\"\n",
    "               ,metalearner_nfolds=10,\n",
    "                                       base_models=[best_glm1,best_gbm1,best_drf1, best_xgb1])\n",
    "ensemble.train(x=X_names,\n",
    "                y='SalePrice',\n",
    "                training_frame=train_hex\n",
    "              )\n",
    "ensemble.rmsle(xval=True)"
   ]
  },
  {
   "cell_type": "code",
   "execution_count": null,
   "metadata": {},
   "outputs": [],
   "source": [
    "h2o.save_model(model=ensemble, path=\"Intermediate/models\", force=True)"
   ]
  },
  {
   "cell_type": "code",
   "execution_count": null,
   "metadata": {
    "scrolled": true
   },
   "outputs": [],
   "source": [
    "\n",
    "test_hex =h2o.import_file(\"Intermediate/test.csv\")\n",
    "test_hex['SalePrice'] = ensemble.predict(test_hex)\n",
    "submission = test_hex.as_data_frame()[['Id','SalePrice']]\n",
    "submission['SalePrice'][submission['SalePrice']>600000]=200000\n",
    "submission.to_csv('Submission/submission_ensemble.csv',index=False)\n"
   ]
  },
  {
   "cell_type": "code",
   "execution_count": null,
   "metadata": {},
   "outputs": [],
   "source": [
    "submission.boxplot(column='SalePrice')"
   ]
  },
  {
   "cell_type": "code",
   "execution_count": null,
   "metadata": {},
   "outputs": [],
   "source": [
    "submission[submission['SalePrice']>=600000]"
   ]
  },
  {
   "cell_type": "markdown",
   "metadata": {},
   "source": [
    "# Comparing the models"
   ]
  },
  {
   "cell_type": "code",
   "execution_count": null,
   "metadata": {},
   "outputs": [],
   "source": [
    "test_hex =h2o.import_file(\"Intermediate/test.csv\")\n",
    "test_hex['gbm1'] = best_gbm1.predict(test_hex)\n",
    "test_hex['glm1'] = best_glm1.predict(test_hex)\n",
    "test_hex['drf1'] = best_drf1.predict(test_hex)\n",
    "test_hex['xgb1'] = best_xgb1.predict(test_hex)\n",
    "test_hex['ensemble1'] = ensemble.predict(test_hex)\n",
    "test = test_hex.as_data_frame()\n",
    "\n",
    "train_hex =h2o.import_file(\"Intermediate/train.csv\")\n",
    "train_hex['gbm1'] = best_gbm1.predict(train_hex)\n",
    "train_hex['glm1'] = best_glm1.predict(train_hex)\n",
    "train_hex['drf1'] = best_drf1.predict(train_hex)\n",
    "train_hex['xgb1'] = best_xgb1.predict(train_hex)\n",
    "train_hex['ensemble1'] = ensemble.predict(train_hex)\n",
    "train = train_hex.as_data_frame()\n",
    "\n"
   ]
  },
  {
   "cell_type": "code",
   "execution_count": null,
   "metadata": {},
   "outputs": [],
   "source": []
  },
  {
   "cell_type": "code",
   "execution_count": null,
   "metadata": {},
   "outputs": [],
   "source": [
    "test.boxplot(column=['ensemble1','gbm1','glm1','drf1','xgb1'], figsize=(20,10))"
   ]
  },
  {
   "cell_type": "code",
   "execution_count": null,
   "metadata": {
    "scrolled": true
   },
   "outputs": [],
   "source": [
    "ax1 = train.plot.scatter(x='SalePrice',y='glm1', color='b')\n",
    "# ax2 = train.plot.scatter(x='SalePrice',y='gbm1', color='r', ax=ax1)\n",
    "ax2 = train.plot.scatter(x='SalePrice',y='ensemble1', color='g', ax=ax1)\n",
    "print()"
   ]
  },
  {
   "cell_type": "code",
   "execution_count": null,
   "metadata": {},
   "outputs": [],
   "source": [
    "test[test['Id'].isin([1975,2550])]"
   ]
  },
  {
   "cell_type": "markdown",
   "metadata": {},
   "source": [
    "## Scoring "
   ]
  },
  {
   "cell_type": "code",
   "execution_count": null,
   "metadata": {},
   "outputs": [],
   "source": [
    "print(best_gbm1.rmsle(xval=True))\n",
    "print(best_glm1.rmsle(xval=True))\n",
    "print(best_drf1.rmsle(xval=True))\n",
    "print(best_xgb1.rmsle(xval=True))\n",
    "print(ensemble.rmsle(xval=True))"
   ]
  },
  {
   "cell_type": "code",
   "execution_count": 9,
   "metadata": {},
   "outputs": [
    {
     "ename": "H2OResponseError",
     "evalue": "Server error java.lang.IllegalArgumentException:\n  Error: Found version 3.28.0.3, but running version 3.28.1.2\n\nFor more information visit:\n  http://jira.h2o.ai/browse/TN-14\n  Request: POST /99/Models.bin/\n    data: {'dir': 'Intermediate/models/best_gbm1'}\n",
     "output_type": "error",
     "traceback": [
      "\u001b[1;31m---------------------------------------------------------------------------\u001b[0m",
      "\u001b[1;31mH2OResponseError\u001b[0m                          Traceback (most recent call last)",
      "\u001b[1;32m<ipython-input-9-79c930c0414c>\u001b[0m in \u001b[0;36m<module>\u001b[1;34m\u001b[0m\n\u001b[0;32m      1\u001b[0m \u001b[1;31m# best_drf1 = h2o.load_model('Intermediate/models/best_drf1')\u001b[0m\u001b[1;33m\u001b[0m\u001b[1;33m\u001b[0m\u001b[1;33m\u001b[0m\u001b[0m\n\u001b[1;32m----> 2\u001b[1;33m \u001b[0mbest_gbm1\u001b[0m \u001b[1;33m=\u001b[0m \u001b[0mh2o\u001b[0m\u001b[1;33m.\u001b[0m\u001b[0mload_model\u001b[0m\u001b[1;33m(\u001b[0m\u001b[1;34m'Intermediate/models/best_gbm1'\u001b[0m\u001b[1;33m)\u001b[0m\u001b[1;33m\u001b[0m\u001b[1;33m\u001b[0m\u001b[0m\n\u001b[0m\u001b[0;32m      3\u001b[0m \u001b[0mbest_glm1\u001b[0m \u001b[1;33m=\u001b[0m \u001b[0mh2o\u001b[0m\u001b[1;33m.\u001b[0m\u001b[0mload_model\u001b[0m\u001b[1;33m(\u001b[0m\u001b[1;34m'Intermediate/models/best_glm1'\u001b[0m\u001b[1;33m)\u001b[0m\u001b[1;33m\u001b[0m\u001b[1;33m\u001b[0m\u001b[0m\n\u001b[0;32m      4\u001b[0m \u001b[0mbest_gbm1\u001b[0m \u001b[1;33m=\u001b[0m \u001b[0mh2o\u001b[0m\u001b[1;33m.\u001b[0m\u001b[0mload_model\u001b[0m\u001b[1;33m(\u001b[0m\u001b[1;34m'Intermediate/models/best_gbm1'\u001b[0m\u001b[1;33m)\u001b[0m\u001b[1;33m\u001b[0m\u001b[1;33m\u001b[0m\u001b[0m\n\u001b[0;32m      5\u001b[0m \u001b[0mbest_xgb1\u001b[0m\u001b[1;33m=\u001b[0m \u001b[0mh2o\u001b[0m\u001b[1;33m.\u001b[0m\u001b[0mload_model\u001b[0m\u001b[1;33m(\u001b[0m\u001b[1;34m'Intermediate/models/best_xgb1'\u001b[0m\u001b[1;33m)\u001b[0m\u001b[1;33m\u001b[0m\u001b[1;33m\u001b[0m\u001b[0m\n",
      "\u001b[1;32mC:\\ProgramData\\Anaconda3\\lib\\site-packages\\h2o\\h2o.py\u001b[0m in \u001b[0;36mload_model\u001b[1;34m(path)\u001b[0m\n\u001b[0;32m   1429\u001b[0m     \"\"\"\n\u001b[0;32m   1430\u001b[0m     \u001b[0massert_is_type\u001b[0m\u001b[1;33m(\u001b[0m\u001b[0mpath\u001b[0m\u001b[1;33m,\u001b[0m \u001b[0mstr\u001b[0m\u001b[1;33m)\u001b[0m\u001b[1;33m\u001b[0m\u001b[1;33m\u001b[0m\u001b[0m\n\u001b[1;32m-> 1431\u001b[1;33m     \u001b[0mres\u001b[0m \u001b[1;33m=\u001b[0m \u001b[0mapi\u001b[0m\u001b[1;33m(\u001b[0m\u001b[1;34m\"POST /99/Models.bin/%s\"\u001b[0m \u001b[1;33m%\u001b[0m \u001b[1;34m\"\"\u001b[0m\u001b[1;33m,\u001b[0m \u001b[0mdata\u001b[0m\u001b[1;33m=\u001b[0m\u001b[1;33m{\u001b[0m\u001b[1;34m\"dir\"\u001b[0m\u001b[1;33m:\u001b[0m \u001b[0mpath\u001b[0m\u001b[1;33m}\u001b[0m\u001b[1;33m)\u001b[0m\u001b[1;33m\u001b[0m\u001b[1;33m\u001b[0m\u001b[0m\n\u001b[0m\u001b[0;32m   1432\u001b[0m     \u001b[1;32mreturn\u001b[0m \u001b[0mget_model\u001b[0m\u001b[1;33m(\u001b[0m\u001b[0mres\u001b[0m\u001b[1;33m[\u001b[0m\u001b[1;34m\"models\"\u001b[0m\u001b[1;33m]\u001b[0m\u001b[1;33m[\u001b[0m\u001b[1;36m0\u001b[0m\u001b[1;33m]\u001b[0m\u001b[1;33m[\u001b[0m\u001b[1;34m\"model_id\"\u001b[0m\u001b[1;33m]\u001b[0m\u001b[1;33m[\u001b[0m\u001b[1;34m\"name\"\u001b[0m\u001b[1;33m]\u001b[0m\u001b[1;33m)\u001b[0m\u001b[1;33m\u001b[0m\u001b[1;33m\u001b[0m\u001b[0m\n\u001b[0;32m   1433\u001b[0m \u001b[1;33m\u001b[0m\u001b[0m\n",
      "\u001b[1;32mC:\\ProgramData\\Anaconda3\\lib\\site-packages\\h2o\\h2o.py\u001b[0m in \u001b[0;36mapi\u001b[1;34m(endpoint, data, json, filename, save_to)\u001b[0m\n\u001b[0;32m    107\u001b[0m     \u001b[1;31m# type checks are performed in H2OConnection class\u001b[0m\u001b[1;33m\u001b[0m\u001b[1;33m\u001b[0m\u001b[1;33m\u001b[0m\u001b[0m\n\u001b[0;32m    108\u001b[0m     \u001b[0m_check_connection\u001b[0m\u001b[1;33m(\u001b[0m\u001b[1;33m)\u001b[0m\u001b[1;33m\u001b[0m\u001b[1;33m\u001b[0m\u001b[0m\n\u001b[1;32m--> 109\u001b[1;33m     \u001b[1;32mreturn\u001b[0m \u001b[0mh2oconn\u001b[0m\u001b[1;33m.\u001b[0m\u001b[0mrequest\u001b[0m\u001b[1;33m(\u001b[0m\u001b[0mendpoint\u001b[0m\u001b[1;33m,\u001b[0m \u001b[0mdata\u001b[0m\u001b[1;33m=\u001b[0m\u001b[0mdata\u001b[0m\u001b[1;33m,\u001b[0m \u001b[0mjson\u001b[0m\u001b[1;33m=\u001b[0m\u001b[0mjson\u001b[0m\u001b[1;33m,\u001b[0m \u001b[0mfilename\u001b[0m\u001b[1;33m=\u001b[0m\u001b[0mfilename\u001b[0m\u001b[1;33m,\u001b[0m \u001b[0msave_to\u001b[0m\u001b[1;33m=\u001b[0m\u001b[0msave_to\u001b[0m\u001b[1;33m)\u001b[0m\u001b[1;33m\u001b[0m\u001b[1;33m\u001b[0m\u001b[0m\n\u001b[0m\u001b[0;32m    110\u001b[0m \u001b[1;33m\u001b[0m\u001b[0m\n\u001b[0;32m    111\u001b[0m \u001b[1;33m\u001b[0m\u001b[0m\n",
      "\u001b[1;32mC:\\ProgramData\\Anaconda3\\lib\\site-packages\\h2o\\backend\\connection.py\u001b[0m in \u001b[0;36mrequest\u001b[1;34m(self, endpoint, data, json, filename, save_to)\u001b[0m\n\u001b[0;32m    476\u001b[0m                 \u001b[0msave_to\u001b[0m \u001b[1;33m=\u001b[0m \u001b[0msave_to\u001b[0m\u001b[1;33m(\u001b[0m\u001b[0mresp\u001b[0m\u001b[1;33m)\u001b[0m\u001b[1;33m\u001b[0m\u001b[1;33m\u001b[0m\u001b[0m\n\u001b[0;32m    477\u001b[0m             \u001b[0mself\u001b[0m\u001b[1;33m.\u001b[0m\u001b[0m_log_end_transaction\u001b[0m\u001b[1;33m(\u001b[0m\u001b[0mstart_time\u001b[0m\u001b[1;33m,\u001b[0m \u001b[0mresp\u001b[0m\u001b[1;33m)\u001b[0m\u001b[1;33m\u001b[0m\u001b[1;33m\u001b[0m\u001b[0m\n\u001b[1;32m--> 478\u001b[1;33m             \u001b[1;32mreturn\u001b[0m \u001b[0mself\u001b[0m\u001b[1;33m.\u001b[0m\u001b[0m_process_response\u001b[0m\u001b[1;33m(\u001b[0m\u001b[0mresp\u001b[0m\u001b[1;33m,\u001b[0m \u001b[0msave_to\u001b[0m\u001b[1;33m)\u001b[0m\u001b[1;33m\u001b[0m\u001b[1;33m\u001b[0m\u001b[0m\n\u001b[0m\u001b[0;32m    479\u001b[0m \u001b[1;33m\u001b[0m\u001b[0m\n\u001b[0;32m    480\u001b[0m         \u001b[1;32mexcept\u001b[0m \u001b[1;33m(\u001b[0m\u001b[0mrequests\u001b[0m\u001b[1;33m.\u001b[0m\u001b[0mexceptions\u001b[0m\u001b[1;33m.\u001b[0m\u001b[0mConnectionError\u001b[0m\u001b[1;33m,\u001b[0m \u001b[0mrequests\u001b[0m\u001b[1;33m.\u001b[0m\u001b[0mexceptions\u001b[0m\u001b[1;33m.\u001b[0m\u001b[0mHTTPError\u001b[0m\u001b[1;33m)\u001b[0m \u001b[1;32mas\u001b[0m \u001b[0me\u001b[0m\u001b[1;33m:\u001b[0m\u001b[1;33m\u001b[0m\u001b[1;33m\u001b[0m\u001b[0m\n",
      "\u001b[1;32mC:\\ProgramData\\Anaconda3\\lib\\site-packages\\h2o\\backend\\connection.py\u001b[0m in \u001b[0;36m_process_response\u001b[1;34m(response, save_to)\u001b[0m\n\u001b[0;32m    822\u001b[0m         \u001b[1;31m# Client errors (400 = \"Bad Request\", 404 = \"Not Found\", 412 = \"Precondition Failed\")\u001b[0m\u001b[1;33m\u001b[0m\u001b[1;33m\u001b[0m\u001b[1;33m\u001b[0m\u001b[0m\n\u001b[0;32m    823\u001b[0m         \u001b[1;32mif\u001b[0m \u001b[0mstatus_code\u001b[0m \u001b[1;32min\u001b[0m \u001b[1;33m{\u001b[0m\u001b[1;36m400\u001b[0m\u001b[1;33m,\u001b[0m \u001b[1;36m404\u001b[0m\u001b[1;33m,\u001b[0m \u001b[1;36m412\u001b[0m\u001b[1;33m}\u001b[0m \u001b[1;32mand\u001b[0m \u001b[0misinstance\u001b[0m\u001b[1;33m(\u001b[0m\u001b[0mdata\u001b[0m\u001b[1;33m,\u001b[0m \u001b[1;33m(\u001b[0m\u001b[0mH2OErrorV3\u001b[0m\u001b[1;33m,\u001b[0m \u001b[0mH2OModelBuilderErrorV3\u001b[0m\u001b[1;33m)\u001b[0m\u001b[1;33m)\u001b[0m\u001b[1;33m:\u001b[0m\u001b[1;33m\u001b[0m\u001b[1;33m\u001b[0m\u001b[0m\n\u001b[1;32m--> 824\u001b[1;33m             \u001b[1;32mraise\u001b[0m \u001b[0mH2OResponseError\u001b[0m\u001b[1;33m(\u001b[0m\u001b[0mdata\u001b[0m\u001b[1;33m)\u001b[0m\u001b[1;33m\u001b[0m\u001b[1;33m\u001b[0m\u001b[0m\n\u001b[0m\u001b[0;32m    825\u001b[0m \u001b[1;33m\u001b[0m\u001b[0m\n\u001b[0;32m    826\u001b[0m         \u001b[1;31m# Server errors (notably 500 = \"Server Error\")\u001b[0m\u001b[1;33m\u001b[0m\u001b[1;33m\u001b[0m\u001b[1;33m\u001b[0m\u001b[0m\n",
      "\u001b[1;31mH2OResponseError\u001b[0m: Server error java.lang.IllegalArgumentException:\n  Error: Found version 3.28.0.3, but running version 3.28.1.2\n\nFor more information visit:\n  http://jira.h2o.ai/browse/TN-14\n  Request: POST /99/Models.bin/\n    data: {'dir': 'Intermediate/models/best_gbm1'}\n"
     ]
    }
   ],
   "source": [
    "# best_drf1 = h2o.load_model('Intermediate/models/best_drf1')\n",
    "best_gbm1 = h2o.load_model('Intermediate/models/best_gbm1')\n",
    "best_glm1 = h2o.load_model('Intermediate/models/best_glm1')\n",
    "best_gbm1 = h2o.load_model('Intermediate/models/best_gbm1')\n",
    "best_xgb1= h2o.load_model('Intermediate/models/best_xgb1')\n"
   ]
  },
  {
   "cell_type": "code",
   "execution_count": null,
   "metadata": {},
   "outputs": [],
   "source": [
    "# train_hex = h2o.H2OFrame(data[data['source']=='train'])\n",
    "test_hex =h2o.import_file(\"Intermediate/test.csv\")\n",
    "test_hex['gbm1'] = best_gbm1.predict(test_hex)\n",
    "test_hex['glm1'] = best_glm1.predict(test_hex)\n",
    "test_hex['drf1'] = best_drf1.predict(test_hex)\n",
    "test_hex['xgb1'] = best_xgb1.predict(test_hex)\n",
    "test_hex['ensemble1'] = ensemble.predict(test_hex)\n",
    "# test_hex.as_data_frame().to_csv('Submission/All_Scores.csv',index=False)\n",
    "\n",
    "test_hex['SalePrice'] = (test_hex['ensemble1'])\n",
    "submission = test_hex.as_data_frame()[['Id','SalePrice']]\n",
    "submission['SalePrice'][submission['SalePrice']>600000]=200000\n",
    "submission.to_csv('Submission/submission_stacked_average.csv',index=False)"
   ]
  },
  {
   "cell_type": "code",
   "execution_count": null,
   "metadata": {},
   "outputs": [],
   "source": [
    "\n",
    "# submission['SalePrice'][submission['SalePrice']>600000]=200000\n",
    "submission[submission['Id']==2550]"
   ]
  },
  {
   "cell_type": "code",
   "execution_count": null,
   "metadata": {},
   "outputs": [],
   "source": [
    "submission.boxplot(column='SalePrice')"
   ]
  },
  {
   "cell_type": "code",
   "execution_count": null,
   "metadata": {},
   "outputs": [],
   "source": []
  },
  {
   "cell_type": "markdown",
   "metadata": {},
   "source": [
    "# Variable Selection"
   ]
  },
  {
   "cell_type": "code",
   "execution_count": null,
   "metadata": {},
   "outputs": [],
   "source": [
    "train_hex['Random']=h2o.H2OFrame(pd.DataFrame(np.random.rand(len(train_hex)),columns=['Rand']))\n",
    "X_names.append('Random')\n",
    "X_names\n"
   ]
  },
  {
   "cell_type": "code",
   "execution_count": null,
   "metadata": {},
   "outputs": [],
   "source": [
    "\n",
    "# GBM hyperparameters\n",
    "xgb_params1 = {'categorical_encoding': ['one_hot_explicit','sort_by_response'],\n",
    "              'distribution': ['gaussian','gamma'],\n",
    "              'ntrees': [50,100,200,300],\n",
    "               'max_depth':  [3,8,15,30],\n",
    "              'learn_rate': [0.01,0.05,0.1]}\n",
    "\n",
    "search_criteria = {'strategy': 'RandomDiscrete', 'max_models': 50, 'seed': 1}\n",
    "\n",
    "from h2o.grid.grid_search import H2OGridSearch\n",
    "# Train and validate a cartesian grid of GBMs\n",
    "xgb_varsel_grid = H2OGridSearch(model=H2OXGBoostEstimator,\n",
    "                          grid_id='xgb_grid1',\n",
    "                          hyper_params=xgb_params1,\n",
    "                          search_criteria=search_criteria)\n",
    "\n",
    "xgb_varsel_grid.train(x=X_names,\n",
    "                y='SalePrice',\n",
    "                training_frame=train_hex,\n",
    "                nfolds=10,\n",
    "                seed=1)"
   ]
  },
  {
   "cell_type": "code",
   "execution_count": null,
   "metadata": {},
   "outputs": [],
   "source": [
    "# Get the grid results, sorted by validation AUC\n",
    "xgb_gridperf1 = xgb_varsel_grid.get_grid(sort_by='rmsle', decreasing=False)\n",
    "xgb_gridperf1\n",
    "# Grab the top GBM model, chosen by validation AUC\n",
    "xgb_varsel = xgb_gridperf1.models[0]\n",
    "xgb_varsel.model_id = 'xgb_varsel'\n",
    "\n",
    "h2o.save_model(model=xgb_varsel, path=\"Intermediate/models\", force=True)"
   ]
  },
  {
   "cell_type": "code",
   "execution_count": null,
   "metadata": {},
   "outputs": [],
   "source": []
  },
  {
   "cell_type": "code",
   "execution_count": null,
   "metadata": {},
   "outputs": [],
   "source": [
    "xgb_varsel = H2OGradientBoostingEstimator(\n",
    "    categorical_encoding='SortByResponse',\n",
    "    distribution='gaussian',\n",
    "    learn_rate=0.05,\n",
    "    max_depth=3,\n",
    "    ntrees=300,\n",
    "    nfolds=10,\n",
    "    model_id='best_xgb1',\n",
    "    keep_cross_validation_predictions = True,\n",
    "    seed=1)\n",
    "xgb_varsel.train(x=X_names,\n",
    "            y='SalePrice',\n",
    "            training_frame=train_hex)\n",
    "\n",
    "\n",
    "h2o.save_model(model=xgb_varsel, path=\"Intermediate/models\", force=True)"
   ]
  },
  {
   "cell_type": "code",
   "execution_count": null,
   "metadata": {
    "scrolled": true
   },
   "outputs": [],
   "source": [
    "xgb_varsel.varimp_plot(num_of_features=1000)"
   ]
  },
  {
   "cell_type": "code",
   "execution_count": null,
   "metadata": {},
   "outputs": [],
   "source": [
    "train_hex['HouseStyle']\n",
    "\n",
    "# xgb_varsel._model_json['output']['variable_importances'].as_data_frame()\n",
    "# NewVars=xgb_varsel._model_json['output']['variable_importances'].as_data_frame().variable[0:40]"
   ]
  },
  {
   "cell_type": "code",
   "execution_count": null,
   "metadata": {},
   "outputs": [],
   "source": [
    "\n",
    "# GBM hyperparameters\n",
    "xgb_params1 = {'categorical_encoding': ['one_hot_explicit','sort_by_response'],\n",
    "              'distribution': ['gaussian','gamma'],\n",
    "              'ntrees': [50,100,200,300],\n",
    "               'max_depth':  [3,8,15,30],\n",
    "              'learn_rate': [0.01,0.05,0.1]}\n",
    "\n",
    "search_criteria = {'strategy': 'RandomDiscrete', 'max_models': 30, 'seed': 1}\n",
    "from h2o.grid.grid_search import H2OGridSearch\n",
    "# Train and validate a cartesian grid of GBMs\n",
    "xgb_grid_varsel = H2OGridSearch(model=H2OXGBoostEstimator,\n",
    "                          grid_id='xgb_grid1',\n",
    "                          hyper_params=xgb_params1,\n",
    "                          search_criteria=search_criteria)\n",
    "xgb_grid_varsel.train(x=NewVars,\n",
    "                y='SalePrice',\n",
    "                training_frame=train_hex,\n",
    "                nfolds=10,\n",
    "                seed=1)# Get the grid results, sorted by validation AUC\n",
    "xgb_gridperf_varsel = xgb_grid_varsel.get_grid(sort_by='rmsle', decreasing=False)\n",
    "xgb_gridperf_varsel\n",
    "\n",
    "# Grab the top GBM model, chosen by validation AUC\n",
    "xgb_varsel = xgb_gridperf_varsel.models[0]\n",
    "xgb_varsel.model_id = 'xgb_varsel'\n",
    "\n",
    "h2o.save_model(model=xgb_varsel, path=\"Intermediate/models\", force=True)"
   ]
  },
  {
   "cell_type": "code",
   "execution_count": null,
   "metadata": {},
   "outputs": [],
   "source": [
    "xgb_gridperf_varsel\n",
    "# print(xgb_varsel.rmsle(xval=True))\n"
   ]
  },
  {
   "cell_type": "markdown",
   "metadata": {},
   "source": [
    "# Model Interpretability"
   ]
  },
  {
   "cell_type": "code",
   "execution_count": 7,
   "metadata": {
    "scrolled": true
   },
   "outputs": [
    {
     "name": "stdout",
     "output_type": "stream",
     "text": [
      "Parse progress: |█████████████████████████████████████████████████████████| 100%\n",
      "Parse progress: |█████████████████████████████████████████████████████████| 100%\n"
     ]
    }
   ],
   "source": [
    "import shap\n",
    "# shap.initjs()\n",
    "train_hex =h2o.import_file(\"Intermediate/train.csv\")\n",
    "test_hex =h2o.import_file(\"Intermediate/test.csv\")\n"
   ]
  },
  {
   "cell_type": "code",
   "execution_count": 16,
   "metadata": {},
   "outputs": [
    {
     "name": "stdout",
     "output_type": "stream",
     "text": [
      "PartialDependencePlot progress: |█████████████████████████████████████████| 100%\n",
      "\n",
      "PartialDependence: Partial Dependence Plot of model best_gbm1 on column 'TotalSF'\n"
     ]
    },
    {
     "data": {
      "text/html": [
       "<div>\n",
       "<style scoped>\n",
       "    .dataframe tbody tr th:only-of-type {\n",
       "        vertical-align: middle;\n",
       "    }\n",
       "\n",
       "    .dataframe tbody tr th {\n",
       "        vertical-align: top;\n",
       "    }\n",
       "\n",
       "    .dataframe thead th {\n",
       "        text-align: right;\n",
       "    }\n",
       "</style>\n",
       "<table border=\"1\" class=\"dataframe\">\n",
       "  <thead>\n",
       "    <tr style=\"text-align: right;\">\n",
       "      <th></th>\n",
       "      <th>totalsf</th>\n",
       "      <th>mean_response</th>\n",
       "      <th>stddev_response</th>\n",
       "      <th>std_error_mean_response</th>\n",
       "    </tr>\n",
       "  </thead>\n",
       "  <tbody>\n",
       "    <tr>\n",
       "      <th>0</th>\n",
       "      <td>5.814131</td>\n",
       "      <td>152519.539945</td>\n",
       "      <td>55104.294832</td>\n",
       "      <td>1443.134094</td>\n",
       "    </tr>\n",
       "    <tr>\n",
       "      <th>1</th>\n",
       "      <td>5.973142</td>\n",
       "      <td>152519.539945</td>\n",
       "      <td>55104.294832</td>\n",
       "      <td>1443.134094</td>\n",
       "    </tr>\n",
       "    <tr>\n",
       "      <th>2</th>\n",
       "      <td>6.132154</td>\n",
       "      <td>152519.539945</td>\n",
       "      <td>55104.294832</td>\n",
       "      <td>1443.134094</td>\n",
       "    </tr>\n",
       "    <tr>\n",
       "      <th>3</th>\n",
       "      <td>6.291166</td>\n",
       "      <td>152519.539945</td>\n",
       "      <td>55104.294832</td>\n",
       "      <td>1443.134094</td>\n",
       "    </tr>\n",
       "    <tr>\n",
       "      <th>4</th>\n",
       "      <td>6.450178</td>\n",
       "      <td>152519.539945</td>\n",
       "      <td>55104.294832</td>\n",
       "      <td>1443.134094</td>\n",
       "    </tr>\n",
       "    <tr>\n",
       "      <th>5</th>\n",
       "      <td>6.609190</td>\n",
       "      <td>152519.539945</td>\n",
       "      <td>55104.294832</td>\n",
       "      <td>1443.134094</td>\n",
       "    </tr>\n",
       "    <tr>\n",
       "      <th>6</th>\n",
       "      <td>6.768202</td>\n",
       "      <td>152519.539945</td>\n",
       "      <td>55104.294832</td>\n",
       "      <td>1443.134094</td>\n",
       "    </tr>\n",
       "    <tr>\n",
       "      <th>7</th>\n",
       "      <td>6.927214</td>\n",
       "      <td>152519.539945</td>\n",
       "      <td>55104.294832</td>\n",
       "      <td>1443.134094</td>\n",
       "    </tr>\n",
       "    <tr>\n",
       "      <th>8</th>\n",
       "      <td>7.086225</td>\n",
       "      <td>152762.449299</td>\n",
       "      <td>55048.164422</td>\n",
       "      <td>1441.664087</td>\n",
       "    </tr>\n",
       "    <tr>\n",
       "      <th>9</th>\n",
       "      <td>7.245237</td>\n",
       "      <td>153427.398205</td>\n",
       "      <td>54733.879439</td>\n",
       "      <td>1433.433234</td>\n",
       "    </tr>\n",
       "    <tr>\n",
       "      <th>10</th>\n",
       "      <td>7.404249</td>\n",
       "      <td>157143.680815</td>\n",
       "      <td>52790.323452</td>\n",
       "      <td>1382.533174</td>\n",
       "    </tr>\n",
       "    <tr>\n",
       "      <th>11</th>\n",
       "      <td>7.563261</td>\n",
       "      <td>159873.566031</td>\n",
       "      <td>53059.070883</td>\n",
       "      <td>1389.571438</td>\n",
       "    </tr>\n",
       "    <tr>\n",
       "      <th>12</th>\n",
       "      <td>7.722273</td>\n",
       "      <td>167544.076289</td>\n",
       "      <td>49454.840657</td>\n",
       "      <td>1295.179748</td>\n",
       "    </tr>\n",
       "    <tr>\n",
       "      <th>13</th>\n",
       "      <td>7.881285</td>\n",
       "      <td>181310.441360</td>\n",
       "      <td>53188.558678</td>\n",
       "      <td>1392.962612</td>\n",
       "    </tr>\n",
       "    <tr>\n",
       "      <th>14</th>\n",
       "      <td>8.040297</td>\n",
       "      <td>194920.148638</td>\n",
       "      <td>57510.469256</td>\n",
       "      <td>1506.149733</td>\n",
       "    </tr>\n",
       "    <tr>\n",
       "      <th>15</th>\n",
       "      <td>8.199309</td>\n",
       "      <td>208227.587238</td>\n",
       "      <td>63346.606960</td>\n",
       "      <td>1658.993161</td>\n",
       "    </tr>\n",
       "    <tr>\n",
       "      <th>16</th>\n",
       "      <td>8.358320</td>\n",
       "      <td>225451.878481</td>\n",
       "      <td>73455.065118</td>\n",
       "      <td>1923.724987</td>\n",
       "    </tr>\n",
       "    <tr>\n",
       "      <th>17</th>\n",
       "      <td>8.517332</td>\n",
       "      <td>254786.877270</td>\n",
       "      <td>74550.899385</td>\n",
       "      <td>1952.423944</td>\n",
       "    </tr>\n",
       "    <tr>\n",
       "      <th>18</th>\n",
       "      <td>8.676344</td>\n",
       "      <td>254786.877270</td>\n",
       "      <td>74550.899385</td>\n",
       "      <td>1952.423944</td>\n",
       "    </tr>\n",
       "    <tr>\n",
       "      <th>19</th>\n",
       "      <td>8.835356</td>\n",
       "      <td>254786.877270</td>\n",
       "      <td>74550.899385</td>\n",
       "      <td>1952.423944</td>\n",
       "    </tr>\n",
       "  </tbody>\n",
       "</table>\n",
       "</div>"
      ],
      "text/plain": [
       "     totalsf  mean_response  stddev_response  std_error_mean_response\n",
       "0   5.814131  152519.539945     55104.294832              1443.134094\n",
       "1   5.973142  152519.539945     55104.294832              1443.134094\n",
       "2   6.132154  152519.539945     55104.294832              1443.134094\n",
       "3   6.291166  152519.539945     55104.294832              1443.134094\n",
       "4   6.450178  152519.539945     55104.294832              1443.134094\n",
       "5   6.609190  152519.539945     55104.294832              1443.134094\n",
       "6   6.768202  152519.539945     55104.294832              1443.134094\n",
       "7   6.927214  152519.539945     55104.294832              1443.134094\n",
       "8   7.086225  152762.449299     55048.164422              1441.664087\n",
       "9   7.245237  153427.398205     54733.879439              1433.433234\n",
       "10  7.404249  157143.680815     52790.323452              1382.533174\n",
       "11  7.563261  159873.566031     53059.070883              1389.571438\n",
       "12  7.722273  167544.076289     49454.840657              1295.179748\n",
       "13  7.881285  181310.441360     53188.558678              1392.962612\n",
       "14  8.040297  194920.148638     57510.469256              1506.149733\n",
       "15  8.199309  208227.587238     63346.606960              1658.993161\n",
       "16  8.358320  225451.878481     73455.065118              1923.724987\n",
       "17  8.517332  254786.877270     74550.899385              1952.423944\n",
       "18  8.676344  254786.877270     74550.899385              1952.423944\n",
       "19  8.835356  254786.877270     74550.899385              1952.423944"
      ]
     },
     "metadata": {},
     "output_type": "display_data"
    },
    {
     "name": "stdout",
     "output_type": "stream",
     "text": [
      "\n",
      "PartialDependence: Partial Dependence Plot of model best_gbm1 on column 'OverallQual'\n"
     ]
    },
    {
     "data": {
      "text/html": [
       "<div>\n",
       "<style scoped>\n",
       "    .dataframe tbody tr th:only-of-type {\n",
       "        vertical-align: middle;\n",
       "    }\n",
       "\n",
       "    .dataframe tbody tr th {\n",
       "        vertical-align: top;\n",
       "    }\n",
       "\n",
       "    .dataframe thead th {\n",
       "        text-align: right;\n",
       "    }\n",
       "</style>\n",
       "<table border=\"1\" class=\"dataframe\">\n",
       "  <thead>\n",
       "    <tr style=\"text-align: right;\">\n",
       "      <th></th>\n",
       "      <th>overallqual</th>\n",
       "      <th>mean_response</th>\n",
       "      <th>stddev_response</th>\n",
       "      <th>std_error_mean_response</th>\n",
       "    </tr>\n",
       "  </thead>\n",
       "  <tbody>\n",
       "    <tr>\n",
       "      <th>0</th>\n",
       "      <td>1.0</td>\n",
       "      <td>166380.256637</td>\n",
       "      <td>62096.313988</td>\n",
       "      <td>1626.249063</td>\n",
       "    </tr>\n",
       "    <tr>\n",
       "      <th>1</th>\n",
       "      <td>2.0</td>\n",
       "      <td>166380.256637</td>\n",
       "      <td>62096.313988</td>\n",
       "      <td>1626.249063</td>\n",
       "    </tr>\n",
       "    <tr>\n",
       "      <th>2</th>\n",
       "      <td>3.0</td>\n",
       "      <td>166380.256637</td>\n",
       "      <td>62096.313988</td>\n",
       "      <td>1626.249063</td>\n",
       "    </tr>\n",
       "    <tr>\n",
       "      <th>3</th>\n",
       "      <td>4.0</td>\n",
       "      <td>168503.421392</td>\n",
       "      <td>61406.573130</td>\n",
       "      <td>1608.185343</td>\n",
       "    </tr>\n",
       "    <tr>\n",
       "      <th>4</th>\n",
       "      <td>5.0</td>\n",
       "      <td>170321.990745</td>\n",
       "      <td>60104.806641</td>\n",
       "      <td>1574.093198</td>\n",
       "    </tr>\n",
       "    <tr>\n",
       "      <th>5</th>\n",
       "      <td>6.0</td>\n",
       "      <td>173198.998326</td>\n",
       "      <td>59846.612343</td>\n",
       "      <td>1567.331312</td>\n",
       "    </tr>\n",
       "    <tr>\n",
       "      <th>6</th>\n",
       "      <td>7.0</td>\n",
       "      <td>184848.581439</td>\n",
       "      <td>64136.733637</td>\n",
       "      <td>1679.685899</td>\n",
       "    </tr>\n",
       "    <tr>\n",
       "      <th>7</th>\n",
       "      <td>8.0</td>\n",
       "      <td>201456.326087</td>\n",
       "      <td>64630.451400</td>\n",
       "      <td>1692.615943</td>\n",
       "    </tr>\n",
       "    <tr>\n",
       "      <th>8</th>\n",
       "      <td>9.0</td>\n",
       "      <td>217799.014262</td>\n",
       "      <td>65678.147893</td>\n",
       "      <td>1720.054213</td>\n",
       "    </tr>\n",
       "    <tr>\n",
       "      <th>9</th>\n",
       "      <td>10.0</td>\n",
       "      <td>233369.538884</td>\n",
       "      <td>63852.469833</td>\n",
       "      <td>1672.241275</td>\n",
       "    </tr>\n",
       "  </tbody>\n",
       "</table>\n",
       "</div>"
      ],
      "text/plain": [
       "   overallqual  mean_response  stddev_response  std_error_mean_response\n",
       "0          1.0  166380.256637     62096.313988              1626.249063\n",
       "1          2.0  166380.256637     62096.313988              1626.249063\n",
       "2          3.0  166380.256637     62096.313988              1626.249063\n",
       "3          4.0  168503.421392     61406.573130              1608.185343\n",
       "4          5.0  170321.990745     60104.806641              1574.093198\n",
       "5          6.0  173198.998326     59846.612343              1567.331312\n",
       "6          7.0  184848.581439     64136.733637              1679.685899\n",
       "7          8.0  201456.326087     64630.451400              1692.615943\n",
       "8          9.0  217799.014262     65678.147893              1720.054213\n",
       "9         10.0  233369.538884     63852.469833              1672.241275"
      ]
     },
     "metadata": {},
     "output_type": "display_data"
    },
    {
     "name": "stdout",
     "output_type": "stream",
     "text": [
      "\n",
      "PartialDependence: Partial Dependence Plot of model best_gbm1 on column 'TotalSF'\n"
     ]
    },
    {
     "data": {
      "text/html": [
       "<div>\n",
       "<style scoped>\n",
       "    .dataframe tbody tr th:only-of-type {\n",
       "        vertical-align: middle;\n",
       "    }\n",
       "\n",
       "    .dataframe tbody tr th {\n",
       "        vertical-align: top;\n",
       "    }\n",
       "\n",
       "    .dataframe thead th {\n",
       "        text-align: right;\n",
       "    }\n",
       "</style>\n",
       "<table border=\"1\" class=\"dataframe\">\n",
       "  <thead>\n",
       "    <tr style=\"text-align: right;\">\n",
       "      <th></th>\n",
       "      <th>totalsf</th>\n",
       "      <th>mean_response</th>\n",
       "      <th>stddev_response</th>\n",
       "      <th>std_error_mean_response</th>\n",
       "    </tr>\n",
       "  </thead>\n",
       "  <tbody>\n",
       "    <tr>\n",
       "      <th>0</th>\n",
       "      <td>5.814131</td>\n",
       "      <td>152519.539945</td>\n",
       "      <td>55104.294832</td>\n",
       "      <td>1443.134094</td>\n",
       "    </tr>\n",
       "    <tr>\n",
       "      <th>1</th>\n",
       "      <td>5.973142</td>\n",
       "      <td>152519.539945</td>\n",
       "      <td>55104.294832</td>\n",
       "      <td>1443.134094</td>\n",
       "    </tr>\n",
       "    <tr>\n",
       "      <th>2</th>\n",
       "      <td>6.132154</td>\n",
       "      <td>152519.539945</td>\n",
       "      <td>55104.294832</td>\n",
       "      <td>1443.134094</td>\n",
       "    </tr>\n",
       "    <tr>\n",
       "      <th>3</th>\n",
       "      <td>6.291166</td>\n",
       "      <td>152519.539945</td>\n",
       "      <td>55104.294832</td>\n",
       "      <td>1443.134094</td>\n",
       "    </tr>\n",
       "    <tr>\n",
       "      <th>4</th>\n",
       "      <td>6.450178</td>\n",
       "      <td>152519.539945</td>\n",
       "      <td>55104.294832</td>\n",
       "      <td>1443.134094</td>\n",
       "    </tr>\n",
       "    <tr>\n",
       "      <th>5</th>\n",
       "      <td>6.609190</td>\n",
       "      <td>152519.539945</td>\n",
       "      <td>55104.294832</td>\n",
       "      <td>1443.134094</td>\n",
       "    </tr>\n",
       "    <tr>\n",
       "      <th>6</th>\n",
       "      <td>6.768202</td>\n",
       "      <td>152519.539945</td>\n",
       "      <td>55104.294832</td>\n",
       "      <td>1443.134094</td>\n",
       "    </tr>\n",
       "    <tr>\n",
       "      <th>7</th>\n",
       "      <td>6.927214</td>\n",
       "      <td>152519.539945</td>\n",
       "      <td>55104.294832</td>\n",
       "      <td>1443.134094</td>\n",
       "    </tr>\n",
       "    <tr>\n",
       "      <th>8</th>\n",
       "      <td>7.086225</td>\n",
       "      <td>152762.449299</td>\n",
       "      <td>55048.164422</td>\n",
       "      <td>1441.664087</td>\n",
       "    </tr>\n",
       "    <tr>\n",
       "      <th>9</th>\n",
       "      <td>7.245237</td>\n",
       "      <td>153427.398205</td>\n",
       "      <td>54733.879439</td>\n",
       "      <td>1433.433234</td>\n",
       "    </tr>\n",
       "    <tr>\n",
       "      <th>10</th>\n",
       "      <td>7.404249</td>\n",
       "      <td>157143.680815</td>\n",
       "      <td>52790.323452</td>\n",
       "      <td>1382.533174</td>\n",
       "    </tr>\n",
       "    <tr>\n",
       "      <th>11</th>\n",
       "      <td>7.563261</td>\n",
       "      <td>159873.566031</td>\n",
       "      <td>53059.070883</td>\n",
       "      <td>1389.571438</td>\n",
       "    </tr>\n",
       "    <tr>\n",
       "      <th>12</th>\n",
       "      <td>7.722273</td>\n",
       "      <td>167544.076289</td>\n",
       "      <td>49454.840657</td>\n",
       "      <td>1295.179748</td>\n",
       "    </tr>\n",
       "    <tr>\n",
       "      <th>13</th>\n",
       "      <td>7.881285</td>\n",
       "      <td>181310.441360</td>\n",
       "      <td>53188.558678</td>\n",
       "      <td>1392.962612</td>\n",
       "    </tr>\n",
       "    <tr>\n",
       "      <th>14</th>\n",
       "      <td>8.040297</td>\n",
       "      <td>194920.148638</td>\n",
       "      <td>57510.469256</td>\n",
       "      <td>1506.149733</td>\n",
       "    </tr>\n",
       "    <tr>\n",
       "      <th>15</th>\n",
       "      <td>8.199309</td>\n",
       "      <td>208227.587238</td>\n",
       "      <td>63346.606960</td>\n",
       "      <td>1658.993161</td>\n",
       "    </tr>\n",
       "    <tr>\n",
       "      <th>16</th>\n",
       "      <td>8.358320</td>\n",
       "      <td>225451.878481</td>\n",
       "      <td>73455.065118</td>\n",
       "      <td>1923.724987</td>\n",
       "    </tr>\n",
       "    <tr>\n",
       "      <th>17</th>\n",
       "      <td>8.517332</td>\n",
       "      <td>254786.877270</td>\n",
       "      <td>74550.899385</td>\n",
       "      <td>1952.423944</td>\n",
       "    </tr>\n",
       "    <tr>\n",
       "      <th>18</th>\n",
       "      <td>8.676344</td>\n",
       "      <td>254786.877270</td>\n",
       "      <td>74550.899385</td>\n",
       "      <td>1952.423944</td>\n",
       "    </tr>\n",
       "    <tr>\n",
       "      <th>19</th>\n",
       "      <td>8.835356</td>\n",
       "      <td>254786.877270</td>\n",
       "      <td>74550.899385</td>\n",
       "      <td>1952.423944</td>\n",
       "    </tr>\n",
       "  </tbody>\n",
       "</table>\n",
       "</div>"
      ],
      "text/plain": [
       "     totalsf  mean_response  stddev_response  std_error_mean_response\n",
       "0   5.814131  152519.539945     55104.294832              1443.134094\n",
       "1   5.973142  152519.539945     55104.294832              1443.134094\n",
       "2   6.132154  152519.539945     55104.294832              1443.134094\n",
       "3   6.291166  152519.539945     55104.294832              1443.134094\n",
       "4   6.450178  152519.539945     55104.294832              1443.134094\n",
       "5   6.609190  152519.539945     55104.294832              1443.134094\n",
       "6   6.768202  152519.539945     55104.294832              1443.134094\n",
       "7   6.927214  152519.539945     55104.294832              1443.134094\n",
       "8   7.086225  152762.449299     55048.164422              1441.664087\n",
       "9   7.245237  153427.398205     54733.879439              1433.433234\n",
       "10  7.404249  157143.680815     52790.323452              1382.533174\n",
       "11  7.563261  159873.566031     53059.070883              1389.571438\n",
       "12  7.722273  167544.076289     49454.840657              1295.179748\n",
       "13  7.881285  181310.441360     53188.558678              1392.962612\n",
       "14  8.040297  194920.148638     57510.469256              1506.149733\n",
       "15  8.199309  208227.587238     63346.606960              1658.993161\n",
       "16  8.358320  225451.878481     73455.065118              1923.724987\n",
       "17  8.517332  254786.877270     74550.899385              1952.423944\n",
       "18  8.676344  254786.877270     74550.899385              1952.423944\n",
       "19  8.835356  254786.877270     74550.899385              1952.423944"
      ]
     },
     "metadata": {},
     "output_type": "display_data"
    },
    {
     "name": "stdout",
     "output_type": "stream",
     "text": [
      "\n",
      "PartialDependence: Partial Dependence Plot of model best_gbm1 on column 'OverallQual'\n"
     ]
    },
    {
     "data": {
      "text/html": [
       "<div>\n",
       "<style scoped>\n",
       "    .dataframe tbody tr th:only-of-type {\n",
       "        vertical-align: middle;\n",
       "    }\n",
       "\n",
       "    .dataframe tbody tr th {\n",
       "        vertical-align: top;\n",
       "    }\n",
       "\n",
       "    .dataframe thead th {\n",
       "        text-align: right;\n",
       "    }\n",
       "</style>\n",
       "<table border=\"1\" class=\"dataframe\">\n",
       "  <thead>\n",
       "    <tr style=\"text-align: right;\">\n",
       "      <th></th>\n",
       "      <th>overallqual</th>\n",
       "      <th>mean_response</th>\n",
       "      <th>stddev_response</th>\n",
       "      <th>std_error_mean_response</th>\n",
       "    </tr>\n",
       "  </thead>\n",
       "  <tbody>\n",
       "    <tr>\n",
       "      <th>0</th>\n",
       "      <td>1.0</td>\n",
       "      <td>166380.256637</td>\n",
       "      <td>62096.313988</td>\n",
       "      <td>1626.249063</td>\n",
       "    </tr>\n",
       "    <tr>\n",
       "      <th>1</th>\n",
       "      <td>2.0</td>\n",
       "      <td>166380.256637</td>\n",
       "      <td>62096.313988</td>\n",
       "      <td>1626.249063</td>\n",
       "    </tr>\n",
       "    <tr>\n",
       "      <th>2</th>\n",
       "      <td>3.0</td>\n",
       "      <td>166380.256637</td>\n",
       "      <td>62096.313988</td>\n",
       "      <td>1626.249063</td>\n",
       "    </tr>\n",
       "    <tr>\n",
       "      <th>3</th>\n",
       "      <td>4.0</td>\n",
       "      <td>168503.421392</td>\n",
       "      <td>61406.573130</td>\n",
       "      <td>1608.185343</td>\n",
       "    </tr>\n",
       "    <tr>\n",
       "      <th>4</th>\n",
       "      <td>5.0</td>\n",
       "      <td>170321.990745</td>\n",
       "      <td>60104.806641</td>\n",
       "      <td>1574.093198</td>\n",
       "    </tr>\n",
       "    <tr>\n",
       "      <th>5</th>\n",
       "      <td>6.0</td>\n",
       "      <td>173198.998326</td>\n",
       "      <td>59846.612343</td>\n",
       "      <td>1567.331312</td>\n",
       "    </tr>\n",
       "    <tr>\n",
       "      <th>6</th>\n",
       "      <td>7.0</td>\n",
       "      <td>184848.581439</td>\n",
       "      <td>64136.733637</td>\n",
       "      <td>1679.685899</td>\n",
       "    </tr>\n",
       "    <tr>\n",
       "      <th>7</th>\n",
       "      <td>8.0</td>\n",
       "      <td>201456.326087</td>\n",
       "      <td>64630.451400</td>\n",
       "      <td>1692.615943</td>\n",
       "    </tr>\n",
       "    <tr>\n",
       "      <th>8</th>\n",
       "      <td>9.0</td>\n",
       "      <td>217799.014262</td>\n",
       "      <td>65678.147893</td>\n",
       "      <td>1720.054213</td>\n",
       "    </tr>\n",
       "    <tr>\n",
       "      <th>9</th>\n",
       "      <td>10.0</td>\n",
       "      <td>233369.538884</td>\n",
       "      <td>63852.469833</td>\n",
       "      <td>1672.241275</td>\n",
       "    </tr>\n",
       "  </tbody>\n",
       "</table>\n",
       "</div>"
      ],
      "text/plain": [
       "   overallqual  mean_response  stddev_response  std_error_mean_response\n",
       "0          1.0  166380.256637     62096.313988              1626.249063\n",
       "1          2.0  166380.256637     62096.313988              1626.249063\n",
       "2          3.0  166380.256637     62096.313988              1626.249063\n",
       "3          4.0  168503.421392     61406.573130              1608.185343\n",
       "4          5.0  170321.990745     60104.806641              1574.093198\n",
       "5          6.0  173198.998326     59846.612343              1567.331312\n",
       "6          7.0  184848.581439     64136.733637              1679.685899\n",
       "7          8.0  201456.326087     64630.451400              1692.615943\n",
       "8          9.0  217799.014262     65678.147893              1720.054213\n",
       "9         10.0  233369.538884     63852.469833              1672.241275"
      ]
     },
     "metadata": {},
     "output_type": "display_data"
    },
    {
     "data": {
      "text/html": [
       "[, ]"
      ],
      "text/plain": [
       "[, ]"
      ]
     },
     "execution_count": 16,
     "metadata": {},
     "output_type": "execute_result"
    },
    {
     "data": {
      "image/png": "[encoded data removed]",
      "text/plain": [
       "<Figure size 504x720 with 2 Axes>"
      ]
     },
     "metadata": {
      "needs_background": "light"
     },
     "output_type": "display_data"
    }
   ],
   "source": [
    "\n",
    "best_gbm1.partial_plot(data = train_hex, cols = [\"TotalSF\",'OverallQual'], plot = True)"
   ]
  },
  {
   "cell_type": "code",
   "execution_count": 18,
   "metadata": {},
   "outputs": [
    {
     "data": {
      "text/plain": [
       "2917"
      ]
     },
     "execution_count": 18,
     "metadata": {},
     "output_type": "execute_result"
    }
   ],
   "source": [
    "contributions_test = best_gbm1.predict_contributions(test_hex)\n",
    "contributions_test['Id']=test_hex['Id']\n",
    "contributions_test['SalePrice']=test_hex['SalePrice']\n",
    "\n",
    "contributions_train = best_gbm1.predict_contributions(train_hex)\n",
    "contributions_train['Id']=train_hex['Id']\n",
    "contributions_train['SalePrice']=train_hex['SalePrice']\n",
    "\n",
    "contributions=contributions_train.rbind(contributions_test)\n",
    "len(contributions)"
   ]
  },
  {
   "cell_type": "code",
   "execution_count": 19,
   "metadata": {},
   "outputs": [
    {
     "data": {
      "text/plain": [
       "array([[ 1.30279495e+02, -1.19108101e+02,  6.66491748e+03, ...,\n",
       "         1.81270672e+05,  1.00000000e+00,  2.08500000e+05],\n",
       "       [-3.48933380e+02, -8.10159424e+02, -5.61661279e+03, ...,\n",
       "         1.81270672e+05,  2.00000000e+00,  1.81500000e+05],\n",
       "       [ 1.81600281e+02,  6.59126343e+02,  7.78434521e+03, ...,\n",
       "         1.81270672e+05,  3.00000000e+00,  2.23500000e+05],\n",
       "       ...,\n",
       "       [ 6.10153467e+03,  6.03522607e+03, -9.03740625e+03, ...,\n",
       "         1.81270672e+05,  2.91700000e+03,             nan],\n",
       "       [ 6.07793999e+01,  9.82040466e+02, -1.19670889e+04, ...,\n",
       "         1.81270672e+05,  2.91800000e+03,             nan],\n",
       "       [-9.77975540e+01, -3.78295258e+02,  5.81033350e+03, ...,\n",
       "         1.81270672e+05,  2.91900000e+03,             nan]])"
      ]
     },
     "execution_count": 19,
     "metadata": {},
     "output_type": "execute_result"
    }
   ],
   "source": [
    "# convert the H2O Frame to use with shap's visualization functions\n",
    "contributions_matrix = contributions.as_data_frame().as_matrix()\n",
    "contributions_matrix"
   ]
  },
  {
   "cell_type": "code",
   "execution_count": 20,
   "metadata": {},
   "outputs": [
    {
     "data": {
      "text/html": [
       "['LotFrontage', 'LotArea', 'OverallQual', 'OverallCond', 'YearBuilt', 'YearRemodAdd', 'MasVnrArea', 'ExterQual', 'ExterCond', 'BsmtQual', 'BsmtCond', 'BsmtExposure', 'BsmtFinType1', 'BsmtFinSF1', 'BsmtFinType2', 'BsmtFinSF2', 'BsmtUnfSF', 'TotalBsmtSF', 'HeatingQC', 'CentralAir', '1stFlrSF', '2ndFlrSF', 'LowQualFinSF', 'GrLivArea', 'BsmtFullBath', 'BsmtHalfBath', 'FullBath', 'HalfBath', 'BedroomAbvGr', 'KitchenAbvGr', 'KitchenQual', 'TotRmsAbvGrd', 'Fireplaces', 'FireplaceQu', 'GarageYrBlt', 'GarageFinish', 'GarageCars', 'GarageArea', 'GarageQual', 'GarageCond', 'WoodDeckSF', 'OpenPorchSF', 'EnclosedPorch', '3SsnPorch', 'ScreenPorch', 'PoolArea', 'PoolQC', 'MiscVal', 'MoSold', 'YrSold', 'TotalSF', 'Remod', 'Age', 'Neighborhood_enc', 'MSSubClass_enc', 'Exterior1st_enc', 'Exterior2nd_enc', 'MSZoning.C (all)', 'MSZoning.FV', 'MSZoning.RH', 'MSZoning.RL', 'MSZoning.RM', 'MSZoning.missing(NA)', 'Street.Grvl', 'Street.Pave', 'Street.missing(NA)', 'Alley.Grvl', 'Alley.None', 'Alley.Pave', 'Alley.missing(NA)', 'LotShape.IR1', 'LotShape.IR2', 'LotShape.IR3', 'LotShape.Reg', 'LotShape.missing(NA)', 'LandContour.Bnk', 'LandContour.HLS', 'LandContour.Low', 'LandContour.Lvl', 'LandContour.missing(NA)', 'LotConfig.Corner', 'LotConfig.CulDSac', 'LotConfig.FR2', 'LotConfig.FR3', 'LotConfig.Inside', 'LotConfig.missing(NA)', 'LandSlope.Gtl', 'LandSlope.Mod', 'LandSlope.Sev', 'LandSlope.missing(NA)', 'Condition1.Artery', 'Condition1.Feedr', 'Condition1.Norm', 'Condition1.PosA', 'Condition1.PosN', 'Condition1.RRAe', 'Condition1.RRAn', 'Condition1.RRNe', 'Condition1.RRNn', 'Condition1.missing(NA)', 'Condition2.Artery', 'Condition2.Feedr', 'Condition2.Norm', 'Condition2.PosA', 'Condition2.PosN', 'Condition2.RRAe', 'Condition2.RRAn', 'Condition2.RRNn', 'Condition2.missing(NA)', 'BldgType.1Fam', 'BldgType.2fmCon', 'BldgType.Duplex', 'BldgType.Twnhs', 'BldgType.TwnhsE', 'BldgType.missing(NA)', 'HouseStyle.1.5Fin', 'HouseStyle.1.5Unf', 'HouseStyle.1Story', 'HouseStyle.2.5Fin', 'HouseStyle.2.5Unf', 'HouseStyle.2Story', 'HouseStyle.SFoyer', 'HouseStyle.SLvl', 'HouseStyle.missing(NA)', 'RoofStyle.Flat', 'RoofStyle.Gable', 'RoofStyle.Gambrel', 'RoofStyle.Hip', 'RoofStyle.Mansard', 'RoofStyle.Shed', 'RoofStyle.missing(NA)', 'RoofMatl.CompShg', 'RoofMatl.Membran', 'RoofMatl.Metal', 'RoofMatl.Roll', 'RoofMatl.Tar&Grv', 'RoofMatl.WdShake', 'RoofMatl.WdShngl', 'RoofMatl.missing(NA)', 'MasVnrType.BrkCmn', 'MasVnrType.BrkFace', 'MasVnrType.None', 'MasVnrType.Stone', 'MasVnrType.missing(NA)', 'Foundation.BrkTil', 'Foundation.CBlock', 'Foundation.PConc', 'Foundation.Slab', 'Foundation.Stone', 'Foundation.Wood', 'Foundation.missing(NA)', 'Heating.Floor', 'Heating.GasA', 'Heating.GasW', 'Heating.Grav', 'Heating.OthW', 'Heating.Wall', 'Heating.missing(NA)', 'Electrical.FuseA', 'Electrical.FuseF', 'Electrical.FuseP', 'Electrical.Mix', 'Electrical.SBrkr', 'Electrical.missing(NA)', 'Functional.Maj1', 'Functional.Maj2', 'Functional.Min1', 'Functional.Min2', 'Functional.Mod', 'Functional.Sev', 'Functional.Typ', 'Functional.missing(NA)', 'GarageType.2Types', 'GarageType.Attchd', 'GarageType.Basment', 'GarageType.BuiltIn', 'GarageType.CarPort', 'GarageType.Detchd', 'GarageType.None', 'GarageType.missing(NA)', 'PavedDrive.N', 'PavedDrive.P', 'PavedDrive.Y', 'PavedDrive.missing(NA)', 'Fence.GdPrv', 'Fence.GdWo', 'Fence.MnPrv', 'Fence.MnWw', 'Fence.None', 'Fence.missing(NA)', 'MiscFeature.Gar2', 'MiscFeature.None', 'MiscFeature.Othr', 'MiscFeature.Shed', 'MiscFeature.TenC', 'MiscFeature.missing(NA)', 'SaleType.COD', 'SaleType.CWD', 'SaleType.Con', 'SaleType.ConLD', 'SaleType.ConLI', 'SaleType.ConLw', 'SaleType.New', 'SaleType.Oth', 'SaleType.WD', 'SaleType.missing(NA)', 'SaleCondition.Abnorml', 'SaleCondition.AdjLand', 'SaleCondition.Alloca', 'SaleCondition.Family', 'SaleCondition.Normal', 'SaleCondition.Partial', 'SaleCondition.missing(NA)']"
      ],
      "text/plain": [
       "['LotFrontage',\n",
       " 'LotArea',\n",
       " 'OverallQual',\n",
       " 'OverallCond',\n",
       " 'YearBuilt',\n",
       " 'YearRemodAdd',\n",
       " 'MasVnrArea',\n",
       " 'ExterQual',\n",
       " 'ExterCond',\n",
       " 'BsmtQual',\n",
       " 'BsmtCond',\n",
       " 'BsmtExposure',\n",
       " 'BsmtFinType1',\n",
       " 'BsmtFinSF1',\n",
       " 'BsmtFinType2',\n",
       " 'BsmtFinSF2',\n",
       " 'BsmtUnfSF',\n",
       " 'TotalBsmtSF',\n",
       " 'HeatingQC',\n",
       " 'CentralAir',\n",
       " '1stFlrSF',\n",
       " '2ndFlrSF',\n",
       " 'LowQualFinSF',\n",
       " 'GrLivArea',\n",
       " 'BsmtFullBath',\n",
       " 'BsmtHalfBath',\n",
       " 'FullBath',\n",
       " 'HalfBath',\n",
       " 'BedroomAbvGr',\n",
       " 'KitchenAbvGr',\n",
       " 'KitchenQual',\n",
       " 'TotRmsAbvGrd',\n",
       " 'Fireplaces',\n",
       " 'FireplaceQu',\n",
       " 'GarageYrBlt',\n",
       " 'GarageFinish',\n",
       " 'GarageCars',\n",
       " 'GarageArea',\n",
       " 'GarageQual',\n",
       " 'GarageCond',\n",
       " 'WoodDeckSF',\n",
       " 'OpenPorchSF',\n",
       " 'EnclosedPorch',\n",
       " '3SsnPorch',\n",
       " 'ScreenPorch',\n",
       " 'PoolArea',\n",
       " 'PoolQC',\n",
       " 'MiscVal',\n",
       " 'MoSold',\n",
       " 'YrSold',\n",
       " 'TotalSF',\n",
       " 'Remod',\n",
       " 'Age',\n",
       " 'Neighborhood_enc',\n",
       " 'MSSubClass_enc',\n",
       " 'Exterior1st_enc',\n",
       " 'Exterior2nd_enc',\n",
       " 'MSZoning.C (all)',\n",
       " 'MSZoning.FV',\n",
       " 'MSZoning.RH',\n",
       " 'MSZoning.RL',\n",
       " 'MSZoning.RM',\n",
       " 'MSZoning.missing(NA)',\n",
       " 'Street.Grvl',\n",
       " 'Street.Pave',\n",
       " 'Street.missing(NA)',\n",
       " 'Alley.Grvl',\n",
       " 'Alley.None',\n",
       " 'Alley.Pave',\n",
       " 'Alley.missing(NA)',\n",
       " 'LotShape.IR1',\n",
       " 'LotShape.IR2',\n",
       " 'LotShape.IR3',\n",
       " 'LotShape.Reg',\n",
       " 'LotShape.missing(NA)',\n",
       " 'LandContour.Bnk',\n",
       " 'LandContour.HLS',\n",
       " 'LandContour.Low',\n",
       " 'LandContour.Lvl',\n",
       " 'LandContour.missing(NA)',\n",
       " 'LotConfig.Corner',\n",
       " 'LotConfig.CulDSac',\n",
       " 'LotConfig.FR2',\n",
       " 'LotConfig.FR3',\n",
       " 'LotConfig.Inside',\n",
       " 'LotConfig.missing(NA)',\n",
       " 'LandSlope.Gtl',\n",
       " 'LandSlope.Mod',\n",
       " 'LandSlope.Sev',\n",
       " 'LandSlope.missing(NA)',\n",
       " 'Condition1.Artery',\n",
       " 'Condition1.Feedr',\n",
       " 'Condition1.Norm',\n",
       " 'Condition1.PosA',\n",
       " 'Condition1.PosN',\n",
       " 'Condition1.RRAe',\n",
       " 'Condition1.RRAn',\n",
       " 'Condition1.RRNe',\n",
       " 'Condition1.RRNn',\n",
       " 'Condition1.missing(NA)',\n",
       " 'Condition2.Artery',\n",
       " 'Condition2.Feedr',\n",
       " 'Condition2.Norm',\n",
       " 'Condition2.PosA',\n",
       " 'Condition2.PosN',\n",
       " 'Condition2.RRAe',\n",
       " 'Condition2.RRAn',\n",
       " 'Condition2.RRNn',\n",
       " 'Condition2.missing(NA)',\n",
       " 'BldgType.1Fam',\n",
       " 'BldgType.2fmCon',\n",
       " 'BldgType.Duplex',\n",
       " 'BldgType.Twnhs',\n",
       " 'BldgType.TwnhsE',\n",
       " 'BldgType.missing(NA)',\n",
       " 'HouseStyle.1.5Fin',\n",
       " 'HouseStyle.1.5Unf',\n",
       " 'HouseStyle.1Story',\n",
       " 'HouseStyle.2.5Fin',\n",
       " 'HouseStyle.2.5Unf',\n",
       " 'HouseStyle.2Story',\n",
       " 'HouseStyle.SFoyer',\n",
       " 'HouseStyle.SLvl',\n",
       " 'HouseStyle.missing(NA)',\n",
       " 'RoofStyle.Flat',\n",
       " 'RoofStyle.Gable',\n",
       " 'RoofStyle.Gambrel',\n",
       " 'RoofStyle.Hip',\n",
       " 'RoofStyle.Mansard',\n",
       " 'RoofStyle.Shed',\n",
       " 'RoofStyle.missing(NA)',\n",
       " 'RoofMatl.CompShg',\n",
       " 'RoofMatl.Membran',\n",
       " 'RoofMatl.Metal',\n",
       " 'RoofMatl.Roll',\n",
       " 'RoofMatl.Tar&Grv',\n",
       " 'RoofMatl.WdShake',\n",
       " 'RoofMatl.WdShngl',\n",
       " 'RoofMatl.missing(NA)',\n",
       " 'MasVnrType.BrkCmn',\n",
       " 'MasVnrType.BrkFace',\n",
       " 'MasVnrType.None',\n",
       " 'MasVnrType.Stone',\n",
       " 'MasVnrType.missing(NA)',\n",
       " 'Foundation.BrkTil',\n",
       " 'Foundation.CBlock',\n",
       " 'Foundation.PConc',\n",
       " 'Foundation.Slab',\n",
       " 'Foundation.Stone',\n",
       " 'Foundation.Wood',\n",
       " 'Foundation.missing(NA)',\n",
       " 'Heating.Floor',\n",
       " 'Heating.GasA',\n",
       " 'Heating.GasW',\n",
       " 'Heating.Grav',\n",
       " 'Heating.OthW',\n",
       " 'Heating.Wall',\n",
       " 'Heating.missing(NA)',\n",
       " 'Electrical.FuseA',\n",
       " 'Electrical.FuseF',\n",
       " 'Electrical.FuseP',\n",
       " 'Electrical.Mix',\n",
       " 'Electrical.SBrkr',\n",
       " 'Electrical.missing(NA)',\n",
       " 'Functional.Maj1',\n",
       " 'Functional.Maj2',\n",
       " 'Functional.Min1',\n",
       " 'Functional.Min2',\n",
       " 'Functional.Mod',\n",
       " 'Functional.Sev',\n",
       " 'Functional.Typ',\n",
       " 'Functional.missing(NA)',\n",
       " 'GarageType.2Types',\n",
       " 'GarageType.Attchd',\n",
       " 'GarageType.Basment',\n",
       " 'GarageType.BuiltIn',\n",
       " 'GarageType.CarPort',\n",
       " 'GarageType.Detchd',\n",
       " 'GarageType.None',\n",
       " 'GarageType.missing(NA)',\n",
       " 'PavedDrive.N',\n",
       " 'PavedDrive.P',\n",
       " 'PavedDrive.Y',\n",
       " 'PavedDrive.missing(NA)',\n",
       " 'Fence.GdPrv',\n",
       " 'Fence.GdWo',\n",
       " 'Fence.MnPrv',\n",
       " 'Fence.MnWw',\n",
       " 'Fence.None',\n",
       " 'Fence.missing(NA)',\n",
       " 'MiscFeature.Gar2',\n",
       " 'MiscFeature.None',\n",
       " 'MiscFeature.Othr',\n",
       " 'MiscFeature.Shed',\n",
       " 'MiscFeature.TenC',\n",
       " 'MiscFeature.missing(NA)',\n",
       " 'SaleType.COD',\n",
       " 'SaleType.CWD',\n",
       " 'SaleType.Con',\n",
       " 'SaleType.ConLD',\n",
       " 'SaleType.ConLI',\n",
       " 'SaleType.ConLw',\n",
       " 'SaleType.New',\n",
       " 'SaleType.Oth',\n",
       " 'SaleType.WD',\n",
       " 'SaleType.missing(NA)',\n",
       " 'SaleCondition.Abnorml',\n",
       " 'SaleCondition.AdjLand',\n",
       " 'SaleCondition.Alloca',\n",
       " 'SaleCondition.Family',\n",
       " 'SaleCondition.Normal',\n",
       " 'SaleCondition.Partial',\n",
       " 'SaleCondition.missing(NA)']"
      ]
     },
     "execution_count": 20,
     "metadata": {},
     "output_type": "execute_result"
    }
   ],
   "source": [
    "# shap values are calculated for all features\n",
    "shap_values = contributions_matrix[:,0:len(contributions.columns)-3]\n",
    "# expected values is the last returned column\n",
    "expected_value = contributions_matrix[:,0:len(contributions.columns)-3].min()\n",
    "X=contributions.columns[0:len(contributions.columns)-3]\n",
    "X"
   ]
  },
  {
   "cell_type": "code",
   "execution_count": null,
   "metadata": {},
   "outputs": [],
   "source": [
    "# summarize the effects of all the features\n",
    "shap.summary_plot(shap_values, X)\n"
   ]
  },
  {
   "cell_type": "code",
   "execution_count": null,
   "metadata": {},
   "outputs": [],
   "source": [
    "shap.summary_plot(shap_values, X, plot_type=\"bar\")\n"
   ]
  },
  {
   "cell_type": "code",
   "execution_count": null,
   "metadata": {},
   "outputs": [],
   "source": [
    "contributions[contributions['GrLivArea']>20000]"
   ]
  },
  {
   "cell_type": "code",
   "execution_count": null,
   "metadata": {},
   "outputs": [],
   "source": []
  },
  {
   "cell_type": "code",
   "execution_count": null,
   "metadata": {},
   "outputs": [],
   "source": [
    "data[data['TotalSF']>=8000]"
   ]
  },
  {
   "cell_type": "code",
   "execution_count": null,
   "metadata": {},
   "outputs": [],
   "source": [
    "data[data['source']=='train'].boxplot(column='TotalSF')\n",
    "plt.show()\n",
    "data[data['source']=='test'].boxplot(column='TotalSF')\n",
    "plt.show()"
   ]
  },
  {
   "cell_type": "markdown",
   "metadata": {},
   "source": [
    "# Model Validation / Performance"
   ]
  },
  {
   "cell_type": "code",
   "execution_count": null,
   "metadata": {},
   "outputs": [],
   "source": [
    "def gini(actual, pred, cmpcol = 0, sortcol = 1):\n",
    "     assert( len(actual) == len(pred) )\n",
    "     all = np.asarray(np.c_[ actual, pred, np.arange(len(actual)) ], dtype=np.float)\n",
    "     all = all[ np.lexsort((all[:,2], -1*all[:,1])) ]\n",
    "     totalLosses = all[:,0].sum()\n",
    "     giniSum = all[:,0].cumsum().sum() / totalLosses\n",
    "\n",
    "     giniSum -= (len(actual) + 1) / 2.\n",
    "     return giniSum / len(actual)\n",
    "\n",
    "def gini_normalized(a, p):\n",
    "     return gini(a, p) / gini(a, a)"
   ]
  },
  {
   "cell_type": "code",
   "execution_count": null,
   "metadata": {},
   "outputs": [],
   "source": [
    "gini_normalized(train_df.SalePrice,train_df.gbm1)"
   ]
  },
  {
   "cell_type": "markdown",
   "metadata": {},
   "source": [
    "Here we have some functions to create actual vs expected plots. Create"
   ]
  },
  {
   "cell_type": "code",
   "execution_count": null,
   "metadata": {},
   "outputs": [],
   "source": [
    "def CreatePlot_cat(col,model,df):\n",
    "    df = df.groupby(col).agg({\"SalePrice\": [\"mean\"],\n",
    "                                    model:[\"mean\"],\n",
    "                                         \"Id\":[\"count\"]}).reset_index()\n",
    "    df.columns = df.columns.get_level_values(0)\n",
    "    fig, ax1 = plt.subplots()\n",
    "    ax2 = ax1.twinx()\n",
    "    ax1.plot(df[col], df.SalePrice, color='blue')\n",
    "    ax1.plot(df[col], df[model], color='red')\n",
    "    ax2.bar(df[col], df.Id, color='grey', alpha=0.3)\n",
    "    plt.suptitle(col, fontsize=13, fontweight=0, color='black', y=1.02)\n",
    "    plt.show()\n",
    "\n",
    "def CreatePlot_cont_cut(col,model,df):\n",
    "    df = train_df[[col,'SalePrice',model,'Id']]\n",
    "    df[col]=pd.cut(df[col], 8).astype(str).str.strip('()[]').str.replace(',', ' -')\n",
    "    CreatePlot_cat(col,model,df)\n",
    "    \n",
    "def CreatePlot_cont_qcut(col,model,df):\n",
    "    df = train_df[[col,'SalePrice',model,'Id']]\n",
    "    df[col]=pd.qcut(df[col], 8,duplicates = 'drop').astype(str).str.strip('()[]').str.replace(',', ' -')\n",
    "    CreatePlot_cat(col,model,df)"
   ]
  },
  {
   "cell_type": "code",
   "execution_count": null,
   "metadata": {},
   "outputs": [],
   "source": [
    "train_df['gbm1_ntile']=pd.qcut(train_df['gbm1'], 20, labels=False)"
   ]
  },
  {
   "cell_type": "markdown",
   "metadata": {},
   "source": [
    "### Categorical/Discrete Features"
   ]
  },
  {
   "cell_type": "code",
   "execution_count": null,
   "metadata": {
    "scrolled": true
   },
   "outputs": [],
   "source": [
    "for idx,col in enumerate(cat_cols):\n",
    "    CreatePlot_cat(col,'gbm2',train_df)\n"
   ]
  },
  {
   "cell_type": "code",
   "execution_count": null,
   "metadata": {
    "scrolled": true
   },
   "outputs": [],
   "source": []
  },
  {
   "cell_type": "markdown",
   "metadata": {},
   "source": [
    "### Continious Features"
   ]
  },
  {
   "cell_type": "code",
   "execution_count": null,
   "metadata": {
    "scrolled": true
   },
   "outputs": [],
   "source": [
    "for idx,col in enumerate(num_cols_cont):\n",
    "    CreatePlot_cont_cut(col,'gbm1',train_df)\n"
   ]
  },
  {
   "cell_type": "code",
   "execution_count": null,
   "metadata": {},
   "outputs": [],
   "source": [
    "for idx,col in enumerate(num_cols_cont):\n",
    "    CreatePlot_cont_qcut(col,'gbm2',train_df)\n"
   ]
  },
  {
   "cell_type": "code",
   "execution_count": null,
   "metadata": {},
   "outputs": [],
   "source": []
  },
  {
   "cell_type": "markdown",
   "metadata": {},
   "source": [
    "# Score Data\n"
   ]
  },
  {
   "cell_type": "code",
   "execution_count": null,
   "metadata": {},
   "outputs": [],
   "source": []
  },
  {
   "cell_type": "code",
   "execution_count": null,
   "metadata": {},
   "outputs": [],
   "source": [
    "# train_hex = h2o.H2OFrame(data[data['source']=='train'])\n",
    "test_hex =h2o.import_file(\"Intermediate/test.csv\")\n",
    "test_hex['gbm1'] = best_gbm1.predict(test_hex)\n",
    "test_hex['gbm1'] = best_gbm1.predict(test_hex)\n",
    "test_hex['gbm1'] = best_gbm1.predict(test_hex)\n",
    "\n",
    "submission = test_hex.as_data_frame()[['Id','SalePrice']]\n",
    "submission.to_csv('submission/submission_best.csv',index=False)\n"
   ]
  },
  {
   "cell_type": "code",
   "execution_count": null,
   "metadata": {},
   "outputs": [],
   "source": []
  },
  {
   "cell_type": "code",
   "execution_count": null,
   "metadata": {},
   "outputs": [],
   "source": []
  },
  {
   "cell_type": "code",
   "execution_count": null,
   "metadata": {},
   "outputs": [],
   "source": [
    "submission"
   ]
  },
  {
   "cell_type": "code",
   "execution_count": null,
   "metadata": {
    "scrolled": true
   },
   "outputs": [],
   "source": [
    "\n",
    "temp  = data.copy()\n",
    "temp=temp[ntrain:]\n",
    "submission=pd.DataFrame()\n",
    "submission['Id']=temp['Id']\n",
    "submission['SalePrice']=xgb_test_pred\n",
    "submission\n",
    "submission.to_csv('submission/submission_xgb1.csv',index=False)\n"
   ]
  },
  {
   "cell_type": "code",
   "execution_count": null,
   "metadata": {
    "scrolled": true
   },
   "outputs": [],
   "source": [
    "xgb_test_pred = model_xgb.predict(test)\n",
    "xgb_test_pred"
   ]
  },
  {
   "cell_type": "code",
   "execution_count": null,
   "metadata": {},
   "outputs": [],
   "source": []
  },
  {
   "cell_type": "markdown",
   "metadata": {},
   "source": [
    "## Mixing in random effects\n",
    "I'll attempt to make a model with all features (clearly overfit). "
   ]
  },
  {
   "cell_type": "code",
   "execution_count": null,
   "metadata": {},
   "outputs": [],
   "source": [
    "# Use all features\n",
    "X_names=train_hex.columns\n",
    "X_names.remove('Id')\n",
    "X_names.remove('SalePrice')\n",
    "X_names.remove('source')\n",
    "X_names.remove('Exterior1st')\n",
    "X_names.remove('Exterior2nd')\n",
    "X_names"
   ]
  },
  {
   "cell_type": "code",
   "execution_count": null,
   "metadata": {},
   "outputs": [],
   "source": [
    "from h2o.estimators.gbm import H2OGradientBoostingEstimator\n",
    "\n",
    "#Import the data and split into training and test frames\n",
    "train_hex =h2o.import_file(\"Intermediate/train.csv\")\n",
    "\n",
    "\n",
    "# GBM hyperparameters\n",
    "gbm_params1 = {'learn_rate': [0.01,0.03,0.05,0.075, 0.1],\n",
    "                'max_depth': [3, 5, 9,12,20],\n",
    "               'categorical_encoding': ['one_hot_explicit','sort_by_response'],\n",
    "               'sample_rate': [0.4, 0.6,1],\n",
    "               'col_sample_rate': [0.2, 0.5, 1.0]}\n",
    "\n",
    "search_criteria = {'strategy': 'RandomDiscrete',\n",
    "                   'max_models': 50,\n",
    "                   'max_runtime_secs' : 600}\n"
   ]
  },
  {
   "cell_type": "code",
   "execution_count": null,
   "metadata": {},
   "outputs": [],
   "source": [
    "import random\n",
    "randomlist = []\n",
    "for i in range(0,1458):\n",
    "    n = random.randint(1,30)\n",
    "    randomlist.append(n)\n",
    "rand=pd.DataFrame(randomlist, columns=['Random'])\n",
    "train_hex['Random'] = h2o.H2OFrame(rand)\n",
    "\n",
    "# Split data into Training & Test/Crossvalid\n",
    "X_train_hex, X_valid_hex = train_hex.split_frame([0.7], seed=1234)"
   ]
  },
  {
   "cell_type": "code",
   "execution_count": null,
   "metadata": {},
   "outputs": [],
   "source": [
    "from h2o.grid.grid_search import H2OGridSearch\n",
    "# Train and validate a cartesian grid of GBMs\n",
    "gbm_grid2 = H2OGridSearch(model=H2OGradientBoostingEstimator,\n",
    "                          grid_id='gbm_grid1',\n",
    "                          hyper_params=gbm_params1,\n",
    "                          search_criteria=search_criteria)"
   ]
  },
  {
   "cell_type": "code",
   "execution_count": null,
   "metadata": {},
   "outputs": [],
   "source": [
    "gbm_grid2.train(x=X_names,\n",
    "                y='SalePrice',\n",
    "                training_frame=X_train_hex,\n",
    "                validation_frame=X_valid_hex,\n",
    "                ntrees=100,\n",
    "                keep_cross_validation_predictions = True,\n",
    "                nfolds=2,\n",
    "                learn_rate_annealing = .99,\n",
    "                seed=1)"
   ]
  },
  {
   "cell_type": "code",
   "execution_count": null,
   "metadata": {},
   "outputs": [],
   "source": [
    "# Get the grid results, sorted by validation AUC\n",
    "gbm_gridperf2 = gbm_grid2.get_grid(sort_by='rmsle', decreasing=False)\n",
    "gbm_gridperf2"
   ]
  },
  {
   "cell_type": "code",
   "execution_count": null,
   "metadata": {},
   "outputs": [],
   "source": []
  },
  {
   "cell_type": "code",
   "execution_count": null,
   "metadata": {},
   "outputs": [],
   "source": [
    "# Grab the top GBM model, chosen by validation AUC\n",
    "gbm2 = gbm_gridperf2.models[5]\n",
    "# best_gbm1.model_id = 'best_gbm1'\n",
    "\n",
    "gbm2.varimp_plot(num_of_features = 100)"
   ]
  },
  {
   "cell_type": "code",
   "execution_count": null,
   "metadata": {},
   "outputs": [],
   "source": [
    "# best_gbm1= h2o.load_model('C:/Users/bhave/OneDrive/Documents/Coding/Kaggle/House Price/Intermediate/models/best_gbm1')\n",
    "\n",
    "test_hex =h2o.import_file(\"Intermediate/test.csv\")\n",
    "test_hex['SalePrice'] = best_gbm1.predict(test_hex)\n",
    "submission = test_hex.as_data_frame()[['Id','SalePrice']]\n",
    "submission.to_csv('submission/submission_best_gbm1.csv',index=False)\n"
   ]
  },
  {
   "cell_type": "code",
   "execution_count": null,
   "metadata": {},
   "outputs": [],
   "source": [
    "import xgboost\n",
    "import shap\n",
    "\n",
    "# train XGBoost model\n",
    "X,y = shap.datasets.adult()\n",
    "model = xgboost.XGBClassifier().fit(X, y)\n",
    "\n"
   ]
  },
  {
   "cell_type": "code",
   "execution_count": null,
   "metadata": {},
   "outputs": [],
   "source": [
    "# compute SHAP values\n",
    "explainer = shap.TreeExplainer(model)\n",
    "shap_values = explainer.shap_values(X)"
   ]
  },
  {
   "cell_type": "code",
   "execution_count": null,
   "metadata": {},
   "outputs": [],
   "source": [
    "h2o.ls()\n"
   ]
  }
 ],
 "metadata": {
  "kernelspec": {
   "display_name": "Python 3",
   "language": "python",
   "name": "python3"
  },
  "language_info": {
   "codemirror_mode": {
    "name": "ipython",
    "version": 3
   },
   "file_extension": ".py",
   "mimetype": "text/x-python",
   "name": "python",
   "nbconvert_exporter": "python",
   "pygments_lexer": "ipython3",
   "version": "3.6.5"
  }
 },
 "nbformat": 4,
 "nbformat_minor": 2
}
